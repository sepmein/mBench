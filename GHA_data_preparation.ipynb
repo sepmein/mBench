{
 "cells": [
  {
   "cell_type": "markdown",
   "metadata": {},
   "source": [
    "# 1. package importation\n",
    "\n",
    "This script use **pandas** as main functional package"
   ]
  },
  {
   "cell_type": "code",
   "execution_count": 8,
   "metadata": {},
   "outputs": [
    {
     "name": "stdout",
     "output_type": "stream",
     "text": [
      "The blackcellmagic extension is already loaded. To reload it, use:\n",
      "  %reload_ext blackcellmagic\n"
     ]
    }
   ],
   "source": [
    "%load_ext blackcellmagic\n",
    "import pandas as pd"
   ]
  },
  {
   "cell_type": "markdown",
   "metadata": {},
   "source": [
    "## 2.1 Admin & Demographicks\n"
   ]
  },
  {
   "cell_type": "code",
   "execution_count": 9,
   "metadata": {},
   "outputs": [],
   "source": [
    "admin1 = pd.read_csv('../Data/GHA/ADM1/admin.csv')\n",
    "admin1_code_and_names = admin1[['3166-2 code','Subdivision name']]"
   ]
  },
  {
   "cell_type": "code",
   "execution_count": 10,
   "metadata": {},
   "outputs": [],
   "source": [
    "# read data and get adm1 level demographic data\n",
    "gha_demographic_raw_data = pd.read_excel(\"../Data/GHA/demographic/ghana.xlsx\", \"Sheet2\")\n",
    "gha_demographic_adm1_raw_data = gha_demographic_raw_data.loc[\n",
    "    gha_demographic_raw_data[\"ADM_LEVEL\"] == 1\n",
    "]\n",
    "gha_demographic_adm1_raw_data = gha_demographic_adm1_raw_data.set_index(\n",
    "    keys=\"ADM1_NAME\"\n",
    ")\n",
    "# select the most recent 2020 data\n",
    "gha_demographic_adm1_raw_data_2020 = gha_demographic_adm1_raw_data.loc[\n",
    "    :, \"B0004_2020\":\"B80PL_2020\"\n",
    "]"
   ]
  },
  {
   "cell_type": "code",
   "execution_count": 38,
   "metadata": {},
   "outputs": [
    {
     "name": "stderr",
     "output_type": "stream",
     "text": [
      "/var/folders/jw/1fjpkkvx6wz8tmmfqfklf4b80000gn/T/ipykernel_80308/4287399573.py:11: FutureWarning: In a future version of pandas all arguments of DataFrame.bfill will be keyword-only\n",
      "  gha_demographic_adm1_2020_median_ratio = gha_demographic_adm1_2020_median_ratio.bfill(1).iloc[:,0] * 4\n"
     ]
    }
   ],
   "source": [
    "gha_demographic_adm1_2020_population_total = gha_demographic_adm1_raw_data_2020.sum(axis=1)\n",
    "gha_demographic_adm1_2020_population_median = gha_demographic_adm1_2020_population_total / 2\n",
    "# expand columns, each column = to cumsum the previous columns\n",
    "gha_demographic_adm1_2020_population_expanding = gha_demographic_adm1_raw_data_2020.expanding(axis=1).sum()\n",
    "# expanded columns - median, the first non negative column is where median\n",
    "gha_demographic_adm1_2020_raw_subtract_median = gha_demographic_adm1_2020_population_expanding.subtract(gha_demographic_adm1_2020_population_median, axis=0)\n",
    "# get ratio in groups\n",
    "# check the answer here\n",
    "# https://stackoverflow.com/questions/38467749/find-first-non-zero-value-in-each-row-of-pandas-dataframe/38468180\n",
    "gha_demographic_adm1_2020_median_ratio = gha_demographic_adm1_2020_raw_subtract_median.where(gha_demographic_adm1_2020_raw_subtract_median>0) / gha_demographic_adm1_raw_data_2020\n",
    "gha_demographic_adm1_2020_median_ratio = gha_demographic_adm1_2020_median_ratio.bfill(1).iloc[:,0] * 4\n",
    "# get group labels\n",
    "gha_demographic_adm1_2020_median_group_value = gha_demographic_adm1_raw_data_2020 - gha_demographic_adm1_2020_population_expanding\n",
    "gha_demographic_adm1_median_group_labels = (gha_demographic_adm1_2020_raw_subtract_median > 0).idxmax(axis=1)\n",
    "# get first two string as the start of age group\n",
    "gha_demographic_adm1_median_group_labels = gha_demographic_adm1_median_group_labels.apply(lambda x: float(x[1:3]))\n",
    "# add age group with ratio\n",
    "gha_demographic_adm1_2020_median = gha_demographic_adm1_median_group_labels + gha_demographic_adm1_2020_median_ratio"
   ]
  },
  {
   "cell_type": "markdown",
   "metadata": {},
   "source": [
    "# Create `pandas` dataframe from the retrieved index and columns"
   ]
  },
  {
   "cell_type": "code",
   "execution_count": 43,
   "metadata": {},
   "outputs": [],
   "source": [
    "columns = [\n",
    "    \"eta\",\n",
    "    \"rho\",\n",
    "    \"a0\",\n",
    "    \"sigma2\",\n",
    "    \"max_age\",\n",
    "    \"rA\",\n",
    "    \"rT\",\n",
    "    \"rD\",\n",
    "    \"rU\",\n",
    "    \"rP\",\n",
    "    \"dE\",\n",
    "    \"delayGam\",\n",
    "    \"cD\",\n",
    "    \"cT\",\n",
    "    \"cU\",\n",
    "    \"gamma1\",\n",
    "    \"d1\",\n",
    "    \"dID\",\n",
    "    \"ID0\",\n",
    "    \"kD\",\n",
    "    \"uD\",\n",
    "    \"aD\",\n",
    "    \"fD0\",\n",
    "    \"gammaD\",\n",
    "    \"alphaA\",\n",
    "    \"alphaU\",\n",
    "    \"b0\",\n",
    "    \"b1\",\n",
    "    \"dB\",\n",
    "    \"IB0\",\n",
    "    \"kB\",\n",
    "    \"uB\",\n",
    "    \"phi0\",\n",
    "    \"phi1\",\n",
    "    \"dCA\",\n",
    "    \"IC0\",\n",
    "    \"kC\",\n",
    "    \"uCA\",\n",
    "    \"PM\",\n",
    "    \"dCM\",\n",
    "    \"delayMos\",\n",
    "    \"tau1\",\n",
    "    \"tau2\",\n",
    "    \"mu0\",\n",
    "    \"Q0\",\n",
    "    \"chi\",\n",
    "    \"bites_Bed\",\n",
    "    \"bites_Indoors\",\n",
    "    \"muEL\",\n",
    "    \"muLL\",\n",
    "    \"muPL\",\n",
    "    \"dEL\",\n",
    "    \"dLL\",\n",
    "    \"dPL\",\n",
    "    \"gammaL\",\n",
    "    \"km\",\n",
    "    \"cm\",\n",
    "    \"betaL\",\n",
    "    \"num_int\",\n",
    "    \"itn_cov\",\n",
    "    \"irs_cov\",\n",
    "    \"ITN_IRS_on\",\n",
    "    \"DY\",\n",
    "    \"d_ITN0\",\n",
    "    \"r_ITN0\",\n",
    "    \"r_ITN1\",\n",
    "    \"r_IRS0\",\n",
    "    \"d_IRS0\",\n",
    "    \"irs_half_life\",\n",
    "    \"itn_half_life\",\n",
    "    \"IRS_interval\",\n",
    "    \"ITN_interval\",\n",
    "]\n",
    "\n",
    "gha = pd.DataFrame(columns=columns, index=gha_demographic_adm1_2020_median.index)"
   ]
  },
  {
   "cell_type": "markdown",
   "metadata": {},
   "source": [
    "## 1. eta \n",
    "Death rate for expoential population distribtuion, i.e. 1/Mean Population Age. Default = 0.0001305"
   ]
  },
  {
   "cell_type": "code",
   "execution_count": 45,
   "metadata": {},
   "outputs": [],
   "source": [
    "gha['eta'] = 1/(gha_demographic_adm1_2020_median*365)"
   ]
  },
  {
   "cell_type": "markdown",
   "metadata": {},
   "source": [
    "## 2. rho\n",
    "Age-dependent biting parameter. Default = 0.85\n",
    "#' @param eta Death rate for expoential population distribtuion, i.e. 1/Mean Population Age. Default = 0.0001305\n",
    "#' @param rho Age-dependent biting parameter. Default = 0.85\n",
    "#' @param a0 Age-dependent biting parameter. Default = 2920\n",
    "#' @param sigma2 Variance of the log heterogeneity in biting rates. Default = 1.67\n",
    "#' @param max_age Maximum age in days. Default = 100*365\n",
    "#' @param rA Rate of leaving asymptomatic infection. Default = 0.00512821\n",
    "#' @param rT Rate of leaving treatment. Default = 0.2\n",
    "#' @param rD Rate of leaving clinical disease. Default = 0.2\n",
    "#' @param rU Rate of recovering from subpatent infection. Default = 0.00906627\n",
    "#' @param rP Rate of leaving prophylaxis. Default = 0.06666667\n",
    "#' @param dE Latent period of human infection. Default = 12\n",
    "#' @param delayGam Lag from parasites to infectious gametocytes. Default = 12.5\n",
    "#' @param cD Untreated disease contribution to infectiousness. Default = 0.0676909\n",
    "#' @param cT Treated disease contribution to infectiousness. Default =   0.322 * cD\n",
    "#' @param cU Subpatent disease contribution to infectiousness. Default = 0.006203\n",
    "#' @param gamma1 Parameter for infectiousness of state A. Default = 1.82425\n",
    "#' @param d1 Minimum probability due to maximum immunity. Default = 0.160527\n",
    "#' @param dID Inverse of decay rate. Default = 3650\n",
    "#' @param ID0 Scale parameter. Default = 1.577533\n",
    "#' @param kD Shape parameter. Default = 0.476614\n",
    "#' @param uD Duration in which immunity is not boosted. Default = 9.44512\n",
    "#' @param aD Scale parameter relating age to immunity. Default = 8001.99\n",
    "#' @param fD0 Time-scale at which immunity changes with age. Default = 0.007055\n",
    "#' @param gammaD Shape parameter relating age to immunity. Default = 4.8183\n",
    "#' @param alphaA PCR detection probability parameters state A. Default = 0.757\n",
    "#' @param alphaU PCR detection probability parameters state U. Default = 0.186\n",
    "#' @param b0 Maximum probability due to no immunity. Default = 0.590076\n",
    "#' @param b1 Maximum relative reduction due to immunity. Default = 0.5\n",
    "#' @param dB Inverse of decay rate. Default = 3650\n",
    "#' @param IB0 Scale parameter. Default = 43.8787\n",
    "#' @param kB Shape parameter. Default = 2.15506\n",
    "#' @param uB Duration in which immunity is not boosted. Default = 7.19919\n",
    "#' @param phi0 Maximum probability due to no immunity. Default = 0.791666\n",
    "#' @param phi1 Maximum relative reduction due to immunity. Default = 0.000737\n",
    "#' @param dCA Inverse of decay rate. Default = 10950\n",
    "#' @param IC0 Scale parameter. Default = 18.02366\n",
    "#' @param kC Shape parameter. Default = 2.36949\n",
    "#' @param uCA Duration in which immunity is not boosted. Default = 6.06349\n",
    "#' @param PM New-born immunity relative to mother’s. Default = 0.774368\n",
    "#' @param dCM Inverse of decay rate of maternal immunity. Default = 67.6952\n",
    "#' @param delayMos Extrinsic incubation period. Default = 10\n",
    "#' @param tau1 Duration of host seeking, assumed to be constant between species. Default = 0.69\n",
    "#' @param tau2 Duration of mosquito resting after feed. Default = 2.31\n",
    "#' @param mu0 Daily mortality of adult mosquitos. Default = 0.132\n",
    "#' @param Q0 Anthrophagy probability. Default = 0.92\n",
    "#' @param chi Endophily probability. Default = 0.86\n",
    "#' @param bites_Bed Percentage of bites indoors and in bed. Default = 0.89\n",
    "#' @param bites_Indoors Percentage of bites indoors . Default = 0.97\n",
    "#' @param muEL Per capita daily mortality rate of early stage larvae (low density). Default = 0.0338\n",
    "#' @param muLL Per capita daily mortality rate of late stage larvae (low density). Default = 0.0348\n",
    "#' @param muPL Per capita daily mortality rate of pupae. Default = 0.249\n",
    "#' @param dEL Development time of early stage larvae. Default = 6.64\n",
    "#' @param dLL Development time of late stage larvae. Default = 3.72\n",
    "#' @param dPL Development time of pupae. Default = 0.643\n",
    "#' @param gammaL Relative effect of density dependence on late instars relative to early instars. Default = 13.25\n",
    "#' @param km Seasonal carrying capacity. Default = 11\n",
    "#' @param cm Seasonal birth rate. Default = 0.05\n",
    "#' @param betaL Number of eggs laid per day per mosquito. Default = 21.2\n",
    "#' @param num_int Number of intervention parameters.  Default = 4\n",
    "#' @param itn_cov The proportion of people that use an ITN. Default = 0\n",
    "#' @param irs_cov The proportion of people living in houses that have been sprayed. Default = 0\n",
    "#' @param ITN_IRS_on Time of ITN and IRS to be activated. Default = -1, i.e. never.\n",
    "#' @param DY Duration of year (days). Default = 365\n",
    "#' @param d_ITN0 Probability of dying with an encounter with ITN (max). Default = 0.41\n",
    "#' @param r_ITN0 Probability of repeating behaviour with ITN (max). Default = 0.56\n",
    "#' @param r_ITN1 Probability of repeating behaviour with ITN (min). Default = 0.24\n",
    "#' @param r_IRS0 Probability of repeating behaviour with IRS (min). Default = 0.6\n",
    "#' @param d_IRS0 Probability of dying with an encounter with IRS (max). Default = 1\n",
    "#' @param irs_half_life IRS half life. Default =   0.5 * DY\n",
    "#' @param itn_half_life ITN half life. Default =   2.64 * DY\n",
    "#' @param IRS_interval How long before IRS is repeated, i.e. when IRS decay = 1. Default =   1 * DY\n",
    "#' @param ITN_interval How long before ITN is repeated, i.e. when IRS decay = 1.  Default =   3 * DY"
   ]
  },
  {
   "cell_type": "code",
   "execution_count": 48,
   "metadata": {},
   "outputs": [],
   "source": [
    "gha[\"rho\"] = 0.85\n",
    "gha[\"a0\"] = 2920\n",
    "gha[\"sigma2\"] = 1.67\n",
    "gha[\"max_age\"] = 100 * 365\n",
    "gha[\"rA\"] = 0.00512821\n",
    "gha[\"rT\"] = 0.2\n",
    "gha[\"rD\"] = 0.2\n",
    "gha[\"rU\"] = 0.00906627\n",
    "gha[\"rP\"] = 0.06666667\n",
    "# TODO check if this data is availble from the data folder\n",
    "gha[\"dE\"] = 12\n",
    "gha[\"delayGam\"] = 12.5\n",
    "gha[\"cD\"] = 0.0676909\n",
    "gha[\"cT\"] = 0.322 * gha[\"cD\"]\n",
    "gha['cU'] = 0.006203\n",
    "gha['gamma1'] = 1.82425\n",
    "gha['d1'] = 0.160527\n",
    "gha['dID'] = 3650\n",
    "gha['ID0'] = 1.577533\n",
    "gha['kD'] = 0.476614\n",
    "gha['uD'] = 9.44512\n",
    "gha['aD'] = 8001.99\n",
    "gha['fD0'] = 0.007055\n",
    "gha['gammaD'] = 4.8183\n",
    "# TODO \n",
    "gha['']"
   ]
  },
  {
   "cell_type": "markdown",
   "metadata": {},
   "source": [
    "3. a0"
   ]
  },
  {
   "cell_type": "markdown",
   "metadata": {},
   "source": [
    "## 2.2. Interventions\n"
   ]
  },
  {
   "cell_type": "code",
   "execution_count": null,
   "metadata": {},
   "outputs": [],
   "source": [
    "GHA_Intervention_data = pd.read_excel('../Data/GHA/Interventions/GHA_Intervention_data.xlsx','Data template ')\n",
    "GHA_Intervention_data"
   ]
  },
  {
   "cell_type": "code",
   "execution_count": null,
   "metadata": {},
   "outputs": [],
   "source": [
    "pd.merge(admin1_code_and_names, GHA_Intervention_data, left_on='Subdivision name', right_on='adm1')"
   ]
  },
  {
   "cell_type": "code",
   "execution_count": null,
   "metadata": {},
   "outputs": [],
   "source": []
  }
 ],
 "metadata": {
  "interpreter": {
   "hash": "88fc20b0c4df3e33e254b8cfd8a1019145a6147a10405b616c5d406f11619cf8"
  },
  "kernelspec": {
   "display_name": "Python 3.8.7 64-bit ('3.8.7': pyenv)",
   "name": "python3"
  },
  "language_info": {
   "codemirror_mode": {
    "name": "ipython",
    "version": 3
   },
   "file_extension": ".py",
   "mimetype": "text/x-python",
   "name": "python",
   "nbconvert_exporter": "python",
   "pygments_lexer": "ipython3",
   "version": "3.8.7"
  },
  "orig_nbformat": 4
 },
 "nbformat": 4,
 "nbformat_minor": 2
}
