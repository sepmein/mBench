{
 "cells": [
  {
   "cell_type": "code",
   "execution_count": 22,
   "metadata": {},
   "outputs": [
    {
     "name": "stdout",
     "output_type": "stream",
     "text": [
      "The autoreload extension is already loaded. To reload it, use:\n",
      "  %reload_ext autoreload\n"
     ]
    }
   ],
   "source": [
    "#@formatter:off\n",
    "%load_ext autoreload\n",
    "%autoreload 2\n",
    "#@formatter:on"
   ]
  },
  {
   "cell_type": "code",
   "execution_count": 23,
   "metadata": {},
   "outputs": [],
   "source": [
    "import pandas as pd\n",
    "from mbench import CountryData, AdjacentDistricts,  Country, District, Districts, OldDistrictToNewDistrict, demographic, util"
   ]
  },
  {
   "cell_type": "code",
   "execution_count": 10,
   "metadata": {},
   "outputs": [],
   "source": [
    "if sys.platform == 'linux':\n",
    "    os.chdir('/mnt/d/Dropbox/benchmarking')\n",
    "elif sys.platform =='Darwin':\n",
    "    os.chdir('/Users/sepmein/Dropbox/benchmarking')\n",
    "\n",
    "data_dir = os.path.abspath('Data')\n",
    "openmalaria_xml_config_path = os.path.abspath('Data/openmalaria/12936_2017_2051_MOESM1_ESM.xml')\n",
    "openmalaria_xml_config_path_pn2 = os.path.abspath(\"Data/openmalaria/VanDucAP2.xml\")\n",
    "openmalaria_xml_config_path_pn3 = os.path.abspath(\"Data/openmalaria/VanDucAP3.xml\")"
   ]
  },
  {
   "cell_type": "code",
   "execution_count": 11,
   "metadata": {
    "collapsed": false,
    "pycharm": {
     "name": "#%%\n"
    }
   },
   "outputs": [],
   "source": [
    "ahafo = District(iso='gh-af', aliases=['AHAFO'])\n",
    "ashanti = District(iso='gh-ah', aliases=['ashanti'])\n",
    "bono = District(iso='gh-bo', aliases=['bono'])\n",
    "bono_east = District(iso='gh-be', aliases=['bono_east'])\n",
    "central = District(iso='gh-cp', aliases=['central'])\n",
    "eastern = District(iso='gh-ep', aliases=['eastern'])\n",
    "greater_accra = District(iso='gh-aa', aliases=['greater_accra'])\n",
    "north_east = District(iso='gh-ne', aliases=['north_east'])\n",
    "northern = District(iso='gh-np', aliases=['northern'])\n",
    "oti = District(iso='gh-ot', aliases=['oti'])\n",
    "savannah = District(iso='gh-sv', aliases=['savannah'])\n",
    "upper_east = District(iso='gh-ue', aliases=['upper_east'])\n",
    "upper_west = District(iso='gh-uw', aliases=['upper_west'])\n",
    "volta = District(iso='gh-tv', aliases=['volta'])\n",
    "western = District(iso='gh-wp', aliases=['western'])\n",
    "western_north = District(iso='gh-wn', aliases=['western_north'])\n",
    "\n",
    "gha_districts = Districts(district_list=[\n",
    "    ahafo, ashanti, bono, bono_east, central, eastern, greater_accra, north_east, northern, oti, savannah, upper_east, upper_west, volta, western, western_north\n",
    "])"
   ]
  },
  {
   "cell_type": "code",
   "execution_count": 13,
   "metadata": {
    "collapsed": false,
    "jupyter": {
     "outputs_hidden": false
    },
    "pycharm": {
     "name": "#%%\n"
    }
   },
   "outputs": [],
   "source": [
    "district_216_260 = pd.read_csv(data_dir + \"/GHA/ADM1/216 to 260.csv\")"
   ]
  },
  {
   "cell_type": "code",
   "execution_count": 14,
   "metadata": {},
   "outputs": [],
   "source": [
    "gha_old_new_districts = OldDistrictToNewDistrict(\n",
    "    data=district_216_260,\n",
    "    districts = gha_districts,\n",
    "    columns = ['old', 'new']\n",
    ")"
   ]
  },
  {
   "cell_type": "code",
   "execution_count": 15,
   "metadata": {
    "collapsed": false,
    "jupyter": {
     "outputs_hidden": false
    },
    "pycharm": {
     "name": "#%%\n"
    }
   },
   "outputs": [],
   "source": [
    "# load adjacent\n",
    "gha_adjacent_provinces_data = pd.read_excel(\n",
    "    data_dir + \"/gha_adm_adjacent.xlsx\", sheet_name=\"adm1_adjacent\"\n",
    ")\n",
    "gha_adjacent_provinces_data = demographic.reformat.adm1_name(\n",
    "    df=gha_adjacent_provinces_data,\n",
    "    original_column_name=\"a\",\n",
    "    new_column_name=\"from\",\n",
    "    set_index=False,\n",
    ")\n",
    "gha_adjacent_provinces_data = demographic.reformat.adm1_name(\n",
    "    df=gha_adjacent_provinces_data,\n",
    "    original_column_name=\"b\",\n",
    "    new_column_name=\"to\",\n",
    "    set_index=False,\n",
    ")\n",
    "\n",
    "gha_adjacent_provinces = AdjacentDistricts(\n",
    "    data = gha_adjacent_provinces_data,\n",
    "    districts = gha_districts\n",
    ")"
   ]
  },
  {
   "cell_type": "code",
   "execution_count": 17,
   "metadata": {
    "collapsed": false,
    "pycharm": {
     "name": "#%%\n"
    }
   },
   "outputs": [],
   "source": [
    "gha = Country(districts=gha_districts,\n",
    "              adjacent_districts=gha_adjacent_provinces,\n",
    "              old_new_district_comparison_table = gha_old_new_districts\n",
    "              )"
   ]
  },
  {
   "cell_type": "code",
   "execution_count": 24,
   "metadata": {},
   "outputs": [],
   "source": [
    "gha_data = CountryData(country = gha)"
   ]
  },
  {
   "cell_type": "code",
   "execution_count": null,
   "metadata": {},
   "outputs": [],
   "source": []
  }
 ],
 "metadata": {
  "interpreter": {
   "hash": "8a94588eda9d64d9e9a351ab8144e55b1fabf5113b54e67dd26a8c27df0381b3"
  },
  "kernelspec": {
   "display_name": "Python 3.10.4 64-bit",
   "language": "python",
   "name": "python3"
  },
  "language_info": {
   "codemirror_mode": {
    "name": "ipython",
    "version": 3
   },
   "file_extension": ".py",
   "mimetype": "text/x-python",
   "name": "python",
   "nbconvert_exporter": "python",
   "pygments_lexer": "ipython3",
   "version": "3.10.4"
  },
  "orig_nbformat": 4
 },
 "nbformat": 4,
 "nbformat_minor": 2
}
