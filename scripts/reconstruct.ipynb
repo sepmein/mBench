{
 "cells": [
  {
   "cell_type": "code",
   "execution_count": 42,
   "metadata": {},
   "outputs": [
    {
     "name": "stdout",
     "output_type": "stream",
     "text": [
      "The autoreload extension is already loaded. To reload it, use:\n",
      "  %reload_ext autoreload\n"
     ]
    }
   ],
   "source": [
    "#@formatter:off\n",
    "%load_ext autoreload\n",
    "%autoreload 2\n",
    "#@formatter:on"
   ]
  },
  {
   "cell_type": "code",
   "execution_count": 43,
   "metadata": {},
   "outputs": [],
   "source": [
    "import pandas as pd\n",
    "from mbench import (\n",
    "    Parameter,\n",
    "    ParameterData,\n",
    "    CountryData,\n",
    "    AdjacentDistricts,\n",
    "    Country,\n",
    "    District,\n",
    "    Districts,\n",
    "    OldDistrictToNewDistrict,\n",
    "    demographic,\n",
    "    util,\n",
    ")\n"
   ]
  },
  {
   "cell_type": "code",
   "execution_count": 44,
   "metadata": {},
   "outputs": [],
   "source": [
    "if sys.platform == 'linux':\n",
    "    os.chdir('/mnt/d/Dropbox/benchmarking')\n",
    "elif sys.platform =='Darwin':\n",
    "    os.chdir('/Users/sepmein/Dropbox/benchmarking')\n",
    "\n",
    "data_dir = os.path.abspath('Data')\n",
    "openmalaria_xml_config_path = os.path.abspath('Data/openmalaria/12936_2017_2051_MOESM1_ESM.xml')\n",
    "openmalaria_xml_config_path_pn2 = os.path.abspath(\"Data/openmalaria/VanDucAP2.xml\")\n",
    "openmalaria_xml_config_path_pn3 = os.path.abspath(\"Data/openmalaria/VanDucAP3.xml\")"
   ]
  },
  {
   "cell_type": "code",
   "execution_count": 45,
   "metadata": {
    "collapsed": false,
    "pycharm": {
     "name": "#%%\n"
    }
   },
   "outputs": [
    {
     "data": {
      "text/plain": [
       "16"
      ]
     },
     "execution_count": 45,
     "metadata": {},
     "output_type": "execute_result"
    }
   ],
   "source": [
    "ahafo = District(iso='gh-af', aliases=['AHAFO'])\n",
    "ashanti = District(iso='gh-ah', aliases=['ashanti'])\n",
    "bono = District(iso='gh-bo', aliases=['bono'])\n",
    "bono_east = District(iso='gh-be', aliases=['bono_east'])\n",
    "central = District(iso='gh-cp', aliases=['central'])\n",
    "eastern = District(iso='gh-ep', aliases=['eastern'])\n",
    "greater_accra = District(iso='gh-aa', aliases=['greater_accra'])\n",
    "north_east = District(iso='gh-ne', aliases=['north_east'])\n",
    "northern = District(iso='gh-np', aliases=['northern'])\n",
    "oti = District(iso='gh-ot', aliases=['oti'])\n",
    "savannah = District(iso='gh-sv', aliases=['savannah'])\n",
    "upper_east = District(iso='gh-ue', aliases=['upper_east'])\n",
    "upper_west = District(iso='gh-uw', aliases=['upper_west'])\n",
    "volta = District(iso='gh-tv', aliases=['volta'])\n",
    "western = District(iso='gh-wp', aliases=['western'])\n",
    "western_north = District(iso='gh-wn', aliases=['western_north'])\n",
    "\n",
    "gha_districts = Districts(district_list=[\n",
    "    ahafo, ashanti, bono, bono_east, central, eastern, greater_accra, north_east, northern, oti, savannah, upper_east, upper_west, volta, western, western_north\n",
    "])\n",
    "gha_districts.n"
   ]
  },
  {
   "cell_type": "code",
   "execution_count": 46,
   "metadata": {
    "collapsed": false,
    "jupyter": {
     "outputs_hidden": false
    },
    "pycharm": {
     "name": "#%%\n"
    }
   },
   "outputs": [],
   "source": [
    "district_216_260 = pd.read_csv(data_dir + \"/GHA/ADM1/216 to 260.csv\")"
   ]
  },
  {
   "cell_type": "code",
   "execution_count": 47,
   "metadata": {},
   "outputs": [
    {
     "data": {
      "text/html": [
       "<div>\n",
       "<style scoped>\n",
       "    .dataframe tbody tr th:only-of-type {\n",
       "        vertical-align: middle;\n",
       "    }\n",
       "\n",
       "    .dataframe tbody tr th {\n",
       "        vertical-align: top;\n",
       "    }\n",
       "\n",
       "    .dataframe thead th {\n",
       "        text-align: right;\n",
       "    }\n",
       "</style>\n",
       "<table border=\"1\" class=\"dataframe\">\n",
       "  <thead>\n",
       "    <tr style=\"text-align: right;\">\n",
       "      <th></th>\n",
       "      <th>old</th>\n",
       "      <th>new</th>\n",
       "    </tr>\n",
       "  </thead>\n",
       "  <tbody>\n",
       "    <tr>\n",
       "      <th>0</th>\n",
       "      <td>BRONG_AHAFO</td>\n",
       "      <td>GH_AF</td>\n",
       "    </tr>\n",
       "    <tr>\n",
       "      <th>1</th>\n",
       "      <td>ASHANTI</td>\n",
       "      <td>GH_AH</td>\n",
       "    </tr>\n",
       "    <tr>\n",
       "      <th>2</th>\n",
       "      <td>BRONG_AHAFO</td>\n",
       "      <td>GH_BO</td>\n",
       "    </tr>\n",
       "    <tr>\n",
       "      <th>3</th>\n",
       "      <td>BRONG_AHAFO</td>\n",
       "      <td>GH_BE</td>\n",
       "    </tr>\n",
       "    <tr>\n",
       "      <th>4</th>\n",
       "      <td>CENTRAL</td>\n",
       "      <td>GH_CP</td>\n",
       "    </tr>\n",
       "    <tr>\n",
       "      <th>5</th>\n",
       "      <td>EASTERN</td>\n",
       "      <td>GH_EP</td>\n",
       "    </tr>\n",
       "    <tr>\n",
       "      <th>6</th>\n",
       "      <td>GREATER_ACCRA</td>\n",
       "      <td>GH_AA</td>\n",
       "    </tr>\n",
       "    <tr>\n",
       "      <th>7</th>\n",
       "      <td>NORTHERN</td>\n",
       "      <td>GH_NP</td>\n",
       "    </tr>\n",
       "    <tr>\n",
       "      <th>8</th>\n",
       "      <td>NORTHERN</td>\n",
       "      <td>GH_NE</td>\n",
       "    </tr>\n",
       "    <tr>\n",
       "      <th>9</th>\n",
       "      <td>VOLTA</td>\n",
       "      <td>GH_OT</td>\n",
       "    </tr>\n",
       "    <tr>\n",
       "      <th>10</th>\n",
       "      <td>NORTHERN</td>\n",
       "      <td>GH_SV</td>\n",
       "    </tr>\n",
       "    <tr>\n",
       "      <th>11</th>\n",
       "      <td>UPPER_EAST</td>\n",
       "      <td>GH_UE</td>\n",
       "    </tr>\n",
       "    <tr>\n",
       "      <th>12</th>\n",
       "      <td>UPPER_WEST</td>\n",
       "      <td>GH_UW</td>\n",
       "    </tr>\n",
       "    <tr>\n",
       "      <th>13</th>\n",
       "      <td>VOLTA</td>\n",
       "      <td>GH_TV</td>\n",
       "    </tr>\n",
       "    <tr>\n",
       "      <th>14</th>\n",
       "      <td>WESTERN</td>\n",
       "      <td>GH_WP</td>\n",
       "    </tr>\n",
       "    <tr>\n",
       "      <th>15</th>\n",
       "      <td>WESTERN</td>\n",
       "      <td>GH_WN</td>\n",
       "    </tr>\n",
       "  </tbody>\n",
       "</table>\n",
       "</div>"
      ],
      "text/plain": [
       "              old    new\n",
       "0     BRONG_AHAFO  GH_AF\n",
       "1         ASHANTI  GH_AH\n",
       "2     BRONG_AHAFO  GH_BO\n",
       "3     BRONG_AHAFO  GH_BE\n",
       "4         CENTRAL  GH_CP\n",
       "5         EASTERN  GH_EP\n",
       "6   GREATER_ACCRA  GH_AA\n",
       "7        NORTHERN  GH_NP\n",
       "8        NORTHERN  GH_NE\n",
       "9           VOLTA  GH_OT\n",
       "10       NORTHERN  GH_SV\n",
       "11     UPPER_EAST  GH_UE\n",
       "12     UPPER_WEST  GH_UW\n",
       "13          VOLTA  GH_TV\n",
       "14        WESTERN  GH_WP\n",
       "15        WESTERN  GH_WN"
      ]
     },
     "execution_count": 47,
     "metadata": {},
     "output_type": "execute_result"
    }
   ],
   "source": [
    "gha_old_new_districts = OldDistrictToNewDistrict(\n",
    "    start = district_216_260['216'],\n",
    "    to= district_216_260['260'],\n",
    "    districts = gha_districts,\n",
    "    columns = ['old','new']\n",
    ")\n",
    "gha_old_new_districts.data"
   ]
  },
  {
   "cell_type": "code",
   "execution_count": 48,
   "metadata": {
    "collapsed": false,
    "jupyter": {
     "outputs_hidden": false
    },
    "pycharm": {
     "name": "#%%\n"
    }
   },
   "outputs": [],
   "source": [
    "# load adjacent\n",
    "gha_adjacent_provinces_data = pd.read_excel(\n",
    "    data_dir + \"/gha_adm_adjacent.xlsx\", sheet_name=\"adm1_adjacent\"\n",
    ")\n",
    "gha_adjacent_provinces_data = demographic.reformat.adm1_name(\n",
    "    df=gha_adjacent_provinces_data,\n",
    "    original_column_name=\"a\",\n",
    "    new_column_name=\"from\",\n",
    "    set_index=False,\n",
    ")\n",
    "gha_adjacent_provinces_data = demographic.reformat.adm1_name(\n",
    "    df=gha_adjacent_provinces_data,\n",
    "    original_column_name=\"b\",\n",
    "    new_column_name=\"to\",\n",
    "    set_index=False,\n",
    ")\n",
    "\n",
    "gha_adjacent_provinces = AdjacentDistricts(\n",
    "    start= gha_adjacent_provinces_data['from'],\n",
    "    to = gha_adjacent_provinces_data['to'],\n",
    "    districts = gha_districts\n",
    ")"
   ]
  },
  {
   "cell_type": "code",
   "execution_count": 49,
   "metadata": {
    "collapsed": false,
    "pycharm": {
     "name": "#%%\n"
    }
   },
   "outputs": [
    {
     "data": {
      "text/plain": [
       "<mbench.Country at 0x7fdd9e66ba30>"
      ]
     },
     "execution_count": 49,
     "metadata": {},
     "output_type": "execute_result"
    }
   ],
   "source": [
    "gha = Country(districts=gha_districts,\n",
    "              adjacent_districts=gha_adjacent_provinces,\n",
    "              old_districts_to_new_districts = gha_old_new_districts\n",
    "              )\n",
    "gha"
   ]
  },
  {
   "cell_type": "code",
   "execution_count": 50,
   "metadata": {},
   "outputs": [],
   "source": [
    "gha_data = CountryData(country = gha)"
   ]
  },
  {
   "cell_type": "code",
   "execution_count": 51,
   "metadata": {},
   "outputs": [
    {
     "data": {
      "text/plain": [
       "Index(['GH_AF', 'GH_AH', 'GH_BO', 'GH_BE', 'GH_CP', 'GH_EP', 'GH_AA', 'GH_NE',\n",
       "       'GH_NP', 'GH_OT', 'GH_SV', 'GH_UE', 'GH_UW', 'GH_TV', 'GH_WP', 'GH_WN'],\n",
       "      dtype='object')"
      ]
     },
     "execution_count": 51,
     "metadata": {},
     "output_type": "execute_result"
    }
   ],
   "source": [
    "gha_data.index"
   ]
  },
  {
   "cell_type": "code",
   "execution_count": 52,
   "metadata": {},
   "outputs": [
    {
     "data": {
      "text/plain": [
       "ADMIN1\n",
       "Ashanti            51.592958\n",
       "Brong Ahafo        42.100000\n",
       "Central            40.071053\n",
       "Eastern            32.664865\n",
       "Greater Accra      32.057600\n",
       "Kassena Nankana    81.725000\n",
       "Northern           72.059341\n",
       "Upper East         53.837500\n",
       "Upper West         44.305882\n",
       "Volta              52.340000\n",
       "Western            64.860000\n",
       "Name: MORTALITY_ADJUSTED, dtype: float64"
      ]
     },
     "execution_count": 52,
     "metadata": {},
     "output_type": "execute_result"
    }
   ],
   "source": [
    "gha_adm1_vector_resistance = pd.read_excel(\n",
    "    data_dir\n",
    "    + \"/GHA/WHO_IR_data/MTM_DISCRIMINATING_CONCENTRATION_BIOASSAY_20211130.xlsx\",\n",
    "    sheet_name=\"Data\",\n",
    ")\n",
    "gha_adm1_vector_resistance = gha_adm1_vector_resistance.groupby(\"ADMIN1\").mean()\n",
    "gha_adm1_vector_resistance = gha_adm1_vector_resistance[\"MORTALITY_ADJUSTED\"]\n",
    "gha_adm1_vector_resistance"
   ]
  },
  {
   "cell_type": "code",
   "execution_count": 53,
   "metadata": {},
   "outputs": [
    {
     "data": {
      "text/plain": [
       "district\n",
       "GH_AF    42.100000\n",
       "GH_AH    51.592958\n",
       "GH_BO    42.100000\n",
       "GH_BE    42.100000\n",
       "GH_CP    40.071053\n",
       "GH_EP    32.664865\n",
       "GH_AA    32.057600\n",
       "GH_NP    72.059341\n",
       "GH_NE    72.059341\n",
       "GH_OT    52.340000\n",
       "GH_SV    72.059341\n",
       "GH_UE    53.837500\n",
       "GH_UW    44.305882\n",
       "GH_TV    52.340000\n",
       "GH_WP    64.860000\n",
       "GH_WN    64.860000\n",
       "Name: MORTALITY_ADJUSTED, dtype: float64"
      ]
     },
     "execution_count": 53,
     "metadata": {},
     "output_type": "execute_result"
    }
   ],
   "source": [
    "vector_resistance = Parameter(\n",
    "    name= 'vector resistance',\n",
    "    aliases= ['vr', 'vector_resistance']\n",
    ")\n",
    "pm_gha_vector_resistance = ParameterData(\n",
    "    parameter= vector_resistance,\n",
    "    data=gha_adm1_vector_resistance,\n",
    "    country=gha,\n",
    "    from_old_districts_system= True\n",
    ")\n",
    "pm_gha_vector_resistance"
   ]
  },
  {
   "cell_type": "code",
   "execution_count": 54,
   "metadata": {
    "collapsed": false,
    "jupyter": {
     "outputs_hidden": false
    },
    "pycharm": {
     "name": "#%%\n"
    }
   },
   "outputs": [
    {
     "data": {
      "text/html": [
       "<div>\n",
       "<style scoped>\n",
       "    .dataframe tbody tr th:only-of-type {\n",
       "        vertical-align: middle;\n",
       "    }\n",
       "\n",
       "    .dataframe tbody tr th {\n",
       "        vertical-align: top;\n",
       "    }\n",
       "\n",
       "    .dataframe thead th {\n",
       "        text-align: right;\n",
       "    }\n",
       "</style>\n",
       "<table border=\"1\" class=\"dataframe\">\n",
       "  <thead>\n",
       "    <tr style=\"text-align: right;\">\n",
       "      <th></th>\n",
       "      <th>adm1</th>\n",
       "      <th>adm2</th>\n",
       "      <th>population</th>\n",
       "    </tr>\n",
       "  </thead>\n",
       "  <tbody>\n",
       "    <tr>\n",
       "      <th>731</th>\n",
       "      <td>OTI</td>\n",
       "      <td>NKWANTA NORTH</td>\n",
       "      <td>76425.0</td>\n",
       "    </tr>\n",
       "    <tr>\n",
       "      <th>763</th>\n",
       "      <td>ASHANTI</td>\n",
       "      <td>OFFINSO MUNICIPAL</td>\n",
       "      <td>90916.0</td>\n",
       "    </tr>\n",
       "    <tr>\n",
       "      <th>890</th>\n",
       "      <td>EASTERN</td>\n",
       "      <td>SUHUM MUNICIPAL</td>\n",
       "      <td>108053.0</td>\n",
       "    </tr>\n",
       "    <tr>\n",
       "      <th>933</th>\n",
       "      <td>AHAFO</td>\n",
       "      <td>TANO SOUTH MUNICIPAL</td>\n",
       "      <td>94928.0</td>\n",
       "    </tr>\n",
       "    <tr>\n",
       "      <th>637</th>\n",
       "      <td>EASTERN</td>\n",
       "      <td>KWAHU WEST MUNICIPAL</td>\n",
       "      <td>114409.0</td>\n",
       "    </tr>\n",
       "    <tr>\n",
       "      <th>184</th>\n",
       "      <td>EASTERN</td>\n",
       "      <td>ASENE MANSO AKROSO</td>\n",
       "      <td>98078.0</td>\n",
       "    </tr>\n",
       "    <tr>\n",
       "      <th>94</th>\n",
       "      <td>ASHANTI</td>\n",
       "      <td>AHAFO ANO SOUTH EAST</td>\n",
       "      <td>68370.0</td>\n",
       "    </tr>\n",
       "    <tr>\n",
       "      <th>193</th>\n",
       "      <td>CENTRAL</td>\n",
       "      <td>ASSIN NORTH</td>\n",
       "      <td>123641.0</td>\n",
       "    </tr>\n",
       "    <tr>\n",
       "      <th>1025</th>\n",
       "      <td>NORTH_EAST</td>\n",
       "      <td>YUNYOO-NASUAN</td>\n",
       "      <td>48763.0</td>\n",
       "    </tr>\n",
       "    <tr>\n",
       "      <th>236</th>\n",
       "      <td>ASHANTI</td>\n",
       "      <td>ATWIMA NWABIAGYA NORTH</td>\n",
       "      <td>84561.0</td>\n",
       "    </tr>\n",
       "    <tr>\n",
       "      <th>1003</th>\n",
       "      <td>WESTERN</td>\n",
       "      <td>WASSA EAST</td>\n",
       "      <td>102480.0</td>\n",
       "    </tr>\n",
       "    <tr>\n",
       "      <th>119</th>\n",
       "      <td>VOLTA</td>\n",
       "      <td>AKATSI NORTH</td>\n",
       "      <td>40738.0</td>\n",
       "    </tr>\n",
       "    <tr>\n",
       "      <th>619</th>\n",
       "      <td>EASTERN</td>\n",
       "      <td>KWAHU EAST</td>\n",
       "      <td>92165.0</td>\n",
       "    </tr>\n",
       "    <tr>\n",
       "      <th>199</th>\n",
       "      <td>AHAFO</td>\n",
       "      <td>ASUTIFI NORTH</td>\n",
       "      <td>64284.0</td>\n",
       "    </tr>\n",
       "    <tr>\n",
       "      <th>654</th>\n",
       "      <td>ASHANTI</td>\n",
       "      <td>MAMPONG MUNICIPAL</td>\n",
       "      <td>102288.0</td>\n",
       "    </tr>\n",
       "    <tr>\n",
       "      <th>321</th>\n",
       "      <td>EASTERN</td>\n",
       "      <td>BIRIM CENTRAL MUNICIPAL</td>\n",
       "      <td>76729.0</td>\n",
       "    </tr>\n",
       "    <tr>\n",
       "      <th>473</th>\n",
       "      <td>CENTRAL</td>\n",
       "      <td>GOMOA CENTRAL</td>\n",
       "      <td>57650.0</td>\n",
       "    </tr>\n",
       "    <tr>\n",
       "      <th>611</th>\n",
       "      <td>EASTERN</td>\n",
       "      <td>KWAEBIBIREM</td>\n",
       "      <td>136655.0</td>\n",
       "    </tr>\n",
       "    <tr>\n",
       "      <th>68</th>\n",
       "      <td>VOLTA</td>\n",
       "      <td>AGOTIME ZIOPE</td>\n",
       "      <td>33176.0</td>\n",
       "    </tr>\n",
       "    <tr>\n",
       "      <th>938</th>\n",
       "      <td>NORTHERN</td>\n",
       "      <td>TATALE SANGULI</td>\n",
       "      <td>71791.0</td>\n",
       "    </tr>\n",
       "    <tr>\n",
       "      <th>1022</th>\n",
       "      <td>EASTERN</td>\n",
       "      <td>YILO KROBO MUNICIPAL</td>\n",
       "      <td>104887.0</td>\n",
       "    </tr>\n",
       "    <tr>\n",
       "      <th>104</th>\n",
       "      <td>WESTERN</td>\n",
       "      <td>AHANTA WEST MUNICIPAL</td>\n",
       "      <td>136044.0</td>\n",
       "    </tr>\n",
       "    <tr>\n",
       "      <th>642</th>\n",
       "      <td>GREATER_ACCRA</td>\n",
       "      <td>LA DADE-KOTOPON</td>\n",
       "      <td>216605.0</td>\n",
       "    </tr>\n",
       "    <tr>\n",
       "      <th>343</th>\n",
       "      <td>UPPER_EAST</td>\n",
       "      <td>BOLGATANGA MUNICIPAL</td>\n",
       "      <td>127378.0</td>\n",
       "    </tr>\n",
       "    <tr>\n",
       "      <th>700</th>\n",
       "      <td>NORTHERN</td>\n",
       "      <td>NANUMBA SOUTH</td>\n",
       "      <td>114166.0</td>\n",
       "    </tr>\n",
       "  </tbody>\n",
       "</table>\n",
       "</div>"
      ],
      "text/plain": [
       "               adm1                     adm2  population\n",
       "731             OTI            NKWANTA NORTH     76425.0\n",
       "763         ASHANTI        OFFINSO MUNICIPAL     90916.0\n",
       "890         EASTERN          SUHUM MUNICIPAL    108053.0\n",
       "933           AHAFO     TANO SOUTH MUNICIPAL     94928.0\n",
       "637         EASTERN     KWAHU WEST MUNICIPAL    114409.0\n",
       "184         EASTERN       ASENE MANSO AKROSO     98078.0\n",
       "94          ASHANTI     AHAFO ANO SOUTH EAST     68370.0\n",
       "193         CENTRAL              ASSIN NORTH    123641.0\n",
       "1025     NORTH_EAST            YUNYOO-NASUAN     48763.0\n",
       "236         ASHANTI   ATWIMA NWABIAGYA NORTH     84561.0\n",
       "1003        WESTERN               WASSA EAST    102480.0\n",
       "119           VOLTA             AKATSI NORTH     40738.0\n",
       "619         EASTERN               KWAHU EAST     92165.0\n",
       "199           AHAFO            ASUTIFI NORTH     64284.0\n",
       "654         ASHANTI        MAMPONG MUNICIPAL    102288.0\n",
       "321         EASTERN  BIRIM CENTRAL MUNICIPAL     76729.0\n",
       "473         CENTRAL            GOMOA CENTRAL     57650.0\n",
       "611         EASTERN              KWAEBIBIREM    136655.0\n",
       "68            VOLTA            AGOTIME ZIOPE     33176.0\n",
       "938        NORTHERN           TATALE SANGULI     71791.0\n",
       "1022        EASTERN     YILO KROBO MUNICIPAL    104887.0\n",
       "104         WESTERN    AHANTA WEST MUNICIPAL    136044.0\n",
       "642   GREATER_ACCRA          LA DADE-KOTOPON    216605.0\n",
       "343      UPPER_EAST     BOLGATANGA MUNICIPAL    127378.0\n",
       "700        NORTHERN            NANUMBA SOUTH    114166.0"
      ]
     },
     "execution_count": 54,
     "metadata": {},
     "output_type": "execute_result"
    }
   ],
   "source": [
    "incid = pd.read_csv(data_dir + \"/GHA/Routine_data/District-level/incid.csv\")\n",
    "incid = incid[incid[\"year\"] == 2018]\n",
    "incid = demographic.reformat.adm1_name(\n",
    "    df=incid, original_column_name=\"adm1\", set_index=False\n",
    ")\n",
    "incid.sample(5)\n",
    "gha_adm2_population = incid[[\"adm1\", \"adm2\", \"pop\"]]\n",
    "gha_adm2_population = gha_adm2_population.rename(columns={\"pop\": \"population\"})\n",
    "gha_adm2_population.sample(25)"
   ]
  },
  {
   "cell_type": "code",
   "execution_count": 63,
   "metadata": {
    "collapsed": false,
    "pycharm": {
     "name": "#%%\n"
    }
   },
   "outputs": [
    {
     "data": {
      "text/plain": [
       "adm1\n",
       "GH_AF    0.316131\n",
       "GH_AH    0.109697\n",
       "GH_BO    0.418152\n",
       "GH_BE    0.329378\n",
       "GH_CP    0.221565\n",
       "GH_EP    0.208044\n",
       "GH_AA    0.036870\n",
       "GH_NP    0.108752\n",
       "GH_NE    0.108131\n",
       "GH_OT    0.199682\n",
       "GH_SV    0.221465\n",
       "GH_UE    0.375045\n",
       "GH_UW    0.317987\n",
       "GH_TV    0.149964\n",
       "GH_WP    0.253377\n",
       "GH_WN    0.340627\n",
       "Name: Prevalence, dtype: float64"
      ]
     },
     "execution_count": 63,
     "metadata": {},
     "output_type": "execute_result"
    }
   ],
   "source": [
    "# calculate prevalence\n",
    "incid = incid.groupby(\"adm1\").sum()\n",
    "prevalence = Parameter(name=\"Prevalence\")\n",
    "gha_prevalence = ParameterData(\n",
    "    parameter=prevalence, data=incid[\"conf\"] / incid[\"pop\"], country=gha\n",
    ")\n",
    "gha_prevalence"
   ]
  },
  {
   "cell_type": "code",
   "execution_count": null,
   "metadata": {},
   "outputs": [],
   "source": []
  }
 ],
 "metadata": {
  "interpreter": {
   "hash": "8a94588eda9d64d9e9a351ab8144e55b1fabf5113b54e67dd26a8c27df0381b3"
  },
  "kernelspec": {
   "display_name": "Python 3.10.4 64-bit",
   "language": "python",
   "name": "python3"
  },
  "language_info": {
   "codemirror_mode": {
    "name": "ipython",
    "version": 3
   },
   "file_extension": ".py",
   "mimetype": "text/x-python",
   "name": "python",
   "nbconvert_exporter": "python",
   "pygments_lexer": "ipython3",
   "version": "3.10.3"
  },
  "orig_nbformat": 4
 },
 "nbformat": 4,
 "nbformat_minor": 2
}
