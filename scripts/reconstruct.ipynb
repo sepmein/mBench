{
 "cells": [
  {
   "cell_type": "code",
   "execution_count": 1,
   "metadata": {},
   "outputs": [],
   "source": [
    "#@formatter:off\n",
    "%load_ext autoreload\n",
    "%autoreload 2\n",
    "#@formatter:on"
   ]
  },
  {
   "cell_type": "markdown",
   "metadata": {},
   "source": [
    "# Imports"
   ]
  },
  {
   "cell_type": "code",
   "execution_count": 2,
   "metadata": {},
   "outputs": [],
   "source": [
    "import pandas as pd\n",
    "from mbench import (\n",
    "    Parameter,\n",
    "    ParameterData,\n",
    "    CountryData,\n",
    "    AdjacentDistricts,\n",
    "    Country,\n",
    "    District,\n",
    "    Districts,\n",
    "    OldDistrictToNewDistrict,\n",
    "    demographic,\n",
    "    util,\n",
    ")\n"
   ]
  },
  {
   "cell_type": "markdown",
   "metadata": {},
   "source": [
    "# Path"
   ]
  },
  {
   "cell_type": "code",
   "execution_count": 3,
   "metadata": {},
   "outputs": [],
   "source": [
    "if sys.platform == 'linux':\n",
    "    os.chdir('/mnt/d/Dropbox/benchmarking')\n",
    "elif sys.platform =='Darwin':\n",
    "    os.chdir('/Users/sepmein/Dropbox/benchmarking')\n",
    "\n",
    "data_dir = os.path.abspath('Data')\n",
    "openmalaria_xml_config_path = os.path.abspath('Data/openmalaria/12936_2017_2051_MOESM1_ESM.xml')\n",
    "openmalaria_xml_config_path_pn2 = os.path.abspath(\"Data/openmalaria/VanDucAP2.xml\")\n",
    "openmalaria_xml_config_path_pn3 = os.path.abspath(\"Data/openmalaria/VanDucAP3.xml\")"
   ]
  },
  {
   "cell_type": "markdown",
   "metadata": {},
   "source": [
    "# District"
   ]
  },
  {
   "cell_type": "code",
   "execution_count": 4,
   "metadata": {
    "collapsed": false,
    "pycharm": {
     "name": "#%%\n"
    }
   },
   "outputs": [],
   "source": [
    "ahafo = District(iso='gh-af', aliases=['AHAFO'])\n",
    "ashanti = District(iso='gh-ah', aliases=['ashanti'])\n",
    "bono = District(iso='gh-bo', aliases=['bono'])\n",
    "bono_east = District(iso='gh-be', aliases=['bono_east'])\n",
    "central = District(iso='gh-cp', aliases=['central'])\n",
    "eastern = District(iso='gh-ep', aliases=['eastern'])\n",
    "greater_accra = District(iso='gh-aa', aliases=['greater_accra'])\n",
    "north_east = District(iso='gh-ne', aliases=['north_east'])\n",
    "northern = District(iso='gh-np', aliases=['northern'])\n",
    "oti = District(iso='gh-ot', aliases=['oti'])\n",
    "savannah = District(iso='gh-sv', aliases=['savannah'])\n",
    "upper_east = District(iso='gh-ue', aliases=['upper_east'])\n",
    "upper_west = District(iso='gh-uw', aliases=['upper_west'])\n",
    "volta = District(iso='gh-tv', aliases=['volta'])\n",
    "western = District(iso='gh-wp', aliases=['western'])\n",
    "western_north = District(iso='gh-wn', aliases=['western_north'])\n",
    "\n",
    "gha_districts = Districts(district_list=[\n",
    "    ahafo, ashanti, bono, bono_east, central, eastern, greater_accra, north_east, northern, oti, savannah, upper_east, upper_west, volta, western, western_north\n",
    "])"
   ]
  },
  {
   "cell_type": "markdown",
   "metadata": {},
   "source": [
    "# Old to New Districts"
   ]
  },
  {
   "cell_type": "code",
   "execution_count": 5,
   "metadata": {
    "collapsed": false,
    "jupyter": {
     "outputs_hidden": false
    },
    "pycharm": {
     "name": "#%%\n"
    }
   },
   "outputs": [],
   "source": [
    "district_216_260 = pd.read_csv(data_dir + \"/GHA/ADM1/216 to 260.csv\")"
   ]
  },
  {
   "cell_type": "code",
   "execution_count": 6,
   "metadata": {},
   "outputs": [],
   "source": [
    "gha_old_new_districts = OldDistrictToNewDistrict(\n",
    "    start = district_216_260['216'],\n",
    "    to= district_216_260['260'],\n",
    "    districts = gha_districts,\n",
    "    columns = ['old','new']\n",
    ")"
   ]
  },
  {
   "cell_type": "markdown",
   "metadata": {},
   "source": [
    "# Adjacents Districts"
   ]
  },
  {
   "cell_type": "code",
   "execution_count": 7,
   "metadata": {
    "collapsed": false,
    "jupyter": {
     "outputs_hidden": false
    },
    "pycharm": {
     "name": "#%%\n"
    }
   },
   "outputs": [],
   "source": [
    "# load adjacent\n",
    "gha_adjacent_provinces_data = pd.read_excel(\n",
    "    data_dir + \"/gha_adm_adjacent.xlsx\", sheet_name=\"adm1_adjacent\"\n",
    ")\n",
    "gha_adjacent_provinces_data = demographic.reformat.adm1_name(\n",
    "    df=gha_adjacent_provinces_data,\n",
    "    original_column_name=\"a\",\n",
    "    new_column_name=\"from\",\n",
    "    set_index=False,\n",
    ")\n",
    "gha_adjacent_provinces_data = demographic.reformat.adm1_name(\n",
    "    df=gha_adjacent_provinces_data,\n",
    "    original_column_name=\"b\",\n",
    "    new_column_name=\"to\",\n",
    "    set_index=False,\n",
    ")\n",
    "\n",
    "gha_adjacent_provinces = AdjacentDistricts(\n",
    "    start= gha_adjacent_provinces_data['from'],\n",
    "    to = gha_adjacent_provinces_data['to'],\n",
    "    districts = gha_districts\n",
    ")"
   ]
  },
  {
   "cell_type": "markdown",
   "metadata": {},
   "source": [
    "# GHA country instance"
   ]
  },
  {
   "cell_type": "code",
   "execution_count": 8,
   "metadata": {
    "collapsed": false,
    "pycharm": {
     "name": "#%%\n"
    }
   },
   "outputs": [
    {
     "data": {
      "text/plain": [
       "True"
      ]
     },
     "execution_count": 8,
     "metadata": {},
     "output_type": "execute_result"
    }
   ],
   "source": [
    "gha = Country(districts=gha_districts,\n",
    "              adjacent_districts=gha_adjacent_provinces,\n",
    "              old_districts_to_new_districts = gha_old_new_districts\n",
    "              )"
   ]
  },
  {
   "cell_type": "markdown",
   "metadata": {},
   "source": [
    "# Initiate Country data instance"
   ]
  },
  {
   "cell_type": "code",
   "execution_count": 9,
   "metadata": {},
   "outputs": [],
   "source": [
    "gha_data = CountryData(country = gha)"
   ]
  },
  {
   "cell_type": "markdown",
   "metadata": {},
   "source": [
    "# Vector Resistance"
   ]
  },
  {
   "cell_type": "code",
   "execution_count": 10,
   "metadata": {},
   "outputs": [],
   "source": [
    "gha_adm1_vector_resistance = pd.read_excel(\n",
    "    data_dir\n",
    "    + \"/GHA/WHO_IR_data/MTM_DISCRIMINATING_CONCENTRATION_BIOASSAY_20211130.xlsx\",\n",
    "    sheet_name=\"Data\",\n",
    ")\n",
    "gha_adm1_vector_resistance = gha_adm1_vector_resistance.groupby(\"ADMIN1\").mean()\n",
    "gha_adm1_vector_resistance = gha_adm1_vector_resistance[\"MORTALITY_ADJUSTED\"]"
   ]
  },
  {
   "cell_type": "code",
   "execution_count": 11,
   "metadata": {},
   "outputs": [],
   "source": [
    "vector_resistance = Parameter(\n",
    "    name= 'vector resistance',\n",
    "    aliases= ['vr', 'vector_resistance']\n",
    ")\n",
    "pm_gha_vector_resistance = ParameterData(\n",
    "    parameter= vector_resistance,\n",
    "    data=gha_adm1_vector_resistance,\n",
    "    country=gha,\n",
    "    from_old_districts_system= True\n",
    ")"
   ]
  },
  {
   "cell_type": "markdown",
   "metadata": {},
   "source": [
    "# Prevalence"
   ]
  },
  {
   "cell_type": "code",
   "execution_count": 12,
   "metadata": {
    "collapsed": false,
    "jupyter": {
     "outputs_hidden": false
    },
    "pycharm": {
     "name": "#%%\n"
    }
   },
   "outputs": [],
   "source": [
    "incid = pd.read_csv(data_dir + \"/GHA/Routine_data/District-level/incid.csv\")\n",
    "incid = incid[incid[\"year\"] == 2018]\n",
    "incid = demographic.reformat.adm1_name(\n",
    "    df=incid, original_column_name=\"adm1\", set_index=False\n",
    ")\n",
    "gha_adm2_population = incid[[\"adm1\", \"adm2\", \"pop\"]]\n",
    "gha_adm2_population = gha_adm2_population.rename(columns={\"pop\": \"population\"})"
   ]
  },
  {
   "cell_type": "code",
   "execution_count": 13,
   "metadata": {
    "collapsed": false,
    "pycharm": {
     "name": "#%%\n"
    }
   },
   "outputs": [],
   "source": [
    "# calculate prevalence\n",
    "incid = incid.groupby(\"adm1\").sum()\n",
    "prevalence = Parameter(name=\"Prevalence\")\n",
    "gha_prevalence = ParameterData(\n",
    "    parameter=prevalence, data=incid[\"conf\"] / incid[\"pop\"], country=gha\n",
    ")\n",
    "gha_data.add_parameter(gha_prevalence)"
   ]
  },
  {
   "cell_type": "markdown",
   "metadata": {},
   "source": [
    "# Demographic data"
   ]
  },
  {
   "cell_type": "code",
   "execution_count": 14,
   "metadata": {
    "collapsed": false,
    "jupyter": {
     "outputs_hidden": false
    },
    "pycharm": {
     "name": "#%%\n"
    }
   },
   "outputs": [],
   "source": [
    "gha_demographic_adm1_2020_phc = pd.read_excel(\n",
    "    data_dir + \"/GHA/Demographic/2021_PHC/2021 PHC summary.xlsx\"\n",
    ")\n",
    "gha_demographic_adm1_2020_mean = gha_demographic_adm1_2020_phc[[\"region\", \"mean_age\"]]\n",
    "gha_demographic_adm1_2020_mean = demographic.adm1_name(\n",
    "    df=gha_demographic_adm1_2020_mean, original_column_name=\"region\"\n",
    ")\n",
    "gha_demographic_adm1_2020_mean = gha_demographic_adm1_2020_mean.squeeze()"
   ]
  },
  {
   "cell_type": "markdown",
   "metadata": {},
   "source": [
    "# ETA"
   ]
  },
  {
   "cell_type": "code",
   "execution_count": 15,
   "metadata": {
    "collapsed": false,
    "jupyter": {
     "outputs_hidden": false
    },
    "pycharm": {
     "name": "#%%\n"
    }
   },
   "outputs": [],
   "source": [
    "eta = Parameter(name='eta', aliases=['eta'])\n",
    "eta_data = ParameterData(\n",
    "    parameter=eta,\n",
    "    country=gha,\n",
    "    data = 1 / (gha_demographic_adm1_2020_mean * 365)\n",
    ")\n",
    "gha_data.add_parameter(eta_data)"
   ]
  },
  {
   "cell_type": "markdown",
   "metadata": {},
   "source": [
    "# ITN coverage"
   ]
  },
  {
   "cell_type": "code",
   "execution_count": 16,
   "metadata": {
    "collapsed": false,
    "jupyter": {
     "outputs_hidden": false
    },
    "pycharm": {
     "name": "#%%\n"
    }
   },
   "outputs": [],
   "source": [
    "intervention = pd.read_excel(\n",
    "    io=os.path.abspath(data_dir + \"/GHA/MAP_District_Estimates/Maps_by_MAP_260districts/GHA_summaries/GHA_new_district_summaries.xlsx\"),\n",
    "    sheet_name=\"district_summaries\",\n",
    ")\n",
    "intervention = demographic.reformat.adm1_name(\n",
    "    df=intervention, original_column_name=\"REGION\", set_index=False\n",
    ")\n",
    "\n",
    "intervention = intervention.rename(columns={\"DISTRICT\": \"adm2\"})\n",
    "itn_coverage = intervention[[\"adm1\", \"adm2\", \"ITN_2018\"]]\n",
    "itn_coverage = pd.merge(\n",
    "    left=gha_adm2_population, right=itn_coverage, left_on=\"adm2\", right_on=\"adm2\"\n",
    ")\n",
    "\n",
    "itn_coverage = itn_coverage.drop(columns=[\"adm1_x\"], axis=1)\n",
    "itn_coverage = itn_coverage.rename(columns={\"adm1_y\": \"adm1\"})\n",
    "itn_coverage[\"population_itn\"] = itn_coverage[\"population\"] * itn_coverage[\"ITN_2018\"]\n",
    "itn_coverage_groupby_sum = itn_coverage.groupby(by=\"adm1\").sum()\n",
    "itn_coverage_groupby_sum[\"itn_coverage\"] = (\n",
    "        itn_coverage_groupby_sum[\"population_itn\"] / itn_coverage_groupby_sum[\"population\"]\n",
    ")\n",
    "\n",
    "itn_cov = Parameter(name='itn_cov')\n",
    "itn_cov_data = ParameterData(\n",
    "    parameter=itn_cov,\n",
    "    country=gha,\n",
    "    data= itn_coverage_groupby_sum[\"itn_coverage\"]\n",
    ")\n",
    "itn_cov_gf = Parameter(name='itn_cov_gf')\n",
    "itn_cov_gf_data = ParameterData(\n",
    "    parameter=itn_cov,\n",
    "    country=gha,\n",
    "    data=itn_cov_data.data * 2.17 / 3.09 \n",
    ")\n",
    "itn_cov_ellie = Parameter(name='itn_cov_ellie')\n",
    "itn_cov_ellie_data = ParameterData(\n",
    "    parameter=itn_cov,\n",
    "    country=gha,\n",
    "    data=itn_cov_data.data * 2 / 2.3 \n",
    ")"
   ]
  },
  {
   "cell_type": "markdown",
   "metadata": {},
   "source": [
    "# ITN distribution"
   ]
  },
  {
   "cell_type": "code",
   "execution_count": 18,
   "metadata": {
    "collapsed": false,
    "pycharm": {
     "name": "#%%\n"
    }
   },
   "outputs": [],
   "source": [
    "# ITN distributed\n",
    "gha_intervention_data_excel = pd.read_excel(\n",
    "    data_dir + \"/GHA/Interventions/GHA_Intervention_data.xlsx\",\n",
    "    sheet_name=\"Data template \"\n",
    ")\n",
    "gha_intervention_data_excel_2018 = gha_intervention_data_excel[gha_intervention_data_excel['year'] == 2018]\n",
    "gha_intervention_data_excel_2018 = gha_intervention_data_excel_2018.dropna(subset=['adm1'])\n",
    "gha_intervention_data_excel_2018 = gha_intervention_data_excel_2018.replace('Northern East', 'north east')\n",
    "llins_distributed = gha_intervention_data_excel_2018.groupby('adm1').sum()['llins_num']\n",
    "llins_distributed = demographic.reformat.adm1_name(df=llins_distributed,\n",
    "                                                   original_column_name='adm1',\n",
    "                                                   )\n",
    "\n",
    "llins_distributed_parameter = Parameter('llins_distributed')\n",
    "llins_distributed_parameter_data = ParameterData(\n",
    "    parameter=llins_distributed_parameter,\n",
    "    country=gha,\n",
    "    data=llins_distributed\n",
    ")\n",
    "gha_data.add_parameter(llins_distributed_parameter_data)"
   ]
  },
  {
   "cell_type": "markdown",
   "metadata": {},
   "source": [
    "# IRS coverage"
   ]
  },
  {
   "cell_type": "code",
   "execution_count": 17,
   "metadata": {
    "collapsed": false,
    "jupyter": {
     "outputs_hidden": false
    },
    "pycharm": {
     "name": "#%%\n"
    }
   },
   "outputs": [],
   "source": [
    "irs_coverage = intervention[[\"adm1\", \"adm2\", \"IRS_2018\"]]\n",
    "irs_coverage = pd.merge(\n",
    "    left=gha_adm2_population, right=irs_coverage, left_on=\"adm2\", right_on=\"adm2\"\n",
    ")\n",
    "\n",
    "irs_coverage = irs_coverage.drop(columns=[\"adm1_x\"], axis=1)\n",
    "irs_coverage = irs_coverage.rename(columns={\"adm1_y\": \"adm1\"})\n",
    "irs_coverage[\"population_irs\"] = irs_coverage[\"population\"] * irs_coverage[\"IRS_2018\"]\n",
    "irs_coverage_groupby_sum = irs_coverage.groupby(by=\"adm1\").sum()\n",
    "irs_coverage_groupby_sum[\"irs_coverage\"] = (\n",
    "        irs_coverage_groupby_sum[\"population_irs\"] / irs_coverage_groupby_sum[\"population\"]\n",
    ")\n",
    "\n",
    "irs_coverage = Parameter('irs_coverage')\n",
    "irs_coverage_data = ParameterData(\n",
    "    parameter=irs_coverage,\n",
    "    country=gha,\n",
    "    data = irs_coverage_groupby_sum[\"irs_coverage\"]\n",
    ")\n",
    "gha_data.add_parameter(irs_coverage_data)"
   ]
  },
  {
   "cell_type": "markdown",
   "metadata": {},
   "source": []
  }
 ],
 "metadata": {
  "interpreter": {
   "hash": "8a94588eda9d64d9e9a351ab8144e55b1fabf5113b54e67dd26a8c27df0381b3"
  },
  "kernelspec": {
   "display_name": "Python 3.10.4 64-bit",
   "language": "python",
   "name": "python3"
  },
  "language_info": {
   "codemirror_mode": {
    "name": "ipython",
    "version": 3
   },
   "file_extension": ".py",
   "mimetype": "text/x-python",
   "name": "python",
   "nbconvert_exporter": "python",
   "pygments_lexer": "ipython3",
   "version": "3.10.3"
  },
  "orig_nbformat": 4
 },
 "nbformat": 4,
 "nbformat_minor": 2
}
