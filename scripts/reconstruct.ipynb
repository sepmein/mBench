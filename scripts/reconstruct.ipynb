{
 "cells": [
  {
   "cell_type": "code",
   "execution_count": 82,
   "metadata": {},
   "outputs": [
    {
     "name": "stdout",
     "output_type": "stream",
     "text": [
      "The autoreload extension is already loaded. To reload it, use:\n",
      "  %reload_ext autoreload\n"
     ]
    }
   ],
   "source": [
    "#@formatter:off\n",
    "%load_ext autoreload\n",
    "%autoreload 2\n",
    "#@formatter:on"
   ]
  },
  {
   "cell_type": "code",
   "execution_count": 83,
   "metadata": {},
   "outputs": [],
   "source": [
    "import pandas as pd\n",
    "from mbench import (\n",
    "    Parameter,\n",
    "    ParameterData,\n",
    "    CountryData,\n",
    "    AdjacentDistricts,\n",
    "    Country,\n",
    "    District,\n",
    "    Districts,\n",
    "    OldDistrictToNewDistrict,\n",
    "    demographic,\n",
    "    util,\n",
    ")\n"
   ]
  },
  {
   "cell_type": "code",
   "execution_count": 84,
   "metadata": {},
   "outputs": [],
   "source": [
    "if sys.platform == 'linux':\n",
    "    os.chdir('/mnt/d/Dropbox/benchmarking')\n",
    "elif sys.platform =='Darwin':\n",
    "    os.chdir('/Users/sepmein/Dropbox/benchmarking')\n",
    "\n",
    "data_dir = os.path.abspath('Data')\n",
    "openmalaria_xml_config_path = os.path.abspath('Data/openmalaria/12936_2017_2051_MOESM1_ESM.xml')\n",
    "openmalaria_xml_config_path_pn2 = os.path.abspath(\"Data/openmalaria/VanDucAP2.xml\")\n",
    "openmalaria_xml_config_path_pn3 = os.path.abspath(\"Data/openmalaria/VanDucAP3.xml\")"
   ]
  },
  {
   "cell_type": "code",
   "execution_count": 85,
   "metadata": {
    "collapsed": false,
    "pycharm": {
     "name": "#%%\n"
    }
   },
   "outputs": [
    {
     "data": {
      "text/plain": [
       "16"
      ]
     },
     "execution_count": 85,
     "metadata": {},
     "output_type": "execute_result"
    }
   ],
   "source": [
    "ahafo = District(iso='gh-af', aliases=['AHAFO'])\n",
    "ashanti = District(iso='gh-ah', aliases=['ashanti'])\n",
    "bono = District(iso='gh-bo', aliases=['bono'])\n",
    "bono_east = District(iso='gh-be', aliases=['bono_east'])\n",
    "central = District(iso='gh-cp', aliases=['central'])\n",
    "eastern = District(iso='gh-ep', aliases=['eastern'])\n",
    "greater_accra = District(iso='gh-aa', aliases=['greater_accra'])\n",
    "north_east = District(iso='gh-ne', aliases=['north_east'])\n",
    "northern = District(iso='gh-np', aliases=['northern'])\n",
    "oti = District(iso='gh-ot', aliases=['oti'])\n",
    "savannah = District(iso='gh-sv', aliases=['savannah'])\n",
    "upper_east = District(iso='gh-ue', aliases=['upper_east'])\n",
    "upper_west = District(iso='gh-uw', aliases=['upper_west'])\n",
    "volta = District(iso='gh-tv', aliases=['volta'])\n",
    "western = District(iso='gh-wp', aliases=['western'])\n",
    "western_north = District(iso='gh-wn', aliases=['western_north'])\n",
    "\n",
    "gha_districts = Districts(district_list=[\n",
    "    ahafo, ashanti, bono, bono_east, central, eastern, greater_accra, north_east, northern, oti, savannah, upper_east, upper_west, volta, western, western_north\n",
    "])\n",
    "gha_districts.n"
   ]
  },
  {
   "cell_type": "code",
   "execution_count": 86,
   "metadata": {
    "collapsed": false,
    "jupyter": {
     "outputs_hidden": false
    },
    "pycharm": {
     "name": "#%%\n"
    }
   },
   "outputs": [],
   "source": [
    "district_216_260 = pd.read_csv(data_dir + \"/GHA/ADM1/216 to 260.csv\")"
   ]
  },
  {
   "cell_type": "code",
   "execution_count": 87,
   "metadata": {},
   "outputs": [
    {
     "data": {
      "text/html": [
       "<div>\n",
       "<style scoped>\n",
       "    .dataframe tbody tr th:only-of-type {\n",
       "        vertical-align: middle;\n",
       "    }\n",
       "\n",
       "    .dataframe tbody tr th {\n",
       "        vertical-align: top;\n",
       "    }\n",
       "\n",
       "    .dataframe thead th {\n",
       "        text-align: right;\n",
       "    }\n",
       "</style>\n",
       "<table border=\"1\" class=\"dataframe\">\n",
       "  <thead>\n",
       "    <tr style=\"text-align: right;\">\n",
       "      <th></th>\n",
       "      <th>old</th>\n",
       "      <th>new</th>\n",
       "    </tr>\n",
       "  </thead>\n",
       "  <tbody>\n",
       "    <tr>\n",
       "      <th>0</th>\n",
       "      <td>BRONG_AHAFO</td>\n",
       "      <td>GH_AF</td>\n",
       "    </tr>\n",
       "    <tr>\n",
       "      <th>1</th>\n",
       "      <td>ASHANTI</td>\n",
       "      <td>GH_AH</td>\n",
       "    </tr>\n",
       "    <tr>\n",
       "      <th>2</th>\n",
       "      <td>BRONG_AHAFO</td>\n",
       "      <td>GH_BO</td>\n",
       "    </tr>\n",
       "    <tr>\n",
       "      <th>3</th>\n",
       "      <td>BRONG_AHAFO</td>\n",
       "      <td>GH_BE</td>\n",
       "    </tr>\n",
       "    <tr>\n",
       "      <th>4</th>\n",
       "      <td>CENTRAL</td>\n",
       "      <td>GH_CP</td>\n",
       "    </tr>\n",
       "    <tr>\n",
       "      <th>5</th>\n",
       "      <td>EASTERN</td>\n",
       "      <td>GH_EP</td>\n",
       "    </tr>\n",
       "    <tr>\n",
       "      <th>6</th>\n",
       "      <td>GREATER_ACCRA</td>\n",
       "      <td>GH_AA</td>\n",
       "    </tr>\n",
       "    <tr>\n",
       "      <th>7</th>\n",
       "      <td>NORTHERN</td>\n",
       "      <td>GH_NP</td>\n",
       "    </tr>\n",
       "    <tr>\n",
       "      <th>8</th>\n",
       "      <td>NORTHERN</td>\n",
       "      <td>GH_NE</td>\n",
       "    </tr>\n",
       "    <tr>\n",
       "      <th>9</th>\n",
       "      <td>VOLTA</td>\n",
       "      <td>GH_OT</td>\n",
       "    </tr>\n",
       "    <tr>\n",
       "      <th>10</th>\n",
       "      <td>NORTHERN</td>\n",
       "      <td>GH_SV</td>\n",
       "    </tr>\n",
       "    <tr>\n",
       "      <th>11</th>\n",
       "      <td>UPPER_EAST</td>\n",
       "      <td>GH_UE</td>\n",
       "    </tr>\n",
       "    <tr>\n",
       "      <th>12</th>\n",
       "      <td>UPPER_WEST</td>\n",
       "      <td>GH_UW</td>\n",
       "    </tr>\n",
       "    <tr>\n",
       "      <th>13</th>\n",
       "      <td>VOLTA</td>\n",
       "      <td>GH_TV</td>\n",
       "    </tr>\n",
       "    <tr>\n",
       "      <th>14</th>\n",
       "      <td>WESTERN</td>\n",
       "      <td>GH_WP</td>\n",
       "    </tr>\n",
       "    <tr>\n",
       "      <th>15</th>\n",
       "      <td>WESTERN</td>\n",
       "      <td>GH_WN</td>\n",
       "    </tr>\n",
       "  </tbody>\n",
       "</table>\n",
       "</div>"
      ],
      "text/plain": [
       "              old    new\n",
       "0     BRONG_AHAFO  GH_AF\n",
       "1         ASHANTI  GH_AH\n",
       "2     BRONG_AHAFO  GH_BO\n",
       "3     BRONG_AHAFO  GH_BE\n",
       "4         CENTRAL  GH_CP\n",
       "5         EASTERN  GH_EP\n",
       "6   GREATER_ACCRA  GH_AA\n",
       "7        NORTHERN  GH_NP\n",
       "8        NORTHERN  GH_NE\n",
       "9           VOLTA  GH_OT\n",
       "10       NORTHERN  GH_SV\n",
       "11     UPPER_EAST  GH_UE\n",
       "12     UPPER_WEST  GH_UW\n",
       "13          VOLTA  GH_TV\n",
       "14        WESTERN  GH_WP\n",
       "15        WESTERN  GH_WN"
      ]
     },
     "execution_count": 87,
     "metadata": {},
     "output_type": "execute_result"
    }
   ],
   "source": [
    "gha_old_new_districts = OldDistrictToNewDistrict(\n",
    "    start = district_216_260['216'],\n",
    "    to= district_216_260['260'],\n",
    "    districts = gha_districts,\n",
    "    columns = ['old','new']\n",
    ")\n",
    "gha_old_new_districts.data"
   ]
  },
  {
   "cell_type": "code",
   "execution_count": 88,
   "metadata": {
    "collapsed": false,
    "jupyter": {
     "outputs_hidden": false
    },
    "pycharm": {
     "name": "#%%\n"
    }
   },
   "outputs": [],
   "source": [
    "# load adjacent\n",
    "gha_adjacent_provinces_data = pd.read_excel(\n",
    "    data_dir + \"/gha_adm_adjacent.xlsx\", sheet_name=\"adm1_adjacent\"\n",
    ")\n",
    "gha_adjacent_provinces_data = demographic.reformat.adm1_name(\n",
    "    df=gha_adjacent_provinces_data,\n",
    "    original_column_name=\"a\",\n",
    "    new_column_name=\"from\",\n",
    "    set_index=False,\n",
    ")\n",
    "gha_adjacent_provinces_data = demographic.reformat.adm1_name(\n",
    "    df=gha_adjacent_provinces_data,\n",
    "    original_column_name=\"b\",\n",
    "    new_column_name=\"to\",\n",
    "    set_index=False,\n",
    ")\n",
    "\n",
    "gha_adjacent_provinces = AdjacentDistricts(\n",
    "    start= gha_adjacent_provinces_data['from'],\n",
    "    to = gha_adjacent_provinces_data['to'],\n",
    "    districts = gha_districts\n",
    ")"
   ]
  },
  {
   "cell_type": "code",
   "execution_count": 89,
   "metadata": {
    "collapsed": false,
    "pycharm": {
     "name": "#%%\n"
    }
   },
   "outputs": [
    {
     "data": {
      "text/plain": [
       "<mbench.Country at 0x7f4be9bed390>"
      ]
     },
     "execution_count": 89,
     "metadata": {},
     "output_type": "execute_result"
    }
   ],
   "source": [
    "gha = Country(districts=gha_districts,\n",
    "              adjacent_districts=gha_adjacent_provinces,\n",
    "              old_districts_to_new_districts = gha_old_new_districts\n",
    "              )\n",
    "gha"
   ]
  },
  {
   "cell_type": "code",
   "execution_count": 90,
   "metadata": {},
   "outputs": [],
   "source": [
    "gha_data = CountryData(country = gha)"
   ]
  },
  {
   "cell_type": "code",
   "execution_count": 91,
   "metadata": {},
   "outputs": [
    {
     "data": {
      "text/plain": [
       "Index(['GH_AF', 'GH_AH', 'GH_BO', 'GH_BE', 'GH_CP', 'GH_EP', 'GH_AA', 'GH_NE',\n",
       "       'GH_NP', 'GH_OT', 'GH_SV', 'GH_UE', 'GH_UW', 'GH_TV', 'GH_WP', 'GH_WN'],\n",
       "      dtype='object')"
      ]
     },
     "execution_count": 91,
     "metadata": {},
     "output_type": "execute_result"
    }
   ],
   "source": [
    "gha_data.index"
   ]
  },
  {
   "cell_type": "code",
   "execution_count": 92,
   "metadata": {},
   "outputs": [
    {
     "data": {
      "text/plain": [
       "ADMIN1\n",
       "Ashanti            51.592958\n",
       "Brong Ahafo        42.100000\n",
       "Central            40.071053\n",
       "Eastern            32.664865\n",
       "Greater Accra      32.057600\n",
       "Kassena Nankana    81.725000\n",
       "Northern           72.059341\n",
       "Upper East         53.837500\n",
       "Upper West         44.305882\n",
       "Volta              52.340000\n",
       "Western            64.860000\n",
       "Name: MORTALITY_ADJUSTED, dtype: float64"
      ]
     },
     "execution_count": 92,
     "metadata": {},
     "output_type": "execute_result"
    }
   ],
   "source": [
    "gha_adm1_vector_resistance = pd.read_excel(\n",
    "    data_dir\n",
    "    + \"/GHA/WHO_IR_data/MTM_DISCRIMINATING_CONCENTRATION_BIOASSAY_20211130.xlsx\",\n",
    "    sheet_name=\"Data\",\n",
    ")\n",
    "gha_adm1_vector_resistance = gha_adm1_vector_resistance.groupby(\"ADMIN1\").mean()\n",
    "gha_adm1_vector_resistance = gha_adm1_vector_resistance[\"MORTALITY_ADJUSTED\"]\n",
    "gha_adm1_vector_resistance"
   ]
  },
  {
   "cell_type": "code",
   "execution_count": 93,
   "metadata": {},
   "outputs": [
    {
     "data": {
      "text/html": [
       "<div>\n",
       "<style scoped>\n",
       "    .dataframe tbody tr th:only-of-type {\n",
       "        vertical-align: middle;\n",
       "    }\n",
       "\n",
       "    .dataframe tbody tr th {\n",
       "        vertical-align: top;\n",
       "    }\n",
       "\n",
       "    .dataframe thead th {\n",
       "        text-align: right;\n",
       "    }\n",
       "</style>\n",
       "<table border=\"1\" class=\"dataframe\">\n",
       "  <thead>\n",
       "    <tr style=\"text-align: right;\">\n",
       "      <th></th>\n",
       "      <th>old</th>\n",
       "      <th>new</th>\n",
       "      <th>MORTALITY_ADJUSTED</th>\n",
       "    </tr>\n",
       "  </thead>\n",
       "  <tbody>\n",
       "    <tr>\n",
       "      <th>0</th>\n",
       "      <td>BRONG_AHAFO</td>\n",
       "      <td>GH_AF</td>\n",
       "      <td>NaN</td>\n",
       "    </tr>\n",
       "    <tr>\n",
       "      <th>1</th>\n",
       "      <td>ASHANTI</td>\n",
       "      <td>GH_AH</td>\n",
       "      <td>NaN</td>\n",
       "    </tr>\n",
       "    <tr>\n",
       "      <th>2</th>\n",
       "      <td>BRONG_AHAFO</td>\n",
       "      <td>GH_BO</td>\n",
       "      <td>NaN</td>\n",
       "    </tr>\n",
       "    <tr>\n",
       "      <th>3</th>\n",
       "      <td>BRONG_AHAFO</td>\n",
       "      <td>GH_BE</td>\n",
       "      <td>NaN</td>\n",
       "    </tr>\n",
       "    <tr>\n",
       "      <th>4</th>\n",
       "      <td>CENTRAL</td>\n",
       "      <td>GH_CP</td>\n",
       "      <td>NaN</td>\n",
       "    </tr>\n",
       "    <tr>\n",
       "      <th>5</th>\n",
       "      <td>EASTERN</td>\n",
       "      <td>GH_EP</td>\n",
       "      <td>NaN</td>\n",
       "    </tr>\n",
       "    <tr>\n",
       "      <th>6</th>\n",
       "      <td>GREATER_ACCRA</td>\n",
       "      <td>GH_AA</td>\n",
       "      <td>NaN</td>\n",
       "    </tr>\n",
       "    <tr>\n",
       "      <th>7</th>\n",
       "      <td>NORTHERN</td>\n",
       "      <td>GH_NP</td>\n",
       "      <td>NaN</td>\n",
       "    </tr>\n",
       "    <tr>\n",
       "      <th>8</th>\n",
       "      <td>NORTHERN</td>\n",
       "      <td>GH_NE</td>\n",
       "      <td>NaN</td>\n",
       "    </tr>\n",
       "    <tr>\n",
       "      <th>9</th>\n",
       "      <td>VOLTA</td>\n",
       "      <td>GH_OT</td>\n",
       "      <td>NaN</td>\n",
       "    </tr>\n",
       "    <tr>\n",
       "      <th>10</th>\n",
       "      <td>NORTHERN</td>\n",
       "      <td>GH_SV</td>\n",
       "      <td>NaN</td>\n",
       "    </tr>\n",
       "    <tr>\n",
       "      <th>11</th>\n",
       "      <td>UPPER_EAST</td>\n",
       "      <td>GH_UE</td>\n",
       "      <td>NaN</td>\n",
       "    </tr>\n",
       "    <tr>\n",
       "      <th>12</th>\n",
       "      <td>UPPER_WEST</td>\n",
       "      <td>GH_UW</td>\n",
       "      <td>NaN</td>\n",
       "    </tr>\n",
       "    <tr>\n",
       "      <th>13</th>\n",
       "      <td>VOLTA</td>\n",
       "      <td>GH_TV</td>\n",
       "      <td>NaN</td>\n",
       "    </tr>\n",
       "    <tr>\n",
       "      <th>14</th>\n",
       "      <td>WESTERN</td>\n",
       "      <td>GH_WP</td>\n",
       "      <td>NaN</td>\n",
       "    </tr>\n",
       "    <tr>\n",
       "      <th>15</th>\n",
       "      <td>WESTERN</td>\n",
       "      <td>GH_WN</td>\n",
       "      <td>NaN</td>\n",
       "    </tr>\n",
       "  </tbody>\n",
       "</table>\n",
       "</div>"
      ],
      "text/plain": [
       "              old    new  MORTALITY_ADJUSTED\n",
       "0     BRONG_AHAFO  GH_AF                 NaN\n",
       "1         ASHANTI  GH_AH                 NaN\n",
       "2     BRONG_AHAFO  GH_BO                 NaN\n",
       "3     BRONG_AHAFO  GH_BE                 NaN\n",
       "4         CENTRAL  GH_CP                 NaN\n",
       "5         EASTERN  GH_EP                 NaN\n",
       "6   GREATER_ACCRA  GH_AA                 NaN\n",
       "7        NORTHERN  GH_NP                 NaN\n",
       "8        NORTHERN  GH_NE                 NaN\n",
       "9           VOLTA  GH_OT                 NaN\n",
       "10       NORTHERN  GH_SV                 NaN\n",
       "11     UPPER_EAST  GH_UE                 NaN\n",
       "12     UPPER_WEST  GH_UW                 NaN\n",
       "13          VOLTA  GH_TV                 NaN\n",
       "14        WESTERN  GH_WP                 NaN\n",
       "15        WESTERN  GH_WN                 NaN"
      ]
     },
     "execution_count": 93,
     "metadata": {},
     "output_type": "execute_result"
    }
   ],
   "source": [
    "vector_resistance = Parameter(\n",
    "    name= 'vector resistance',\n",
    "    aliases= ['vr', 'vector_resistance']\n",
    ")\n",
    "pm_gha_vector_resistance = ParameterData(\n",
    "    parameter= vector_resistance,\n",
    "    value=gha_adm1_vector_resistance,\n",
    "    country=gha,\n",
    "    from_old_districts_system= True\n",
    ")\n",
    "pm_gha_vector_resistance._value"
   ]
  },
  {
   "cell_type": "code",
   "execution_count": 94,
   "metadata": {},
   "outputs": [
    {
     "ename": "SyntaxError",
     "evalue": "invalid syntax (1349196799.py, line 1)",
     "output_type": "error",
     "traceback": [
      "\u001b[0;36m  Input \u001b[0;32mIn [94]\u001b[0;36m\u001b[0m\n\u001b[0;31m    gha_districts.reformat(to_format=)\u001b[0m\n\u001b[0m                                     ^\u001b[0m\n\u001b[0;31mSyntaxError\u001b[0m\u001b[0;31m:\u001b[0m invalid syntax\n"
     ]
    }
   ],
   "source": [
    "gha_districts.reformat(to_format=)"
   ]
  }
 ],
 "metadata": {
  "interpreter": {
   "hash": "8a94588eda9d64d9e9a351ab8144e55b1fabf5113b54e67dd26a8c27df0381b3"
  },
  "kernelspec": {
   "display_name": "Python 3.10.4 64-bit",
   "language": "python",
   "name": "python3"
  },
  "language_info": {
   "codemirror_mode": {
    "name": "ipython",
    "version": 3
   },
   "file_extension": ".py",
   "mimetype": "text/x-python",
   "name": "python",
   "nbconvert_exporter": "python",
   "pygments_lexer": "ipython3",
   "version": "3.10.4"
  },
  "orig_nbformat": 4
 },
 "nbformat": 4,
 "nbformat_minor": 2
}
