{
 "cells": [
  {
   "cell_type": "code",
   "execution_count": 94,
   "metadata": {
    "collapsed": false,
    "jupyter": {
     "outputs_hidden": false
    },
    "pycharm": {
     "name": "#%%\n"
    }
   },
   "outputs": [
    {
     "name": "stdout",
     "output_type": "stream",
     "text": [
      "The autoreload extension is already loaded. To reload it, use:\n",
      "  %reload_ext autoreload\n"
     ]
    }
   ],
   "source": [
    "%load_ext autoreload\n",
    "%autoreload 2"
   ]
  },
  {
   "cell_type": "markdown",
   "metadata": {},
   "source": [
    "# Malaria Modelling - benchmarking script \n",
    "\n",
    "## Programming\n",
    "### Python Package Importation\n",
    "\n",
    "This script use:\n",
    "- `pandas` - data importation, manipulation.\n",
    "- `seaborn` and `matplotlib` - plotting\n",
    "- `numpy` - matrix calculation\n",
    "- `jupyter notebook` - editing\n",
    "- `black` - formatting\n",
    "- `pyshp` - gis shape file\n",
    "- `lxml` - xml exporting"
   ]
  },
  {
   "cell_type": "code",
   "execution_count": 95,
   "metadata": {
    "collapsed": false,
    "jupyter": {
     "outputs_hidden": false
    },
    "pycharm": {
     "name": "#%%\n"
    }
   },
   "outputs": [],
   "source": [
    "import math\n",
    "\n",
    "import matplotlib.pyplot as plt\n",
    "import numpy as np\n",
    "import pandas as pd\n",
    "import seaborn as sns\n",
    "import shapefile\n",
    "from lxml import etree\n",
    "\n",
    "from mbench import demographic, util\n",
    "from mbench.intervention import efficacy\n",
    "\n",
    "sns.set_theme(style=\"whitegrid\", palette=\"pastel\")\n",
    "\n",
    "data_dir = \"../../Data/\""
   ]
  },
  {
   "cell_type": "markdown",
   "metadata": {},
   "source": [
    "### Create pandas dataframe for holding all data\n",
    "- load gha dataframe index from PHC summary\n",
    "- create columns using parameters list from Imperial model"
   ]
  },
  {
   "cell_type": "code",
   "execution_count": 96,
   "metadata": {
    "collapsed": false,
    "jupyter": {
     "outputs_hidden": false
    },
    "pycharm": {
     "name": "#%%\n"
    }
   },
   "outputs": [],
   "source": [
    "# index\n",
    "gha_demographic_adm1_2020_phc = pd.read_excel(\n",
    "    data_dir + \"GHA/Demographic/2021_PHC/2021 PHC summary.xlsx\"\n",
    ")\n",
    "gha_demographic_adm1_2020_mean = gha_demographic_adm1_2020_phc[[\"region\", \"mean_age\"]]\n",
    "gha_demographic_adm1_2020_mean = demographic.adm1_name(\n",
    "    df=gha_demographic_adm1_2020_mean, original_column_name=\"region\"\n",
    ")"
   ]
  },
  {
   "cell_type": "code",
   "execution_count": 97,
   "metadata": {
    "collapsed": false,
    "jupyter": {
     "outputs_hidden": false
    },
    "pycharm": {
     "name": "#%%\n"
    }
   },
   "outputs": [],
   "source": [
    "columns = [\n",
    "    \"eta\",\n",
    "    \"rho\",\n",
    "    \"a0\",\n",
    "    \"sigma2\",\n",
    "    \"max_age\",\n",
    "    \"rA\",\n",
    "    \"rT\",\n",
    "    \"rD\",\n",
    "    \"rU\",\n",
    "    \"rP\",\n",
    "    \"dE\",\n",
    "    \"delayGam\",\n",
    "    \"cD\",\n",
    "    \"cT\",\n",
    "    \"cU\",\n",
    "    \"gamma1\",\n",
    "    \"d1\",\n",
    "    \"dID\",\n",
    "    \"ID0\",\n",
    "    \"kD\",\n",
    "    \"uD\",\n",
    "    \"aD\",\n",
    "    \"fD0\",\n",
    "    \"gammaD\",\n",
    "    \"alphaA\",\n",
    "    \"alphaU\",\n",
    "    \"b0\",\n",
    "    \"b1\",\n",
    "    \"dB\",\n",
    "    \"IB0\",\n",
    "    \"kB\",\n",
    "    \"uB\",\n",
    "    \"phi0\",\n",
    "    \"phi1\",\n",
    "    \"dCA\",\n",
    "    \"IC0\",\n",
    "    \"kC\",\n",
    "    \"uCA\",\n",
    "    \"PM\",\n",
    "    \"dCM\",\n",
    "    \"delayMos\",\n",
    "    \"tau1\",\n",
    "    \"tau2\",\n",
    "    \"mu0\",\n",
    "    \"Q0\",\n",
    "    \"chi\",\n",
    "    \"bites_Bed\",\n",
    "    \"bites_Indoors\",\n",
    "    \"muEL\",\n",
    "    \"muLL\",\n",
    "    \"muPL\",\n",
    "    \"dEL\",\n",
    "    \"dLL\",\n",
    "    \"dPL\",\n",
    "    \"gammaL\",\n",
    "    \"km\",\n",
    "    \"cm\",\n",
    "    \"betaL\",\n",
    "    \"num_int\",\n",
    "    \"itn_cov\",\n",
    "    \"irs_cov\",\n",
    "    \"ITN_IRS_on\",\n",
    "    \"DY\",\n",
    "    \"d_ITN0\",\n",
    "    \"r_ITN0\",\n",
    "    \"r_ITN1\",\n",
    "    \"r_IRS0\",\n",
    "    \"d_IRS0\",\n",
    "    \"irs_half_life\",\n",
    "    \"itn_half_life\",\n",
    "    \"IRS_interval\",\n",
    "    \"ITN_interval\",\n",
    "]\n",
    "\n",
    "gha = pd.DataFrame(columns=columns, index=gha_demographic_adm1_2020_mean.index)"
   ]
  },
  {
   "cell_type": "markdown",
   "metadata": {},
   "source": [
    "### Load 216 vs 260 table\n",
    "\n",
    "From the year of xxxx, Ghana started to use the new 260 district system. From then on, the number of adm1 district increased from 10 to 16.\n",
    "\n",
    "As some old data were generated as the old district system, the following list was generated to readjust old data to new adm1 format."
   ]
  },
  {
   "cell_type": "code",
   "execution_count": 98,
   "metadata": {
    "collapsed": false,
    "jupyter": {
     "outputs_hidden": false
    },
    "pycharm": {
     "name": "#%%\n"
    }
   },
   "outputs": [
    {
     "name": "stdout",
     "output_type": "stream",
     "text": [
      "                         216\n",
      "adm1                        \n",
      "AHAFO            Brong-Ahafo\n",
      "ASHANTI              Ashanti\n",
      "BONO             Brong-Ahafo\n",
      "BONO_EAST        Brong-Ahafo\n",
      "CENTRAL              Central\n",
      "EASTERN              Eastern\n",
      "GREATER_ACCRA  Greater Accra\n",
      "NORTHERN            Northern\n",
      "NORTH_EAST          Northern\n",
      "OTI                    Volta\n",
      "SAVANNAH            Northern\n",
      "UPPER_EAST        Upper East\n",
      "UPPER_WEST        Upper West\n",
      "VOLTA                  Volta\n",
      "WESTERN              Western\n",
      "WESTERN_NORTH        Western\n"
     ]
    }
   ],
   "source": [
    "district_216_260 = pd.read_csv(data_dir + \"GHA/ADM1/216 to 260.csv\")\n",
    "district_216_260 = demographic.adm1_name(\n",
    "    df=district_216_260, original_column_name=\"260\"\n",
    ")\n",
    "print(district_216_260)\n",
    "gha[\"old_district_name\"] = district_216_260"
   ]
  },
  {
   "cell_type": "markdown",
   "metadata": {},
   "source": [
    "## Ghana Admin1 District coding\n",
    "\n",
    "### Coding\n",
    "\n",
    "This benchmarking practices is targeting at the adm1 level of district in Ghana.\n",
    "\n",
    "Code names of adm1 level was used for an unified experiences in the whole practices."
   ]
  },
  {
   "cell_type": "code",
   "execution_count": 99,
   "metadata": {
    "collapsed": false,
    "jupyter": {
     "outputs_hidden": false
    },
    "pycharm": {
     "name": "#%%\n"
    }
   },
   "outputs": [
    {
     "data": {
      "text/html": [
       "<div>\n",
       "<style scoped>\n",
       "    .dataframe tbody tr th:only-of-type {\n",
       "        vertical-align: middle;\n",
       "    }\n",
       "\n",
       "    .dataframe tbody tr th {\n",
       "        vertical-align: top;\n",
       "    }\n",
       "\n",
       "    .dataframe thead th {\n",
       "        text-align: right;\n",
       "    }\n",
       "</style>\n",
       "<table border=\"1\" class=\"dataframe\">\n",
       "  <thead>\n",
       "    <tr style=\"text-align: right;\">\n",
       "      <th></th>\n",
       "      <th>code</th>\n",
       "    </tr>\n",
       "    <tr>\n",
       "      <th>adm1</th>\n",
       "      <th></th>\n",
       "    </tr>\n",
       "  </thead>\n",
       "  <tbody>\n",
       "    <tr>\n",
       "      <th>AHAFO</th>\n",
       "      <td>GH-AF</td>\n",
       "    </tr>\n",
       "    <tr>\n",
       "      <th>ASHANTI</th>\n",
       "      <td>GH-AH</td>\n",
       "    </tr>\n",
       "    <tr>\n",
       "      <th>BONO</th>\n",
       "      <td>GH-BO</td>\n",
       "    </tr>\n",
       "    <tr>\n",
       "      <th>BONO_EAST</th>\n",
       "      <td>GH-BE</td>\n",
       "    </tr>\n",
       "    <tr>\n",
       "      <th>CENTRAL</th>\n",
       "      <td>GH-CP</td>\n",
       "    </tr>\n",
       "    <tr>\n",
       "      <th>EASTERN</th>\n",
       "      <td>GH-EP</td>\n",
       "    </tr>\n",
       "    <tr>\n",
       "      <th>GREATER_ACCRA</th>\n",
       "      <td>GH-AA</td>\n",
       "    </tr>\n",
       "    <tr>\n",
       "      <th>NORTH_EAST</th>\n",
       "      <td>GH-NE</td>\n",
       "    </tr>\n",
       "    <tr>\n",
       "      <th>NORTHERN</th>\n",
       "      <td>GH-NP</td>\n",
       "    </tr>\n",
       "    <tr>\n",
       "      <th>OTI</th>\n",
       "      <td>GH-OT</td>\n",
       "    </tr>\n",
       "    <tr>\n",
       "      <th>SAVANNAH</th>\n",
       "      <td>GH-SV</td>\n",
       "    </tr>\n",
       "    <tr>\n",
       "      <th>UPPER_EAST</th>\n",
       "      <td>GH-UE</td>\n",
       "    </tr>\n",
       "    <tr>\n",
       "      <th>UPPER_WEST</th>\n",
       "      <td>GH-UW</td>\n",
       "    </tr>\n",
       "    <tr>\n",
       "      <th>VOLTA</th>\n",
       "      <td>GH-TV</td>\n",
       "    </tr>\n",
       "    <tr>\n",
       "      <th>WESTERN</th>\n",
       "      <td>GH-WP</td>\n",
       "    </tr>\n",
       "    <tr>\n",
       "      <th>WESTERN_NORTH</th>\n",
       "      <td>GH-WN</td>\n",
       "    </tr>\n",
       "  </tbody>\n",
       "</table>\n",
       "</div>"
      ],
      "text/plain": [
       "                code\n",
       "adm1                \n",
       "AHAFO          GH-AF\n",
       "ASHANTI        GH-AH\n",
       "BONO           GH-BO\n",
       "BONO_EAST      GH-BE\n",
       "CENTRAL        GH-CP\n",
       "EASTERN        GH-EP\n",
       "GREATER_ACCRA  GH-AA\n",
       "NORTH_EAST     GH-NE\n",
       "NORTHERN       GH-NP\n",
       "OTI            GH-OT\n",
       "SAVANNAH       GH-SV\n",
       "UPPER_EAST     GH-UE\n",
       "UPPER_WEST     GH-UW\n",
       "VOLTA          GH-TV\n",
       "WESTERN        GH-WP\n",
       "WESTERN_NORTH  GH-WN"
      ]
     },
     "execution_count": 99,
     "metadata": {},
     "output_type": "execute_result"
    }
   ],
   "source": [
    "gha_admin1 = pd.read_csv(data_dir + \"GHA/ADM1/admin.csv\")\n",
    "gha_admin1 = gha_admin1[[\"Subdivision name\", \"3166-2 code\"]]\n",
    "gha_admin1 = gha_admin1.rename(\n",
    "    columns={\"3166-2 code\": \"code\", \"Subdivision name\": \"adm1\"}\n",
    ")\n",
    "gha_admin1[\"adm1\"] = gha_admin1[\"adm1\"].map(lambda x: x.upper())\n",
    "gha_admin1 = demographic.reformat.adm1_name(df=gha_admin1, original_column_name=\"adm1\")\n",
    "gha_admin1"
   ]
  },
  {
   "cell_type": "markdown",
   "metadata": {},
   "source": [
    "### Adjacent ADM1 list\n",
    "![image of Ghana](../Data/Ghana_Regional_Map.png)"
   ]
  },
  {
   "cell_type": "code",
   "execution_count": 100,
   "metadata": {
    "collapsed": false,
    "jupyter": {
     "outputs_hidden": false
    },
    "pycharm": {
     "name": "#%%\n"
    }
   },
   "outputs": [
    {
     "data": {
      "text/html": [
       "<div>\n",
       "<style scoped>\n",
       "    .dataframe tbody tr th:only-of-type {\n",
       "        vertical-align: middle;\n",
       "    }\n",
       "\n",
       "    .dataframe tbody tr th {\n",
       "        vertical-align: top;\n",
       "    }\n",
       "\n",
       "    .dataframe thead th {\n",
       "        text-align: right;\n",
       "    }\n",
       "</style>\n",
       "<table border=\"1\" class=\"dataframe\">\n",
       "  <thead>\n",
       "    <tr style=\"text-align: right;\">\n",
       "      <th></th>\n",
       "      <th>from</th>\n",
       "      <th>to</th>\n",
       "    </tr>\n",
       "  </thead>\n",
       "  <tbody>\n",
       "    <tr>\n",
       "      <th>0</th>\n",
       "      <td>UPPER_WEST</td>\n",
       "      <td>UPPER_EAST</td>\n",
       "    </tr>\n",
       "    <tr>\n",
       "      <th>1</th>\n",
       "      <td>UPPER_WEST</td>\n",
       "      <td>NORTH_EAST</td>\n",
       "    </tr>\n",
       "    <tr>\n",
       "      <th>2</th>\n",
       "      <td>UPPER_WEST</td>\n",
       "      <td>SAVANNAH</td>\n",
       "    </tr>\n",
       "    <tr>\n",
       "      <th>3</th>\n",
       "      <td>UPPER_EAST</td>\n",
       "      <td>NORTH_EAST</td>\n",
       "    </tr>\n",
       "    <tr>\n",
       "      <th>4</th>\n",
       "      <td>NORTH_EAST</td>\n",
       "      <td>NORTHERN</td>\n",
       "    </tr>\n",
       "    <tr>\n",
       "      <th>5</th>\n",
       "      <td>SAVANNAH</td>\n",
       "      <td>NORTHERN</td>\n",
       "    </tr>\n",
       "    <tr>\n",
       "      <th>6</th>\n",
       "      <td>SAVANNAH</td>\n",
       "      <td>BONO</td>\n",
       "    </tr>\n",
       "    <tr>\n",
       "      <th>7</th>\n",
       "      <td>SAVANNAH</td>\n",
       "      <td>BONO_EAST</td>\n",
       "    </tr>\n",
       "    <tr>\n",
       "      <th>8</th>\n",
       "      <td>NORTHERN</td>\n",
       "      <td>OTI</td>\n",
       "    </tr>\n",
       "    <tr>\n",
       "      <th>9</th>\n",
       "      <td>BONO</td>\n",
       "      <td>BONO_EAST</td>\n",
       "    </tr>\n",
       "    <tr>\n",
       "      <th>10</th>\n",
       "      <td>BONO</td>\n",
       "      <td>WESTERN_NORTH</td>\n",
       "    </tr>\n",
       "    <tr>\n",
       "      <th>11</th>\n",
       "      <td>BONO</td>\n",
       "      <td>AHAFO</td>\n",
       "    </tr>\n",
       "    <tr>\n",
       "      <th>12</th>\n",
       "      <td>BONO_EAST</td>\n",
       "      <td>ASHANTI</td>\n",
       "    </tr>\n",
       "    <tr>\n",
       "      <th>13</th>\n",
       "      <td>BONO_EAST</td>\n",
       "      <td>OTI</td>\n",
       "    </tr>\n",
       "    <tr>\n",
       "      <th>14</th>\n",
       "      <td>OTI</td>\n",
       "      <td>VOLTA</td>\n",
       "    </tr>\n",
       "    <tr>\n",
       "      <th>15</th>\n",
       "      <td>WESTERN_NORTH</td>\n",
       "      <td>AHAFO</td>\n",
       "    </tr>\n",
       "    <tr>\n",
       "      <th>16</th>\n",
       "      <td>WESTERN_NORTH</td>\n",
       "      <td>WESTERN</td>\n",
       "    </tr>\n",
       "    <tr>\n",
       "      <th>17</th>\n",
       "      <td>WESTERN_NORTH</td>\n",
       "      <td>ASHANTI</td>\n",
       "    </tr>\n",
       "    <tr>\n",
       "      <th>18</th>\n",
       "      <td>AHAFO</td>\n",
       "      <td>ASHANTI</td>\n",
       "    </tr>\n",
       "    <tr>\n",
       "      <th>19</th>\n",
       "      <td>ASHANTI</td>\n",
       "      <td>CENTRAL</td>\n",
       "    </tr>\n",
       "    <tr>\n",
       "      <th>20</th>\n",
       "      <td>ASHANTI</td>\n",
       "      <td>EASTERN</td>\n",
       "    </tr>\n",
       "    <tr>\n",
       "      <th>21</th>\n",
       "      <td>EASTERN</td>\n",
       "      <td>VOLTA</td>\n",
       "    </tr>\n",
       "    <tr>\n",
       "      <th>22</th>\n",
       "      <td>EASTERN</td>\n",
       "      <td>CENTRAL</td>\n",
       "    </tr>\n",
       "    <tr>\n",
       "      <th>23</th>\n",
       "      <td>EASTERN</td>\n",
       "      <td>GREATER_ACCRA</td>\n",
       "    </tr>\n",
       "    <tr>\n",
       "      <th>24</th>\n",
       "      <td>VOLTA</td>\n",
       "      <td>GREATER_ACCRA</td>\n",
       "    </tr>\n",
       "    <tr>\n",
       "      <th>25</th>\n",
       "      <td>WESTERN</td>\n",
       "      <td>CENTRAL</td>\n",
       "    </tr>\n",
       "    <tr>\n",
       "      <th>26</th>\n",
       "      <td>CENTRAL</td>\n",
       "      <td>GREATER_ACCRA</td>\n",
       "    </tr>\n",
       "    <tr>\n",
       "      <th>27</th>\n",
       "      <td>UPPER_EAST</td>\n",
       "      <td>UPPER_WEST</td>\n",
       "    </tr>\n",
       "    <tr>\n",
       "      <th>28</th>\n",
       "      <td>NORTH_EAST</td>\n",
       "      <td>UPPER_WEST</td>\n",
       "    </tr>\n",
       "    <tr>\n",
       "      <th>29</th>\n",
       "      <td>SAVANNAH</td>\n",
       "      <td>UPPER_WEST</td>\n",
       "    </tr>\n",
       "    <tr>\n",
       "      <th>30</th>\n",
       "      <td>NORTH_EAST</td>\n",
       "      <td>UPPER_EAST</td>\n",
       "    </tr>\n",
       "    <tr>\n",
       "      <th>31</th>\n",
       "      <td>NORTHERN</td>\n",
       "      <td>NORTH_EAST</td>\n",
       "    </tr>\n",
       "    <tr>\n",
       "      <th>32</th>\n",
       "      <td>NORTHERN</td>\n",
       "      <td>SAVANNAH</td>\n",
       "    </tr>\n",
       "    <tr>\n",
       "      <th>33</th>\n",
       "      <td>BONO</td>\n",
       "      <td>SAVANNAH</td>\n",
       "    </tr>\n",
       "    <tr>\n",
       "      <th>34</th>\n",
       "      <td>BONO_EAST</td>\n",
       "      <td>SAVANNAH</td>\n",
       "    </tr>\n",
       "    <tr>\n",
       "      <th>35</th>\n",
       "      <td>OTI</td>\n",
       "      <td>NORTHERN</td>\n",
       "    </tr>\n",
       "    <tr>\n",
       "      <th>36</th>\n",
       "      <td>BONO_EAST</td>\n",
       "      <td>BONO</td>\n",
       "    </tr>\n",
       "    <tr>\n",
       "      <th>37</th>\n",
       "      <td>WESTERN_NORTH</td>\n",
       "      <td>BONO</td>\n",
       "    </tr>\n",
       "    <tr>\n",
       "      <th>38</th>\n",
       "      <td>AHAFO</td>\n",
       "      <td>BONO</td>\n",
       "    </tr>\n",
       "    <tr>\n",
       "      <th>39</th>\n",
       "      <td>ASHANTI</td>\n",
       "      <td>BONO_EAST</td>\n",
       "    </tr>\n",
       "    <tr>\n",
       "      <th>40</th>\n",
       "      <td>OTI</td>\n",
       "      <td>BONO_EAST</td>\n",
       "    </tr>\n",
       "    <tr>\n",
       "      <th>41</th>\n",
       "      <td>VOLTA</td>\n",
       "      <td>OTI</td>\n",
       "    </tr>\n",
       "    <tr>\n",
       "      <th>42</th>\n",
       "      <td>AHAFO</td>\n",
       "      <td>WESTERN_NORTH</td>\n",
       "    </tr>\n",
       "    <tr>\n",
       "      <th>43</th>\n",
       "      <td>WESTERN</td>\n",
       "      <td>WESTERN_NORTH</td>\n",
       "    </tr>\n",
       "    <tr>\n",
       "      <th>44</th>\n",
       "      <td>ASHANTI</td>\n",
       "      <td>WESTERN_NORTH</td>\n",
       "    </tr>\n",
       "    <tr>\n",
       "      <th>45</th>\n",
       "      <td>ASHANTI</td>\n",
       "      <td>AHAFO</td>\n",
       "    </tr>\n",
       "    <tr>\n",
       "      <th>46</th>\n",
       "      <td>CENTRAL</td>\n",
       "      <td>ASHANTI</td>\n",
       "    </tr>\n",
       "    <tr>\n",
       "      <th>47</th>\n",
       "      <td>EASTERN</td>\n",
       "      <td>ASHANTI</td>\n",
       "    </tr>\n",
       "    <tr>\n",
       "      <th>48</th>\n",
       "      <td>VOLTA</td>\n",
       "      <td>EASTERN</td>\n",
       "    </tr>\n",
       "    <tr>\n",
       "      <th>49</th>\n",
       "      <td>CENTRAL</td>\n",
       "      <td>EASTERN</td>\n",
       "    </tr>\n",
       "    <tr>\n",
       "      <th>50</th>\n",
       "      <td>GREATER_ACCRA</td>\n",
       "      <td>EASTERN</td>\n",
       "    </tr>\n",
       "    <tr>\n",
       "      <th>51</th>\n",
       "      <td>GREATER_ACCRA</td>\n",
       "      <td>VOLTA</td>\n",
       "    </tr>\n",
       "    <tr>\n",
       "      <th>52</th>\n",
       "      <td>CENTRAL</td>\n",
       "      <td>WESTERN</td>\n",
       "    </tr>\n",
       "    <tr>\n",
       "      <th>53</th>\n",
       "      <td>GREATER_ACCRA</td>\n",
       "      <td>CENTRAL</td>\n",
       "    </tr>\n",
       "  </tbody>\n",
       "</table>\n",
       "</div>"
      ],
      "text/plain": [
       "             from             to\n",
       "0      UPPER_WEST     UPPER_EAST\n",
       "1      UPPER_WEST     NORTH_EAST\n",
       "2      UPPER_WEST       SAVANNAH\n",
       "3      UPPER_EAST     NORTH_EAST\n",
       "4      NORTH_EAST       NORTHERN\n",
       "5        SAVANNAH       NORTHERN\n",
       "6        SAVANNAH           BONO\n",
       "7        SAVANNAH      BONO_EAST\n",
       "8        NORTHERN            OTI\n",
       "9            BONO      BONO_EAST\n",
       "10           BONO  WESTERN_NORTH\n",
       "11           BONO          AHAFO\n",
       "12      BONO_EAST        ASHANTI\n",
       "13      BONO_EAST            OTI\n",
       "14            OTI          VOLTA\n",
       "15  WESTERN_NORTH          AHAFO\n",
       "16  WESTERN_NORTH        WESTERN\n",
       "17  WESTERN_NORTH        ASHANTI\n",
       "18          AHAFO        ASHANTI\n",
       "19        ASHANTI        CENTRAL\n",
       "20        ASHANTI        EASTERN\n",
       "21        EASTERN          VOLTA\n",
       "22        EASTERN        CENTRAL\n",
       "23        EASTERN  GREATER_ACCRA\n",
       "24          VOLTA  GREATER_ACCRA\n",
       "25        WESTERN        CENTRAL\n",
       "26        CENTRAL  GREATER_ACCRA\n",
       "27     UPPER_EAST     UPPER_WEST\n",
       "28     NORTH_EAST     UPPER_WEST\n",
       "29       SAVANNAH     UPPER_WEST\n",
       "30     NORTH_EAST     UPPER_EAST\n",
       "31       NORTHERN     NORTH_EAST\n",
       "32       NORTHERN       SAVANNAH\n",
       "33           BONO       SAVANNAH\n",
       "34      BONO_EAST       SAVANNAH\n",
       "35            OTI       NORTHERN\n",
       "36      BONO_EAST           BONO\n",
       "37  WESTERN_NORTH           BONO\n",
       "38          AHAFO           BONO\n",
       "39        ASHANTI      BONO_EAST\n",
       "40            OTI      BONO_EAST\n",
       "41          VOLTA            OTI\n",
       "42          AHAFO  WESTERN_NORTH\n",
       "43        WESTERN  WESTERN_NORTH\n",
       "44        ASHANTI  WESTERN_NORTH\n",
       "45        ASHANTI          AHAFO\n",
       "46        CENTRAL        ASHANTI\n",
       "47        EASTERN        ASHANTI\n",
       "48          VOLTA        EASTERN\n",
       "49        CENTRAL        EASTERN\n",
       "50  GREATER_ACCRA        EASTERN\n",
       "51  GREATER_ACCRA          VOLTA\n",
       "52        CENTRAL        WESTERN\n",
       "53  GREATER_ACCRA        CENTRAL"
      ]
     },
     "execution_count": 100,
     "metadata": {},
     "output_type": "execute_result"
    }
   ],
   "source": [
    "# load adjacent\n",
    "gha_adjacent_provinces = pd.read_excel(\n",
    "    data_dir + \"gha_adm_adjacent.xlsx\", sheet_name=\"adm1_adjacent\"\n",
    ")\n",
    "gha_adjacent_provinces = demographic.reformat.adm1_name(\n",
    "    df=gha_adjacent_provinces,\n",
    "    original_column_name=\"a\",\n",
    "    new_column_name=\"from\",\n",
    "    set_index=False,\n",
    ")\n",
    "gha_adjacent_provinces = demographic.reformat.adm1_name(\n",
    "    df=gha_adjacent_provinces,\n",
    "    original_column_name=\"b\",\n",
    "    new_column_name=\"to\",\n",
    "    set_index=False,\n",
    ")\n",
    "\n",
    "gha_adjacent_provinces"
   ]
  },
  {
   "cell_type": "markdown",
   "metadata": {},
   "source": [
    "## Demographic Data\n",
    "\n",
    "### Data loading\n",
    "Data source\n",
    "- Ghana.gov *PHC*\n",
    "- us.census\n",
    "\n",
    "The data source contains data from 1960 - 2020, datapoint of 2020 was used in this script.\n",
    "\n",
    "### 216 vs 260 district system\n",
    "\n",
    "Ghana switched to 260 district system in recent years. However, the old data still use 216 format. Need to pay attention."
   ]
  },
  {
   "cell_type": "code",
   "execution_count": 101,
   "metadata": {
    "collapsed": false,
    "jupyter": {
     "outputs_hidden": false
    },
    "pycharm": {
     "name": "#%%\n"
    }
   },
   "outputs": [
    {
     "data": {
      "text/html": [
       "<div>\n",
       "<style scoped>\n",
       "    .dataframe tbody tr th:only-of-type {\n",
       "        vertical-align: middle;\n",
       "    }\n",
       "\n",
       "    .dataframe tbody tr th {\n",
       "        vertical-align: top;\n",
       "    }\n",
       "\n",
       "    .dataframe thead th {\n",
       "        text-align: right;\n",
       "    }\n",
       "</style>\n",
       "<table border=\"1\" class=\"dataframe\">\n",
       "  <thead>\n",
       "    <tr style=\"text-align: right;\">\n",
       "      <th></th>\n",
       "      <th>B0004_2020</th>\n",
       "      <th>B0509_2020</th>\n",
       "      <th>B1014_2020</th>\n",
       "      <th>B1519_2020</th>\n",
       "      <th>B2024_2020</th>\n",
       "      <th>B2529_2020</th>\n",
       "      <th>B3034_2020</th>\n",
       "      <th>B3539_2020</th>\n",
       "      <th>B4044_2020</th>\n",
       "      <th>B4549_2020</th>\n",
       "      <th>B5054_2020</th>\n",
       "      <th>B5559_2020</th>\n",
       "      <th>B6064_2020</th>\n",
       "      <th>B6569_2020</th>\n",
       "      <th>B7074_2020</th>\n",
       "      <th>B7579_2020</th>\n",
       "      <th>B80PL_2020</th>\n",
       "    </tr>\n",
       "    <tr>\n",
       "      <th>ADM1_NAME</th>\n",
       "      <th></th>\n",
       "      <th></th>\n",
       "      <th></th>\n",
       "      <th></th>\n",
       "      <th></th>\n",
       "      <th></th>\n",
       "      <th></th>\n",
       "      <th></th>\n",
       "      <th></th>\n",
       "      <th></th>\n",
       "      <th></th>\n",
       "      <th></th>\n",
       "      <th></th>\n",
       "      <th></th>\n",
       "      <th></th>\n",
       "      <th></th>\n",
       "      <th></th>\n",
       "    </tr>\n",
       "  </thead>\n",
       "  <tbody>\n",
       "    <tr>\n",
       "      <th>GREATER ACCRA</th>\n",
       "      <td>562792</td>\n",
       "      <td>471879</td>\n",
       "      <td>439998</td>\n",
       "      <td>429804</td>\n",
       "      <td>491441</td>\n",
       "      <td>478293</td>\n",
       "      <td>432206</td>\n",
       "      <td>363844</td>\n",
       "      <td>281277</td>\n",
       "      <td>228398</td>\n",
       "      <td>180238</td>\n",
       "      <td>151122</td>\n",
       "      <td>98363</td>\n",
       "      <td>77530</td>\n",
       "      <td>39338</td>\n",
       "      <td>26523</td>\n",
       "      <td>23045</td>\n",
       "    </tr>\n",
       "    <tr>\n",
       "      <th>CENTRAL</th>\n",
       "      <td>389259</td>\n",
       "      <td>346383</td>\n",
       "      <td>324255</td>\n",
       "      <td>283276</td>\n",
       "      <td>229192</td>\n",
       "      <td>192138</td>\n",
       "      <td>174495</td>\n",
       "      <td>164120</td>\n",
       "      <td>136396</td>\n",
       "      <td>121988</td>\n",
       "      <td>108564</td>\n",
       "      <td>87339</td>\n",
       "      <td>66473</td>\n",
       "      <td>54200</td>\n",
       "      <td>34714</td>\n",
       "      <td>22242</td>\n",
       "      <td>22359</td>\n",
       "    </tr>\n",
       "    <tr>\n",
       "      <th>WESTERN</th>\n",
       "      <td>358543</td>\n",
       "      <td>326412</td>\n",
       "      <td>298320</td>\n",
       "      <td>259134</td>\n",
       "      <td>233689</td>\n",
       "      <td>201521</td>\n",
       "      <td>181249</td>\n",
       "      <td>169749</td>\n",
       "      <td>138897</td>\n",
       "      <td>118760</td>\n",
       "      <td>97724</td>\n",
       "      <td>75482</td>\n",
       "      <td>54027</td>\n",
       "      <td>41383</td>\n",
       "      <td>26135</td>\n",
       "      <td>16106</td>\n",
       "      <td>14727</td>\n",
       "    </tr>\n",
       "    <tr>\n",
       "      <th>EASTERN</th>\n",
       "      <td>391788</td>\n",
       "      <td>354485</td>\n",
       "      <td>335550</td>\n",
       "      <td>283848</td>\n",
       "      <td>220079</td>\n",
       "      <td>191968</td>\n",
       "      <td>178247</td>\n",
       "      <td>173134</td>\n",
       "      <td>151531</td>\n",
       "      <td>141148</td>\n",
       "      <td>124865</td>\n",
       "      <td>102543</td>\n",
       "      <td>76459</td>\n",
       "      <td>59505</td>\n",
       "      <td>42841</td>\n",
       "      <td>28580</td>\n",
       "      <td>24632</td>\n",
       "    </tr>\n",
       "    <tr>\n",
       "      <th>ASHANTI</th>\n",
       "      <td>793104</td>\n",
       "      <td>725015</td>\n",
       "      <td>695587</td>\n",
       "      <td>621325</td>\n",
       "      <td>568815</td>\n",
       "      <td>493449</td>\n",
       "      <td>445722</td>\n",
       "      <td>397291</td>\n",
       "      <td>321775</td>\n",
       "      <td>268951</td>\n",
       "      <td>223502</td>\n",
       "      <td>177509</td>\n",
       "      <td>121996</td>\n",
       "      <td>94402</td>\n",
       "      <td>67765</td>\n",
       "      <td>42511</td>\n",
       "      <td>37667</td>\n",
       "    </tr>\n",
       "    <tr>\n",
       "      <th>VOLTA</th>\n",
       "      <td>331306</td>\n",
       "      <td>293688</td>\n",
       "      <td>265366</td>\n",
       "      <td>231652</td>\n",
       "      <td>182550</td>\n",
       "      <td>154738</td>\n",
       "      <td>146049</td>\n",
       "      <td>136622</td>\n",
       "      <td>121843</td>\n",
       "      <td>114160</td>\n",
       "      <td>100552</td>\n",
       "      <td>82378</td>\n",
       "      <td>66867</td>\n",
       "      <td>53138</td>\n",
       "      <td>39546</td>\n",
       "      <td>27766</td>\n",
       "      <td>23895</td>\n",
       "    </tr>\n",
       "    <tr>\n",
       "      <th>BRONG-AHAFO</th>\n",
       "      <td>366787</td>\n",
       "      <td>345518</td>\n",
       "      <td>313807</td>\n",
       "      <td>265250</td>\n",
       "      <td>217111</td>\n",
       "      <td>185600</td>\n",
       "      <td>169053</td>\n",
       "      <td>154302</td>\n",
       "      <td>127935</td>\n",
       "      <td>109462</td>\n",
       "      <td>93110</td>\n",
       "      <td>71105</td>\n",
       "      <td>52250</td>\n",
       "      <td>38138</td>\n",
       "      <td>30987</td>\n",
       "      <td>22039</td>\n",
       "      <td>18176</td>\n",
       "    </tr>\n",
       "    <tr>\n",
       "      <th>NORTHERN</th>\n",
       "      <td>554924</td>\n",
       "      <td>510494</td>\n",
       "      <td>367770</td>\n",
       "      <td>317915</td>\n",
       "      <td>246875</td>\n",
       "      <td>218362</td>\n",
       "      <td>203873</td>\n",
       "      <td>168327</td>\n",
       "      <td>145225</td>\n",
       "      <td>109935</td>\n",
       "      <td>97423</td>\n",
       "      <td>59594</td>\n",
       "      <td>70970</td>\n",
       "      <td>44940</td>\n",
       "      <td>37992</td>\n",
       "      <td>21649</td>\n",
       "      <td>24962</td>\n",
       "    </tr>\n",
       "    <tr>\n",
       "      <th>UPPER WEST</th>\n",
       "      <td>139272</td>\n",
       "      <td>143051</td>\n",
       "      <td>124619</td>\n",
       "      <td>111408</td>\n",
       "      <td>97597</td>\n",
       "      <td>70318</td>\n",
       "      <td>64405</td>\n",
       "      <td>56198</td>\n",
       "      <td>48191</td>\n",
       "      <td>40393</td>\n",
       "      <td>35629</td>\n",
       "      <td>27644</td>\n",
       "      <td>28005</td>\n",
       "      <td>20217</td>\n",
       "      <td>14884</td>\n",
       "      <td>11401</td>\n",
       "      <td>9723</td>\n",
       "    </tr>\n",
       "    <tr>\n",
       "      <th>UPPER EAST</th>\n",
       "      <td>141509</td>\n",
       "      <td>147082</td>\n",
       "      <td>127312</td>\n",
       "      <td>105704</td>\n",
       "      <td>73417</td>\n",
       "      <td>60105</td>\n",
       "      <td>57425</td>\n",
       "      <td>54065</td>\n",
       "      <td>47786</td>\n",
       "      <td>42952</td>\n",
       "      <td>38466</td>\n",
       "      <td>29011</td>\n",
       "      <td>29137</td>\n",
       "      <td>23022</td>\n",
       "      <td>19161</td>\n",
       "      <td>13891</td>\n",
       "      <td>10341</td>\n",
       "    </tr>\n",
       "  </tbody>\n",
       "</table>\n",
       "</div>"
      ],
      "text/plain": [
       "               B0004_2020  B0509_2020  B1014_2020  B1519_2020  B2024_2020  \\\n",
       "ADM1_NAME                                                                   \n",
       "GREATER ACCRA      562792      471879      439998      429804      491441   \n",
       "CENTRAL            389259      346383      324255      283276      229192   \n",
       "WESTERN            358543      326412      298320      259134      233689   \n",
       "EASTERN            391788      354485      335550      283848      220079   \n",
       "ASHANTI            793104      725015      695587      621325      568815   \n",
       "VOLTA              331306      293688      265366      231652      182550   \n",
       "BRONG-AHAFO        366787      345518      313807      265250      217111   \n",
       "NORTHERN           554924      510494      367770      317915      246875   \n",
       "UPPER WEST         139272      143051      124619      111408       97597   \n",
       "UPPER EAST         141509      147082      127312      105704       73417   \n",
       "\n",
       "               B2529_2020  B3034_2020  B3539_2020  B4044_2020  B4549_2020  \\\n",
       "ADM1_NAME                                                                   \n",
       "GREATER ACCRA      478293      432206      363844      281277      228398   \n",
       "CENTRAL            192138      174495      164120      136396      121988   \n",
       "WESTERN            201521      181249      169749      138897      118760   \n",
       "EASTERN            191968      178247      173134      151531      141148   \n",
       "ASHANTI            493449      445722      397291      321775      268951   \n",
       "VOLTA              154738      146049      136622      121843      114160   \n",
       "BRONG-AHAFO        185600      169053      154302      127935      109462   \n",
       "NORTHERN           218362      203873      168327      145225      109935   \n",
       "UPPER WEST          70318       64405       56198       48191       40393   \n",
       "UPPER EAST          60105       57425       54065       47786       42952   \n",
       "\n",
       "               B5054_2020  B5559_2020  B6064_2020  B6569_2020  B7074_2020  \\\n",
       "ADM1_NAME                                                                   \n",
       "GREATER ACCRA      180238      151122       98363       77530       39338   \n",
       "CENTRAL            108564       87339       66473       54200       34714   \n",
       "WESTERN             97724       75482       54027       41383       26135   \n",
       "EASTERN            124865      102543       76459       59505       42841   \n",
       "ASHANTI            223502      177509      121996       94402       67765   \n",
       "VOLTA              100552       82378       66867       53138       39546   \n",
       "BRONG-AHAFO         93110       71105       52250       38138       30987   \n",
       "NORTHERN            97423       59594       70970       44940       37992   \n",
       "UPPER WEST          35629       27644       28005       20217       14884   \n",
       "UPPER EAST          38466       29011       29137       23022       19161   \n",
       "\n",
       "               B7579_2020  B80PL_2020  \n",
       "ADM1_NAME                              \n",
       "GREATER ACCRA       26523       23045  \n",
       "CENTRAL             22242       22359  \n",
       "WESTERN             16106       14727  \n",
       "EASTERN             28580       24632  \n",
       "ASHANTI             42511       37667  \n",
       "VOLTA               27766       23895  \n",
       "BRONG-AHAFO         22039       18176  \n",
       "NORTHERN            21649       24962  \n",
       "UPPER WEST          11401        9723  \n",
       "UPPER EAST          13891       10341  "
      ]
     },
     "execution_count": 101,
     "metadata": {},
     "output_type": "execute_result"
    }
   ],
   "source": [
    "# read data and get adm1 level demographic data\n",
    "gha_demographic_raw_data = pd.read_excel(\n",
    "    data_dir + \"GHA/demographic/ghana.xlsx\", \"Sheet2\"\n",
    ")\n",
    "gha_demographic_adm1_raw_data = gha_demographic_raw_data.loc[\n",
    "    gha_demographic_raw_data[\"ADM_LEVEL\"] == 1\n",
    "]\n",
    "gha_demographic_adm1_raw_data = gha_demographic_adm1_raw_data.set_index(\n",
    "    keys=\"ADM1_NAME\"\n",
    ")\n",
    "# select the most recent 2020 data\n",
    "gha_demographic_adm1_raw_data_2020 = gha_demographic_adm1_raw_data.loc[\n",
    "    :, \"B0004_2020\":\"B80PL_2020\"\n",
    "]\n",
    "\n",
    "gha_demographic_adm1_raw_data_2020"
   ]
  },
  {
   "cell_type": "markdown",
   "metadata": {},
   "source": [
    "### Median Age for adm1 district\n",
    "\n",
    "1. Calculate total population\n",
    "2. Calculate median population number\n",
    "3. `.expanding` columns with `.cumsum` to get the according column\n",
    "4. subtract group label using `.bfill`, `.iloc` & `.idmax`\n",
    "5. get median age with `df.apply` with `lambda` function"
   ]
  },
  {
   "cell_type": "code",
   "execution_count": 102,
   "metadata": {
    "collapsed": false,
    "jupyter": {
     "outputs_hidden": false
    },
    "pycharm": {
     "name": "#%%\n"
    }
   },
   "outputs": [
    {
     "name": "stderr",
     "output_type": "stream",
     "text": [
      "/var/folders/jw/1fjpkkvx6wz8tmmfqfklf4b80000gn/T/ipykernel_64822/268471866.py:27: FutureWarning: In a future version of pandas all arguments of DataFrame.bfill will be keyword-only\n",
      "  gha_demographic_adm1_2020_median_ratio.bfill(1).iloc[:, 0] * 4\n"
     ]
    },
    {
     "data": {
      "text/plain": [
       "<AxesSubplot:xlabel='adm1'>"
      ]
     },
     "execution_count": 102,
     "metadata": {},
     "output_type": "execute_result"
    },
    {
     "data": {
      "image/png": "[encoded data removed]",
      "text/plain": [
       "<Figure size 432x288 with 1 Axes>"
      ]
     },
     "metadata": {},
     "output_type": "display_data"
    }
   ],
   "source": [
    "gha_demographic_adm1_2020_population_total = gha_demographic_adm1_raw_data_2020.sum(\n",
    "    axis=1\n",
    ")\n",
    "gha_demographic_adm1_2020_population_median = (\n",
    "    gha_demographic_adm1_2020_population_total / 2\n",
    ")\n",
    "# expand columns, each column = to cumsum the previous columns\n",
    "gha_demographic_adm1_2020_population_expanding = (\n",
    "    gha_demographic_adm1_raw_data_2020.expanding(axis=1).sum()\n",
    ")\n",
    "# expanded columns - median, the first non negative column is where median\n",
    "gha_demographic_adm1_2020_raw_subtract_median = (\n",
    "    gha_demographic_adm1_2020_population_expanding.subtract(\n",
    "        gha_demographic_adm1_2020_population_median, axis=0\n",
    "    )\n",
    ")\n",
    "# get ratio in groups\n",
    "# check the answer here\n",
    "# https://stackoverflow.com/questions/38467749/find-first-non-zero-value-in-each-row-of-pandas-dataframe/38468180\n",
    "gha_demographic_adm1_2020_median_ratio = (\n",
    "    gha_demographic_adm1_2020_raw_subtract_median.where(\n",
    "        gha_demographic_adm1_2020_raw_subtract_median > 0\n",
    "    )\n",
    "    / gha_demographic_adm1_raw_data_2020\n",
    ")\n",
    "gha_demographic_adm1_2020_median_ratio = (\n",
    "    gha_demographic_adm1_2020_median_ratio.bfill(1).iloc[:, 0] * 4\n",
    ")\n",
    "# get group labels\n",
    "gha_demographic_adm1_2020_median_group_value = (\n",
    "    gha_demographic_adm1_raw_data_2020 - gha_demographic_adm1_2020_population_expanding\n",
    ")\n",
    "gha_demographic_adm1_median_group_labels = (\n",
    "    gha_demographic_adm1_2020_raw_subtract_median > 0\n",
    ").idxmax(axis=1)\n",
    "# get first two string as the start of age group\n",
    "gha_demographic_adm1_median_group_labels = (\n",
    "    gha_demographic_adm1_median_group_labels.apply(lambda x: float(x[1:3]))\n",
    ")\n",
    "# add age group with ratio\n",
    "gha_demographic_adm1_2020_median = (\n",
    "    gha_demographic_adm1_median_group_labels + gha_demographic_adm1_2020_median_ratio\n",
    ")\n",
    "\n",
    "gha_demographic_adm1_2020_median\n",
    "\n",
    "gha_demographic_adm1_2020_mean\n",
    "\n",
    "# plotting\n",
    "gha_demographic_adm1_2020_mean.plot.bar()"
   ]
  },
  {
   "cell_type": "markdown",
   "metadata": {},
   "source": [
    "### Adm2 level population\n",
    "Data source: GHA/incid from WHO/GMP"
   ]
  },
  {
   "cell_type": "code",
   "execution_count": 103,
   "metadata": {
    "collapsed": false,
    "jupyter": {
     "outputs_hidden": false
    },
    "pycharm": {
     "name": "#%%\n"
    }
   },
   "outputs": [
    {
     "data": {
      "text/html": [
       "<div>\n",
       "<style scoped>\n",
       "    .dataframe tbody tr th:only-of-type {\n",
       "        vertical-align: middle;\n",
       "    }\n",
       "\n",
       "    .dataframe tbody tr th {\n",
       "        vertical-align: top;\n",
       "    }\n",
       "\n",
       "    .dataframe thead th {\n",
       "        text-align: right;\n",
       "    }\n",
       "</style>\n",
       "<table border=\"1\" class=\"dataframe\">\n",
       "  <thead>\n",
       "    <tr style=\"text-align: right;\">\n",
       "      <th></th>\n",
       "      <th>adm1</th>\n",
       "      <th>adm2</th>\n",
       "      <th>population</th>\n",
       "    </tr>\n",
       "  </thead>\n",
       "  <tbody>\n",
       "    <tr>\n",
       "      <th>31</th>\n",
       "      <td>GREATER_ACCRA</td>\n",
       "      <td>ADA EAST</td>\n",
       "      <td>84224.0</td>\n",
       "    </tr>\n",
       "    <tr>\n",
       "      <th>890</th>\n",
       "      <td>EASTERN</td>\n",
       "      <td>SUHUM MUNICIPAL</td>\n",
       "      <td>108053.0</td>\n",
       "    </tr>\n",
       "    <tr>\n",
       "      <th>340</th>\n",
       "      <td>UPPER_EAST</td>\n",
       "      <td>BOLGA  EAST</td>\n",
       "      <td>29300.0</td>\n",
       "    </tr>\n",
       "    <tr>\n",
       "      <th>166</th>\n",
       "      <td>ASHANTI</td>\n",
       "      <td>AMANSIE WEST</td>\n",
       "      <td>75739.0</td>\n",
       "    </tr>\n",
       "    <tr>\n",
       "      <th>616</th>\n",
       "      <td>EASTERN</td>\n",
       "      <td>KWAHU AFRAM PLAINS SOUTH</td>\n",
       "      <td>139836.0</td>\n",
       "    </tr>\n",
       "    <tr>\n",
       "      <th>828</th>\n",
       "      <td>WESTERN_NORTH</td>\n",
       "      <td>SEFWI-WIAWSO</td>\n",
       "      <td>178387.0</td>\n",
       "    </tr>\n",
       "    <tr>\n",
       "      <th>484</th>\n",
       "      <td>VOLTA</td>\n",
       "      <td>HO WEST</td>\n",
       "      <td>114635.0</td>\n",
       "    </tr>\n",
       "    <tr>\n",
       "      <th>832</th>\n",
       "      <td>ASHANTI</td>\n",
       "      <td>SEKYERE CENTRAL</td>\n",
       "      <td>85241.0</td>\n",
       "    </tr>\n",
       "    <tr>\n",
       "      <th>238</th>\n",
       "      <td>ASHANTI</td>\n",
       "      <td>ATWIMA NWABIAGYA SOUTH</td>\n",
       "      <td>91610.0</td>\n",
       "    </tr>\n",
       "    <tr>\n",
       "      <th>722</th>\n",
       "      <td>BONO_EAST</td>\n",
       "      <td>NKORANZA SOUTH</td>\n",
       "      <td>111674.0</td>\n",
       "    </tr>\n",
       "    <tr>\n",
       "      <th>271</th>\n",
       "      <td>GREATER_ACCRA</td>\n",
       "      <td>AYAWASO NORTH MUNICIPAL</td>\n",
       "      <td>267422.0</td>\n",
       "    </tr>\n",
       "    <tr>\n",
       "      <th>850</th>\n",
       "      <td>ASHANTI</td>\n",
       "      <td>SEKYERE KUMAWU</td>\n",
       "      <td>79560.0</td>\n",
       "    </tr>\n",
       "    <tr>\n",
       "      <th>861</th>\n",
       "      <td>BONO_EAST</td>\n",
       "      <td>SENE WEST</td>\n",
       "      <td>69803.0</td>\n",
       "    </tr>\n",
       "    <tr>\n",
       "      <th>55</th>\n",
       "      <td>VOLTA</td>\n",
       "      <td>AFADZATO SOUTH</td>\n",
       "      <td>114643.0</td>\n",
       "    </tr>\n",
       "    <tr>\n",
       "      <th>1008</th>\n",
       "      <td>BONO</td>\n",
       "      <td>WENCHI MUNICIPAL</td>\n",
       "      <td>108892.0</td>\n",
       "    </tr>\n",
       "    <tr>\n",
       "      <th>445</th>\n",
       "      <td>CENTRAL</td>\n",
       "      <td>EKUMFI</td>\n",
       "      <td>59864.0</td>\n",
       "    </tr>\n",
       "    <tr>\n",
       "      <th>304</th>\n",
       "      <td>OTI</td>\n",
       "      <td>BIAKOYE</td>\n",
       "      <td>78961.0</td>\n",
       "    </tr>\n",
       "    <tr>\n",
       "      <th>146</th>\n",
       "      <td>ASHANTI</td>\n",
       "      <td>AKROFUOM</td>\n",
       "      <td>42145.0</td>\n",
       "    </tr>\n",
       "    <tr>\n",
       "      <th>337</th>\n",
       "      <td>SAVANNAH</td>\n",
       "      <td>BOLE</td>\n",
       "      <td>74786.0</td>\n",
       "    </tr>\n",
       "    <tr>\n",
       "      <th>1025</th>\n",
       "      <td>NORTH_EAST</td>\n",
       "      <td>YUNYOO-NASUAN</td>\n",
       "      <td>48763.0</td>\n",
       "    </tr>\n",
       "    <tr>\n",
       "      <th>1038</th>\n",
       "      <td>NORTHERN</td>\n",
       "      <td>ZABZUGU</td>\n",
       "      <td>77777.0</td>\n",
       "    </tr>\n",
       "    <tr>\n",
       "      <th>68</th>\n",
       "      <td>VOLTA</td>\n",
       "      <td>AGOTIME ZIOPE</td>\n",
       "      <td>33176.0</td>\n",
       "    </tr>\n",
       "    <tr>\n",
       "      <th>933</th>\n",
       "      <td>AHAFO</td>\n",
       "      <td>TANO SOUTH MUNICIPAL</td>\n",
       "      <td>94928.0</td>\n",
       "    </tr>\n",
       "    <tr>\n",
       "      <th>231</th>\n",
       "      <td>ASHANTI</td>\n",
       "      <td>ATWIMA KWANWOMA</td>\n",
       "      <td>107963.0</td>\n",
       "    </tr>\n",
       "    <tr>\n",
       "      <th>619</th>\n",
       "      <td>EASTERN</td>\n",
       "      <td>KWAHU EAST</td>\n",
       "      <td>92165.0</td>\n",
       "    </tr>\n",
       "  </tbody>\n",
       "</table>\n",
       "</div>"
      ],
      "text/plain": [
       "               adm1                      adm2  population\n",
       "31    GREATER_ACCRA                  ADA EAST     84224.0\n",
       "890         EASTERN           SUHUM MUNICIPAL    108053.0\n",
       "340      UPPER_EAST               BOLGA  EAST     29300.0\n",
       "166         ASHANTI              AMANSIE WEST     75739.0\n",
       "616         EASTERN  KWAHU AFRAM PLAINS SOUTH    139836.0\n",
       "828   WESTERN_NORTH              SEFWI-WIAWSO    178387.0\n",
       "484           VOLTA                   HO WEST    114635.0\n",
       "832         ASHANTI           SEKYERE CENTRAL     85241.0\n",
       "238         ASHANTI    ATWIMA NWABIAGYA SOUTH     91610.0\n",
       "722       BONO_EAST            NKORANZA SOUTH    111674.0\n",
       "271   GREATER_ACCRA   AYAWASO NORTH MUNICIPAL    267422.0\n",
       "850         ASHANTI            SEKYERE KUMAWU     79560.0\n",
       "861       BONO_EAST                 SENE WEST     69803.0\n",
       "55            VOLTA            AFADZATO SOUTH    114643.0\n",
       "1008           BONO          WENCHI MUNICIPAL    108892.0\n",
       "445         CENTRAL                    EKUMFI     59864.0\n",
       "304             OTI                   BIAKOYE     78961.0\n",
       "146         ASHANTI                  AKROFUOM     42145.0\n",
       "337        SAVANNAH                      BOLE     74786.0\n",
       "1025     NORTH_EAST             YUNYOO-NASUAN     48763.0\n",
       "1038       NORTHERN                   ZABZUGU     77777.0\n",
       "68            VOLTA             AGOTIME ZIOPE     33176.0\n",
       "933           AHAFO      TANO SOUTH MUNICIPAL     94928.0\n",
       "231         ASHANTI           ATWIMA KWANWOMA    107963.0\n",
       "619         EASTERN                KWAHU EAST     92165.0"
      ]
     },
     "execution_count": 103,
     "metadata": {},
     "output_type": "execute_result"
    }
   ],
   "source": [
    "incid = pd.read_csv(data_dir + \"GHA/Routine_data/District-level/incid.csv\")\n",
    "incid = incid[incid[\"year\"] == 2018]\n",
    "incid = demographic.reformat.adm1_name(\n",
    "    df=incid, original_column_name=\"adm1\", set_index=False\n",
    ")\n",
    "incid.sample(5)\n",
    "gha_adm2_population = incid[[\"adm1\", \"adm2\", \"pop\"]]\n",
    "gha_adm2_population = gha_adm2_population.rename(columns={\"pop\": \"population\"})\n",
    "gha_adm2_population.sample(25)"
   ]
  },
  {
   "cell_type": "markdown",
   "metadata": {},
   "source": [
    "### Exponential Population Distribution - ETA\n",
    "\n",
    "In the malaria models, exponential distribution was used to simulation the age structure.\n",
    "\n",
    "Estimation of the **ETA** parameter: death rates for exponential population distribution,\n",
    "\n",
    "$$ ETA = \\frac{1}{MeanAge} $$\n",
    "\n",
    "Default ETA = 0.0001305"
   ]
  },
  {
   "cell_type": "code",
   "execution_count": 104,
   "metadata": {
    "collapsed": false,
    "jupyter": {
     "outputs_hidden": false
    },
    "pycharm": {
     "name": "#%%\n"
    }
   },
   "outputs": [
    {
     "data": {
      "text/plain": [
       "adm1\n",
       "WESTERN          0.000110\n",
       "CENTRAL          0.000107\n",
       "GREATER_ACCRA    0.000102\n",
       "VOLTA            0.000100\n",
       "EASTERN          0.000102\n",
       "ASHANTI          0.000109\n",
       "WESTERN_NORTH    0.000112\n",
       "AHAFO            0.000110\n",
       "BONO             0.000107\n",
       "BONO_EAST        0.000116\n",
       "OTI              0.000115\n",
       "NORTHERN         0.000152\n",
       "SAVANNAH         0.000126\n",
       "NORTH_EAST       0.000129\n",
       "UPPER_EAST       0.000109\n",
       "UPPER_WEST       0.000112\n",
       "Name: eta, dtype: float64"
      ]
     },
     "execution_count": 104,
     "metadata": {},
     "output_type": "execute_result"
    }
   ],
   "source": [
    "gha[\"eta\"] = 1 / (gha_demographic_adm1_2020_mean * 365)\n",
    "gha[\"eta\"]"
   ]
  },
  {
   "cell_type": "markdown",
   "metadata": {},
   "source": [
    "### Max age\n",
    "@param max_age Maximum age in days. Default = 100*365"
   ]
  },
  {
   "cell_type": "code",
   "execution_count": 105,
   "metadata": {
    "collapsed": false,
    "jupyter": {
     "outputs_hidden": false
    },
    "pycharm": {
     "name": "#%%\n"
    }
   },
   "outputs": [],
   "source": [
    "gha[\"max_age\"] = 100 * 365"
   ]
  },
  {
   "cell_type": "code",
   "execution_count": 106,
   "metadata": {
    "collapsed": false,
    "jupyter": {
     "outputs_hidden": false
    },
    "pycharm": {
     "name": "#%%\n"
    }
   },
   "outputs": [],
   "source": [
    "# pd.merge(\n",
    "#    gha,\n",
    "#\n",
    "# )\n",
    "# xml_demography = etree.Element(\"demography\")\n",
    "# xml_demography.set(\"maximumAgeYrs\", 90)\n",
    "# xml_demography.set(\"name\", )\n",
    "# xml_demography.append(etree.Element())"
   ]
  },
  {
   "cell_type": "markdown",
   "metadata": {},
   "source": [
    "## State transition related parameters\n",
    "\n",
    "@param rA Rate of leaving asymptomatic infection. Default = 0.00512821\n",
    "\n",
    "@param rT Rate of leaving treatment. Default = 0.2\n",
    "\n",
    "@param rD Rate of leaving clinical disease. Default = 0.2\n",
    "\n",
    "@param rU Rate of recovering from subpatent infection. Default = 0.00906627\n",
    "\n",
    "@param rP Rate of leaving prophylaxis. Default = 0.06666667\n",
    "\n",
    "@param dE Latent period of human infection. Default = 12\n",
    "\n",
    "@param delayGam Lag from parasites to infectious gametocytes. Default = 12.5\n",
    "\n",
    "@param cD Untreated disease contribution to infectiousness. Default = 0.0676909\n",
    "\n",
    "@param cT Treated disease contribution to infectiousness. Default =   0.322 * cD\n",
    "\n",
    "@param cU Subpatent disease contribution to infectiousness. Default = 0.006203\n",
    "\n",
    "@param gamma1 Parameter for infectiousness of state A. Default = 1.82425"
   ]
  },
  {
   "cell_type": "code",
   "execution_count": 107,
   "metadata": {
    "collapsed": false,
    "jupyter": {
     "outputs_hidden": false
    },
    "pycharm": {
     "name": "#%%\n"
    }
   },
   "outputs": [],
   "source": [
    "gha[\"rA\"] = 0.00512821\n",
    "gha[\"rT\"] = 0.2\n",
    "gha[\"rD\"] = 0.2\n",
    "gha[\"rU\"] = 0.00906627\n",
    "gha[\"rP\"] = 0.06666667\n",
    "# TODO check if this data is available from the data folder\n",
    "gha[\"dE\"] = 12\n",
    "gha[\"delayGam\"] = 12.5\n",
    "gha[\"cD\"] = 0.0676909\n",
    "gha[\"cT\"] = 0.322 * gha[\"cD\"]\n",
    "gha[\"cU\"] = 0.006203\n",
    "gha[\"gamma1\"] = 1.82425"
   ]
  },
  {
   "cell_type": "markdown",
   "metadata": {},
   "source": [
    "## Immunity parameters\n",
    "@param d1 Minimum probability due to maximum immunity. Default = 0.160527\n",
    "\n",
    "@param dID Inverse of decay rate. Default = 3650\n",
    "\n",
    "@param ID0 Scale parameter. Default = 1.577533\n",
    "\n",
    "@param kD Shape parameter. Default = 0.476614\n",
    "\n",
    "@param uD Duration in which immunity is not boosted. Default = 9.44512\n",
    "\n",
    "@param aD Scale parameter relating age to immunity. Default = 8001.99\n",
    "\n",
    "@param fD0 Time-scale at which immunity changes with age. Default = 0.007055\n",
    "\n",
    "@param gammaD Shape parameter relating age to immunity. Default = 4.8183\n",
    "\n",
    "@param alphaA PCR detection probability parameters state A. Default = 0.757\n",
    "\n",
    "@param alphaU PCR detection probability parameters state U. Default = 0.186\n",
    "\n",
    "@param b0 Maximum probability due to no immunity. Default = 0.590076\n",
    "\n",
    "@param b1 Maximum relative reduction due to immunity. Default = 0.5\n",
    "\n",
    "@param dB Inverse of decay rate. Default = 3650\n",
    "\n",
    "@param IB0 Scale parameter. Default = 43.8787\n",
    "\n",
    "@param kB Shape parameter. Default = 2.15506\n",
    "\n",
    "@param uB Duration in which immunity is not boosted. Default = 7.19919\n",
    "\n",
    "@param phi0 Maximum probability due to no immunity. Default = 0.791666\n",
    "\n",
    "@param phi1 Maximum relative reduction due to immunity. Default = 0.000737\n",
    "\n",
    "@param dCA Inverse of decay rate. Default = 10950\n",
    "\n",
    "@param IC0 Scale parameter. Default = 18.02366\n",
    "\n",
    "@param kC Shape parameter. Default = 2.36949\n",
    "\n",
    "@param uCA Duration in which immunity is not boosted. Default = 6.06349\n",
    "\n",
    "@param PM New-born immunity relative to mother’s. Default = 0.774368\n",
    "\n",
    "@param dCM Inverse of decay rate of maternal immunity. Default = 67.6952"
   ]
  },
  {
   "cell_type": "code",
   "execution_count": 108,
   "metadata": {
    "collapsed": false,
    "jupyter": {
     "outputs_hidden": false
    },
    "pycharm": {
     "name": "#%%\n"
    }
   },
   "outputs": [],
   "source": [
    "gha[\"d1\"] = 0.160527\n",
    "gha[\"dID\"] = 3650\n",
    "gha[\"ID0\"] = 1.577533\n",
    "gha[\"kD\"] = 0.476614\n",
    "gha[\"uD\"] = 9.44512\n",
    "gha[\"aD\"] = 8001.99\n",
    "gha[\"fD0\"] = 0.007055\n",
    "gha[\"gammaD\"] = 4.8183\n",
    "gha[\"alphaA\"] = 0.757\n",
    "gha[\"alphaU\"] = 0.186\n",
    "gha[\"b0\"] = 0.590076\n",
    "# Maximum relative reduction due to immunity\n",
    "gha[\"b1\"] = 0.5\n",
    "# Immunity Inverse of decay rate\n",
    "gha[\"dB\"] = 3650\n",
    "gha[\"IB0\"] = 43.8787\n",
    "gha[\"kB\"] = 2.15506\n",
    "gha[\"uB\"] = 7.19919\n",
    "gha[\"phi0\"] = 0.791666\n",
    "gha[\"phi1\"] = 0.000737\n",
    "gha[\"dCA\"] = 10950\n",
    "gha[\"IC0\"] = 18.02366\n",
    "gha[\"kC\"] = 2.36949\n",
    "gha[\"uCA\"] = 6.06349\n",
    "gha[\"PM\"] = 0.774368\n",
    "gha[\"dCM\"] = 67.695"
   ]
  },
  {
   "cell_type": "markdown",
   "metadata": {},
   "source": [
    "## Vector\n",
    "### Extrinsic incubation period\n",
    "@param delayMos Extrinsic incubation period. Default = 10"
   ]
  },
  {
   "cell_type": "code",
   "execution_count": 109,
   "metadata": {
    "collapsed": false,
    "jupyter": {
     "outputs_hidden": false
    },
    "pycharm": {
     "name": "#%%\n"
    }
   },
   "outputs": [],
   "source": [
    "# TODO check this parameter, extrinsic incubation period\n",
    "gha[\"delayMos\"] = 10"
   ]
  },
  {
   "cell_type": "markdown",
   "metadata": {},
   "source": [
    "### Biting parameters\n",
    "#### Host seeking\n",
    "@param tau1 Duration of host seeking, assumed to be constant between species. Default = 0.69\n",
    "\n",
    "#### Duration of resting after feed\n",
    "@param tau2 Duration of mosquito resting after feed. Default = 2.31\n",
    "\n",
    "#### Daily mortality rate\n",
    "@param mu0 Daily mortality of adult mosquitos. Default = 0.132\n",
    "\n",
    "> TODO use data from Ellie's paper and WHO/GMP data to estimation provincial level *anthrophagy* and *endophily*\n",
    "\n",
    "#### Anthrophagy\n",
    "@param Q0 Anthrophagy probability. Default = 0.92\n",
    "\n",
    "#### Endophily\n",
    "@param chi Endophily probability. Default = 0.86\n",
    "\n",
    "#### Bites percentage both indoors and in bed\n",
    "@param bites_Bed Percentage of bites indoors and in bed. Default = 0.89\n",
    "\n",
    "#### Bites percentage indoors\n",
    "@param bites_Indoors Percentage of bites indoors . Default = 0.97"
   ]
  },
  {
   "cell_type": "code",
   "execution_count": 110,
   "metadata": {
    "collapsed": false,
    "jupyter": {
     "outputs_hidden": false
    },
    "pycharm": {
     "name": "#%%\n"
    }
   },
   "outputs": [],
   "source": [
    "# duration of host seeking, assumed to be constant between species\n",
    "gha[\"tau1\"] = 0.69\n",
    "# duration of mosquito resting after feed\n",
    "gha[\"tau2\"] = 2.31\n",
    "# daily mortality of adult mosquitos\n",
    "# TODO\n",
    "gha[\"mu0\"] = 0.13\n",
    "# Anthrophagy probability\n",
    "# TODO\n",
    "gha[\"Q0\"] = 0.92\n",
    "# TODO\n",
    "# Endophily probability\n",
    "gha[\"mu0\"] = 0.86\n",
    "# TODO\n",
    "# Percentage of bites indoors and in bed\n",
    "gha[\"bites_Bed\"] = 0.89\n",
    "# Percentage of bites indoors\n",
    "gha[\"bites_Indoors\"] = 0.97"
   ]
  },
  {
   "cell_type": "markdown",
   "metadata": {},
   "source": [
    "#### Biting rates\n",
    "@param rho Age-dependent biting parameter. Default = 0.85\n",
    "\n",
    "@param a0 Age-dependent biting parameter. Default = 2920\n",
    "\n",
    "@param sigma2 Variance of the log heterogeneity in biting rates. Default = 1.67"
   ]
  },
  {
   "cell_type": "code",
   "execution_count": 111,
   "metadata": {
    "collapsed": false,
    "jupyter": {
     "outputs_hidden": false
    },
    "pycharm": {
     "name": "#%%\n"
    }
   },
   "outputs": [],
   "source": [
    "gha[\"rho\"] = 0.85\n",
    "gha[\"a0\"] = 2920\n",
    "gha[\"sigma2\"] = 1.67"
   ]
  },
  {
   "cell_type": "markdown",
   "metadata": {},
   "source": [
    "### Larvae and Pupae\n",
    "@param muEL Per capita daily mortality rate of early stage larvae (low density). Default = 0.0338\n",
    "\n",
    "@param muLL Per capita daily mortality rate of late stage larvae (low density). Default = 0.0348\n",
    "\n",
    "@param muPL Per capita daily mortality rate of pupae. Default = 0.249\n",
    "\n",
    "@param dEL Development time of early stage larvae. Default = 6.64\n",
    "\n",
    "@param dLL Development time of late stage larvae. Default = 3.72\n",
    "\n",
    "@param dPL Development time of pupae. Default = 0.643\n",
    "\n",
    "@param gammaL Relative effect of density dependence on late instars relative to early instars. Default = 13.25"
   ]
  },
  {
   "cell_type": "code",
   "execution_count": 112,
   "metadata": {
    "collapsed": false,
    "jupyter": {
     "outputs_hidden": false
    },
    "pycharm": {
     "name": "#%%\n"
    }
   },
   "outputs": [],
   "source": [
    "# Per capita daily mortality rate of early stage larvae(low density)\n",
    "gha[\"muEL\"] = 0.0338\n",
    "# Per capita daily mortality rate of late stage larvae(low density)\n",
    "gha[\"muLL\"] = 0.0348\n",
    "# Per capita daily mortality rate of pupae\n",
    "gha[\"muPL\"] = 0.249\n",
    "# Development time of early stage larvae\n",
    "gha[\"dEL\"] = 6.64\n",
    "# Development time of late stage larvae\n",
    "gha[\"dLL\"] = 3.72\n",
    "# Development time of pupae\n",
    "gha[\"dPL\"] = 0.643\n",
    "# Relative effect of density dependence on late instars relative to early instars\n",
    "gha[\"gammaL\"] = 13.25"
   ]
  },
  {
   "cell_type": "markdown",
   "metadata": {},
   "source": [
    "## Seasonal parameters\n",
    "@param km Seasonal carrying capacity. Default = 11\n",
    "\n",
    "@param cm Seasonal birth rate. Default = 0.05\n",
    "\n",
    "@param betaL Number of eggs laid per day per mosquito. Default = 21.2\n",
    "\n",
    "### Imperial Model Implementation\n",
    "\n",
    "Fourier's transformation, all the seasonal parameters have been precalculated and provided in their github [repository](https://github.com/mrc-ide/deterministic-malaria-model/blob/master/data-raw/admin_units_seasonal.csv)\n",
    "\n",
    "By providing the country name and adm1 level district name, the programme will search for the seasonal parameters.\n",
    "\n",
    "But one problem for Ghana is that they use **216 district**.\n",
    "\n",
    "The problem was solved by using 216 to 260 district mapping."
   ]
  },
  {
   "cell_type": "code",
   "execution_count": 113,
   "metadata": {
    "collapsed": false,
    "jupyter": {
     "outputs_hidden": false
    },
    "pycharm": {
     "name": "#%%\n"
    }
   },
   "outputs": [],
   "source": [
    "# Seasonal carrying capacity\n",
    "gha[\"km\"] = 11\n",
    "# Seasonal birth rate\n",
    "gha[\"cm\"] = 0.05\n",
    "# N of eggs laid per day per mosquito\n",
    "gha[\"betaL\"] = 21.2"
   ]
  },
  {
   "cell_type": "markdown",
   "metadata": {},
   "source": [
    "## Interventions\n",
    "### Usage\n",
    "@param num_int Number of intervention parameters.  Default = 4\n",
    "\n",
    "@param itn_cov The proportion of people that use an ITN. Default = 0\n",
    "\n",
    "@param irs_cov The proportion of people living in houses that have been sprayed. Default = 0\n",
    "\n",
    "@param ITN_IRS_on Time of ITN and IRS to be activated. Default = -1, i.e. never.\n",
    "\n",
    "@param DY Duration of year (days). Default = 365\n",
    "\n",
    "Data source - GHA_new_district_summaries - WHO/GMP\n",
    "\n",
    "aggregation over\n",
    "\n",
    "$$ITN_{adm1} =\\frac{\\sum{(P_{adm2}*ITN_{adm2})}}{P_{adm1}}$$\n",
    "\n",
    "$$IRS_{adm1} =\\frac{\\sum{(P_{adm2}*IRS_{adm2})}}{P_{adm1}}$$"
   ]
  },
  {
   "cell_type": "code",
   "execution_count": 114,
   "metadata": {
    "collapsed": false,
    "jupyter": {
     "outputs_hidden": false
    },
    "pycharm": {
     "name": "#%%\n"
    }
   },
   "outputs": [],
   "source": [
    "# N of intervention parameters\n",
    "gha[\"num_int\"] = 2"
   ]
  },
  {
   "cell_type": "code",
   "execution_count": 115,
   "metadata": {
    "collapsed": false,
    "jupyter": {
     "outputs_hidden": false
    },
    "pycharm": {
     "name": "#%%\n"
    }
   },
   "outputs": [],
   "source": [
    "# Time of ITN and IRS to be activated.\n",
    "gha[\"ITN_IRS_on\"] = 200\n",
    "# Duration of years\n",
    "gha[\"DY\"] = 365"
   ]
  },
  {
   "cell_type": "code",
   "execution_count": 116,
   "metadata": {
    "collapsed": false,
    "jupyter": {
     "outputs_hidden": false
    },
    "pycharm": {
     "name": "#%%\n"
    }
   },
   "outputs": [
    {
     "name": "stderr",
     "output_type": "stream",
     "text": [
      "/Users/sepmein/.pyenv/versions/3.9.7/envs/sci2/lib/python3.9/site-packages/seaborn/_decorators.py:36: FutureWarning: Pass the following variable as a keyword arg: x. From version 0.12, the only valid positional argument will be `data`, and passing other arguments without an explicit keyword will result in an error or misinterpretation.\n",
      "  warnings.warn(\n",
      "/Users/sepmein/.pyenv/versions/3.9.7/envs/sci2/lib/python3.9/site-packages/seaborn/_decorators.py:36: FutureWarning: Pass the following variable as a keyword arg: x. From version 0.12, the only valid positional argument will be `data`, and passing other arguments without an explicit keyword will result in an error or misinterpretation.\n",
      "  warnings.warn(\n"
     ]
    },
    {
     "data": {
      "text/plain": [
       "<AxesSubplot:xlabel='itn_cov'>"
      ]
     },
     "execution_count": 116,
     "metadata": {},
     "output_type": "execute_result"
    },
    {
     "data": {
      "image/png": "[encoded data removed]",
      "text/plain": [
       "<Figure size 432x288 with 1 Axes>"
      ]
     },
     "metadata": {},
     "output_type": "display_data"
    }
   ],
   "source": [
    "# gha_intervention = pd.read_stata('../Data/GHA/interventions/interventions.dta')\n",
    "intervention = pd.read_excel(\n",
    "    io=\"/Users/sepmein/Dropbox/benchmarking/Data/GHA/MAP_District_Estimates/Maps_by_MAP_260districts/GHA_summaries/GHA_new_district_summaries.xlsx\",\n",
    "    sheet_name=\"district_summaries\",\n",
    ")\n",
    "intervention = demographic.reformat.adm1_name(\n",
    "    df=intervention, original_column_name=\"REGION\", set_index=False\n",
    ")\n",
    "\n",
    "intervention = intervention.rename(columns={\"DISTRICT\": \"adm2\"})\n",
    "itn_coverage = intervention[[\"adm1\", \"adm2\", \"ITN_2018\"]]\n",
    "itn_coverage = pd.merge(\n",
    "    left=gha_adm2_population, right=itn_coverage, left_on=\"adm2\", right_on=\"adm2\"\n",
    ")\n",
    "\n",
    "itn_coverage = itn_coverage.drop(columns=[\"adm1_x\"], axis=1)\n",
    "itn_coverage = itn_coverage.rename(columns={\"adm1_y\": \"adm1\"})\n",
    "itn_coverage[\"population_itn\"] = itn_coverage[\"population\"] * itn_coverage[\"ITN_2018\"]\n",
    "itn_coverage_groupby_sum = itn_coverage.groupby(by=\"adm1\").sum()\n",
    "itn_coverage_groupby_sum[\"itn_coverage\"] = (\n",
    "    itn_coverage_groupby_sum[\"population_itn\"] / itn_coverage_groupby_sum[\"population\"]\n",
    ")\n",
    "gha[\"itn_cov\"] = itn_coverage_groupby_sum[\"itn_coverage\"]\n",
    "sns.stripplot(gha[\"itn_cov\"], size=7, color=\".26\")\n",
    "sns.boxplot(gha[\"itn_cov\"], showfliers=False)"
   ]
  },
  {
   "cell_type": "code",
   "execution_count": 117,
   "metadata": {
    "collapsed": false,
    "jupyter": {
     "outputs_hidden": false
    },
    "pycharm": {
     "name": "#%%\n"
    }
   },
   "outputs": [
    {
     "name": "stderr",
     "output_type": "stream",
     "text": [
      "/Users/sepmein/.pyenv/versions/3.9.7/envs/sci2/lib/python3.9/site-packages/seaborn/_decorators.py:36: FutureWarning: Pass the following variable as a keyword arg: x. From version 0.12, the only valid positional argument will be `data`, and passing other arguments without an explicit keyword will result in an error or misinterpretation.\n",
      "  warnings.warn(\n",
      "/Users/sepmein/.pyenv/versions/3.9.7/envs/sci2/lib/python3.9/site-packages/seaborn/_decorators.py:36: FutureWarning: Pass the following variable as a keyword arg: x. From version 0.12, the only valid positional argument will be `data`, and passing other arguments without an explicit keyword will result in an error or misinterpretation.\n",
      "  warnings.warn(\n"
     ]
    },
    {
     "data": {
      "text/plain": [
       "adm1\n",
       "WESTERN          0.000000\n",
       "CENTRAL          0.000000\n",
       "GREATER_ACCRA    0.000000\n",
       "VOLTA            0.000000\n",
       "EASTERN          0.000000\n",
       "ASHANTI          0.000000\n",
       "WESTERN_NORTH    0.000000\n",
       "AHAFO            0.000000\n",
       "BONO             0.000000\n",
       "BONO_EAST        0.000000\n",
       "OTI              0.000000\n",
       "NORTHERN         0.046994\n",
       "SAVANNAH         0.000033\n",
       "NORTH_EAST       0.272361\n",
       "UPPER_EAST       0.027759\n",
       "UPPER_WEST       0.227559\n",
       "Name: irs_cov, dtype: float64"
      ]
     },
     "execution_count": 117,
     "metadata": {},
     "output_type": "execute_result"
    },
    {
     "data": {
      "image/png": "[encoded data removed]",
      "text/plain": [
       "<Figure size 432x288 with 1 Axes>"
      ]
     },
     "metadata": {},
     "output_type": "display_data"
    }
   ],
   "source": [
    "irs_coverage = intervention[[\"adm1\", \"adm2\", \"IRS_2018\"]]\n",
    "irs_coverage = pd.merge(\n",
    "    left=gha_adm2_population, right=irs_coverage, left_on=\"adm2\", right_on=\"adm2\"\n",
    ")\n",
    "\n",
    "irs_coverage = irs_coverage.drop(columns=[\"adm1_x\"], axis=1)\n",
    "irs_coverage = irs_coverage.rename(columns={\"adm1_y\": \"adm1\"})\n",
    "irs_coverage[\"population_irs\"] = irs_coverage[\"population\"] * irs_coverage[\"IRS_2018\"]\n",
    "irs_coverage_groupby_sum = irs_coverage.groupby(by=\"adm1\").sum()\n",
    "irs_coverage_groupby_sum[\"irs_coverage\"] = (\n",
    "    irs_coverage_groupby_sum[\"population_irs\"] / irs_coverage_groupby_sum[\"population\"]\n",
    ")\n",
    "gha[\"irs_cov\"] = irs_coverage_groupby_sum[\"irs_coverage\"]\n",
    "sns.stripplot(gha[\"irs_cov\"], size=7, color=\".26\")\n",
    "sns.boxplot(gha[\"irs_cov\"], showfliers=False)\n",
    "gha[\"irs_cov\"]"
   ]
  },
  {
   "cell_type": "markdown",
   "metadata": {},
   "source": [
    "### Efficacy\n",
    "@param d_ITN0 Probability of dying with an encounter with ITN (max). Default = 0.41\n",
    "\n",
    "@param r_ITN0 Probability of repeating behaviour with ITN (max). Default = 0.56\n",
    "\n",
    "@param r_ITN1 Probability of repeating behaviour with ITN (min). Default = 0.24\n",
    "\n",
    "@param r_IRS0 Probability of repeating behaviour with IRS (min). Default = 0.6\n",
    "\n",
    "@param d_IRS0 Probability of dying with an encounter with IRS (max). Default = 1"
   ]
  },
  {
   "cell_type": "code",
   "execution_count": 118,
   "metadata": {
    "collapsed": false,
    "jupyter": {
     "outputs_hidden": false
    },
    "pycharm": {
     "name": "#%%\n"
    }
   },
   "outputs": [
    {
     "ename": "AttributeError",
     "evalue": "module 'mbench.intervention.efficacy.converter' has no attribute 'bioassay_to_rds'",
     "output_type": "error",
     "traceback": [
      "\u001b[0;31m---------------------------------------------------------------------------\u001b[0m",
      "\u001b[0;31mAttributeError\u001b[0m                            Traceback (most recent call last)",
      "\u001b[0;32m/var/folders/jw/1fjpkkvx6wz8tmmfqfklf4b80000gn/T/ipykernel_64822/1766817485.py\u001b[0m in \u001b[0;36m<module>\u001b[0;34m\u001b[0m\n\u001b[1;32m      1\u001b[0m \u001b[0;32mfor\u001b[0m \u001b[0mx\u001b[0m \u001b[0;32min\u001b[0m \u001b[0mnp\u001b[0m\u001b[0;34m.\u001b[0m\u001b[0mnditer\u001b[0m\u001b[0;34m(\u001b[0m\u001b[0mnp\u001b[0m\u001b[0;34m.\u001b[0m\u001b[0mlinspace\u001b[0m\u001b[0;34m(\u001b[0m\u001b[0;36m0\u001b[0m\u001b[0;34m,\u001b[0m \u001b[0;36m1\u001b[0m\u001b[0;34m,\u001b[0m \u001b[0;36m20\u001b[0m\u001b[0;34m)\u001b[0m\u001b[0;34m)\u001b[0m\u001b[0;34m:\u001b[0m\u001b[0;34m\u001b[0m\u001b[0;34m\u001b[0m\u001b[0m\n\u001b[0;32m----> 2\u001b[0;31m     \u001b[0my\u001b[0m \u001b[0;34m=\u001b[0m \u001b[0mefficacy\u001b[0m\u001b[0;34m.\u001b[0m\u001b[0mconverter\u001b[0m\u001b[0;34m.\u001b[0m\u001b[0mbioassay_to_rds\u001b[0m\u001b[0;34m(\u001b[0m\u001b[0mx\u001b[0m\u001b[0;34m)\u001b[0m\u001b[0;34m\u001b[0m\u001b[0;34m\u001b[0m\u001b[0m\n\u001b[0m\u001b[1;32m      3\u001b[0m     \u001b[0mprint\u001b[0m\u001b[0;34m(\u001b[0m\u001b[0;34m\"regular, repeating: \"\u001b[0m\u001b[0;34m,\u001b[0m \u001b[0;34m\"{:10.2f}\"\u001b[0m\u001b[0;34m.\u001b[0m\u001b[0mformat\u001b[0m\u001b[0;34m(\u001b[0m\u001b[0my\u001b[0m\u001b[0;34m[\u001b[0m\u001b[0;36m0\u001b[0m\u001b[0;34m]\u001b[0m\u001b[0;34m[\u001b[0m\u001b[0;36m0\u001b[0m\u001b[0;34m]\u001b[0m\u001b[0;34m)\u001b[0m\u001b[0;34m)\u001b[0m\u001b[0;34m\u001b[0m\u001b[0;34m\u001b[0m\u001b[0m\n\u001b[1;32m      4\u001b[0m     \u001b[0mprint\u001b[0m\u001b[0;34m(\u001b[0m\u001b[0;34m\"regular, repeating, with decay:\"\u001b[0m\u001b[0;34m,\u001b[0m \u001b[0;34m\"{:10.2f}\"\u001b[0m\u001b[0;34m.\u001b[0m\u001b[0mformat\u001b[0m\u001b[0;34m(\u001b[0m\u001b[0my\u001b[0m\u001b[0;34m[\u001b[0m\u001b[0;36m0\u001b[0m\u001b[0;34m]\u001b[0m\u001b[0;34m[\u001b[0m\u001b[0;36m1\u001b[0m\u001b[0;34m]\u001b[0m\u001b[0;34m)\u001b[0m\u001b[0;34m)\u001b[0m\u001b[0;34m\u001b[0m\u001b[0;34m\u001b[0m\u001b[0m\n\u001b[1;32m      5\u001b[0m     \u001b[0mprint\u001b[0m\u001b[0;34m(\u001b[0m\u001b[0;34m\"regular, dying: \"\u001b[0m\u001b[0;34m,\u001b[0m \u001b[0;34m\"{:10.2f}\"\u001b[0m\u001b[0;34m.\u001b[0m\u001b[0mformat\u001b[0m\u001b[0;34m(\u001b[0m\u001b[0my\u001b[0m\u001b[0;34m[\u001b[0m\u001b[0;36m0\u001b[0m\u001b[0;34m]\u001b[0m\u001b[0;34m[\u001b[0m\u001b[0;36m2\u001b[0m\u001b[0;34m]\u001b[0m\u001b[0;34m)\u001b[0m\u001b[0;34m)\u001b[0m\u001b[0;34m\u001b[0m\u001b[0;34m\u001b[0m\u001b[0m\n",
      "\u001b[0;31mAttributeError\u001b[0m: module 'mbench.intervention.efficacy.converter' has no attribute 'bioassay_to_rds'"
     ]
    }
   ],
   "source": [
    "for x in np.nditer(np.linspace(0, 1, 20)):\n",
    "    y = efficacy.converter.bioassay_to_rds(x)\n",
    "    print(\"regular, repeating: \", \"{:10.2f}\".format(y[0][0]))\n",
    "    print(\"regular, repeating, with decay:\", \"{:10.2f}\".format(y[0][1]))\n",
    "    print(\"regular, dying: \", \"{:10.2f}\".format(y[0][2]))\n",
    "    print(\"regular, feeding: \", \"{:10.2f}\".format(y[0][3]))\n",
    "    print(\"PBO, repeating: \", \"{:10.2f}\".format(y[1][0]))\n",
    "    print(\"PBO, repeating, with decay:\", \"{:10.2f}\".format(y[1][1]))\n",
    "    print(\"PBO, dying: \", \"{:10.2f}\".format(y[1][2]))\n",
    "    print(\"PBO, feeding: \", \"{:10.2f}\".format(y[1][3]))"
   ]
  },
  {
   "cell_type": "code",
   "execution_count": null,
   "metadata": {
    "collapsed": false,
    "jupyter": {
     "outputs_hidden": false
    },
    "pycharm": {
     "name": "#%%\n"
    }
   },
   "outputs": [],
   "source": [
    "# Probability of dying with an encounter with ITN(max)\n",
    "gha[\"d_ITN0\"] = 0.41\n",
    "\n",
    "# load mortality settings vs LLINs & PBO nets\n",
    "mortality_llins_vs_pbo = pd.read_csv(\n",
    "    \"../Data/LLINs vs PBO/mortality rate llins vs pbo.csv\"\n",
    ")\n",
    "# load resistance settings in each adm1\n",
    "gha_adm1_vector_resistance = pd.read_excel(\n",
    "    \"../Data/GHA/WHO_IR_data/MTM_DISCRIMINATING_CONCENTRATION_BIOASSAY_20211130.xlsx\",\n",
    "    sheet_name=\"Data\",\n",
    ")\n",
    "# rename Brong Ahafo to Brong-Ahafo\n",
    "gha_adm1_vector_resistance = gha_adm1_vector_resistance.replace(\n",
    "    \"Brong Ahafo\", \"Brong-Ahafo\"\n",
    ")\n",
    "\n",
    "# subgroup\n",
    "gha_adm1_vector_resistance = gha_adm1_vector_resistance.groupby(\"ADMIN1\").mean()\n",
    "\n",
    "gha_adm1_vector_resistance = gha_adm1_vector_resistance[\"MORTALITY_ADJUSTED\"]\n",
    "gha = gha.merge(\n",
    "    right=gha_adm1_vector_resistance,\n",
    "    how=\"left\",\n",
    "    left_on=\"old_district_name\",\n",
    "    right_index=True,\n",
    ")\n",
    "gha[\"r_ITN_0\"] = gha[\"MORTALITY_ADJUSTED\"].map(\n",
    "    lambda x: efficacy.converter.bioassay_to_rds(x / 100)[0][0]\n",
    ")\n",
    "gha[\"r_PBO_0\"] = gha[\"MORTALITY_ADJUSTED\"].map(\n",
    "    lambda x: efficacy.converter.bioassay_to_rds(x / 100)[1][0]\n",
    ")\n",
    "gha[\"r_ITN_1\"] = gha[\"MORTALITY_ADJUSTED\"].map(\n",
    "    lambda x: efficacy.converter.bioassay_to_rds(x / 100)[0][1]\n",
    ")\n",
    "gha[\"r_PBO_1\"] = gha[\"MORTALITY_ADJUSTED\"].map(\n",
    "    lambda x: efficacy.converter.bioassay_to_rds(x / 100)[1][1]\n",
    ")\n",
    "gha[\"d_ITN_0\"] = gha[\"MORTALITY_ADJUSTED\"].map(\n",
    "    lambda x: efficacy.converter.bioassay_to_rds(x / 100)[0][2]\n",
    ")\n",
    "gha[\"d_PBO_0\"] = gha[\"MORTALITY_ADJUSTED\"].map(\n",
    "    lambda x: efficacy.converter.bioassay_to_rds(x / 100)[1][2]\n",
    ")\n",
    "# categorize resistance into h/m/l groups\n",
    "# gha_adm1_vector_resistance_groups = pd.cut(\n",
    "#     x=gha_adm1_vector_resistance,\n",
    "#     bins=[0.0, 30, 60, 100],\n",
    "#     labels=['high', 'moderate', 'low']\n",
    "# )\n",
    "# as the data from WHO/GMP/Malaria Threats Map still use 216 system\n",
    "# I need to transform to the 260 system first\n",
    "# gha['']\n",
    "\n",
    "# Probability of repeating behaviour with ITN(max)\n",
    "# gha[\"r_ITN0\"] = 0.56\n",
    "# Probability of repeating behaviour with ITN(min)\n",
    "# gha[\"r_ITN1\"] = 0.24\n",
    "# Probability of repeating behaviour with IRS(min)\n",
    "gha[\"r_IRS0\"] = 0.6\n",
    "# Probability of dying with an encounter with IRS(max)\n",
    "gha[\"d_IRS0\"] = 1"
   ]
  },
  {
   "cell_type": "code",
   "execution_count": null,
   "metadata": {
    "collapsed": false,
    "jupyter": {
     "outputs_hidden": false
    },
    "pycharm": {
     "name": "#%%\n"
    }
   },
   "outputs": [],
   "source": [
    "# gha = gha.merge(right=gha_adm1_vector_resistance_groups,\n",
    "#                 how=\"left\",\n",
    "#                 left_on=\"old_district_name\",\n",
    "#                 right_index=True\n",
    "#                 )\n",
    "# gha.loc[gha['MORTALITY_ADJUSTED'] == 'low', 'd_ITN0_LLINs'] = .527\n",
    "# gha.loc[gha['MORTALITY_ADJUSTED'] == 'low', 'd_ITN0_PBO'] = .659\n",
    "# gha.loc[gha['MORTALITY_ADJUSTED'] == 'moderate', 'd_ITN0_LLINs'] = .18\n",
    "# gha.loc[gha['MORTALITY_ADJUSTED'] == 'moderate', 'd_ITN0_PBO'] = .303\n",
    "# gha.loc[gha['MORTALITY_ADJUSTED'] == 'high', 'd_ITN0_LLINs'] = .238\n",
    "# gha.loc[gha['MORTALITY_ADJUSTED'] == 'high', 'd_ITN0_PBO'] = .438"
   ]
  },
  {
   "cell_type": "markdown",
   "metadata": {},
   "source": [
    "### Decay\n",
    "@param irs_half_life IRS half life. Default =   0.5 * DY\n",
    "\n",
    "@param itn_half_life ITN half life. Default =   2.64 * DY"
   ]
  },
  {
   "cell_type": "code",
   "execution_count": 119,
   "metadata": {
    "collapsed": false,
    "jupyter": {
     "outputs_hidden": false
    },
    "pycharm": {
     "name": "#%%\n"
    }
   },
   "outputs": [],
   "source": [
    "# IRS half life\n",
    "gha[\"irs_half_life\"] = 0.5 * 365\n",
    "# ITN half life\n",
    "gha[\"itn_half_life\"] = 2.64 * 365"
   ]
  },
  {
   "cell_type": "markdown",
   "metadata": {},
   "source": [
    "### Implementation\n",
    "@param IRS_interval How long before IRS is repeated, i.e. when IRS decay = 1. Default =   1 * DY\n",
    "\n",
    "@param ITN_interval How long before ITN is repeated, i.e. when IRS decay = 1.  Default =   3 * DY"
   ]
  },
  {
   "cell_type": "code",
   "execution_count": 120,
   "metadata": {
    "collapsed": false,
    "jupyter": {
     "outputs_hidden": false
    },
    "pycharm": {
     "name": "#%%\n"
    }
   },
   "outputs": [],
   "source": [
    "# How long before IRS is repeated\n",
    "gha[\"IRS_interval\"] = 1 * 365\n",
    "# how long before ITN is repeated\n",
    "gha[\"ITN_interval\"] = 3 * 365"
   ]
  },
  {
   "cell_type": "code",
   "execution_count": 121,
   "metadata": {
    "collapsed": false,
    "jupyter": {
     "outputs_hidden": false
    },
    "pycharm": {
     "name": "#%%\n"
    }
   },
   "outputs": [
    {
     "ename": "FileNotFoundError",
     "evalue": "[Errno 2] No such file or directory: '../Data/GHA/Interventions/GHA_Intervention_data.xlsx'",
     "output_type": "error",
     "traceback": [
      "\u001b[0;31m---------------------------------------------------------------------------\u001b[0m",
      "\u001b[0;31mFileNotFoundError\u001b[0m                         Traceback (most recent call last)",
      "\u001b[0;32m/var/folders/jw/1fjpkkvx6wz8tmmfqfklf4b80000gn/T/ipykernel_64822/79840980.py\u001b[0m in \u001b[0;36m<module>\u001b[0;34m\u001b[0m\n\u001b[0;32m----> 1\u001b[0;31m GHA_Intervention_data = pd.read_excel(\n\u001b[0m\u001b[1;32m      2\u001b[0m     \u001b[0;34m\"../Data/GHA/Interventions/GHA_Intervention_data.xlsx\"\u001b[0m\u001b[0;34m,\u001b[0m \u001b[0;34m\"Data template \"\u001b[0m\u001b[0;34m\u001b[0m\u001b[0;34m\u001b[0m\u001b[0m\n\u001b[1;32m      3\u001b[0m )\n\u001b[1;32m      4\u001b[0m \u001b[0mGHA_Intervention_data\u001b[0m\u001b[0;34m\u001b[0m\u001b[0;34m\u001b[0m\u001b[0m\n",
      "\u001b[0;32m~/.pyenv/versions/3.9.7/envs/sci2/lib/python3.9/site-packages/pandas/util/_decorators.py\u001b[0m in \u001b[0;36mwrapper\u001b[0;34m(*args, **kwargs)\u001b[0m\n\u001b[1;32m    309\u001b[0m                     \u001b[0mstacklevel\u001b[0m\u001b[0;34m=\u001b[0m\u001b[0mstacklevel\u001b[0m\u001b[0;34m,\u001b[0m\u001b[0;34m\u001b[0m\u001b[0;34m\u001b[0m\u001b[0m\n\u001b[1;32m    310\u001b[0m                 )\n\u001b[0;32m--> 311\u001b[0;31m             \u001b[0;32mreturn\u001b[0m \u001b[0mfunc\u001b[0m\u001b[0;34m(\u001b[0m\u001b[0;34m*\u001b[0m\u001b[0margs\u001b[0m\u001b[0;34m,\u001b[0m \u001b[0;34m**\u001b[0m\u001b[0mkwargs\u001b[0m\u001b[0;34m)\u001b[0m\u001b[0;34m\u001b[0m\u001b[0;34m\u001b[0m\u001b[0m\n\u001b[0m\u001b[1;32m    312\u001b[0m \u001b[0;34m\u001b[0m\u001b[0m\n\u001b[1;32m    313\u001b[0m         \u001b[0;32mreturn\u001b[0m \u001b[0mwrapper\u001b[0m\u001b[0;34m\u001b[0m\u001b[0;34m\u001b[0m\u001b[0m\n",
      "\u001b[0;32m~/.pyenv/versions/3.9.7/envs/sci2/lib/python3.9/site-packages/pandas/io/excel/_base.py\u001b[0m in \u001b[0;36mread_excel\u001b[0;34m(io, sheet_name, header, names, index_col, usecols, squeeze, dtype, engine, converters, true_values, false_values, skiprows, nrows, na_values, keep_default_na, na_filter, verbose, parse_dates, date_parser, thousands, comment, skipfooter, convert_float, mangle_dupe_cols, storage_options)\u001b[0m\n\u001b[1;32m    362\u001b[0m     \u001b[0;32mif\u001b[0m \u001b[0;32mnot\u001b[0m \u001b[0misinstance\u001b[0m\u001b[0;34m(\u001b[0m\u001b[0mio\u001b[0m\u001b[0;34m,\u001b[0m \u001b[0mExcelFile\u001b[0m\u001b[0;34m)\u001b[0m\u001b[0;34m:\u001b[0m\u001b[0;34m\u001b[0m\u001b[0;34m\u001b[0m\u001b[0m\n\u001b[1;32m    363\u001b[0m         \u001b[0mshould_close\u001b[0m \u001b[0;34m=\u001b[0m \u001b[0;32mTrue\u001b[0m\u001b[0;34m\u001b[0m\u001b[0;34m\u001b[0m\u001b[0m\n\u001b[0;32m--> 364\u001b[0;31m         \u001b[0mio\u001b[0m \u001b[0;34m=\u001b[0m \u001b[0mExcelFile\u001b[0m\u001b[0;34m(\u001b[0m\u001b[0mio\u001b[0m\u001b[0;34m,\u001b[0m \u001b[0mstorage_options\u001b[0m\u001b[0;34m=\u001b[0m\u001b[0mstorage_options\u001b[0m\u001b[0;34m,\u001b[0m \u001b[0mengine\u001b[0m\u001b[0;34m=\u001b[0m\u001b[0mengine\u001b[0m\u001b[0;34m)\u001b[0m\u001b[0;34m\u001b[0m\u001b[0;34m\u001b[0m\u001b[0m\n\u001b[0m\u001b[1;32m    365\u001b[0m     \u001b[0;32melif\u001b[0m \u001b[0mengine\u001b[0m \u001b[0;32mand\u001b[0m \u001b[0mengine\u001b[0m \u001b[0;34m!=\u001b[0m \u001b[0mio\u001b[0m\u001b[0;34m.\u001b[0m\u001b[0mengine\u001b[0m\u001b[0;34m:\u001b[0m\u001b[0;34m\u001b[0m\u001b[0;34m\u001b[0m\u001b[0m\n\u001b[1;32m    366\u001b[0m         raise ValueError(\n",
      "\u001b[0;32m~/.pyenv/versions/3.9.7/envs/sci2/lib/python3.9/site-packages/pandas/io/excel/_base.py\u001b[0m in \u001b[0;36m__init__\u001b[0;34m(self, path_or_buffer, engine, storage_options)\u001b[0m\n\u001b[1;32m   1189\u001b[0m                 \u001b[0mext\u001b[0m \u001b[0;34m=\u001b[0m \u001b[0;34m\"xls\"\u001b[0m\u001b[0;34m\u001b[0m\u001b[0;34m\u001b[0m\u001b[0m\n\u001b[1;32m   1190\u001b[0m             \u001b[0;32melse\u001b[0m\u001b[0;34m:\u001b[0m\u001b[0;34m\u001b[0m\u001b[0;34m\u001b[0m\u001b[0m\n\u001b[0;32m-> 1191\u001b[0;31m                 ext = inspect_excel_format(\n\u001b[0m\u001b[1;32m   1192\u001b[0m                     \u001b[0mcontent_or_path\u001b[0m\u001b[0;34m=\u001b[0m\u001b[0mpath_or_buffer\u001b[0m\u001b[0;34m,\u001b[0m \u001b[0mstorage_options\u001b[0m\u001b[0;34m=\u001b[0m\u001b[0mstorage_options\u001b[0m\u001b[0;34m\u001b[0m\u001b[0;34m\u001b[0m\u001b[0m\n\u001b[1;32m   1193\u001b[0m                 )\n",
      "\u001b[0;32m~/.pyenv/versions/3.9.7/envs/sci2/lib/python3.9/site-packages/pandas/io/excel/_base.py\u001b[0m in \u001b[0;36minspect_excel_format\u001b[0;34m(content_or_path, storage_options)\u001b[0m\n\u001b[1;32m   1068\u001b[0m         \u001b[0mcontent_or_path\u001b[0m \u001b[0;34m=\u001b[0m \u001b[0mBytesIO\u001b[0m\u001b[0;34m(\u001b[0m\u001b[0mcontent_or_path\u001b[0m\u001b[0;34m)\u001b[0m\u001b[0;34m\u001b[0m\u001b[0;34m\u001b[0m\u001b[0m\n\u001b[1;32m   1069\u001b[0m \u001b[0;34m\u001b[0m\u001b[0m\n\u001b[0;32m-> 1070\u001b[0;31m     with get_handle(\n\u001b[0m\u001b[1;32m   1071\u001b[0m         \u001b[0mcontent_or_path\u001b[0m\u001b[0;34m,\u001b[0m \u001b[0;34m\"rb\"\u001b[0m\u001b[0;34m,\u001b[0m \u001b[0mstorage_options\u001b[0m\u001b[0;34m=\u001b[0m\u001b[0mstorage_options\u001b[0m\u001b[0;34m,\u001b[0m \u001b[0mis_text\u001b[0m\u001b[0;34m=\u001b[0m\u001b[0;32mFalse\u001b[0m\u001b[0;34m\u001b[0m\u001b[0;34m\u001b[0m\u001b[0m\n\u001b[1;32m   1072\u001b[0m     ) as handle:\n",
      "\u001b[0;32m~/.pyenv/versions/3.9.7/envs/sci2/lib/python3.9/site-packages/pandas/io/common.py\u001b[0m in \u001b[0;36mget_handle\u001b[0;34m(path_or_buf, mode, encoding, compression, memory_map, is_text, errors, storage_options)\u001b[0m\n\u001b[1;32m    709\u001b[0m         \u001b[0;32melse\u001b[0m\u001b[0;34m:\u001b[0m\u001b[0;34m\u001b[0m\u001b[0;34m\u001b[0m\u001b[0m\n\u001b[1;32m    710\u001b[0m             \u001b[0;31m# Binary mode\u001b[0m\u001b[0;34m\u001b[0m\u001b[0;34m\u001b[0m\u001b[0m\n\u001b[0;32m--> 711\u001b[0;31m             \u001b[0mhandle\u001b[0m \u001b[0;34m=\u001b[0m \u001b[0mopen\u001b[0m\u001b[0;34m(\u001b[0m\u001b[0mhandle\u001b[0m\u001b[0;34m,\u001b[0m \u001b[0mioargs\u001b[0m\u001b[0;34m.\u001b[0m\u001b[0mmode\u001b[0m\u001b[0;34m)\u001b[0m\u001b[0;34m\u001b[0m\u001b[0;34m\u001b[0m\u001b[0m\n\u001b[0m\u001b[1;32m    712\u001b[0m         \u001b[0mhandles\u001b[0m\u001b[0;34m.\u001b[0m\u001b[0mappend\u001b[0m\u001b[0;34m(\u001b[0m\u001b[0mhandle\u001b[0m\u001b[0;34m)\u001b[0m\u001b[0;34m\u001b[0m\u001b[0;34m\u001b[0m\u001b[0m\n\u001b[1;32m    713\u001b[0m \u001b[0;34m\u001b[0m\u001b[0m\n",
      "\u001b[0;31mFileNotFoundError\u001b[0m: [Errno 2] No such file or directory: '../Data/GHA/Interventions/GHA_Intervention_data.xlsx'"
     ]
    }
   ],
   "source": [
    "GHA_Intervention_data = pd.read_excel(\n",
    "    \"../Data/GHA/Interventions/GHA_Intervention_data.xlsx\", \"Data template \"\n",
    ")\n",
    "GHA_Intervention_data"
   ]
  },
  {
   "cell_type": "code",
   "execution_count": 122,
   "metadata": {
    "collapsed": false,
    "jupyter": {
     "outputs_hidden": false
    },
    "pycharm": {
     "name": "#%%\n"
    }
   },
   "outputs": [
    {
     "data": {
      "text/html": [
       "<div>\n",
       "<style scoped>\n",
       "    .dataframe tbody tr th:only-of-type {\n",
       "        vertical-align: middle;\n",
       "    }\n",
       "\n",
       "    .dataframe tbody tr th {\n",
       "        vertical-align: top;\n",
       "    }\n",
       "\n",
       "    .dataframe thead th {\n",
       "        text-align: right;\n",
       "    }\n",
       "</style>\n",
       "<table border=\"1\" class=\"dataframe\">\n",
       "  <thead>\n",
       "    <tr style=\"text-align: right;\">\n",
       "      <th></th>\n",
       "      <th>adm1</th>\n",
       "      <th>code</th>\n",
       "      <th>adm2</th>\n",
       "      <th>year</th>\n",
       "      <th>month</th>\n",
       "      <th>smc_yn</th>\n",
       "      <th>llins_yn</th>\n",
       "      <th>irs_yn</th>\n",
       "      <th>pbo_yn</th>\n",
       "      <th>smc1_num</th>\n",
       "      <th>smc2_num</th>\n",
       "      <th>smc3_num</th>\n",
       "      <th>smc4_num</th>\n",
       "      <th>llins_num</th>\n",
       "      <th>irs_cov</th>\n",
       "      <th>irs_popprot</th>\n",
       "      <th>irs_struct_target</th>\n",
       "      <th>irs_struct_spr</th>\n",
       "    </tr>\n",
       "  </thead>\n",
       "  <tbody>\n",
       "  </tbody>\n",
       "</table>\n",
       "</div>"
      ],
      "text/plain": [
       "Empty DataFrame\n",
       "Columns: [adm1, code, adm2, year, month , smc_yn, llins_yn, irs_yn , pbo_yn , smc1_num, smc2_num, smc3_num, smc4_num , llins_num, irs_cov, irs_popprot, irs_struct_target, irs_struct_spr]\n",
       "Index: []"
      ]
     },
     "execution_count": 122,
     "metadata": {},
     "output_type": "execute_result"
    }
   ],
   "source": [
    "pd.merge(\n",
    "    gha_admin1,\n",
    "    GHA_Intervention_data,\n",
    "    left_on=\"adm1\",\n",
    "    right_on=\"adm1\",\n",
    ")"
   ]
  },
  {
   "cell_type": "markdown",
   "metadata": {},
   "source": [
    "## EIR estimation\n",
    "\n",
    "Data source: literature search\n",
    "\n",
    "- Searched with the keyword 'eir', 'entomology inoculation rate', 'Ghana'\n",
    "- Created a database on EIR for about 800 records"
   ]
  },
  {
   "cell_type": "code",
   "execution_count": 123,
   "metadata": {
    "collapsed": false,
    "jupyter": {
     "outputs_hidden": false
    },
    "pycharm": {
     "name": "#%%\n"
    }
   },
   "outputs": [
    {
     "ename": "FileNotFoundError",
     "evalue": "[Errno 2] No such file or directory: '../Data/eir.csv'",
     "output_type": "error",
     "traceback": [
      "\u001b[0;31m---------------------------------------------------------------------------\u001b[0m",
      "\u001b[0;31mFileNotFoundError\u001b[0m                         Traceback (most recent call last)",
      "\u001b[0;32m/var/folders/jw/1fjpkkvx6wz8tmmfqfklf4b80000gn/T/ipykernel_64822/2220138703.py\u001b[0m in \u001b[0;36m<module>\u001b[0;34m\u001b[0m\n\u001b[0;32m----> 1\u001b[0;31m \u001b[0meir\u001b[0m \u001b[0;34m=\u001b[0m \u001b[0mpd\u001b[0m\u001b[0;34m.\u001b[0m\u001b[0mread_csv\u001b[0m\u001b[0;34m(\u001b[0m\u001b[0;34m\"../Data/eir.csv\"\u001b[0m\u001b[0;34m)\u001b[0m\u001b[0;34m\u001b[0m\u001b[0;34m\u001b[0m\u001b[0m\n\u001b[0m\u001b[1;32m      2\u001b[0m \u001b[0mghana_eir\u001b[0m \u001b[0;34m=\u001b[0m \u001b[0meir\u001b[0m\u001b[0;34m[\u001b[0m\u001b[0meir\u001b[0m\u001b[0;34m[\u001b[0m\u001b[0;34m\"Country\"\u001b[0m\u001b[0;34m]\u001b[0m \u001b[0;34m==\u001b[0m \u001b[0;34m\"Ghana\"\u001b[0m\u001b[0;34m]\u001b[0m\u001b[0;34m\u001b[0m\u001b[0;34m\u001b[0m\u001b[0m\n",
      "\u001b[0;32m~/.pyenv/versions/3.9.7/envs/sci2/lib/python3.9/site-packages/pandas/util/_decorators.py\u001b[0m in \u001b[0;36mwrapper\u001b[0;34m(*args, **kwargs)\u001b[0m\n\u001b[1;32m    309\u001b[0m                     \u001b[0mstacklevel\u001b[0m\u001b[0;34m=\u001b[0m\u001b[0mstacklevel\u001b[0m\u001b[0;34m,\u001b[0m\u001b[0;34m\u001b[0m\u001b[0;34m\u001b[0m\u001b[0m\n\u001b[1;32m    310\u001b[0m                 )\n\u001b[0;32m--> 311\u001b[0;31m             \u001b[0;32mreturn\u001b[0m \u001b[0mfunc\u001b[0m\u001b[0;34m(\u001b[0m\u001b[0;34m*\u001b[0m\u001b[0margs\u001b[0m\u001b[0;34m,\u001b[0m \u001b[0;34m**\u001b[0m\u001b[0mkwargs\u001b[0m\u001b[0;34m)\u001b[0m\u001b[0;34m\u001b[0m\u001b[0;34m\u001b[0m\u001b[0m\n\u001b[0m\u001b[1;32m    312\u001b[0m \u001b[0;34m\u001b[0m\u001b[0m\n\u001b[1;32m    313\u001b[0m         \u001b[0;32mreturn\u001b[0m \u001b[0mwrapper\u001b[0m\u001b[0;34m\u001b[0m\u001b[0;34m\u001b[0m\u001b[0m\n",
      "\u001b[0;32m~/.pyenv/versions/3.9.7/envs/sci2/lib/python3.9/site-packages/pandas/io/parsers/readers.py\u001b[0m in \u001b[0;36mread_csv\u001b[0;34m(filepath_or_buffer, sep, delimiter, header, names, index_col, usecols, squeeze, prefix, mangle_dupe_cols, dtype, engine, converters, true_values, false_values, skipinitialspace, skiprows, skipfooter, nrows, na_values, keep_default_na, na_filter, verbose, skip_blank_lines, parse_dates, infer_datetime_format, keep_date_col, date_parser, dayfirst, cache_dates, iterator, chunksize, compression, thousands, decimal, lineterminator, quotechar, quoting, doublequote, escapechar, comment, encoding, encoding_errors, dialect, error_bad_lines, warn_bad_lines, on_bad_lines, delim_whitespace, low_memory, memory_map, float_precision, storage_options)\u001b[0m\n\u001b[1;32m    584\u001b[0m     \u001b[0mkwds\u001b[0m\u001b[0;34m.\u001b[0m\u001b[0mupdate\u001b[0m\u001b[0;34m(\u001b[0m\u001b[0mkwds_defaults\u001b[0m\u001b[0;34m)\u001b[0m\u001b[0;34m\u001b[0m\u001b[0;34m\u001b[0m\u001b[0m\n\u001b[1;32m    585\u001b[0m \u001b[0;34m\u001b[0m\u001b[0m\n\u001b[0;32m--> 586\u001b[0;31m     \u001b[0;32mreturn\u001b[0m \u001b[0m_read\u001b[0m\u001b[0;34m(\u001b[0m\u001b[0mfilepath_or_buffer\u001b[0m\u001b[0;34m,\u001b[0m \u001b[0mkwds\u001b[0m\u001b[0;34m)\u001b[0m\u001b[0;34m\u001b[0m\u001b[0;34m\u001b[0m\u001b[0m\n\u001b[0m\u001b[1;32m    587\u001b[0m \u001b[0;34m\u001b[0m\u001b[0m\n\u001b[1;32m    588\u001b[0m \u001b[0;34m\u001b[0m\u001b[0m\n",
      "\u001b[0;32m~/.pyenv/versions/3.9.7/envs/sci2/lib/python3.9/site-packages/pandas/io/parsers/readers.py\u001b[0m in \u001b[0;36m_read\u001b[0;34m(filepath_or_buffer, kwds)\u001b[0m\n\u001b[1;32m    480\u001b[0m \u001b[0;34m\u001b[0m\u001b[0m\n\u001b[1;32m    481\u001b[0m     \u001b[0;31m# Create the parser.\u001b[0m\u001b[0;34m\u001b[0m\u001b[0;34m\u001b[0m\u001b[0m\n\u001b[0;32m--> 482\u001b[0;31m     \u001b[0mparser\u001b[0m \u001b[0;34m=\u001b[0m \u001b[0mTextFileReader\u001b[0m\u001b[0;34m(\u001b[0m\u001b[0mfilepath_or_buffer\u001b[0m\u001b[0;34m,\u001b[0m \u001b[0;34m**\u001b[0m\u001b[0mkwds\u001b[0m\u001b[0;34m)\u001b[0m\u001b[0;34m\u001b[0m\u001b[0;34m\u001b[0m\u001b[0m\n\u001b[0m\u001b[1;32m    483\u001b[0m \u001b[0;34m\u001b[0m\u001b[0m\n\u001b[1;32m    484\u001b[0m     \u001b[0;32mif\u001b[0m \u001b[0mchunksize\u001b[0m \u001b[0;32mor\u001b[0m \u001b[0miterator\u001b[0m\u001b[0;34m:\u001b[0m\u001b[0;34m\u001b[0m\u001b[0;34m\u001b[0m\u001b[0m\n",
      "\u001b[0;32m~/.pyenv/versions/3.9.7/envs/sci2/lib/python3.9/site-packages/pandas/io/parsers/readers.py\u001b[0m in \u001b[0;36m__init__\u001b[0;34m(self, f, engine, **kwds)\u001b[0m\n\u001b[1;32m    809\u001b[0m             \u001b[0mself\u001b[0m\u001b[0;34m.\u001b[0m\u001b[0moptions\u001b[0m\u001b[0;34m[\u001b[0m\u001b[0;34m\"has_index_names\"\u001b[0m\u001b[0;34m]\u001b[0m \u001b[0;34m=\u001b[0m \u001b[0mkwds\u001b[0m\u001b[0;34m[\u001b[0m\u001b[0;34m\"has_index_names\"\u001b[0m\u001b[0;34m]\u001b[0m\u001b[0;34m\u001b[0m\u001b[0;34m\u001b[0m\u001b[0m\n\u001b[1;32m    810\u001b[0m \u001b[0;34m\u001b[0m\u001b[0m\n\u001b[0;32m--> 811\u001b[0;31m         \u001b[0mself\u001b[0m\u001b[0;34m.\u001b[0m\u001b[0m_engine\u001b[0m \u001b[0;34m=\u001b[0m \u001b[0mself\u001b[0m\u001b[0;34m.\u001b[0m\u001b[0m_make_engine\u001b[0m\u001b[0;34m(\u001b[0m\u001b[0mself\u001b[0m\u001b[0;34m.\u001b[0m\u001b[0mengine\u001b[0m\u001b[0;34m)\u001b[0m\u001b[0;34m\u001b[0m\u001b[0;34m\u001b[0m\u001b[0m\n\u001b[0m\u001b[1;32m    812\u001b[0m \u001b[0;34m\u001b[0m\u001b[0m\n\u001b[1;32m    813\u001b[0m     \u001b[0;32mdef\u001b[0m \u001b[0mclose\u001b[0m\u001b[0;34m(\u001b[0m\u001b[0mself\u001b[0m\u001b[0;34m)\u001b[0m\u001b[0;34m:\u001b[0m\u001b[0;34m\u001b[0m\u001b[0;34m\u001b[0m\u001b[0m\n",
      "\u001b[0;32m~/.pyenv/versions/3.9.7/envs/sci2/lib/python3.9/site-packages/pandas/io/parsers/readers.py\u001b[0m in \u001b[0;36m_make_engine\u001b[0;34m(self, engine)\u001b[0m\n\u001b[1;32m   1038\u001b[0m             )\n\u001b[1;32m   1039\u001b[0m         \u001b[0;31m# error: Too many arguments for \"ParserBase\"\u001b[0m\u001b[0;34m\u001b[0m\u001b[0;34m\u001b[0m\u001b[0m\n\u001b[0;32m-> 1040\u001b[0;31m         \u001b[0;32mreturn\u001b[0m \u001b[0mmapping\u001b[0m\u001b[0;34m[\u001b[0m\u001b[0mengine\u001b[0m\u001b[0;34m]\u001b[0m\u001b[0;34m(\u001b[0m\u001b[0mself\u001b[0m\u001b[0;34m.\u001b[0m\u001b[0mf\u001b[0m\u001b[0;34m,\u001b[0m \u001b[0;34m**\u001b[0m\u001b[0mself\u001b[0m\u001b[0;34m.\u001b[0m\u001b[0moptions\u001b[0m\u001b[0;34m)\u001b[0m  \u001b[0;31m# type: ignore[call-arg]\u001b[0m\u001b[0;34m\u001b[0m\u001b[0;34m\u001b[0m\u001b[0m\n\u001b[0m\u001b[1;32m   1041\u001b[0m \u001b[0;34m\u001b[0m\u001b[0m\n\u001b[1;32m   1042\u001b[0m     \u001b[0;32mdef\u001b[0m \u001b[0m_failover_to_python\u001b[0m\u001b[0;34m(\u001b[0m\u001b[0mself\u001b[0m\u001b[0;34m)\u001b[0m\u001b[0;34m:\u001b[0m\u001b[0;34m\u001b[0m\u001b[0;34m\u001b[0m\u001b[0m\n",
      "\u001b[0;32m~/.pyenv/versions/3.9.7/envs/sci2/lib/python3.9/site-packages/pandas/io/parsers/c_parser_wrapper.py\u001b[0m in \u001b[0;36m__init__\u001b[0;34m(self, src, **kwds)\u001b[0m\n\u001b[1;32m     49\u001b[0m \u001b[0;34m\u001b[0m\u001b[0m\n\u001b[1;32m     50\u001b[0m         \u001b[0;31m# open handles\u001b[0m\u001b[0;34m\u001b[0m\u001b[0;34m\u001b[0m\u001b[0m\n\u001b[0;32m---> 51\u001b[0;31m         \u001b[0mself\u001b[0m\u001b[0;34m.\u001b[0m\u001b[0m_open_handles\u001b[0m\u001b[0;34m(\u001b[0m\u001b[0msrc\u001b[0m\u001b[0;34m,\u001b[0m \u001b[0mkwds\u001b[0m\u001b[0;34m)\u001b[0m\u001b[0;34m\u001b[0m\u001b[0;34m\u001b[0m\u001b[0m\n\u001b[0m\u001b[1;32m     52\u001b[0m         \u001b[0;32massert\u001b[0m \u001b[0mself\u001b[0m\u001b[0;34m.\u001b[0m\u001b[0mhandles\u001b[0m \u001b[0;32mis\u001b[0m \u001b[0;32mnot\u001b[0m \u001b[0;32mNone\u001b[0m\u001b[0;34m\u001b[0m\u001b[0;34m\u001b[0m\u001b[0m\n\u001b[1;32m     53\u001b[0m \u001b[0;34m\u001b[0m\u001b[0m\n",
      "\u001b[0;32m~/.pyenv/versions/3.9.7/envs/sci2/lib/python3.9/site-packages/pandas/io/parsers/base_parser.py\u001b[0m in \u001b[0;36m_open_handles\u001b[0;34m(self, src, kwds)\u001b[0m\n\u001b[1;32m    220\u001b[0m         \u001b[0mLet\u001b[0m \u001b[0mthe\u001b[0m \u001b[0mreaders\u001b[0m \u001b[0mopen\u001b[0m \u001b[0mIOHandles\u001b[0m \u001b[0mafter\u001b[0m \u001b[0mthey\u001b[0m \u001b[0mare\u001b[0m \u001b[0mdone\u001b[0m \u001b[0;32mwith\u001b[0m \u001b[0mtheir\u001b[0m \u001b[0mpotential\u001b[0m \u001b[0mraises\u001b[0m\u001b[0;34m.\u001b[0m\u001b[0;34m\u001b[0m\u001b[0;34m\u001b[0m\u001b[0m\n\u001b[1;32m    221\u001b[0m         \"\"\"\n\u001b[0;32m--> 222\u001b[0;31m         self.handles = get_handle(\n\u001b[0m\u001b[1;32m    223\u001b[0m             \u001b[0msrc\u001b[0m\u001b[0;34m,\u001b[0m\u001b[0;34m\u001b[0m\u001b[0;34m\u001b[0m\u001b[0m\n\u001b[1;32m    224\u001b[0m             \u001b[0;34m\"r\"\u001b[0m\u001b[0;34m,\u001b[0m\u001b[0;34m\u001b[0m\u001b[0;34m\u001b[0m\u001b[0m\n",
      "\u001b[0;32m~/.pyenv/versions/3.9.7/envs/sci2/lib/python3.9/site-packages/pandas/io/common.py\u001b[0m in \u001b[0;36mget_handle\u001b[0;34m(path_or_buf, mode, encoding, compression, memory_map, is_text, errors, storage_options)\u001b[0m\n\u001b[1;32m    700\u001b[0m         \u001b[0;32mif\u001b[0m \u001b[0mioargs\u001b[0m\u001b[0;34m.\u001b[0m\u001b[0mencoding\u001b[0m \u001b[0;32mand\u001b[0m \u001b[0;34m\"b\"\u001b[0m \u001b[0;32mnot\u001b[0m \u001b[0;32min\u001b[0m \u001b[0mioargs\u001b[0m\u001b[0;34m.\u001b[0m\u001b[0mmode\u001b[0m\u001b[0;34m:\u001b[0m\u001b[0;34m\u001b[0m\u001b[0;34m\u001b[0m\u001b[0m\n\u001b[1;32m    701\u001b[0m             \u001b[0;31m# Encoding\u001b[0m\u001b[0;34m\u001b[0m\u001b[0;34m\u001b[0m\u001b[0m\n\u001b[0;32m--> 702\u001b[0;31m             handle = open(\n\u001b[0m\u001b[1;32m    703\u001b[0m                 \u001b[0mhandle\u001b[0m\u001b[0;34m,\u001b[0m\u001b[0;34m\u001b[0m\u001b[0;34m\u001b[0m\u001b[0m\n\u001b[1;32m    704\u001b[0m                 \u001b[0mioargs\u001b[0m\u001b[0;34m.\u001b[0m\u001b[0mmode\u001b[0m\u001b[0;34m,\u001b[0m\u001b[0;34m\u001b[0m\u001b[0;34m\u001b[0m\u001b[0m\n",
      "\u001b[0;31mFileNotFoundError\u001b[0m: [Errno 2] No such file or directory: '../Data/eir.csv'"
     ]
    }
   ],
   "source": [
    "eir = pd.read_csv(\"../Data/eir.csv\")\n",
    "ghana_eir = eir[eir[\"Country\"] == \"Ghana\"]"
   ]
  },
  {
   "cell_type": "code",
   "execution_count": 124,
   "metadata": {
    "collapsed": false,
    "jupyter": {
     "outputs_hidden": false
    },
    "pycharm": {
     "name": "#%%\n"
    }
   },
   "outputs": [
    {
     "data": {
      "text/plain": [
       "<AxesSubplot:xlabel='setting', ylabel='eir'>"
      ]
     },
     "execution_count": 124,
     "metadata": {},
     "output_type": "execute_result"
    },
    {
     "data": {
      "image/png": "[encoded data removed]",
      "text/plain": [
       "<Figure size 432x288 with 1 Axes>"
      ]
     },
     "metadata": {},
     "output_type": "display_data"
    }
   ],
   "source": [
    "sns.boxplot(data=eir, y=\"eir\", x=\"setting\", showfliers=False)"
   ]
  },
  {
   "cell_type": "code",
   "execution_count": 125,
   "metadata": {
    "collapsed": false,
    "jupyter": {
     "outputs_hidden": false
    },
    "pycharm": {
     "name": "#%%\n"
    }
   },
   "outputs": [
    {
     "data": {
      "text/plain": [
       "<AxesSubplot:xlabel='Year_Catagorical', ylabel='eir'>"
      ]
     },
     "execution_count": 125,
     "metadata": {},
     "output_type": "execute_result"
    },
    {
     "data": {
      "image/png": "[encoded data removed]",
      "text/plain": [
       "<Figure size 432x288 with 1 Axes>"
      ]
     },
     "metadata": {},
     "output_type": "display_data"
    }
   ],
   "source": [
    "eir[\"Year_Catagorical\"] = eir[\"Year\"] // 10 * 10\n",
    "sns.boxenplot(data=eir, y=\"eir\", x=\"Year_Catagorical\", showfliers=False)"
   ]
  },
  {
   "cell_type": "code",
   "execution_count": 126,
   "metadata": {
    "collapsed": false,
    "jupyter": {
     "outputs_hidden": false
    },
    "pycharm": {
     "name": "#%%\n"
    }
   },
   "outputs": [
    {
     "data": {
      "text/plain": [
       "(array([0, 1, 2, 3, 4]),\n",
       " [Text(0, 0, 'ashanti'),\n",
       "  Text(1, 0, 'Bono'),\n",
       "  Text(2, 0, 'Bono east'),\n",
       "  Text(3, 0, 'Greater Accra'),\n",
       "  Text(4, 0, 'Upper east')])"
      ]
     },
     "execution_count": 126,
     "metadata": {},
     "output_type": "execute_result"
    },
    {
     "data": {
      "image/png": "[encoded data removed]",
      "text/plain": [
       "<Figure size 432x288 with 1 Axes>"
      ]
     },
     "metadata": {},
     "output_type": "display_data"
    }
   ],
   "source": [
    "# plot ghana eir data\n",
    "# TODO: To include 95%CI low and high data.\n",
    "g = sns.swarmplot(data=ghana_eir, y=\"eir\", x=\"adm1\")\n",
    "plt.xticks(rotation=45)"
   ]
  },
  {
   "cell_type": "markdown",
   "metadata": {},
   "source": [
    "### Ghana EIR calculation and missing provinces data estimation\n",
    "\n",
    "1. search through papers to find eir dataset\n",
    "2. generate existing dataset\n",
    "3. check availability for adm1\n",
    "4. calculate eir for available adm1 region\n",
    "5. estimate eir for unavailable adm1 region"
   ]
  },
  {
   "cell_type": "code",
   "execution_count": 129,
   "metadata": {
    "collapsed": false,
    "jupyter": {
     "outputs_hidden": false
    },
    "pycharm": {
     "name": "#%%\n"
    }
   },
   "outputs": [
    {
     "data": {
      "text/plain": [
       "<AxesSubplot:xlabel='adm1'>"
      ]
     },
     "execution_count": 129,
     "metadata": {},
     "output_type": "execute_result"
    },
    {
     "data": {
      "image/png": "[encoded data removed]",
      "text/plain": [
       "<Figure size 432x288 with 1 Axes>"
      ]
     },
     "metadata": {},
     "output_type": "display_data"
    }
   ],
   "source": [
    "gha_eir = ghana_eir.groupby(by=\"adm1\").mean()\n",
    "gha_eir = gha_eir[\"eir\"]\n",
    "gha_eir = demographic.reformat.adm1_name(gha_eir)\n",
    "gha_eir\n",
    "gha[\"eir\"] = gha_eir\n",
    "\n",
    "gha = util.missing_data_interpolate(\n",
    "    df=gha, neighbour=gha_adjacent_provinces, column=\"eir\", round_n=10\n",
    ")\n",
    "\n",
    "gha[\"eir\"].plot.bar()"
   ]
  },
  {
   "cell_type": "markdown",
   "metadata": {},
   "source": [
    "## Treatment seeking\n",
    "\n",
    "Data source - WHO/GMP\n",
    "Latest data - 2016\n",
    "\n",
    "- **any_treat** - percentage of treatment from public sector **and** private sector\n",
    "- **pub_treat** - data from **only** public sector"
   ]
  },
  {
   "cell_type": "code",
   "execution_count": 130,
   "metadata": {
    "collapsed": false,
    "jupyter": {
     "outputs_hidden": false
    },
    "pycharm": {
     "name": "#%%\n"
    }
   },
   "outputs": [
    {
     "ename": "FileNotFoundError",
     "evalue": "[Errno 2] No such file or directory: '../Data/GHA/MAP_District_Estimates/Maps_byMAP_216districts/GHA_regional_DHS_treatment_seeking/GHA_TreatmentSeeking.csv'",
     "output_type": "error",
     "traceback": [
      "\u001b[0;31m---------------------------------------------------------------------------\u001b[0m",
      "\u001b[0;31mFileNotFoundError\u001b[0m                         Traceback (most recent call last)",
      "\u001b[0;32m/var/folders/jw/1fjpkkvx6wz8tmmfqfklf4b80000gn/T/ipykernel_64822/1772167410.py\u001b[0m in \u001b[0;36m<module>\u001b[0;34m\u001b[0m\n\u001b[1;32m      1\u001b[0m \u001b[0;31m# 216 region\u001b[0m\u001b[0;34m\u001b[0m\u001b[0;34m\u001b[0m\u001b[0m\n\u001b[0;32m----> 2\u001b[0;31m treatment_seeking_216 = pd.read_csv(\n\u001b[0m\u001b[1;32m      3\u001b[0m     \u001b[0;34m\"../Data/GHA/MAP_District_Estimates/Maps_byMAP_216districts/GHA_regional_DHS_treatment_seeking/GHA_TreatmentSeeking.csv\"\u001b[0m\u001b[0;34m\u001b[0m\u001b[0;34m\u001b[0m\u001b[0m\n\u001b[1;32m      4\u001b[0m )\n\u001b[1;32m      5\u001b[0m \u001b[0mtreatment_seeking_216\u001b[0m \u001b[0;34m=\u001b[0m \u001b[0mtreatment_seeking_216\u001b[0m\u001b[0;34m.\u001b[0m\u001b[0mrename\u001b[0m\u001b[0;34m(\u001b[0m\u001b[0mcolumns\u001b[0m\u001b[0;34m=\u001b[0m\u001b[0;34m{\u001b[0m\u001b[0;34m\"REGNAME\"\u001b[0m\u001b[0;34m:\u001b[0m \u001b[0;34m\"adm1\"\u001b[0m\u001b[0;34m}\u001b[0m\u001b[0;34m)\u001b[0m\u001b[0;34m\u001b[0m\u001b[0;34m\u001b[0m\u001b[0m\n",
      "\u001b[0;32m~/.pyenv/versions/3.9.7/envs/sci2/lib/python3.9/site-packages/pandas/util/_decorators.py\u001b[0m in \u001b[0;36mwrapper\u001b[0;34m(*args, **kwargs)\u001b[0m\n\u001b[1;32m    309\u001b[0m                     \u001b[0mstacklevel\u001b[0m\u001b[0;34m=\u001b[0m\u001b[0mstacklevel\u001b[0m\u001b[0;34m,\u001b[0m\u001b[0;34m\u001b[0m\u001b[0;34m\u001b[0m\u001b[0m\n\u001b[1;32m    310\u001b[0m                 )\n\u001b[0;32m--> 311\u001b[0;31m             \u001b[0;32mreturn\u001b[0m \u001b[0mfunc\u001b[0m\u001b[0;34m(\u001b[0m\u001b[0;34m*\u001b[0m\u001b[0margs\u001b[0m\u001b[0;34m,\u001b[0m \u001b[0;34m**\u001b[0m\u001b[0mkwargs\u001b[0m\u001b[0;34m)\u001b[0m\u001b[0;34m\u001b[0m\u001b[0;34m\u001b[0m\u001b[0m\n\u001b[0m\u001b[1;32m    312\u001b[0m \u001b[0;34m\u001b[0m\u001b[0m\n\u001b[1;32m    313\u001b[0m         \u001b[0;32mreturn\u001b[0m \u001b[0mwrapper\u001b[0m\u001b[0;34m\u001b[0m\u001b[0;34m\u001b[0m\u001b[0m\n",
      "\u001b[0;32m~/.pyenv/versions/3.9.7/envs/sci2/lib/python3.9/site-packages/pandas/io/parsers/readers.py\u001b[0m in \u001b[0;36mread_csv\u001b[0;34m(filepath_or_buffer, sep, delimiter, header, names, index_col, usecols, squeeze, prefix, mangle_dupe_cols, dtype, engine, converters, true_values, false_values, skipinitialspace, skiprows, skipfooter, nrows, na_values, keep_default_na, na_filter, verbose, skip_blank_lines, parse_dates, infer_datetime_format, keep_date_col, date_parser, dayfirst, cache_dates, iterator, chunksize, compression, thousands, decimal, lineterminator, quotechar, quoting, doublequote, escapechar, comment, encoding, encoding_errors, dialect, error_bad_lines, warn_bad_lines, on_bad_lines, delim_whitespace, low_memory, memory_map, float_precision, storage_options)\u001b[0m\n\u001b[1;32m    584\u001b[0m     \u001b[0mkwds\u001b[0m\u001b[0;34m.\u001b[0m\u001b[0mupdate\u001b[0m\u001b[0;34m(\u001b[0m\u001b[0mkwds_defaults\u001b[0m\u001b[0;34m)\u001b[0m\u001b[0;34m\u001b[0m\u001b[0;34m\u001b[0m\u001b[0m\n\u001b[1;32m    585\u001b[0m \u001b[0;34m\u001b[0m\u001b[0m\n\u001b[0;32m--> 586\u001b[0;31m     \u001b[0;32mreturn\u001b[0m \u001b[0m_read\u001b[0m\u001b[0;34m(\u001b[0m\u001b[0mfilepath_or_buffer\u001b[0m\u001b[0;34m,\u001b[0m \u001b[0mkwds\u001b[0m\u001b[0;34m)\u001b[0m\u001b[0;34m\u001b[0m\u001b[0;34m\u001b[0m\u001b[0m\n\u001b[0m\u001b[1;32m    587\u001b[0m \u001b[0;34m\u001b[0m\u001b[0m\n\u001b[1;32m    588\u001b[0m \u001b[0;34m\u001b[0m\u001b[0m\n",
      "\u001b[0;32m~/.pyenv/versions/3.9.7/envs/sci2/lib/python3.9/site-packages/pandas/io/parsers/readers.py\u001b[0m in \u001b[0;36m_read\u001b[0;34m(filepath_or_buffer, kwds)\u001b[0m\n\u001b[1;32m    480\u001b[0m \u001b[0;34m\u001b[0m\u001b[0m\n\u001b[1;32m    481\u001b[0m     \u001b[0;31m# Create the parser.\u001b[0m\u001b[0;34m\u001b[0m\u001b[0;34m\u001b[0m\u001b[0m\n\u001b[0;32m--> 482\u001b[0;31m     \u001b[0mparser\u001b[0m \u001b[0;34m=\u001b[0m \u001b[0mTextFileReader\u001b[0m\u001b[0;34m(\u001b[0m\u001b[0mfilepath_or_buffer\u001b[0m\u001b[0;34m,\u001b[0m \u001b[0;34m**\u001b[0m\u001b[0mkwds\u001b[0m\u001b[0;34m)\u001b[0m\u001b[0;34m\u001b[0m\u001b[0;34m\u001b[0m\u001b[0m\n\u001b[0m\u001b[1;32m    483\u001b[0m \u001b[0;34m\u001b[0m\u001b[0m\n\u001b[1;32m    484\u001b[0m     \u001b[0;32mif\u001b[0m \u001b[0mchunksize\u001b[0m \u001b[0;32mor\u001b[0m \u001b[0miterator\u001b[0m\u001b[0;34m:\u001b[0m\u001b[0;34m\u001b[0m\u001b[0;34m\u001b[0m\u001b[0m\n",
      "\u001b[0;32m~/.pyenv/versions/3.9.7/envs/sci2/lib/python3.9/site-packages/pandas/io/parsers/readers.py\u001b[0m in \u001b[0;36m__init__\u001b[0;34m(self, f, engine, **kwds)\u001b[0m\n\u001b[1;32m    809\u001b[0m             \u001b[0mself\u001b[0m\u001b[0;34m.\u001b[0m\u001b[0moptions\u001b[0m\u001b[0;34m[\u001b[0m\u001b[0;34m\"has_index_names\"\u001b[0m\u001b[0;34m]\u001b[0m \u001b[0;34m=\u001b[0m \u001b[0mkwds\u001b[0m\u001b[0;34m[\u001b[0m\u001b[0;34m\"has_index_names\"\u001b[0m\u001b[0;34m]\u001b[0m\u001b[0;34m\u001b[0m\u001b[0;34m\u001b[0m\u001b[0m\n\u001b[1;32m    810\u001b[0m \u001b[0;34m\u001b[0m\u001b[0m\n\u001b[0;32m--> 811\u001b[0;31m         \u001b[0mself\u001b[0m\u001b[0;34m.\u001b[0m\u001b[0m_engine\u001b[0m \u001b[0;34m=\u001b[0m \u001b[0mself\u001b[0m\u001b[0;34m.\u001b[0m\u001b[0m_make_engine\u001b[0m\u001b[0;34m(\u001b[0m\u001b[0mself\u001b[0m\u001b[0;34m.\u001b[0m\u001b[0mengine\u001b[0m\u001b[0;34m)\u001b[0m\u001b[0;34m\u001b[0m\u001b[0;34m\u001b[0m\u001b[0m\n\u001b[0m\u001b[1;32m    812\u001b[0m \u001b[0;34m\u001b[0m\u001b[0m\n\u001b[1;32m    813\u001b[0m     \u001b[0;32mdef\u001b[0m \u001b[0mclose\u001b[0m\u001b[0;34m(\u001b[0m\u001b[0mself\u001b[0m\u001b[0;34m)\u001b[0m\u001b[0;34m:\u001b[0m\u001b[0;34m\u001b[0m\u001b[0;34m\u001b[0m\u001b[0m\n",
      "\u001b[0;32m~/.pyenv/versions/3.9.7/envs/sci2/lib/python3.9/site-packages/pandas/io/parsers/readers.py\u001b[0m in \u001b[0;36m_make_engine\u001b[0;34m(self, engine)\u001b[0m\n\u001b[1;32m   1038\u001b[0m             )\n\u001b[1;32m   1039\u001b[0m         \u001b[0;31m# error: Too many arguments for \"ParserBase\"\u001b[0m\u001b[0;34m\u001b[0m\u001b[0;34m\u001b[0m\u001b[0m\n\u001b[0;32m-> 1040\u001b[0;31m         \u001b[0;32mreturn\u001b[0m \u001b[0mmapping\u001b[0m\u001b[0;34m[\u001b[0m\u001b[0mengine\u001b[0m\u001b[0;34m]\u001b[0m\u001b[0;34m(\u001b[0m\u001b[0mself\u001b[0m\u001b[0;34m.\u001b[0m\u001b[0mf\u001b[0m\u001b[0;34m,\u001b[0m \u001b[0;34m**\u001b[0m\u001b[0mself\u001b[0m\u001b[0;34m.\u001b[0m\u001b[0moptions\u001b[0m\u001b[0;34m)\u001b[0m  \u001b[0;31m# type: ignore[call-arg]\u001b[0m\u001b[0;34m\u001b[0m\u001b[0;34m\u001b[0m\u001b[0m\n\u001b[0m\u001b[1;32m   1041\u001b[0m \u001b[0;34m\u001b[0m\u001b[0m\n\u001b[1;32m   1042\u001b[0m     \u001b[0;32mdef\u001b[0m \u001b[0m_failover_to_python\u001b[0m\u001b[0;34m(\u001b[0m\u001b[0mself\u001b[0m\u001b[0;34m)\u001b[0m\u001b[0;34m:\u001b[0m\u001b[0;34m\u001b[0m\u001b[0;34m\u001b[0m\u001b[0m\n",
      "\u001b[0;32m~/.pyenv/versions/3.9.7/envs/sci2/lib/python3.9/site-packages/pandas/io/parsers/c_parser_wrapper.py\u001b[0m in \u001b[0;36m__init__\u001b[0;34m(self, src, **kwds)\u001b[0m\n\u001b[1;32m     49\u001b[0m \u001b[0;34m\u001b[0m\u001b[0m\n\u001b[1;32m     50\u001b[0m         \u001b[0;31m# open handles\u001b[0m\u001b[0;34m\u001b[0m\u001b[0;34m\u001b[0m\u001b[0m\n\u001b[0;32m---> 51\u001b[0;31m         \u001b[0mself\u001b[0m\u001b[0;34m.\u001b[0m\u001b[0m_open_handles\u001b[0m\u001b[0;34m(\u001b[0m\u001b[0msrc\u001b[0m\u001b[0;34m,\u001b[0m \u001b[0mkwds\u001b[0m\u001b[0;34m)\u001b[0m\u001b[0;34m\u001b[0m\u001b[0;34m\u001b[0m\u001b[0m\n\u001b[0m\u001b[1;32m     52\u001b[0m         \u001b[0;32massert\u001b[0m \u001b[0mself\u001b[0m\u001b[0;34m.\u001b[0m\u001b[0mhandles\u001b[0m \u001b[0;32mis\u001b[0m \u001b[0;32mnot\u001b[0m \u001b[0;32mNone\u001b[0m\u001b[0;34m\u001b[0m\u001b[0;34m\u001b[0m\u001b[0m\n\u001b[1;32m     53\u001b[0m \u001b[0;34m\u001b[0m\u001b[0m\n",
      "\u001b[0;32m~/.pyenv/versions/3.9.7/envs/sci2/lib/python3.9/site-packages/pandas/io/parsers/base_parser.py\u001b[0m in \u001b[0;36m_open_handles\u001b[0;34m(self, src, kwds)\u001b[0m\n\u001b[1;32m    220\u001b[0m         \u001b[0mLet\u001b[0m \u001b[0mthe\u001b[0m \u001b[0mreaders\u001b[0m \u001b[0mopen\u001b[0m \u001b[0mIOHandles\u001b[0m \u001b[0mafter\u001b[0m \u001b[0mthey\u001b[0m \u001b[0mare\u001b[0m \u001b[0mdone\u001b[0m \u001b[0;32mwith\u001b[0m \u001b[0mtheir\u001b[0m \u001b[0mpotential\u001b[0m \u001b[0mraises\u001b[0m\u001b[0;34m.\u001b[0m\u001b[0;34m\u001b[0m\u001b[0;34m\u001b[0m\u001b[0m\n\u001b[1;32m    221\u001b[0m         \"\"\"\n\u001b[0;32m--> 222\u001b[0;31m         self.handles = get_handle(\n\u001b[0m\u001b[1;32m    223\u001b[0m             \u001b[0msrc\u001b[0m\u001b[0;34m,\u001b[0m\u001b[0;34m\u001b[0m\u001b[0;34m\u001b[0m\u001b[0m\n\u001b[1;32m    224\u001b[0m             \u001b[0;34m\"r\"\u001b[0m\u001b[0;34m,\u001b[0m\u001b[0;34m\u001b[0m\u001b[0;34m\u001b[0m\u001b[0m\n",
      "\u001b[0;32m~/.pyenv/versions/3.9.7/envs/sci2/lib/python3.9/site-packages/pandas/io/common.py\u001b[0m in \u001b[0;36mget_handle\u001b[0;34m(path_or_buf, mode, encoding, compression, memory_map, is_text, errors, storage_options)\u001b[0m\n\u001b[1;32m    700\u001b[0m         \u001b[0;32mif\u001b[0m \u001b[0mioargs\u001b[0m\u001b[0;34m.\u001b[0m\u001b[0mencoding\u001b[0m \u001b[0;32mand\u001b[0m \u001b[0;34m\"b\"\u001b[0m \u001b[0;32mnot\u001b[0m \u001b[0;32min\u001b[0m \u001b[0mioargs\u001b[0m\u001b[0;34m.\u001b[0m\u001b[0mmode\u001b[0m\u001b[0;34m:\u001b[0m\u001b[0;34m\u001b[0m\u001b[0;34m\u001b[0m\u001b[0m\n\u001b[1;32m    701\u001b[0m             \u001b[0;31m# Encoding\u001b[0m\u001b[0;34m\u001b[0m\u001b[0;34m\u001b[0m\u001b[0m\n\u001b[0;32m--> 702\u001b[0;31m             handle = open(\n\u001b[0m\u001b[1;32m    703\u001b[0m                 \u001b[0mhandle\u001b[0m\u001b[0;34m,\u001b[0m\u001b[0;34m\u001b[0m\u001b[0;34m\u001b[0m\u001b[0m\n\u001b[1;32m    704\u001b[0m                 \u001b[0mioargs\u001b[0m\u001b[0;34m.\u001b[0m\u001b[0mmode\u001b[0m\u001b[0;34m,\u001b[0m\u001b[0;34m\u001b[0m\u001b[0;34m\u001b[0m\u001b[0m\n",
      "\u001b[0;31mFileNotFoundError\u001b[0m: [Errno 2] No such file or directory: '../Data/GHA/MAP_District_Estimates/Maps_byMAP_216districts/GHA_regional_DHS_treatment_seeking/GHA_TreatmentSeeking.csv'"
     ]
    }
   ],
   "source": [
    "# 216 region\n",
    "treatment_seeking_216 = pd.read_csv(\n",
    "    \"../Data/GHA/MAP_District_Estimates/Maps_byMAP_216districts/GHA_regional_DHS_treatment_seeking/GHA_TreatmentSeeking.csv\"\n",
    ")\n",
    "treatment_seeking_216 = treatment_seeking_216.rename(columns={\"REGNAME\": \"adm1\"})\n",
    "treatment_seeking_216 = treatment_seeking_216[[\"adm1\", \"any_treat\", \"pub_treat\"]]\n",
    "\n",
    "ax = treatment_seeking_216.plot(kind=\"bar\")\n",
    "##ax.set_xticks(treatment_seeking_216[['adm1']])\n",
    "ax.set_xticklabels(treatment_seeking_216[\"adm1\"])\n",
    "\n",
    "##treatment_seeking_216[['adm1']]\n",
    "treatment_seeking_216"
   ]
  },
  {
   "cell_type": "code",
   "execution_count": 128,
   "metadata": {
    "collapsed": false,
    "jupyter": {
     "outputs_hidden": false
    },
    "pycharm": {
     "name": "#%%\n"
    }
   },
   "outputs": [
    {
     "ename": "FileNotFoundError",
     "evalue": "[Errno 2] No such file or directory: '../Data/GHA/MIS-DHS_data/GHA_treatment_seeking_tprs_adm1_16regions.xlsx'",
     "output_type": "error",
     "traceback": [
      "\u001b[0;31m---------------------------------------------------------------------------\u001b[0m",
      "\u001b[0;31mFileNotFoundError\u001b[0m                         Traceback (most recent call last)",
      "\u001b[0;32m/var/folders/jw/1fjpkkvx6wz8tmmfqfklf4b80000gn/T/ipykernel_64822/2665712468.py\u001b[0m in \u001b[0;36m<module>\u001b[0;34m\u001b[0m\n\u001b[1;32m      1\u001b[0m \u001b[0;31m# 260 region\u001b[0m\u001b[0;34m\u001b[0m\u001b[0;34m\u001b[0m\u001b[0m\n\u001b[1;32m      2\u001b[0m \u001b[0;34m\u001b[0m\u001b[0m\n\u001b[0;32m----> 3\u001b[0;31m treatment_seeking_260 = pd.read_excel(\n\u001b[0m\u001b[1;32m      4\u001b[0m     \u001b[0;34m\"../Data/GHA/MIS-DHS_data/GHA_treatment_seeking_tprs_adm1_16regions.xlsx\"\u001b[0m\u001b[0;34m,\u001b[0m \u001b[0;34m\"Sheet\"\u001b[0m\u001b[0;34m\u001b[0m\u001b[0;34m\u001b[0m\u001b[0m\n\u001b[1;32m      5\u001b[0m )\n",
      "\u001b[0;32m~/.pyenv/versions/3.9.7/envs/sci2/lib/python3.9/site-packages/pandas/util/_decorators.py\u001b[0m in \u001b[0;36mwrapper\u001b[0;34m(*args, **kwargs)\u001b[0m\n\u001b[1;32m    309\u001b[0m                     \u001b[0mstacklevel\u001b[0m\u001b[0;34m=\u001b[0m\u001b[0mstacklevel\u001b[0m\u001b[0;34m,\u001b[0m\u001b[0;34m\u001b[0m\u001b[0;34m\u001b[0m\u001b[0m\n\u001b[1;32m    310\u001b[0m                 )\n\u001b[0;32m--> 311\u001b[0;31m             \u001b[0;32mreturn\u001b[0m \u001b[0mfunc\u001b[0m\u001b[0;34m(\u001b[0m\u001b[0;34m*\u001b[0m\u001b[0margs\u001b[0m\u001b[0;34m,\u001b[0m \u001b[0;34m**\u001b[0m\u001b[0mkwargs\u001b[0m\u001b[0;34m)\u001b[0m\u001b[0;34m\u001b[0m\u001b[0;34m\u001b[0m\u001b[0m\n\u001b[0m\u001b[1;32m    312\u001b[0m \u001b[0;34m\u001b[0m\u001b[0m\n\u001b[1;32m    313\u001b[0m         \u001b[0;32mreturn\u001b[0m \u001b[0mwrapper\u001b[0m\u001b[0;34m\u001b[0m\u001b[0;34m\u001b[0m\u001b[0m\n",
      "\u001b[0;32m~/.pyenv/versions/3.9.7/envs/sci2/lib/python3.9/site-packages/pandas/io/excel/_base.py\u001b[0m in \u001b[0;36mread_excel\u001b[0;34m(io, sheet_name, header, names, index_col, usecols, squeeze, dtype, engine, converters, true_values, false_values, skiprows, nrows, na_values, keep_default_na, na_filter, verbose, parse_dates, date_parser, thousands, comment, skipfooter, convert_float, mangle_dupe_cols, storage_options)\u001b[0m\n\u001b[1;32m    362\u001b[0m     \u001b[0;32mif\u001b[0m \u001b[0;32mnot\u001b[0m \u001b[0misinstance\u001b[0m\u001b[0;34m(\u001b[0m\u001b[0mio\u001b[0m\u001b[0;34m,\u001b[0m \u001b[0mExcelFile\u001b[0m\u001b[0;34m)\u001b[0m\u001b[0;34m:\u001b[0m\u001b[0;34m\u001b[0m\u001b[0;34m\u001b[0m\u001b[0m\n\u001b[1;32m    363\u001b[0m         \u001b[0mshould_close\u001b[0m \u001b[0;34m=\u001b[0m \u001b[0;32mTrue\u001b[0m\u001b[0;34m\u001b[0m\u001b[0;34m\u001b[0m\u001b[0m\n\u001b[0;32m--> 364\u001b[0;31m         \u001b[0mio\u001b[0m \u001b[0;34m=\u001b[0m \u001b[0mExcelFile\u001b[0m\u001b[0;34m(\u001b[0m\u001b[0mio\u001b[0m\u001b[0;34m,\u001b[0m \u001b[0mstorage_options\u001b[0m\u001b[0;34m=\u001b[0m\u001b[0mstorage_options\u001b[0m\u001b[0;34m,\u001b[0m \u001b[0mengine\u001b[0m\u001b[0;34m=\u001b[0m\u001b[0mengine\u001b[0m\u001b[0;34m)\u001b[0m\u001b[0;34m\u001b[0m\u001b[0;34m\u001b[0m\u001b[0m\n\u001b[0m\u001b[1;32m    365\u001b[0m     \u001b[0;32melif\u001b[0m \u001b[0mengine\u001b[0m \u001b[0;32mand\u001b[0m \u001b[0mengine\u001b[0m \u001b[0;34m!=\u001b[0m \u001b[0mio\u001b[0m\u001b[0;34m.\u001b[0m\u001b[0mengine\u001b[0m\u001b[0;34m:\u001b[0m\u001b[0;34m\u001b[0m\u001b[0;34m\u001b[0m\u001b[0m\n\u001b[1;32m    366\u001b[0m         raise ValueError(\n",
      "\u001b[0;32m~/.pyenv/versions/3.9.7/envs/sci2/lib/python3.9/site-packages/pandas/io/excel/_base.py\u001b[0m in \u001b[0;36m__init__\u001b[0;34m(self, path_or_buffer, engine, storage_options)\u001b[0m\n\u001b[1;32m   1189\u001b[0m                 \u001b[0mext\u001b[0m \u001b[0;34m=\u001b[0m \u001b[0;34m\"xls\"\u001b[0m\u001b[0;34m\u001b[0m\u001b[0;34m\u001b[0m\u001b[0m\n\u001b[1;32m   1190\u001b[0m             \u001b[0;32melse\u001b[0m\u001b[0;34m:\u001b[0m\u001b[0;34m\u001b[0m\u001b[0;34m\u001b[0m\u001b[0m\n\u001b[0;32m-> 1191\u001b[0;31m                 ext = inspect_excel_format(\n\u001b[0m\u001b[1;32m   1192\u001b[0m                     \u001b[0mcontent_or_path\u001b[0m\u001b[0;34m=\u001b[0m\u001b[0mpath_or_buffer\u001b[0m\u001b[0;34m,\u001b[0m \u001b[0mstorage_options\u001b[0m\u001b[0;34m=\u001b[0m\u001b[0mstorage_options\u001b[0m\u001b[0;34m\u001b[0m\u001b[0;34m\u001b[0m\u001b[0m\n\u001b[1;32m   1193\u001b[0m                 )\n",
      "\u001b[0;32m~/.pyenv/versions/3.9.7/envs/sci2/lib/python3.9/site-packages/pandas/io/excel/_base.py\u001b[0m in \u001b[0;36minspect_excel_format\u001b[0;34m(content_or_path, storage_options)\u001b[0m\n\u001b[1;32m   1068\u001b[0m         \u001b[0mcontent_or_path\u001b[0m \u001b[0;34m=\u001b[0m \u001b[0mBytesIO\u001b[0m\u001b[0;34m(\u001b[0m\u001b[0mcontent_or_path\u001b[0m\u001b[0;34m)\u001b[0m\u001b[0;34m\u001b[0m\u001b[0;34m\u001b[0m\u001b[0m\n\u001b[1;32m   1069\u001b[0m \u001b[0;34m\u001b[0m\u001b[0m\n\u001b[0;32m-> 1070\u001b[0;31m     with get_handle(\n\u001b[0m\u001b[1;32m   1071\u001b[0m         \u001b[0mcontent_or_path\u001b[0m\u001b[0;34m,\u001b[0m \u001b[0;34m\"rb\"\u001b[0m\u001b[0;34m,\u001b[0m \u001b[0mstorage_options\u001b[0m\u001b[0;34m=\u001b[0m\u001b[0mstorage_options\u001b[0m\u001b[0;34m,\u001b[0m \u001b[0mis_text\u001b[0m\u001b[0;34m=\u001b[0m\u001b[0;32mFalse\u001b[0m\u001b[0;34m\u001b[0m\u001b[0;34m\u001b[0m\u001b[0m\n\u001b[1;32m   1072\u001b[0m     ) as handle:\n",
      "\u001b[0;32m~/.pyenv/versions/3.9.7/envs/sci2/lib/python3.9/site-packages/pandas/io/common.py\u001b[0m in \u001b[0;36mget_handle\u001b[0;34m(path_or_buf, mode, encoding, compression, memory_map, is_text, errors, storage_options)\u001b[0m\n\u001b[1;32m    709\u001b[0m         \u001b[0;32melse\u001b[0m\u001b[0;34m:\u001b[0m\u001b[0;34m\u001b[0m\u001b[0;34m\u001b[0m\u001b[0m\n\u001b[1;32m    710\u001b[0m             \u001b[0;31m# Binary mode\u001b[0m\u001b[0;34m\u001b[0m\u001b[0;34m\u001b[0m\u001b[0m\n\u001b[0;32m--> 711\u001b[0;31m             \u001b[0mhandle\u001b[0m \u001b[0;34m=\u001b[0m \u001b[0mopen\u001b[0m\u001b[0;34m(\u001b[0m\u001b[0mhandle\u001b[0m\u001b[0;34m,\u001b[0m \u001b[0mioargs\u001b[0m\u001b[0;34m.\u001b[0m\u001b[0mmode\u001b[0m\u001b[0;34m)\u001b[0m\u001b[0;34m\u001b[0m\u001b[0;34m\u001b[0m\u001b[0m\n\u001b[0m\u001b[1;32m    712\u001b[0m         \u001b[0mhandles\u001b[0m\u001b[0;34m.\u001b[0m\u001b[0mappend\u001b[0m\u001b[0;34m(\u001b[0m\u001b[0mhandle\u001b[0m\u001b[0;34m)\u001b[0m\u001b[0;34m\u001b[0m\u001b[0;34m\u001b[0m\u001b[0m\n\u001b[1;32m    713\u001b[0m \u001b[0;34m\u001b[0m\u001b[0m\n",
      "\u001b[0;31mFileNotFoundError\u001b[0m: [Errno 2] No such file or directory: '../Data/GHA/MIS-DHS_data/GHA_treatment_seeking_tprs_adm1_16regions.xlsx'"
     ]
    }
   ],
   "source": [
    "# 260 region\n",
    "\n",
    "treatment_seeking_260 = pd.read_excel(\n",
    "    \"../Data/GHA/MIS-DHS_data/GHA_treatment_seeking_tprs_adm1_16regions.xlsx\", \"Sheet\"\n",
    ")\n",
    "treatment_seeking_260 = treatment_seeking_260[[\"adm1\", \"pub_treat\"]]\n",
    "treatment_seeking_260 = treatment_seeking_260.rename(\n",
    "    columns={\"pub_treat\": \"treatment_seeking\"}\n",
    ")\n",
    "\n",
    "treatment_seeking_260 = demographic.reformat.adm1_name(\n",
    "    df=treatment_seeking_260, original_column_name=\"adm1\"\n",
    ")\n",
    "treatment_seeking_260\n",
    "\n",
    "ax = treatment_seeking_260.plot(kind=\"bar\")\n",
    "##ax.set_xticks(treatment_seeking_216[['adm1']])"
   ]
  },
  {
   "cell_type": "code",
   "execution_count": null,
   "metadata": {
    "collapsed": false,
    "jupyter": {
     "outputs_hidden": false
    },
    "pycharm": {
     "name": "#%%\n"
    }
   },
   "outputs": [],
   "source": [
    "gha = pd.merge(\n",
    "    left=gha, right=treatment_seeking_260, how=\"left\", left_index=True, right_index=True\n",
    ")\n",
    "gha[\"treatment_seeking\"]"
   ]
  },
  {
   "cell_type": "markdown",
   "metadata": {},
   "source": [
    "# Map ploting with Shapefile in PYTHON"
   ]
  },
  {
   "cell_type": "code",
   "execution_count": null,
   "metadata": {
    "collapsed": false,
    "jupyter": {
     "outputs_hidden": false
    },
    "pycharm": {
     "name": "#%%\n"
    }
   },
   "outputs": [],
   "source": [
    "# shapefile\n",
    "gha_shape = shapefile.Reader(\n",
    "    \"../Data/GHA/WHO_Health_District_Shapefiles/Ghana _Shape_260 Districts_Boundary. 26.06.2019/260_Districts_of_Ghana\"\n",
    ")\n",
    "shapes = gha_shape.shapes()"
   ]
  },
  {
   "cell_type": "code",
   "execution_count": null,
   "metadata": {
    "collapsed": false,
    "jupyter": {
     "outputs_hidden": false
    },
    "pycharm": {
     "name": "#%%\n"
    }
   },
   "outputs": [],
   "source": [
    "# for shape in shapes:\n",
    "#     for point in shape.points:\n",
    "#         x,y = point\n",
    "#         plt.plot(x,y)\n",
    "# plt.show()"
   ]
  },
  {
   "cell_type": "code",
   "execution_count": null,
   "metadata": {
    "collapsed": false,
    "jupyter": {
     "outputs_hidden": false
    },
    "pycharm": {
     "name": "#%%\n"
    }
   },
   "outputs": [],
   "source": [
    "gha_shape.records()\n",
    "\n",
    "\n",
    "def read_shapefile(sf):\n",
    "    \"\"\"\n",
    "    Read a shapefile into a Pandas dataframe with a 'coords'\n",
    "    column holding the geometry information. This uses the pyshp\n",
    "    package\n",
    "    \"\"\"\n",
    "    fields = [x[0] for x in sf.fields][1:]\n",
    "    records = sf.records()\n",
    "    shps = [s.points for s in sf.shapes()]\n",
    "    df = pd.DataFrame(columns=fields, data=records)\n",
    "    df = df.assign(coords=shps)\n",
    "    return df\n",
    "\n",
    "\n",
    "gha_shape_df = read_shapefile(gha_shape)\n",
    "gha_shape_df.shape\n",
    "gha_shape_df.sample(5)"
   ]
  },
  {
   "cell_type": "code",
   "execution_count": null,
   "metadata": {
    "collapsed": false,
    "jupyter": {
     "outputs_hidden": false
    },
    "pycharm": {
     "name": "#%%\n"
    }
   },
   "outputs": [],
   "source": [
    "def plot_shape(id, s=None, sf=None):\n",
    "    \"\"\"PLOTS A SINGLE SHAPE\"\"\"\n",
    "    plt.figure()\n",
    "    ax = plt.axes()\n",
    "    ax.set_aspect(\"equal\")\n",
    "    shape_ex = sf.shape(id)\n",
    "    x_lon = np.zeros((len(shape_ex.points), 1))\n",
    "    y_lat = np.zeros((len(shape_ex.points), 1))\n",
    "    for ip in range(len(shape_ex.points)):\n",
    "        x_lon[ip] = shape_ex.points[ip][0]\n",
    "        y_lat[ip] = shape_ex.points[ip][1]\n",
    "    plt.plot(x_lon, y_lat)\n",
    "    x0 = np.mean(x_lon)\n",
    "    y0 = np.mean(y_lat)\n",
    "    plt.text(x0, y0, s, fontsize=10)\n",
    "    # use bbox (bounding box) to set plot limits\n",
    "    plt.xlim(shape_ex.bbox[0], shape_ex.bbox[2])\n",
    "    return x0, y0\n",
    "\n",
    "\n",
    "def plot_map(sf, x_lim=None, y_lim=None, figsize=(11, 9)):\n",
    "    \"\"\"\n",
    "    Plot map with lim coordinates\n",
    "    \"\"\"\n",
    "    plt.figure(figsize=figsize)\n",
    "    id = 0\n",
    "    for shape in sf.shapeRecords():\n",
    "        x = [i[0] for i in shape.shape.points[:]]\n",
    "        y = [i[1] for i in shape.shape.points[:]]\n",
    "        plt.plot(x, y, \"k\")\n",
    "\n",
    "        # if (x_lim == None) & (y_lim == None):\n",
    "        #    x0 = np.mean(x)\n",
    "        #    y0 = np.mean(y)\n",
    "        #    plt.text(x0, y0, id, fontsize=10)\n",
    "        # id = id+1\n",
    "\n",
    "    if (x_lim != None) & (y_lim != None):\n",
    "        plt.xlim(x_lim)\n",
    "        plt.ylim(y_lim)\n",
    "\n",
    "\n",
    "plot_map(gha_shape, figsize=(10, 12))"
   ]
  },
  {
   "cell_type": "code",
   "execution_count": null,
   "metadata": {
    "collapsed": false,
    "jupyter": {
     "outputs_hidden": false
    },
    "pycharm": {
     "name": "#%%\n"
    }
   },
   "outputs": [],
   "source": [
    "# Export to models"
   ]
  },
  {
   "cell_type": "code",
   "execution_count": null,
   "metadata": {
    "collapsed": false,
    "jupyter": {
     "outputs_hidden": false
    },
    "pycharm": {
     "name": "#%%\n"
    }
   },
   "outputs": [],
   "source": [
    "gha.to_csv(\"../Data/GHA/gha.csv\")"
   ]
  },
  {
   "cell_type": "code",
   "execution_count": null,
   "metadata": {
    "collapsed": false,
    "jupyter": {
     "outputs_hidden": false
    },
    "pycharm": {
     "name": "#%%\n"
    }
   },
   "outputs": [],
   "source": [
    "root = etree.Element(\"root\")\n",
    "root.append(etree.Element(\"child1\"))\n",
    "root.tag"
   ]
  }
 ],
 "metadata": {
  "interpreter": {
   "hash": "9813974100264a9df9f1edeb4dd15208397b81eed2e9d6ee17f7d0680e568262"
  },
  "kernelspec": {
   "display_name": "Python 3 (ipykernel)",
   "language": "python",
   "name": "python3"
  },
  "language_info": {
   "codemirror_mode": {
    "name": "ipython",
    "version": 3
   },
   "file_extension": ".py",
   "mimetype": "text/x-python",
   "name": "python",
   "nbconvert_exporter": "python",
   "pygments_lexer": "ipython3",
   "version": "3.9.7"
  },
  "toc-autonumbering": true,
  "toc-showcode": false,
  "toc-showmarkdowntxt": false,
  "toc-showtags": false,
  "widgets": {
   "application/vnd.jupyter.widget-state+json": {
    "state": {},
    "version_major": 2,
    "version_minor": 0
   }
  }
 },
 "nbformat": 4,
 "nbformat_minor": 4
}
