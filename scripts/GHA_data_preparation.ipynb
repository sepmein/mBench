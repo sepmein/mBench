{
 "cells": [
  {
   "cell_type": "markdown",
   "source": [
    "# Malaria Modelling - benchmarking script \n",
    "\n",
    "## Programming\n",
    "### Python Package Importation\n",
    "\n",
    "This script use:\n",
    "- `pandas` - data importation, manipulation.\n",
    "- `seaborn` and `matplotlib` - plotting\n",
    "- `numpy` - matrix calculation\n",
    "- `jupyter notebook` - editing\n",
    "- `black` - formatting\n",
    "- `pyshp` - gis shape file\n",
    "- `lxml` - xml exporting"
   ],
   "metadata": {
    "collapsed": false
   }
  },
  {
   "cell_type": "code",
   "execution_count": 289,
   "outputs": [],
   "source": [
    "\n",
    "import math\n",
    "\n",
    "import matplotlib.pyplot as plt\n",
    "import numpy as np\n",
    "import pandas as pd\n",
    "import seaborn as sns\n",
    "import shapefile\n",
    "from lxml import etree\n",
    "\n",
    "from mbench.intervention import efficacy\n",
    "from mbench import demographic\n",
    "from mbench import mutil\n",
    "\n",
    "sns.set_theme(style=\"whitegrid\", palette=\"pastel\")"
   ],
   "metadata": {
    "collapsed": false,
    "pycharm": {
     "name": "#%%\n"
    }
   }
  },
  {
   "cell_type": "markdown",
   "source": [
    "### Create pandas dataframe for holding all data\n",
    "- load gha dataframe index from PHC summary\n",
    "- create columns using parameters list from Imperial model"
   ],
   "metadata": {
    "collapsed": false
   }
  },
  {
   "cell_type": "code",
   "execution_count": null,
   "outputs": [],
   "source": [
    "# index\n",
    "gha_demographic_adm1_2020_phc = pd.read_excel(\n",
    "    \"../Data/GHA/Demographic/2021_PHC/2021 PHC summary.xlsx\"\n",
    ")\n",
    "gha_demographic_adm1_2020_mean = gha_demographic_adm1_2020_phc[[\"region\", \"mean_age\"]]\n",
    "gha_demographic_adm1_2020_mean = demographic.reformat.adm1_name(\n",
    "    df=gha_demographic_adm1_2020_mean, original_column_name=\"region\"\n",
    ")"
   ],
   "metadata": {
    "collapsed": false,
    "pycharm": {
     "name": "#%%\n"
    }
   }
  },
  {
   "cell_type": "code",
   "execution_count": null,
   "outputs": [],
   "source": [
    "columns = [\n",
    "    \"eta\",\n",
    "    \"rho\",\n",
    "    \"a0\",\n",
    "    \"sigma2\",\n",
    "    \"max_age\",\n",
    "    \"rA\",\n",
    "    \"rT\",\n",
    "    \"rD\",\n",
    "    \"rU\",\n",
    "    \"rP\",\n",
    "    \"dE\",\n",
    "    \"delayGam\",\n",
    "    \"cD\",\n",
    "    \"cT\",\n",
    "    \"cU\",\n",
    "    \"gamma1\",\n",
    "    \"d1\",\n",
    "    \"dID\",\n",
    "    \"ID0\",\n",
    "    \"kD\",\n",
    "    \"uD\",\n",
    "    \"aD\",\n",
    "    \"fD0\",\n",
    "    \"gammaD\",\n",
    "    \"alphaA\",\n",
    "    \"alphaU\",\n",
    "    \"b0\",\n",
    "    \"b1\",\n",
    "    \"dB\",\n",
    "    \"IB0\",\n",
    "    \"kB\",\n",
    "    \"uB\",\n",
    "    \"phi0\",\n",
    "    \"phi1\",\n",
    "    \"dCA\",\n",
    "    \"IC0\",\n",
    "    \"kC\",\n",
    "    \"uCA\",\n",
    "    \"PM\",\n",
    "    \"dCM\",\n",
    "    \"delayMos\",\n",
    "    \"tau1\",\n",
    "    \"tau2\",\n",
    "    \"mu0\",\n",
    "    \"Q0\",\n",
    "    \"chi\",\n",
    "    \"bites_Bed\",\n",
    "    \"bites_Indoors\",\n",
    "    \"muEL\",\n",
    "    \"muLL\",\n",
    "    \"muPL\",\n",
    "    \"dEL\",\n",
    "    \"dLL\",\n",
    "    \"dPL\",\n",
    "    \"gammaL\",\n",
    "    \"km\",\n",
    "    \"cm\",\n",
    "    \"betaL\",\n",
    "    \"num_int\",\n",
    "    \"itn_cov\",\n",
    "    \"irs_cov\",\n",
    "    \"ITN_IRS_on\",\n",
    "    \"DY\",\n",
    "    \"d_ITN0\",\n",
    "    \"r_ITN0\",\n",
    "    \"r_ITN1\",\n",
    "    \"r_IRS0\",\n",
    "    \"d_IRS0\",\n",
    "    \"irs_half_life\",\n",
    "    \"itn_half_life\",\n",
    "    \"IRS_interval\",\n",
    "    \"ITN_interval\",\n",
    "]\n",
    "\n",
    "gha = pd.DataFrame(columns=columns, index=gha_demographic_adm1_2020_mean.index)"
   ],
   "metadata": {
    "collapsed": false,
    "pycharm": {
     "name": "#%%\n"
    }
   }
  },
  {
   "cell_type": "markdown",
   "source": [
    "### Load 216 vs 260 table\n",
    "\n",
    "From the year of xxxx, Ghana started to use the new 260 district system. From then on, the number of adm1 district increased from 10 to 16.\n",
    "\n",
    "As some old data were generated as the old district system, the following list was generated to readjust old data to new adm1 format."
   ],
   "metadata": {
    "collapsed": false
   }
  },
  {
   "cell_type": "code",
   "execution_count": null,
   "outputs": [],
   "source": [
    "district_216_260 = pd.read_csv(\"../Data/GHA/ADM1/216 to 260.csv\")\n",
    "district_216_260 = demographic.reformat.adm1_name(df=district_216_260, original_column_name='260')\n",
    "print(district_216_260)\n",
    "gha['old_district_name'] = district_216_260"
   ],
   "metadata": {
    "collapsed": false,
    "pycharm": {
     "name": "#%%\n"
    }
   }
  },
  {
   "cell_type": "markdown",
   "source": [
    "## Ghana Admin1 District coding\n",
    "\n",
    "### Coding\n",
    "\n",
    "This benchmarking practices is targeting at the adm1 level of district in Ghana.\n",
    "\n",
    "Code names of adm1 level was used for an unified experiences in the whole practices."
   ],
   "metadata": {
    "collapsed": false
   }
  },
  {
   "cell_type": "code",
   "execution_count": null,
   "outputs": [],
   "source": [
    "gha_admin1 = pd.read_csv(\"../Data/GHA/ADM1/admin.csv\")\n",
    "gha_admin1 = gha_admin1[[\"Subdivision name\", \"3166-2 code\"]]\n",
    "gha_admin1 = gha_admin1.rename(\n",
    "    columns={\"3166-2 code\": \"code\", \"Subdivision name\": \"adm1\"}\n",
    ")\n",
    "gha_admin1[\"adm1\"] = gha_admin1[\"adm1\"].map(lambda x: x.upper())\n",
    "gha_admin1 = demographic.reformat.adm1_name(df=gha_admin1, original_column_name=\"adm1\")\n",
    "gha_admin1"
   ],
   "metadata": {
    "collapsed": false,
    "pycharm": {
     "name": "#%%\n"
    }
   }
  },
  {
   "cell_type": "markdown",
   "source": [
    "### Adjacent ADM1 list\n",
    "![image of Ghana](../Data/Ghana_Regional_Map.png)"
   ],
   "metadata": {
    "collapsed": false
   }
  },
  {
   "cell_type": "code",
   "execution_count": null,
   "outputs": [],
   "source": [
    "# load adjacent\n",
    "gha_adjacent_provinces = pd.read_excel(\n",
    "    \"../Data/gha_adm_adjacent.xlsx\", sheet_name=\"adm1_adjacent\"\n",
    ")\n",
    "gha_adjacent_provinces = demographic.reformat.adm1_name(\n",
    "    df=gha_adjacent_provinces,\n",
    "    original_column_name=\"a\",\n",
    "    new_column_name=\"from\",\n",
    "    set_index=False,\n",
    ")\n",
    "gha_adjacent_provinces = demographic.reformat.adm1_name(\n",
    "    df=gha_adjacent_provinces,\n",
    "    original_column_name=\"b\",\n",
    "    new_column_name=\"to\",\n",
    "    set_index=False,\n",
    ")\n",
    "\n",
    "gha_adjacent_provinces"
   ],
   "metadata": {
    "collapsed": false,
    "pycharm": {
     "name": "#%%\n"
    }
   }
  },
  {
   "cell_type": "markdown",
   "source": [
    "## Demographic Data\n",
    "\n",
    "### Data loading\n",
    "Data source\n",
    "- Ghana.gov *PHC*\n",
    "- us.census\n",
    "\n",
    "The data source contains data from 1960 - 2020, datapoint of 2020 was used in this script.\n",
    "\n",
    "### 216 vs 260 district system\n",
    "\n",
    "Ghana switched to 260 district system in recent years. However, the old data still use 216 format. Need to pay attention."
   ],
   "metadata": {
    "collapsed": false
   }
  },
  {
   "cell_type": "code",
   "execution_count": null,
   "outputs": [],
   "source": [
    "# read data and get adm1 level demographic data\n",
    "gha_demographic_raw_data = pd.read_excel(\"../Data/GHA/demographic/ghana.xlsx\", \"Sheet2\")\n",
    "gha_demographic_adm1_raw_data = gha_demographic_raw_data.loc[\n",
    "    gha_demographic_raw_data[\"ADM_LEVEL\"] == 1\n",
    "    ]\n",
    "gha_demographic_adm1_raw_data = gha_demographic_adm1_raw_data.set_index(\n",
    "    keys=\"ADM1_NAME\"\n",
    ")\n",
    "# select the most recent 2020 data\n",
    "gha_demographic_adm1_raw_data_2020 = gha_demographic_adm1_raw_data.loc[\n",
    "                                     :, \"B0004_2020\":\"B80PL_2020\"\n",
    "                                     ]\n",
    "\n",
    "gha_demographic_adm1_raw_data_2020"
   ],
   "metadata": {
    "collapsed": false,
    "pycharm": {
     "name": "#%%\n"
    }
   }
  },
  {
   "cell_type": "markdown",
   "source": [
    "### Median Age for adm1 district\n",
    "\n",
    "1. Calculate total population\n",
    "2. Calculate median population number\n",
    "3. `.expanding` columns with `.cumsum` to get the according column\n",
    "4. subtract group label using `.bfill`, `.iloc` & `.idmax`\n",
    "5. get median age with `df.apply` with `lambda` function"
   ],
   "metadata": {
    "collapsed": false
   }
  },
  {
   "cell_type": "code",
   "execution_count": null,
   "outputs": [],
   "source": [
    "gha_demographic_adm1_2020_population_total = gha_demographic_adm1_raw_data_2020.sum(\n",
    "    axis=1\n",
    ")\n",
    "gha_demographic_adm1_2020_population_median = (\n",
    "        gha_demographic_adm1_2020_population_total / 2\n",
    ")\n",
    "# expand columns, each column = to cumsum the previous columns\n",
    "gha_demographic_adm1_2020_population_expanding = (\n",
    "    gha_demographic_adm1_raw_data_2020.expanding(axis=1).sum()\n",
    ")\n",
    "# expanded columns - median, the first non negative column is where median\n",
    "gha_demographic_adm1_2020_raw_subtract_median = (\n",
    "    gha_demographic_adm1_2020_population_expanding.subtract(\n",
    "        gha_demographic_adm1_2020_population_median, axis=0\n",
    "    )\n",
    ")\n",
    "# get ratio in groups\n",
    "# check the answer here\n",
    "# https://stackoverflow.com/questions/38467749/find-first-non-zero-value-in-each-row-of-pandas-dataframe/38468180\n",
    "gha_demographic_adm1_2020_median_ratio = (\n",
    "        gha_demographic_adm1_2020_raw_subtract_median.where(\n",
    "            gha_demographic_adm1_2020_raw_subtract_median > 0\n",
    "        )\n",
    "        / gha_demographic_adm1_raw_data_2020\n",
    ")\n",
    "gha_demographic_adm1_2020_median_ratio = (\n",
    "        gha_demographic_adm1_2020_median_ratio.bfill(1).iloc[:, 0] * 4\n",
    ")\n",
    "# get group labels\n",
    "gha_demographic_adm1_2020_median_group_value = (\n",
    "        gha_demographic_adm1_raw_data_2020 - gha_demographic_adm1_2020_population_expanding\n",
    ")\n",
    "gha_demographic_adm1_median_group_labels = (\n",
    "        gha_demographic_adm1_2020_raw_subtract_median > 0\n",
    ").idxmax(axis=1)\n",
    "# get first two string as the start of age group\n",
    "gha_demographic_adm1_median_group_labels = (\n",
    "    gha_demographic_adm1_median_group_labels.apply(lambda x: float(x[1:3]))\n",
    ")\n",
    "# add age group with ratio\n",
    "gha_demographic_adm1_2020_median = (\n",
    "        gha_demographic_adm1_median_group_labels + gha_demographic_adm1_2020_median_ratio\n",
    ")\n",
    "\n",
    "gha_demographic_adm1_2020_median\n",
    "\n",
    "gha_demographic_adm1_2020_mean\n",
    "\n",
    "# plotting\n",
    "gha_demographic_adm1_2020_mean.plot.bar()"
   ],
   "metadata": {
    "collapsed": false,
    "pycharm": {
     "name": "#%%\n"
    }
   }
  },
  {
   "cell_type": "markdown",
   "source": [
    "### Adm2 level population\n",
    "Data source: GHA/incid from WHO/GMP"
   ],
   "metadata": {
    "collapsed": false
   }
  },
  {
   "cell_type": "code",
   "execution_count": null,
   "outputs": [],
   "source": [
    "incid = pd.read_csv(\"../Data/GHA/Routine_data/District-level/incid.csv\")\n",
    "incid = incid[incid[\"year\"] == 2018]\n",
    "incid = demographic.reformat.adm1_name(df=incid, original_column_name=\"adm1\", set_index=False)\n",
    "incid.sample(5)\n",
    "gha_adm2_population = incid[[\"adm1\", \"adm2\", \"pop\"]]\n",
    "gha_adm2_population = gha_adm2_population.rename(columns={\"pop\": \"population\"})\n",
    "gha_adm2_population.sample(25)"
   ],
   "metadata": {
    "collapsed": false,
    "pycharm": {
     "name": "#%%\n"
    }
   }
  },
  {
   "cell_type": "markdown",
   "source": [
    "### Exponential Population Distribution - ETA\n",
    "\n",
    "In the malaria models, exponential distribution was used to simulation the age structure.\n",
    "\n",
    "Estimation of the **ETA** parameter: death rates for exponential population distribution,\n",
    "\n",
    "$$ ETA = \\frac{1}{MeanAge} $$\n",
    "\n",
    "Default ETA = 0.0001305"
   ],
   "metadata": {
    "collapsed": false
   }
  },
  {
   "cell_type": "code",
   "execution_count": null,
   "outputs": [],
   "source": [
    "gha[\"eta\"] = 1 / (gha_demographic_adm1_2020_mean * 365)\n",
    "gha[\"eta\"]"
   ],
   "metadata": {
    "collapsed": false,
    "pycharm": {
     "name": "#%%\n"
    }
   }
  },
  {
   "cell_type": "markdown",
   "source": [
    "### Max age\n",
    "@param max_age Maximum age in days. Default = 100*365"
   ],
   "metadata": {
    "collapsed": false
   }
  },
  {
   "cell_type": "code",
   "execution_count": null,
   "outputs": [],
   "source": [
    "gha[\"max_age\"] = 100 * 365"
   ],
   "metadata": {
    "collapsed": false,
    "pycharm": {
     "name": "#%%\n"
    }
   }
  },
  {
   "cell_type": "code",
   "execution_count": null,
   "outputs": [],
   "source": [
    "#pd.merge(\n",
    "#    gha,\n",
    "#\n",
    "#)\n",
    "#xml_demography = etree.Element(\"demography\")\n",
    "#xml_demography.set(\"maximumAgeYrs\", 90)\n",
    "#xml_demography.set(\"name\", )\n",
    "#xml_demography.append(etree.Element())"
   ],
   "metadata": {
    "collapsed": false,
    "pycharm": {
     "name": "#%%\n"
    }
   }
  },
  {
   "cell_type": "markdown",
   "source": [
    "## State transition related parameters\n",
    "\n",
    "@param rA Rate of leaving asymptomatic infection. Default = 0.00512821\n",
    "\n",
    "@param rT Rate of leaving treatment. Default = 0.2\n",
    "\n",
    "@param rD Rate of leaving clinical disease. Default = 0.2\n",
    "\n",
    "@param rU Rate of recovering from subpatent infection. Default = 0.00906627\n",
    "\n",
    "@param rP Rate of leaving prophylaxis. Default = 0.06666667\n",
    "\n",
    "@param dE Latent period of human infection. Default = 12\n",
    "\n",
    "@param delayGam Lag from parasites to infectious gametocytes. Default = 12.5\n",
    "\n",
    "@param cD Untreated disease contribution to infectiousness. Default = 0.0676909\n",
    "\n",
    "@param cT Treated disease contribution to infectiousness. Default =   0.322 * cD\n",
    "\n",
    "@param cU Subpatent disease contribution to infectiousness. Default = 0.006203\n",
    "\n",
    "@param gamma1 Parameter for infectiousness of state A. Default = 1.82425"
   ],
   "metadata": {
    "collapsed": false
   }
  },
  {
   "cell_type": "code",
   "execution_count": null,
   "outputs": [],
   "source": [
    "gha[\"rA\"] = 0.00512821\n",
    "gha[\"rT\"] = 0.2\n",
    "gha[\"rD\"] = 0.2\n",
    "gha[\"rU\"] = 0.00906627\n",
    "gha[\"rP\"] = 0.06666667\n",
    "# TODO check if this data is available from the data folder\n",
    "gha[\"dE\"] = 12\n",
    "gha[\"delayGam\"] = 12.5\n",
    "gha[\"cD\"] = 0.0676909\n",
    "gha[\"cT\"] = 0.322 * gha[\"cD\"]\n",
    "gha[\"cU\"] = 0.006203\n",
    "gha[\"gamma1\"] = 1.82425"
   ],
   "metadata": {
    "collapsed": false,
    "pycharm": {
     "name": "#%%\n"
    }
   }
  },
  {
   "cell_type": "markdown",
   "source": [
    "## Immunity parameters\n",
    "@param d1 Minimum probability due to maximum immunity. Default = 0.160527\n",
    "\n",
    "@param dID Inverse of decay rate. Default = 3650\n",
    "\n",
    "@param ID0 Scale parameter. Default = 1.577533\n",
    "\n",
    "@param kD Shape parameter. Default = 0.476614\n",
    "\n",
    "@param uD Duration in which immunity is not boosted. Default = 9.44512\n",
    "\n",
    "@param aD Scale parameter relating age to immunity. Default = 8001.99\n",
    "\n",
    "@param fD0 Time-scale at which immunity changes with age. Default = 0.007055\n",
    "\n",
    "@param gammaD Shape parameter relating age to immunity. Default = 4.8183\n",
    "\n",
    "@param alphaA PCR detection probability parameters state A. Default = 0.757\n",
    "\n",
    "@param alphaU PCR detection probability parameters state U. Default = 0.186\n",
    "\n",
    "@param b0 Maximum probability due to no immunity. Default = 0.590076\n",
    "\n",
    "@param b1 Maximum relative reduction due to immunity. Default = 0.5\n",
    "\n",
    "@param dB Inverse of decay rate. Default = 3650\n",
    "\n",
    "@param IB0 Scale parameter. Default = 43.8787\n",
    "\n",
    "@param kB Shape parameter. Default = 2.15506\n",
    "\n",
    "@param uB Duration in which immunity is not boosted. Default = 7.19919\n",
    "\n",
    "@param phi0 Maximum probability due to no immunity. Default = 0.791666\n",
    "\n",
    "@param phi1 Maximum relative reduction due to immunity. Default = 0.000737\n",
    "\n",
    "@param dCA Inverse of decay rate. Default = 10950\n",
    "\n",
    "@param IC0 Scale parameter. Default = 18.02366\n",
    "\n",
    "@param kC Shape parameter. Default = 2.36949\n",
    "\n",
    "@param uCA Duration in which immunity is not boosted. Default = 6.06349\n",
    "\n",
    "@param PM New-born immunity relative to mother’s. Default = 0.774368\n",
    "\n",
    "@param dCM Inverse of decay rate of maternal immunity. Default = 67.6952"
   ],
   "metadata": {
    "collapsed": false
   }
  },
  {
   "cell_type": "code",
   "execution_count": null,
   "outputs": [],
   "source": [
    "gha[\"d1\"] = 0.160527\n",
    "gha[\"dID\"] = 3650\n",
    "gha[\"ID0\"] = 1.577533\n",
    "gha[\"kD\"] = 0.476614\n",
    "gha[\"uD\"] = 9.44512\n",
    "gha[\"aD\"] = 8001.99\n",
    "gha[\"fD0\"] = 0.007055\n",
    "gha[\"gammaD\"] = 4.8183\n",
    "gha[\"alphaA\"] = 0.757\n",
    "gha[\"alphaU\"] = 0.186\n",
    "gha[\"b0\"] = 0.590076\n",
    "# Maximum relative reduction due to immunity\n",
    "gha[\"b1\"] = 0.5\n",
    "# Immunity Inverse of decay rate\n",
    "gha[\"dB\"] = 3650\n",
    "gha[\"IB0\"] = 43.8787\n",
    "gha[\"kB\"] = 2.15506\n",
    "gha[\"uB\"] = 7.19919\n",
    "gha[\"phi0\"] = 0.791666\n",
    "gha[\"phi1\"] = 0.000737\n",
    "gha[\"dCA\"] = 10950\n",
    "gha[\"IC0\"] = 18.02366\n",
    "gha[\"kC\"] = 2.36949\n",
    "gha[\"uCA\"] = 6.06349\n",
    "gha[\"PM\"] = 0.774368\n",
    "gha[\"dCM\"] = 67.695"
   ],
   "metadata": {
    "collapsed": false,
    "pycharm": {
     "name": "#%%\n"
    }
   }
  },
  {
   "cell_type": "markdown",
   "source": [
    "## Vector\n",
    "### Extrinsic incubation period\n",
    "@param delayMos Extrinsic incubation period. Default = 10"
   ],
   "metadata": {
    "collapsed": false
   }
  },
  {
   "cell_type": "code",
   "execution_count": null,
   "outputs": [],
   "source": [
    "# TODO check this parameter, extrinsic incubation period\n",
    "gha[\"delayMos\"] = 10"
   ],
   "metadata": {
    "collapsed": false,
    "pycharm": {
     "name": "#%%\n"
    }
   }
  },
  {
   "cell_type": "markdown",
   "source": [
    "### Biting parameters\n",
    "#### Host seeking\n",
    "@param tau1 Duration of host seeking, assumed to be constant between species. Default = 0.69\n",
    "\n",
    "#### Duration of resting after feed\n",
    "@param tau2 Duration of mosquito resting after feed. Default = 2.31\n",
    "\n",
    "#### Daily mortality rate\n",
    "@param mu0 Daily mortality of adult mosquitos. Default = 0.132\n",
    "\n",
    "> TODO use data from Ellie's paper and WHO/GMP data to estimation provincial level *anthrophagy* and *endophily*\n",
    "\n",
    "#### Anthrophagy\n",
    "@param Q0 Anthrophagy probability. Default = 0.92\n",
    "\n",
    "#### Endophily\n",
    "@param chi Endophily probability. Default = 0.86\n",
    "\n",
    "#### Bites percentage both indoors and in bed\n",
    "@param bites_Bed Percentage of bites indoors and in bed. Default = 0.89\n",
    "\n",
    "#### Bites percentage indoors\n",
    "@param bites_Indoors Percentage of bites indoors . Default = 0.97"
   ],
   "metadata": {
    "collapsed": false
   }
  },
  {
   "cell_type": "code",
   "execution_count": null,
   "outputs": [],
   "source": [
    "# duration of host seeking, assumed to be constant between species\n",
    "gha[\"tau1\"] = 0.69\n",
    "# duration of mosquito resting after feed\n",
    "gha[\"tau2\"] = 2.31\n",
    "# daily mortality of adult mosquitos\n",
    "# TODO\n",
    "gha[\"mu0\"] = 0.13\n",
    "# Anthrophagy probability\n",
    "# TODO\n",
    "gha[\"Q0\"] = 0.92\n",
    "# TODO\n",
    "# Endophily probability\n",
    "gha[\"mu0\"] = 0.86\n",
    "# TODO\n",
    "# Percentage of bites indoors and in bed\n",
    "gha[\"bites_Bed\"] = 0.89\n",
    "# Percentage of bites indoors\n",
    "gha[\"bites_Indoors\"] = 0.97"
   ],
   "metadata": {
    "collapsed": false,
    "pycharm": {
     "name": "#%%\n"
    }
   }
  },
  {
   "cell_type": "markdown",
   "source": [
    "#### Biting rates\n",
    "@param rho Age-dependent biting parameter. Default = 0.85\n",
    "\n",
    "@param a0 Age-dependent biting parameter. Default = 2920\n",
    "\n",
    "@param sigma2 Variance of the log heterogeneity in biting rates. Default = 1.67"
   ],
   "metadata": {
    "collapsed": false
   }
  },
  {
   "cell_type": "code",
   "execution_count": null,
   "outputs": [],
   "source": [
    "gha[\"rho\"] = 0.85\n",
    "gha[\"a0\"] = 2920\n",
    "gha[\"sigma2\"] = 1.67"
   ],
   "metadata": {
    "collapsed": false,
    "pycharm": {
     "name": "#%%\n"
    }
   }
  },
  {
   "cell_type": "markdown",
   "source": [
    "### Larvae and Pupae\n",
    "@param muEL Per capita daily mortality rate of early stage larvae (low density). Default = 0.0338\n",
    "\n",
    "@param muLL Per capita daily mortality rate of late stage larvae (low density). Default = 0.0348\n",
    "\n",
    "@param muPL Per capita daily mortality rate of pupae. Default = 0.249\n",
    "\n",
    "@param dEL Development time of early stage larvae. Default = 6.64\n",
    "\n",
    "@param dLL Development time of late stage larvae. Default = 3.72\n",
    "\n",
    "@param dPL Development time of pupae. Default = 0.643\n",
    "\n",
    "@param gammaL Relative effect of density dependence on late instars relative to early instars. Default = 13.25"
   ],
   "metadata": {
    "collapsed": false
   }
  },
  {
   "cell_type": "code",
   "execution_count": null,
   "outputs": [],
   "source": [
    "# Per capita daily mortality rate of early stage larvae(low density)\n",
    "gha[\"muEL\"] = 0.0338\n",
    "# Per capita daily mortality rate of late stage larvae(low density)\n",
    "gha[\"muLL\"] = 0.0348\n",
    "# Per capita daily mortality rate of pupae\n",
    "gha[\"muPL\"] = 0.249\n",
    "# Development time of early stage larvae\n",
    "gha[\"dEL\"] = 6.64\n",
    "# Development time of late stage larvae\n",
    "gha[\"dLL\"] = 3.72\n",
    "# Development time of pupae\n",
    "gha[\"dPL\"] = 0.643\n",
    "# Relative effect of density dependence on late instars relative to early instars\n",
    "gha[\"gammaL\"] = 13.25"
   ],
   "metadata": {
    "collapsed": false,
    "pycharm": {
     "name": "#%%\n"
    }
   }
  },
  {
   "cell_type": "markdown",
   "source": [
    "## Seasonal parameters\n",
    "@param km Seasonal carrying capacity. Default = 11\n",
    "\n",
    "@param cm Seasonal birth rate. Default = 0.05\n",
    "\n",
    "@param betaL Number of eggs laid per day per mosquito. Default = 21.2\n",
    "\n",
    "### Imperial Model Implementation\n",
    "\n",
    "Fourier's transformation, all the seasonal parameters have been precalculated and provided in their github [repository](https://github.com/mrc-ide/deterministic-malaria-model/blob/master/data-raw/admin_units_seasonal.csv)\n",
    "\n",
    "By providing the country name and adm1 level district name, the programme will search for the seasonal parameters.\n",
    "\n",
    "But one problem for Ghana is that they use **216 district**.\n",
    "\n",
    "The problem was solved by using 216 to 260 district mapping."
   ],
   "metadata": {
    "collapsed": false
   }
  },
  {
   "cell_type": "code",
   "execution_count": null,
   "outputs": [],
   "source": [
    "# Seasonal carrying capacity\n",
    "gha[\"km\"] = 11\n",
    "# Seasonal birth rate\n",
    "gha[\"cm\"] = 0.05\n",
    "# N of eggs laid per day per mosquito\n",
    "gha[\"betaL\"] = 21.2"
   ],
   "metadata": {
    "collapsed": false,
    "pycharm": {
     "name": "#%%\n"
    }
   }
  },
  {
   "cell_type": "markdown",
   "source": [
    "## Interventions\n",
    "### Usage\n",
    "@param num_int Number of intervention parameters.  Default = 4\n",
    "\n",
    "@param itn_cov The proportion of people that use an ITN. Default = 0\n",
    "\n",
    "@param irs_cov The proportion of people living in houses that have been sprayed. Default = 0\n",
    "\n",
    "@param ITN_IRS_on Time of ITN and IRS to be activated. Default = -1, i.e. never.\n",
    "\n",
    "@param DY Duration of year (days). Default = 365\n",
    "\n",
    "Data source - GHA_new_district_summaries - WHO/GMP\n",
    "\n",
    "aggregation over\n",
    "\n",
    "$$ITN_{adm1} =\\frac{\\sum{(P_{adm2}*ITN_{adm2})}}{P_{adm1}}$$\n",
    "\n",
    "$$IRS_{adm1} =\\frac{\\sum{(P_{adm2}*IRS_{adm2})}}{P_{adm1}}$$"
   ],
   "metadata": {
    "collapsed": false
   }
  },
  {
   "cell_type": "code",
   "execution_count": null,
   "outputs": [],
   "source": [
    "# N of intervention parameters\n",
    "gha[\"num_int\"] = 2"
   ],
   "metadata": {
    "collapsed": false,
    "pycharm": {
     "name": "#%%\n"
    }
   }
  },
  {
   "cell_type": "code",
   "execution_count": null,
   "outputs": [],
   "source": [
    "# Time of ITN and IRS to be activated.\n",
    "gha[\"ITN_IRS_on\"] = 200\n",
    "# Duration of years\n",
    "gha[\"DY\"] = 365"
   ],
   "metadata": {
    "collapsed": false,
    "pycharm": {
     "name": "#%%\n"
    }
   }
  },
  {
   "cell_type": "code",
   "execution_count": null,
   "outputs": [],
   "source": [
    "# gha_intervention = pd.read_stata('../Data/GHA/interventions/interventions.dta')\n",
    "intervention = pd.read_excel(\n",
    "    io=\"/Users/sepmein/Dropbox/benchmarking/Data/GHA/MAP_District_Estimates/Maps_by_MAP_260districts/GHA_summaries/GHA_new_district_summaries.xlsx\",\n",
    "    sheet_name=\"district_summaries\",\n",
    ")\n",
    "intervention = demographic.reformat.adm1_name(\n",
    "    df=intervention, original_column_name=\"REGION\", set_index=False\n",
    ")\n",
    "\n",
    "intervention = intervention.rename(columns={\"DISTRICT\": \"adm2\"})\n",
    "itn_coverage = intervention[[\"adm1\", \"adm2\", \"ITN_2018\"]]\n",
    "itn_coverage = pd.merge(\n",
    "    left=gha_adm2_population, right=itn_coverage, left_on=\"adm2\", right_on=\"adm2\"\n",
    ")\n",
    "\n",
    "itn_coverage = itn_coverage.drop(columns=[\"adm1_x\"], axis=1)\n",
    "itn_coverage = itn_coverage.rename(columns={\"adm1_y\": \"adm1\"})\n",
    "itn_coverage[\"population_itn\"] = itn_coverage[\"population\"] * itn_coverage[\"ITN_2018\"]\n",
    "itn_coverage_groupby_sum = itn_coverage.groupby(by=\"adm1\").sum()\n",
    "itn_coverage_groupby_sum[\"itn_coverage\"] = (\n",
    "        itn_coverage_groupby_sum[\"population_itn\"] / itn_coverage_groupby_sum[\"population\"]\n",
    ")\n",
    "gha[\"itn_cov\"] = itn_coverage_groupby_sum[\"itn_coverage\"]\n",
    "sns.stripplot(gha[\"itn_cov\"], size=7, color=\".26\")\n",
    "sns.boxplot(gha[\"itn_cov\"], showfliers=False)"
   ],
   "metadata": {
    "collapsed": false,
    "pycharm": {
     "name": "#%%\n"
    }
   }
  },
  {
   "cell_type": "code",
   "execution_count": null,
   "outputs": [],
   "source": [
    "irs_coverage = intervention[[\"adm1\", \"adm2\", \"IRS_2018\"]]\n",
    "irs_coverage = pd.merge(\n",
    "    left=gha_adm2_population, right=irs_coverage, left_on=\"adm2\", right_on=\"adm2\"\n",
    ")\n",
    "\n",
    "irs_coverage = irs_coverage.drop(columns=[\"adm1_x\"], axis=1)\n",
    "irs_coverage = irs_coverage.rename(columns={\"adm1_y\": \"adm1\"})\n",
    "irs_coverage[\"population_irs\"] = irs_coverage[\"population\"] * irs_coverage[\"IRS_2018\"]\n",
    "irs_coverage_groupby_sum = irs_coverage.groupby(by=\"adm1\").sum()\n",
    "irs_coverage_groupby_sum[\"irs_coverage\"] = (\n",
    "        irs_coverage_groupby_sum[\"population_irs\"] / irs_coverage_groupby_sum[\"population\"]\n",
    ")\n",
    "gha[\"irs_cov\"] = irs_coverage_groupby_sum[\"irs_coverage\"]\n",
    "sns.stripplot(gha[\"irs_cov\"], size=7, color=\".26\")\n",
    "sns.boxplot(gha[\"irs_cov\"], showfliers=False)\n",
    "gha[\"irs_cov\"]"
   ],
   "metadata": {
    "collapsed": false,
    "pycharm": {
     "name": "#%%\n"
    }
   }
  },
  {
   "cell_type": "markdown",
   "source": [
    "### Efficacy\n",
    "@param d_ITN0 Probability of dying with an encounter with ITN (max). Default = 0.41\n",
    "\n",
    "@param r_ITN0 Probability of repeating behaviour with ITN (max). Default = 0.56\n",
    "\n",
    "@param r_ITN1 Probability of repeating behaviour with ITN (min). Default = 0.24\n",
    "\n",
    "@param r_IRS0 Probability of repeating behaviour with IRS (min). Default = 0.6\n",
    "\n",
    "@param d_IRS0 Probability of dying with an encounter with IRS (max). Default = 1"
   ],
   "metadata": {
    "collapsed": false
   }
  },
  {
   "cell_type": "code",
   "execution_count": null,
   "outputs": [],
   "source": [
    "for x in np.nditer(np.linspace(0, 1, 20)):\n",
    "    y = efficacy.converter.bioassay_to_rds(x)\n",
    "    print('regular, repeating: ', \"{:10.2f}\".format(y[0][0]))\n",
    "    print(\"regular, repeating, with decay:\", \"{:10.2f}\".format(y[0][1]))\n",
    "    print(\"regular, dying: \", \"{:10.2f}\".format(y[0][2]))\n",
    "    print(\"regular, feeding: \", \"{:10.2f}\".format(y[0][3]))\n",
    "    print(\"PBO, repeating: \", \"{:10.2f}\".format(y[1][0]))\n",
    "    print(\"PBO, repeating, with decay:\", \"{:10.2f}\".format(y[1][1]))\n",
    "    print(\"PBO, dying: \", \"{:10.2f}\".format(y[1][2]))\n",
    "    print(\"PBO, feeding: \", \"{:10.2f}\".format(y[1][3]))"
   ],
   "metadata": {
    "collapsed": false,
    "pycharm": {
     "name": "#%%\n"
    }
   }
  },
  {
   "cell_type": "code",
   "execution_count": null,
   "outputs": [],
   "source": [
    "# Probability of dying with an encounter with ITN(max)\n",
    "gha[\"d_ITN0\"] = 0.41\n",
    "\n",
    "# load mortality settings vs LLINs & PBO nets\n",
    "mortality_llins_vs_pbo = pd.read_csv(\"../Data/LLINs vs PBO/mortality rate llins vs pbo.csv\")\n",
    "# load resistance settings in each adm1\n",
    "gha_adm1_vector_resistance = pd.read_excel(\n",
    "    '../Data/GHA/WHO_IR_data/MTM_DISCRIMINATING_CONCENTRATION_BIOASSAY_20211130.xlsx',\n",
    "    sheet_name='Data'\n",
    ")\n",
    "# rename Brong Ahafo to Brong-Ahafo\n",
    "gha_adm1_vector_resistance = gha_adm1_vector_resistance.replace('Brong Ahafo', 'Brong-Ahafo')\n",
    "\n",
    "# subgroup\n",
    "gha_adm1_vector_resistance = gha_adm1_vector_resistance.groupby(\n",
    "    'ADMIN1'\n",
    ").mean()\n",
    "\n",
    "gha_adm1_vector_resistance = gha_adm1_vector_resistance['MORTALITY_ADJUSTED']\n",
    "gha = gha.merge(right=gha_adm1_vector_resistance,\n",
    "                how=\"left\",\n",
    "                left_on=\"old_district_name\",\n",
    "                right_index=True\n",
    "                )\n",
    "gha['r_ITN_0'] = gha['MORTALITY_ADJUSTED'].map(lambda x: efficacy.converter.bioassay_to_rds(x / 100)[0][0])\n",
    "gha['r_PBO_0'] = gha['MORTALITY_ADJUSTED'].map(lambda x: efficacy.converter.bioassay_to_rds(x / 100)[1][0])\n",
    "gha['r_ITN_1'] = gha['MORTALITY_ADJUSTED'].map(lambda x: efficacy.converter.bioassay_to_rds(x / 100)[0][1])\n",
    "gha['r_PBO_1'] = gha['MORTALITY_ADJUSTED'].map(lambda x: efficacy.converter.bioassay_to_rds(x / 100)[1][1])\n",
    "gha['d_ITN_0'] = gha['MORTALITY_ADJUSTED'].map(lambda x: efficacy.converter.bioassay_to_rds(x / 100)[0][2])\n",
    "gha['d_PBO_0'] = gha['MORTALITY_ADJUSTED'].map(lambda x: efficacy.converter.bioassay_to_rds(x / 100)[1][2])\n",
    "# categorize resistance into h/m/l groups\n",
    "# gha_adm1_vector_resistance_groups = pd.cut(\n",
    "#     x=gha_adm1_vector_resistance,\n",
    "#     bins=[0.0, 30, 60, 100],\n",
    "#     labels=['high', 'moderate', 'low']\n",
    "# )\n",
    "# as the data from WHO/GMP/Malaria Threats Map still use 216 system\n",
    "# I need to transform to the 260 system first\n",
    "# gha['']\n",
    "\n",
    "# Probability of repeating behaviour with ITN(max)\n",
    "# gha[\"r_ITN0\"] = 0.56\n",
    "# Probability of repeating behaviour with ITN(min)\n",
    "# gha[\"r_ITN1\"] = 0.24\n",
    "# Probability of repeating behaviour with IRS(min)\n",
    "gha[\"r_IRS0\"] = 0.6\n",
    "# Probability of dying with an encounter with IRS(max)\n",
    "gha[\"d_IRS0\"] = 1"
   ],
   "metadata": {
    "collapsed": false,
    "pycharm": {
     "name": "#%%\n"
    }
   }
  },
  {
   "cell_type": "code",
   "execution_count": null,
   "outputs": [],
   "source": [
    "# gha = gha.merge(right=gha_adm1_vector_resistance_groups,\n",
    "#                 how=\"left\",\n",
    "#                 left_on=\"old_district_name\",\n",
    "#                 right_index=True\n",
    "#                 )\n",
    "# gha.loc[gha['MORTALITY_ADJUSTED'] == 'low', 'd_ITN0_LLINs'] = .527\n",
    "# gha.loc[gha['MORTALITY_ADJUSTED'] == 'low', 'd_ITN0_PBO'] = .659\n",
    "# gha.loc[gha['MORTALITY_ADJUSTED'] == 'moderate', 'd_ITN0_LLINs'] = .18\n",
    "# gha.loc[gha['MORTALITY_ADJUSTED'] == 'moderate', 'd_ITN0_PBO'] = .303\n",
    "# gha.loc[gha['MORTALITY_ADJUSTED'] == 'high', 'd_ITN0_LLINs'] = .238\n",
    "# gha.loc[gha['MORTALITY_ADJUSTED'] == 'high', 'd_ITN0_PBO'] = .438"
   ],
   "metadata": {
    "collapsed": false,
    "pycharm": {
     "name": "#%%\n"
    }
   }
  },
  {
   "cell_type": "markdown",
   "source": [
    "### Decay\n",
    "@param irs_half_life IRS half life. Default =   0.5 * DY\n",
    "\n",
    "@param itn_half_life ITN half life. Default =   2.64 * DY"
   ],
   "metadata": {
    "collapsed": false
   }
  },
  {
   "cell_type": "code",
   "execution_count": null,
   "outputs": [],
   "source": [
    "# IRS half life\n",
    "gha[\"irs_half_life\"] = 0.5 * 365\n",
    "# ITN half life\n",
    "gha[\"itn_half_life\"] = 2.64 * 365"
   ],
   "metadata": {
    "collapsed": false,
    "pycharm": {
     "name": "#%%\n"
    }
   }
  },
  {
   "cell_type": "markdown",
   "source": [
    "### Implementation\n",
    "@param IRS_interval How long before IRS is repeated, i.e. when IRS decay = 1. Default =   1 * DY\n",
    "\n",
    "@param ITN_interval How long before ITN is repeated, i.e. when IRS decay = 1.  Default =   3 * DY"
   ],
   "metadata": {
    "collapsed": false
   }
  },
  {
   "cell_type": "code",
   "execution_count": null,
   "outputs": [],
   "source": [
    "# How long before IRS is repeated\n",
    "gha[\"IRS_interval\"] = 1 * 365\n",
    "# how long before ITN is repeated\n",
    "gha[\"ITN_interval\"] = 3 * 365"
   ],
   "metadata": {
    "collapsed": false,
    "pycharm": {
     "name": "#%%\n"
    }
   }
  },
  {
   "cell_type": "code",
   "execution_count": null,
   "outputs": [],
   "source": [
    "GHA_Intervention_data = pd.read_excel(\n",
    "    \"../Data/GHA/Interventions/GHA_Intervention_data.xlsx\", \"Data template \"\n",
    ")\n",
    "GHA_Intervention_data"
   ],
   "metadata": {
    "collapsed": false,
    "pycharm": {
     "name": "#%%\n"
    }
   }
  },
  {
   "cell_type": "code",
   "execution_count": null,
   "outputs": [],
   "source": [
    "pd.merge(\n",
    "    gha_admin1,\n",
    "    GHA_Intervention_data,\n",
    "    left_on=\"adm1\",\n",
    "    right_on=\"adm1\",\n",
    ")"
   ],
   "metadata": {
    "collapsed": false,
    "pycharm": {
     "name": "#%%\n"
    }
   }
  },
  {
   "cell_type": "markdown",
   "source": [
    "## EIR estimation\n",
    "\n",
    "Data source: literature search\n",
    "\n",
    "- Searched with the keyword 'eir', 'entomology inoculation rate', 'Ghana'\n",
    "- Created a database on EIR for about 800 records"
   ],
   "metadata": {
    "collapsed": false
   }
  },
  {
   "cell_type": "code",
   "execution_count": null,
   "outputs": [],
   "source": [
    "eir = pd.read_csv(\"../Data/eir.csv\")\n",
    "ghana_eir = eir[eir[\"Country\"] == \"Ghana\"]"
   ],
   "metadata": {
    "collapsed": false,
    "pycharm": {
     "name": "#%%\n"
    }
   }
  },
  {
   "cell_type": "code",
   "execution_count": null,
   "outputs": [],
   "source": [
    "sns.boxplot(data=eir, y=\"eir\", x=\"setting\", showfliers=False)"
   ],
   "metadata": {
    "collapsed": false,
    "pycharm": {
     "name": "#%%\n"
    }
   }
  },
  {
   "cell_type": "code",
   "execution_count": null,
   "outputs": [],
   "source": [
    "eir[\"Year_Catagorical\"] = eir[\"Year\"] // 10 * 10\n",
    "sns.boxenplot(data=eir, y=\"eir\", x=\"Year_Catagorical\", showfliers=False)"
   ],
   "metadata": {
    "collapsed": false,
    "pycharm": {
     "name": "#%%\n"
    }
   }
  },
  {
   "cell_type": "code",
   "execution_count": null,
   "outputs": [],
   "source": [
    "# plot ghana eir data\n",
    "# TODO: To include 95%CI low and high data.\n",
    "g = sns.swarmplot(data=ghana_eir, y=\"eir\", x=\"adm1\")\n",
    "plt.xticks(rotation=45)"
   ],
   "metadata": {
    "collapsed": false,
    "pycharm": {
     "name": "#%%\n"
    }
   }
  },
  {
   "cell_type": "markdown",
   "source": [
    "### Ghana EIR calculation and missing provinces data estimation\n",
    "\n",
    "1. search through papers to find eir dataset\n",
    "2. generate existing dataset\n",
    "3. check availability for adm1\n",
    "4. calculate eir for available adm1 region\n",
    "5. estimate eir for unavailable adm1 region"
   ],
   "metadata": {
    "collapsed": false
   }
  },
  {
   "cell_type": "code",
   "execution_count": null,
   "outputs": [],
   "source": [
    "gha_eir = ghana_eir.groupby(by=\"adm1\").mean()\n",
    "gha_eir = gha_eir[\"eir\"]\n",
    "gha_eir = demographic.reformat.adm1_name(gha_eir)\n",
    "gha_eir\n",
    "gha[\"eir\"] = gha_eir\n",
    "\n",
    "gha = util.interpolate.missing_data(\n",
    "    df=gha, neighbour=gha_adjacent_provinces, column=\"eir\", round_n=10\n",
    ")\n",
    "\n",
    "gha[\"eir\"].plot.bar()"
   ],
   "metadata": {
    "collapsed": false,
    "pycharm": {
     "name": "#%%\n"
    }
   }
  },
  {
   "cell_type": "markdown",
   "source": [
    "## Treatment seeking\n",
    "\n",
    "Data source - WHO/GMP\n",
    "Latest data - 2016\n",
    "\n",
    "- **any_treat** - percentage of treatment from public sector **and** private sector\n",
    "- **pub_treat** - data from **only** public sector"
   ],
   "metadata": {
    "collapsed": false
   }
  },
  {
   "cell_type": "code",
   "execution_count": null,
   "outputs": [],
   "source": [
    "# 216 region\n",
    "treatment_seeking_216 = pd.read_csv(\n",
    "    \"../Data/GHA/MAP_District_Estimates/Maps_byMAP_216districts/GHA_regional_DHS_treatment_seeking/GHA_TreatmentSeeking.csv\"\n",
    ")\n",
    "treatment_seeking_216 = treatment_seeking_216.rename(columns={\"REGNAME\": \"adm1\"})\n",
    "treatment_seeking_216 = treatment_seeking_216[[\"adm1\", \"any_treat\", \"pub_treat\"]]\n",
    "\n",
    "ax = treatment_seeking_216.plot(kind=\"bar\")\n",
    "##ax.set_xticks(treatment_seeking_216[['adm1']])\n",
    "ax.set_xticklabels(treatment_seeking_216[\"adm1\"])\n",
    "\n",
    "##treatment_seeking_216[['adm1']]\n",
    "treatment_seeking_216"
   ],
   "metadata": {
    "collapsed": false,
    "pycharm": {
     "name": "#%%\n"
    }
   }
  },
  {
   "cell_type": "code",
   "execution_count": null,
   "outputs": [],
   "source": [
    "# 260 region\n",
    "\n",
    "treatment_seeking_260 = pd.read_excel(\n",
    "    \"../Data/GHA/MIS-DHS_data/GHA_treatment_seeking_tprs_adm1_16regions.xlsx\", \"Sheet\"\n",
    ")\n",
    "treatment_seeking_260 = treatment_seeking_260[[\"adm1\", \"pub_treat\"]]\n",
    "treatment_seeking_260 = treatment_seeking_260.rename(\n",
    "    columns={\"pub_treat\": \"treatment_seeking\"}\n",
    ")\n",
    "\n",
    "treatment_seeking_260 = demographic.reformat.adm1_name(\n",
    "    df=treatment_seeking_260, original_column_name=\"adm1\"\n",
    ")\n",
    "treatment_seeking_260\n",
    "\n",
    "ax = treatment_seeking_260.plot(kind=\"bar\")\n",
    "##ax.set_xticks(treatment_seeking_216[['adm1']])"
   ],
   "metadata": {
    "collapsed": false,
    "pycharm": {
     "name": "#%%\n"
    }
   }
  },
  {
   "cell_type": "code",
   "execution_count": null,
   "outputs": [],
   "source": [
    "gha = pd.merge(\n",
    "    left=gha, right=treatment_seeking_260, how=\"left\", left_index=True, right_index=True\n",
    ")\n",
    "gha[\"treatment_seeking\"]"
   ],
   "metadata": {
    "collapsed": false,
    "pycharm": {
     "name": "#%%\n"
    }
   }
  },
  {
   "cell_type": "markdown",
   "source": [
    "# Map ploting with Shapefile in PYTHON"
   ],
   "metadata": {
    "collapsed": false
   }
  },
  {
   "cell_type": "code",
   "execution_count": null,
   "outputs": [],
   "source": [
    "# shapefile\n",
    "gha_shape = shapefile.Reader(\n",
    "    \"../Data/GHA/WHO_Health_District_Shapefiles/Ghana _Shape_260 Districts_Boundary. 26.06.2019/260_Districts_of_Ghana\"\n",
    ")\n",
    "shapes = gha_shape.shapes()"
   ],
   "metadata": {
    "collapsed": false,
    "pycharm": {
     "name": "#%%\n"
    }
   }
  },
  {
   "cell_type": "code",
   "execution_count": null,
   "outputs": [],
   "source": [
    "# for shape in shapes:\n",
    "#     for point in shape.points:\n",
    "#         x,y = point\n",
    "#         plt.plot(x,y)\n",
    "# plt.show()"
   ],
   "metadata": {
    "collapsed": false,
    "pycharm": {
     "name": "#%%\n"
    }
   }
  },
  {
   "cell_type": "code",
   "execution_count": null,
   "outputs": [],
   "source": [
    "gha_shape.records()\n",
    "\n",
    "\n",
    "def read_shapefile(sf):\n",
    "    \"\"\"\n",
    "    Read a shapefile into a Pandas dataframe with a 'coords'\n",
    "    column holding the geometry information. This uses the pyshp\n",
    "    package\n",
    "    \"\"\"\n",
    "    fields = [x[0] for x in sf.fields][1:]\n",
    "    records = sf.records()\n",
    "    shps = [s.points for s in sf.shapes()]\n",
    "    df = pd.DataFrame(columns=fields, data=records)\n",
    "    df = df.assign(coords=shps)\n",
    "    return df\n",
    "\n",
    "\n",
    "gha_shape_df = read_shapefile(gha_shape)\n",
    "gha_shape_df.shape\n",
    "gha_shape_df.sample(5)"
   ],
   "metadata": {
    "collapsed": false,
    "pycharm": {
     "name": "#%%\n"
    }
   }
  },
  {
   "cell_type": "code",
   "execution_count": null,
   "outputs": [],
   "source": [
    "def plot_shape(id, s=None, sf=None):\n",
    "    \"\"\"PLOTS A SINGLE SHAPE\"\"\"\n",
    "    plt.figure()\n",
    "    ax = plt.axes()\n",
    "    ax.set_aspect(\"equal\")\n",
    "    shape_ex = sf.shape(id)\n",
    "    x_lon = np.zeros((len(shape_ex.points), 1))\n",
    "    y_lat = np.zeros((len(shape_ex.points), 1))\n",
    "    for ip in range(len(shape_ex.points)):\n",
    "        x_lon[ip] = shape_ex.points[ip][0]\n",
    "        y_lat[ip] = shape_ex.points[ip][1]\n",
    "    plt.plot(x_lon, y_lat)\n",
    "    x0 = np.mean(x_lon)\n",
    "    y0 = np.mean(y_lat)\n",
    "    plt.text(x0, y0, s, fontsize=10)\n",
    "    # use bbox (bounding box) to set plot limits\n",
    "    plt.xlim(shape_ex.bbox[0], shape_ex.bbox[2])\n",
    "    return x0, y0\n",
    "\n",
    "\n",
    "def plot_map(sf, x_lim=None, y_lim=None, figsize=(11, 9)):\n",
    "    \"\"\"\n",
    "    Plot map with lim coordinates\n",
    "    \"\"\"\n",
    "    plt.figure(figsize=figsize)\n",
    "    id = 0\n",
    "    for shape in sf.shapeRecords():\n",
    "        x = [i[0] for i in shape.shape.points[:]]\n",
    "        y = [i[1] for i in shape.shape.points[:]]\n",
    "        plt.plot(x, y, \"k\")\n",
    "\n",
    "        # if (x_lim == None) & (y_lim == None):\n",
    "        #    x0 = np.mean(x)\n",
    "        #    y0 = np.mean(y)\n",
    "        #    plt.text(x0, y0, id, fontsize=10)\n",
    "        # id = id+1\n",
    "\n",
    "    if (x_lim != None) & (y_lim != None):\n",
    "        plt.xlim(x_lim)\n",
    "        plt.ylim(y_lim)\n",
    "\n",
    "\n",
    "plot_map(gha_shape, figsize=(10, 12))"
   ],
   "metadata": {
    "collapsed": false,
    "pycharm": {
     "name": "#%%\n"
    }
   }
  },
  {
   "cell_type": "code",
   "execution_count": null,
   "outputs": [],
   "source": [
    "# Export to models"
   ],
   "metadata": {
    "collapsed": false,
    "pycharm": {
     "name": "#%%\n"
    }
   }
  },
  {
   "cell_type": "code",
   "execution_count": null,
   "outputs": [],
   "source": [
    "gha.to_csv(\"../Data/GHA/gha.csv\")\n"
   ],
   "metadata": {
    "collapsed": false,
    "pycharm": {
     "name": "#%%\n"
    }
   }
  },
  {
   "cell_type": "code",
   "execution_count": null,
   "outputs": [],
   "source": [
    "root = etree.Element('root')\n",
    "root.append(etree.Element('child1'))\n",
    "root.tag"
   ],
   "metadata": {
    "collapsed": false,
    "pycharm": {
     "name": "#%%\n"
    }
   }
  }
 ],
 "metadata": {
  "interpreter": {
   "hash": "9813974100264a9df9f1edeb4dd15208397b81eed2e9d6ee17f7d0680e568262"
  },
  "kernelspec": {
   "display_name": "Python 3 (ipykernel)",
   "language": "python",
   "name": "python3"
  },
  "language_info": {
   "codemirror_mode": {
    "name": "ipython",
    "version": 3
   },
   "file_extension": ".py",
   "mimetype": "text/x-python",
   "name": "python",
   "nbconvert_exporter": "python",
   "pygments_lexer": "ipython3",
   "version": "3.9.7"
  },
  "toc-autonumbering": true,
  "toc-showcode": false,
  "toc-showmarkdowntxt": false,
  "toc-showtags": false,
  "widgets": {
   "application/vnd.jupyter.widget-state+json": {
    "state": {},
    "version_major": 2,
    "version_minor": 0
   }
  }
 },
 "nbformat": 4,
 "nbformat_minor": 4
}