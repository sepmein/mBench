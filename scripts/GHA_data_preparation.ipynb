{
 "cells": [
  {
   "cell_type": "code",
   "execution_count": 119,
   "outputs": [
    {
     "name": "stdout",
     "output_type": "stream",
     "text": [
      "The autoreload extension is already loaded. To reload it, use:\n",
      "  %reload_ext autoreload\n"
     ]
    }
   ],
   "source": [
    "#@formatter:off\n",
    "%load_ext autoreload\n",
    "%autoreload 2\n",
    "#@formatter:on"
   ],
   "metadata": {
    "collapsed": false,
    "pycharm": {
     "name": "#%%\n"
    }
   }
  },
  {
   "cell_type": "markdown",
   "metadata": {},
   "source": [
    "# Malaria Modelling - benchmarking script \n",
    "\n",
    "## Programming\n",
    "### Python Package Importation\n",
    "\n",
    "This script use:\n",
    "- `pandas` - data importation, manipulation.\n",
    "- `seaborn` and `matplotlib` - plotting\n",
    "- `numpy` - matrix calculation\n",
    "- `jupyter notebook` - editing\n",
    "- `black` - formatting\n",
    "- `pyshp` - gis shape file\n",
    "- `lxml` - xml exporting"
   ]
  },
  {
   "cell_type": "code",
   "execution_count": 120,
   "metadata": {
    "collapsed": false,
    "jupyter": {
     "outputs_hidden": false
    },
    "pycharm": {
     "name": "#%%\n"
    }
   },
   "outputs": [],
   "source": [
    "\n",
    "from typing import Callable\n",
    "\n",
    "import matplotlib.pyplot as plt\n",
    "import numpy as np\n",
    "import pandas as pd\n",
    "import seaborn as sns\n",
    "import shapefile\n",
    "\n",
    "from mbench import demographic, util\n",
    "from mbench.intervention import efficacy\n",
    "from mbench.util.xml_import import load_xml_config\n",
    "\n",
    "sns.set_theme(style=\"whitegrid\", palette=\"pastel\")\n",
    "\n",
    "data_dir = \"../../Data/\"\n",
    "openmalaria_xml_config_path = \"/Users/sepmein/Dropbox/benchmarking/Data/openmalaria/12936_2017_2051_MOESM1_ESM.xml\""
   ]
  },
  {
   "cell_type": "markdown",
   "metadata": {},
   "source": [
    "### Create pandas dataframe for holding all data\n",
    "- load gha dataframe index from PHC summary\n",
    "- create columns using parameters list from Imperial model"
   ]
  },
  {
   "cell_type": "code",
   "execution_count": 121,
   "metadata": {
    "collapsed": false,
    "jupyter": {
     "outputs_hidden": false
    },
    "pycharm": {
     "name": "#%%\n"
    }
   },
   "outputs": [],
   "source": [
    "# index\n",
    "gha_demographic_adm1_2020_phc = pd.read_excel(\n",
    "    data_dir + \"GHA/Demographic/2021_PHC/2021 PHC summary.xlsx\"\n",
    ")\n",
    "gha_demographic_adm1_2020_mean = gha_demographic_adm1_2020_phc[[\"region\", \"mean_age\"]]\n",
    "gha_demographic_adm1_2020_mean = demographic.adm1_name(\n",
    "    df=gha_demographic_adm1_2020_mean, original_column_name=\"region\"\n",
    ")"
   ]
  },
  {
   "cell_type": "code",
   "execution_count": 122,
   "metadata": {
    "collapsed": false,
    "jupyter": {
     "outputs_hidden": false
    },
    "pycharm": {
     "name": "#%%\n"
    }
   },
   "outputs": [],
   "source": [
    "columns = [\n",
    "    \"eta\",\n",
    "    \"rho\",\n",
    "    \"a0\",\n",
    "    \"sigma2\",\n",
    "    \"max_age\",\n",
    "    \"rA\",\n",
    "    \"rT\",\n",
    "    \"rD\",\n",
    "    \"rU\",\n",
    "    \"rP\",\n",
    "    \"dE\",\n",
    "    \"delayGam\",\n",
    "    \"cD\",\n",
    "    \"cT\",\n",
    "    \"cU\",\n",
    "    \"gamma1\",\n",
    "    \"d1\",\n",
    "    \"dID\",\n",
    "    \"ID0\",\n",
    "    \"kD\",\n",
    "    \"uD\",\n",
    "    \"aD\",\n",
    "    \"fD0\",\n",
    "    \"gammaD\",\n",
    "    \"alphaA\",\n",
    "    \"alphaU\",\n",
    "    \"b0\",\n",
    "    \"b1\",\n",
    "    \"dB\",\n",
    "    \"IB0\",\n",
    "    \"kB\",\n",
    "    \"uB\",\n",
    "    \"phi0\",\n",
    "    \"phi1\",\n",
    "    \"dCA\",\n",
    "    \"IC0\",\n",
    "    \"kC\",\n",
    "    \"uCA\",\n",
    "    \"PM\",\n",
    "    \"dCM\",\n",
    "    \"delayMos\",\n",
    "    \"tau1\",\n",
    "    \"tau2\",\n",
    "    \"mu0\",\n",
    "    \"Q0\",\n",
    "    \"chi\",\n",
    "    \"bites_Bed\",\n",
    "    \"bites_Indoors\",\n",
    "    \"muEL\",\n",
    "    \"muLL\",\n",
    "    \"muPL\",\n",
    "    \"dEL\",\n",
    "    \"dLL\",\n",
    "    \"dPL\",\n",
    "    \"gammaL\",\n",
    "    \"km\",\n",
    "    \"cm\",\n",
    "    \"betaL\",\n",
    "    \"num_int\",\n",
    "    \"itn_cov\",\n",
    "    \"irs_cov\",\n",
    "    \"ITN_IRS_on\",\n",
    "    \"DY\",\n",
    "    \"d_ITN0\",\n",
    "    \"r_ITN0\",\n",
    "    \"r_ITN1\",\n",
    "    \"r_IRS0\",\n",
    "    \"d_IRS0\",\n",
    "    \"irs_half_life\",\n",
    "    \"itn_half_life\",\n",
    "    \"IRS_interval\",\n",
    "    \"ITN_interval\",\n",
    "]\n",
    "\n",
    "gha = pd.DataFrame(columns=columns, index=gha_demographic_adm1_2020_mean.index)"
   ]
  },
  {
   "cell_type": "markdown",
   "metadata": {},
   "source": [
    "### Load 216 vs 260 table\n",
    "\n",
    "From the year of xxxx, Ghana started to use the new 260 district system. From then on, the number of adm1 district increased from 10 to 16.\n",
    "\n",
    "As some old data were generated as the old district system, the following list was generated to readjust old data to new adm1 format."
   ]
  },
  {
   "cell_type": "code",
   "execution_count": 123,
   "metadata": {
    "collapsed": false,
    "jupyter": {
     "outputs_hidden": false
    },
    "pycharm": {
     "name": "#%%\n"
    }
   },
   "outputs": [
    {
     "name": "stdout",
     "output_type": "stream",
     "text": [
      "                         216\n",
      "adm1                        \n",
      "AHAFO            Brong-Ahafo\n",
      "ASHANTI              Ashanti\n",
      "BONO             Brong-Ahafo\n",
      "BONO_EAST        Brong-Ahafo\n",
      "CENTRAL              Central\n",
      "EASTERN              Eastern\n",
      "GREATER_ACCRA  Greater Accra\n",
      "NORTHERN            Northern\n",
      "NORTH_EAST          Northern\n",
      "OTI                    Volta\n",
      "SAVANNAH            Northern\n",
      "UPPER_EAST        Upper East\n",
      "UPPER_WEST        Upper West\n",
      "VOLTA                  Volta\n",
      "WESTERN              Western\n",
      "WESTERN_NORTH        Western\n"
     ]
    }
   ],
   "source": [
    "district_216_260 = pd.read_csv(data_dir + \"GHA/ADM1/216 to 260.csv\")\n",
    "district_216_260 = demographic.adm1_name(\n",
    "    df=district_216_260, original_column_name=\"260\"\n",
    ")\n",
    "print(district_216_260)\n",
    "gha[\"old_district_name\"] = district_216_260"
   ]
  },
  {
   "cell_type": "markdown",
   "metadata": {},
   "source": [
    "## Ghana Admin1 District coding\n",
    "\n",
    "### Coding\n",
    "\n",
    "This benchmarking practices is targeting at the adm1 level of district in Ghana.\n",
    "\n",
    "Code names of adm1 level was used for unified experiences in the whole practices."
   ]
  },
  {
   "cell_type": "code",
   "execution_count": 124,
   "metadata": {
    "collapsed": false,
    "jupyter": {
     "outputs_hidden": false
    },
    "pycharm": {
     "name": "#%%\n"
    }
   },
   "outputs": [
    {
     "data": {
      "text/plain": "                code\nadm1                \nAHAFO          GH-AF\nASHANTI        GH-AH\nBONO           GH-BO\nBONO_EAST      GH-BE\nCENTRAL        GH-CP\nEASTERN        GH-EP\nGREATER_ACCRA  GH-AA\nNORTH_EAST     GH-NE\nNORTHERN       GH-NP\nOTI            GH-OT\nSAVANNAH       GH-SV\nUPPER_EAST     GH-UE\nUPPER_WEST     GH-UW\nVOLTA          GH-TV\nWESTERN        GH-WP\nWESTERN_NORTH  GH-WN",
      "text/html": "<div>\n<style scoped>\n    .dataframe tbody tr th:only-of-type {\n        vertical-align: middle;\n    }\n\n    .dataframe tbody tr th {\n        vertical-align: top;\n    }\n\n    .dataframe thead th {\n        text-align: right;\n    }\n</style>\n<table border=\"1\" class=\"dataframe\">\n  <thead>\n    <tr style=\"text-align: right;\">\n      <th></th>\n      <th>code</th>\n    </tr>\n    <tr>\n      <th>adm1</th>\n      <th></th>\n    </tr>\n  </thead>\n  <tbody>\n    <tr>\n      <th>AHAFO</th>\n      <td>GH-AF</td>\n    </tr>\n    <tr>\n      <th>ASHANTI</th>\n      <td>GH-AH</td>\n    </tr>\n    <tr>\n      <th>BONO</th>\n      <td>GH-BO</td>\n    </tr>\n    <tr>\n      <th>BONO_EAST</th>\n      <td>GH-BE</td>\n    </tr>\n    <tr>\n      <th>CENTRAL</th>\n      <td>GH-CP</td>\n    </tr>\n    <tr>\n      <th>EASTERN</th>\n      <td>GH-EP</td>\n    </tr>\n    <tr>\n      <th>GREATER_ACCRA</th>\n      <td>GH-AA</td>\n    </tr>\n    <tr>\n      <th>NORTH_EAST</th>\n      <td>GH-NE</td>\n    </tr>\n    <tr>\n      <th>NORTHERN</th>\n      <td>GH-NP</td>\n    </tr>\n    <tr>\n      <th>OTI</th>\n      <td>GH-OT</td>\n    </tr>\n    <tr>\n      <th>SAVANNAH</th>\n      <td>GH-SV</td>\n    </tr>\n    <tr>\n      <th>UPPER_EAST</th>\n      <td>GH-UE</td>\n    </tr>\n    <tr>\n      <th>UPPER_WEST</th>\n      <td>GH-UW</td>\n    </tr>\n    <tr>\n      <th>VOLTA</th>\n      <td>GH-TV</td>\n    </tr>\n    <tr>\n      <th>WESTERN</th>\n      <td>GH-WP</td>\n    </tr>\n    <tr>\n      <th>WESTERN_NORTH</th>\n      <td>GH-WN</td>\n    </tr>\n  </tbody>\n</table>\n</div>"
     },
     "execution_count": 124,
     "metadata": {},
     "output_type": "execute_result"
    }
   ],
   "source": [
    "gha_admin1 = pd.read_csv(data_dir + \"GHA/ADM1/admin.csv\")\n",
    "gha_admin1 = gha_admin1[[\"Subdivision name\", \"3166-2 code\"]]\n",
    "gha_admin1 = gha_admin1.rename(\n",
    "    columns={\"3166-2 code\": \"code\", \"Subdivision name\": \"adm1\"}\n",
    ")\n",
    "gha_admin1[\"adm1\"] = gha_admin1[\"adm1\"].map(lambda _: _.upper())\n",
    "gha_admin1 = demographic.reformat.adm1_name(df=gha_admin1, original_column_name=\"adm1\")\n",
    "gha_admin1"
   ]
  },
  {
   "cell_type": "markdown",
   "metadata": {},
   "source": [
    "### Adjacent ADM1 list\n",
    "![image of Ghana](../../Data/Ghana_Regional_Map.png)"
   ]
  },
  {
   "cell_type": "code",
   "execution_count": 125,
   "metadata": {
    "collapsed": false,
    "jupyter": {
     "outputs_hidden": false
    },
    "pycharm": {
     "name": "#%%\n"
    }
   },
   "outputs": [
    {
     "data": {
      "text/plain": "             from             to\n0      UPPER_WEST     UPPER_EAST\n1      UPPER_WEST     NORTH_EAST\n2      UPPER_WEST       SAVANNAH\n3      UPPER_EAST     NORTH_EAST\n4      NORTH_EAST       NORTHERN\n5        SAVANNAH       NORTHERN\n6        SAVANNAH           BONO\n7        SAVANNAH      BONO_EAST\n8        NORTHERN            OTI\n9            BONO      BONO_EAST\n10           BONO  WESTERN_NORTH\n11           BONO          AHAFO\n12      BONO_EAST        ASHANTI\n13      BONO_EAST            OTI\n14            OTI          VOLTA\n15  WESTERN_NORTH          AHAFO\n16  WESTERN_NORTH        WESTERN\n17  WESTERN_NORTH        ASHANTI\n18          AHAFO        ASHANTI\n19        ASHANTI        CENTRAL\n20        ASHANTI        EASTERN\n21        EASTERN          VOLTA\n22        EASTERN        CENTRAL\n23        EASTERN  GREATER_ACCRA\n24          VOLTA  GREATER_ACCRA\n25        WESTERN        CENTRAL\n26        CENTRAL  GREATER_ACCRA\n27     UPPER_EAST     UPPER_WEST\n28     NORTH_EAST     UPPER_WEST\n29       SAVANNAH     UPPER_WEST\n30     NORTH_EAST     UPPER_EAST\n31       NORTHERN     NORTH_EAST\n32       NORTHERN       SAVANNAH\n33           BONO       SAVANNAH\n34      BONO_EAST       SAVANNAH\n35            OTI       NORTHERN\n36      BONO_EAST           BONO\n37  WESTERN_NORTH           BONO\n38          AHAFO           BONO\n39        ASHANTI      BONO_EAST\n40            OTI      BONO_EAST\n41          VOLTA            OTI\n42          AHAFO  WESTERN_NORTH\n43        WESTERN  WESTERN_NORTH\n44        ASHANTI  WESTERN_NORTH\n45        ASHANTI          AHAFO\n46        CENTRAL        ASHANTI\n47        EASTERN        ASHANTI\n48          VOLTA        EASTERN\n49        CENTRAL        EASTERN\n50  GREATER_ACCRA        EASTERN\n51  GREATER_ACCRA          VOLTA\n52        CENTRAL        WESTERN\n53  GREATER_ACCRA        CENTRAL",
      "text/html": "<div>\n<style scoped>\n    .dataframe tbody tr th:only-of-type {\n        vertical-align: middle;\n    }\n\n    .dataframe tbody tr th {\n        vertical-align: top;\n    }\n\n    .dataframe thead th {\n        text-align: right;\n    }\n</style>\n<table border=\"1\" class=\"dataframe\">\n  <thead>\n    <tr style=\"text-align: right;\">\n      <th></th>\n      <th>from</th>\n      <th>to</th>\n    </tr>\n  </thead>\n  <tbody>\n    <tr>\n      <th>0</th>\n      <td>UPPER_WEST</td>\n      <td>UPPER_EAST</td>\n    </tr>\n    <tr>\n      <th>1</th>\n      <td>UPPER_WEST</td>\n      <td>NORTH_EAST</td>\n    </tr>\n    <tr>\n      <th>2</th>\n      <td>UPPER_WEST</td>\n      <td>SAVANNAH</td>\n    </tr>\n    <tr>\n      <th>3</th>\n      <td>UPPER_EAST</td>\n      <td>NORTH_EAST</td>\n    </tr>\n    <tr>\n      <th>4</th>\n      <td>NORTH_EAST</td>\n      <td>NORTHERN</td>\n    </tr>\n    <tr>\n      <th>5</th>\n      <td>SAVANNAH</td>\n      <td>NORTHERN</td>\n    </tr>\n    <tr>\n      <th>6</th>\n      <td>SAVANNAH</td>\n      <td>BONO</td>\n    </tr>\n    <tr>\n      <th>7</th>\n      <td>SAVANNAH</td>\n      <td>BONO_EAST</td>\n    </tr>\n    <tr>\n      <th>8</th>\n      <td>NORTHERN</td>\n      <td>OTI</td>\n    </tr>\n    <tr>\n      <th>9</th>\n      <td>BONO</td>\n      <td>BONO_EAST</td>\n    </tr>\n    <tr>\n      <th>10</th>\n      <td>BONO</td>\n      <td>WESTERN_NORTH</td>\n    </tr>\n    <tr>\n      <th>11</th>\n      <td>BONO</td>\n      <td>AHAFO</td>\n    </tr>\n    <tr>\n      <th>12</th>\n      <td>BONO_EAST</td>\n      <td>ASHANTI</td>\n    </tr>\n    <tr>\n      <th>13</th>\n      <td>BONO_EAST</td>\n      <td>OTI</td>\n    </tr>\n    <tr>\n      <th>14</th>\n      <td>OTI</td>\n      <td>VOLTA</td>\n    </tr>\n    <tr>\n      <th>15</th>\n      <td>WESTERN_NORTH</td>\n      <td>AHAFO</td>\n    </tr>\n    <tr>\n      <th>16</th>\n      <td>WESTERN_NORTH</td>\n      <td>WESTERN</td>\n    </tr>\n    <tr>\n      <th>17</th>\n      <td>WESTERN_NORTH</td>\n      <td>ASHANTI</td>\n    </tr>\n    <tr>\n      <th>18</th>\n      <td>AHAFO</td>\n      <td>ASHANTI</td>\n    </tr>\n    <tr>\n      <th>19</th>\n      <td>ASHANTI</td>\n      <td>CENTRAL</td>\n    </tr>\n    <tr>\n      <th>20</th>\n      <td>ASHANTI</td>\n      <td>EASTERN</td>\n    </tr>\n    <tr>\n      <th>21</th>\n      <td>EASTERN</td>\n      <td>VOLTA</td>\n    </tr>\n    <tr>\n      <th>22</th>\n      <td>EASTERN</td>\n      <td>CENTRAL</td>\n    </tr>\n    <tr>\n      <th>23</th>\n      <td>EASTERN</td>\n      <td>GREATER_ACCRA</td>\n    </tr>\n    <tr>\n      <th>24</th>\n      <td>VOLTA</td>\n      <td>GREATER_ACCRA</td>\n    </tr>\n    <tr>\n      <th>25</th>\n      <td>WESTERN</td>\n      <td>CENTRAL</td>\n    </tr>\n    <tr>\n      <th>26</th>\n      <td>CENTRAL</td>\n      <td>GREATER_ACCRA</td>\n    </tr>\n    <tr>\n      <th>27</th>\n      <td>UPPER_EAST</td>\n      <td>UPPER_WEST</td>\n    </tr>\n    <tr>\n      <th>28</th>\n      <td>NORTH_EAST</td>\n      <td>UPPER_WEST</td>\n    </tr>\n    <tr>\n      <th>29</th>\n      <td>SAVANNAH</td>\n      <td>UPPER_WEST</td>\n    </tr>\n    <tr>\n      <th>30</th>\n      <td>NORTH_EAST</td>\n      <td>UPPER_EAST</td>\n    </tr>\n    <tr>\n      <th>31</th>\n      <td>NORTHERN</td>\n      <td>NORTH_EAST</td>\n    </tr>\n    <tr>\n      <th>32</th>\n      <td>NORTHERN</td>\n      <td>SAVANNAH</td>\n    </tr>\n    <tr>\n      <th>33</th>\n      <td>BONO</td>\n      <td>SAVANNAH</td>\n    </tr>\n    <tr>\n      <th>34</th>\n      <td>BONO_EAST</td>\n      <td>SAVANNAH</td>\n    </tr>\n    <tr>\n      <th>35</th>\n      <td>OTI</td>\n      <td>NORTHERN</td>\n    </tr>\n    <tr>\n      <th>36</th>\n      <td>BONO_EAST</td>\n      <td>BONO</td>\n    </tr>\n    <tr>\n      <th>37</th>\n      <td>WESTERN_NORTH</td>\n      <td>BONO</td>\n    </tr>\n    <tr>\n      <th>38</th>\n      <td>AHAFO</td>\n      <td>BONO</td>\n    </tr>\n    <tr>\n      <th>39</th>\n      <td>ASHANTI</td>\n      <td>BONO_EAST</td>\n    </tr>\n    <tr>\n      <th>40</th>\n      <td>OTI</td>\n      <td>BONO_EAST</td>\n    </tr>\n    <tr>\n      <th>41</th>\n      <td>VOLTA</td>\n      <td>OTI</td>\n    </tr>\n    <tr>\n      <th>42</th>\n      <td>AHAFO</td>\n      <td>WESTERN_NORTH</td>\n    </tr>\n    <tr>\n      <th>43</th>\n      <td>WESTERN</td>\n      <td>WESTERN_NORTH</td>\n    </tr>\n    <tr>\n      <th>44</th>\n      <td>ASHANTI</td>\n      <td>WESTERN_NORTH</td>\n    </tr>\n    <tr>\n      <th>45</th>\n      <td>ASHANTI</td>\n      <td>AHAFO</td>\n    </tr>\n    <tr>\n      <th>46</th>\n      <td>CENTRAL</td>\n      <td>ASHANTI</td>\n    </tr>\n    <tr>\n      <th>47</th>\n      <td>EASTERN</td>\n      <td>ASHANTI</td>\n    </tr>\n    <tr>\n      <th>48</th>\n      <td>VOLTA</td>\n      <td>EASTERN</td>\n    </tr>\n    <tr>\n      <th>49</th>\n      <td>CENTRAL</td>\n      <td>EASTERN</td>\n    </tr>\n    <tr>\n      <th>50</th>\n      <td>GREATER_ACCRA</td>\n      <td>EASTERN</td>\n    </tr>\n    <tr>\n      <th>51</th>\n      <td>GREATER_ACCRA</td>\n      <td>VOLTA</td>\n    </tr>\n    <tr>\n      <th>52</th>\n      <td>CENTRAL</td>\n      <td>WESTERN</td>\n    </tr>\n    <tr>\n      <th>53</th>\n      <td>GREATER_ACCRA</td>\n      <td>CENTRAL</td>\n    </tr>\n  </tbody>\n</table>\n</div>"
     },
     "execution_count": 125,
     "metadata": {},
     "output_type": "execute_result"
    }
   ],
   "source": [
    "# load adjacent\n",
    "gha_adjacent_provinces = pd.read_excel(\n",
    "    data_dir + \"gha_adm_adjacent.xlsx\", sheet_name=\"adm1_adjacent\"\n",
    ")\n",
    "gha_adjacent_provinces = demographic.reformat.adm1_name(\n",
    "    df=gha_adjacent_provinces,\n",
    "    original_column_name=\"a\",\n",
    "    new_column_name=\"from\",\n",
    "    set_index=False,\n",
    ")\n",
    "gha_adjacent_provinces = demographic.reformat.adm1_name(\n",
    "    df=gha_adjacent_provinces,\n",
    "    original_column_name=\"b\",\n",
    "    new_column_name=\"to\",\n",
    "    set_index=False,\n",
    ")\n",
    "\n",
    "gha_adjacent_provinces"
   ]
  },
  {
   "cell_type": "markdown",
   "metadata": {},
   "source": [
    "## Demographic Data\n",
    "\n",
    "### Data loading\n",
    "Data source\n",
    "- Ghana.gov *PHC*\n",
    "- us.census\n",
    "\n",
    "The data source contains data from 1960 to 2020, datapoint of 2020 was used in this script.\n",
    "\n",
    "### 216 vs 260 district system\n",
    "\n",
    "Ghana switched to 260 district system in recent years. However, the old data still use 216 format. Need to pay attention."
   ]
  },
  {
   "cell_type": "code",
   "execution_count": 126,
   "metadata": {
    "collapsed": false,
    "jupyter": {
     "outputs_hidden": false
    },
    "pycharm": {
     "name": "#%%\n"
    }
   },
   "outputs": [
    {
     "data": {
      "text/plain": "               B0004_2020  B0509_2020  B1014_2020  B1519_2020  B2024_2020  \\\nADM1_NAME                                                                   \nGREATER ACCRA      562792      471879      439998      429804      491441   \nCENTRAL            389259      346383      324255      283276      229192   \nWESTERN            358543      326412      298320      259134      233689   \nEASTERN            391788      354485      335550      283848      220079   \nASHANTI            793104      725015      695587      621325      568815   \nVOLTA              331306      293688      265366      231652      182550   \nBRONG-AHAFO        366787      345518      313807      265250      217111   \nNORTHERN           554924      510494      367770      317915      246875   \nUPPER WEST         139272      143051      124619      111408       97597   \nUPPER EAST         141509      147082      127312      105704       73417   \n\n               B2529_2020  B3034_2020  B3539_2020  B4044_2020  B4549_2020  \\\nADM1_NAME                                                                   \nGREATER ACCRA      478293      432206      363844      281277      228398   \nCENTRAL            192138      174495      164120      136396      121988   \nWESTERN            201521      181249      169749      138897      118760   \nEASTERN            191968      178247      173134      151531      141148   \nASHANTI            493449      445722      397291      321775      268951   \nVOLTA              154738      146049      136622      121843      114160   \nBRONG-AHAFO        185600      169053      154302      127935      109462   \nNORTHERN           218362      203873      168327      145225      109935   \nUPPER WEST          70318       64405       56198       48191       40393   \nUPPER EAST          60105       57425       54065       47786       42952   \n\n               B5054_2020  B5559_2020  B6064_2020  B6569_2020  B7074_2020  \\\nADM1_NAME                                                                   \nGREATER ACCRA      180238      151122       98363       77530       39338   \nCENTRAL            108564       87339       66473       54200       34714   \nWESTERN             97724       75482       54027       41383       26135   \nEASTERN            124865      102543       76459       59505       42841   \nASHANTI            223502      177509      121996       94402       67765   \nVOLTA              100552       82378       66867       53138       39546   \nBRONG-AHAFO         93110       71105       52250       38138       30987   \nNORTHERN            97423       59594       70970       44940       37992   \nUPPER WEST          35629       27644       28005       20217       14884   \nUPPER EAST          38466       29011       29137       23022       19161   \n\n               B7579_2020  B80PL_2020  \nADM1_NAME                              \nGREATER ACCRA       26523       23045  \nCENTRAL             22242       22359  \nWESTERN             16106       14727  \nEASTERN             28580       24632  \nASHANTI             42511       37667  \nVOLTA               27766       23895  \nBRONG-AHAFO         22039       18176  \nNORTHERN            21649       24962  \nUPPER WEST          11401        9723  \nUPPER EAST          13891       10341  ",
      "text/html": "<div>\n<style scoped>\n    .dataframe tbody tr th:only-of-type {\n        vertical-align: middle;\n    }\n\n    .dataframe tbody tr th {\n        vertical-align: top;\n    }\n\n    .dataframe thead th {\n        text-align: right;\n    }\n</style>\n<table border=\"1\" class=\"dataframe\">\n  <thead>\n    <tr style=\"text-align: right;\">\n      <th></th>\n      <th>B0004_2020</th>\n      <th>B0509_2020</th>\n      <th>B1014_2020</th>\n      <th>B1519_2020</th>\n      <th>B2024_2020</th>\n      <th>B2529_2020</th>\n      <th>B3034_2020</th>\n      <th>B3539_2020</th>\n      <th>B4044_2020</th>\n      <th>B4549_2020</th>\n      <th>B5054_2020</th>\n      <th>B5559_2020</th>\n      <th>B6064_2020</th>\n      <th>B6569_2020</th>\n      <th>B7074_2020</th>\n      <th>B7579_2020</th>\n      <th>B80PL_2020</th>\n    </tr>\n    <tr>\n      <th>ADM1_NAME</th>\n      <th></th>\n      <th></th>\n      <th></th>\n      <th></th>\n      <th></th>\n      <th></th>\n      <th></th>\n      <th></th>\n      <th></th>\n      <th></th>\n      <th></th>\n      <th></th>\n      <th></th>\n      <th></th>\n      <th></th>\n      <th></th>\n      <th></th>\n    </tr>\n  </thead>\n  <tbody>\n    <tr>\n      <th>GREATER ACCRA</th>\n      <td>562792</td>\n      <td>471879</td>\n      <td>439998</td>\n      <td>429804</td>\n      <td>491441</td>\n      <td>478293</td>\n      <td>432206</td>\n      <td>363844</td>\n      <td>281277</td>\n      <td>228398</td>\n      <td>180238</td>\n      <td>151122</td>\n      <td>98363</td>\n      <td>77530</td>\n      <td>39338</td>\n      <td>26523</td>\n      <td>23045</td>\n    </tr>\n    <tr>\n      <th>CENTRAL</th>\n      <td>389259</td>\n      <td>346383</td>\n      <td>324255</td>\n      <td>283276</td>\n      <td>229192</td>\n      <td>192138</td>\n      <td>174495</td>\n      <td>164120</td>\n      <td>136396</td>\n      <td>121988</td>\n      <td>108564</td>\n      <td>87339</td>\n      <td>66473</td>\n      <td>54200</td>\n      <td>34714</td>\n      <td>22242</td>\n      <td>22359</td>\n    </tr>\n    <tr>\n      <th>WESTERN</th>\n      <td>358543</td>\n      <td>326412</td>\n      <td>298320</td>\n      <td>259134</td>\n      <td>233689</td>\n      <td>201521</td>\n      <td>181249</td>\n      <td>169749</td>\n      <td>138897</td>\n      <td>118760</td>\n      <td>97724</td>\n      <td>75482</td>\n      <td>54027</td>\n      <td>41383</td>\n      <td>26135</td>\n      <td>16106</td>\n      <td>14727</td>\n    </tr>\n    <tr>\n      <th>EASTERN</th>\n      <td>391788</td>\n      <td>354485</td>\n      <td>335550</td>\n      <td>283848</td>\n      <td>220079</td>\n      <td>191968</td>\n      <td>178247</td>\n      <td>173134</td>\n      <td>151531</td>\n      <td>141148</td>\n      <td>124865</td>\n      <td>102543</td>\n      <td>76459</td>\n      <td>59505</td>\n      <td>42841</td>\n      <td>28580</td>\n      <td>24632</td>\n    </tr>\n    <tr>\n      <th>ASHANTI</th>\n      <td>793104</td>\n      <td>725015</td>\n      <td>695587</td>\n      <td>621325</td>\n      <td>568815</td>\n      <td>493449</td>\n      <td>445722</td>\n      <td>397291</td>\n      <td>321775</td>\n      <td>268951</td>\n      <td>223502</td>\n      <td>177509</td>\n      <td>121996</td>\n      <td>94402</td>\n      <td>67765</td>\n      <td>42511</td>\n      <td>37667</td>\n    </tr>\n    <tr>\n      <th>VOLTA</th>\n      <td>331306</td>\n      <td>293688</td>\n      <td>265366</td>\n      <td>231652</td>\n      <td>182550</td>\n      <td>154738</td>\n      <td>146049</td>\n      <td>136622</td>\n      <td>121843</td>\n      <td>114160</td>\n      <td>100552</td>\n      <td>82378</td>\n      <td>66867</td>\n      <td>53138</td>\n      <td>39546</td>\n      <td>27766</td>\n      <td>23895</td>\n    </tr>\n    <tr>\n      <th>BRONG-AHAFO</th>\n      <td>366787</td>\n      <td>345518</td>\n      <td>313807</td>\n      <td>265250</td>\n      <td>217111</td>\n      <td>185600</td>\n      <td>169053</td>\n      <td>154302</td>\n      <td>127935</td>\n      <td>109462</td>\n      <td>93110</td>\n      <td>71105</td>\n      <td>52250</td>\n      <td>38138</td>\n      <td>30987</td>\n      <td>22039</td>\n      <td>18176</td>\n    </tr>\n    <tr>\n      <th>NORTHERN</th>\n      <td>554924</td>\n      <td>510494</td>\n      <td>367770</td>\n      <td>317915</td>\n      <td>246875</td>\n      <td>218362</td>\n      <td>203873</td>\n      <td>168327</td>\n      <td>145225</td>\n      <td>109935</td>\n      <td>97423</td>\n      <td>59594</td>\n      <td>70970</td>\n      <td>44940</td>\n      <td>37992</td>\n      <td>21649</td>\n      <td>24962</td>\n    </tr>\n    <tr>\n      <th>UPPER WEST</th>\n      <td>139272</td>\n      <td>143051</td>\n      <td>124619</td>\n      <td>111408</td>\n      <td>97597</td>\n      <td>70318</td>\n      <td>64405</td>\n      <td>56198</td>\n      <td>48191</td>\n      <td>40393</td>\n      <td>35629</td>\n      <td>27644</td>\n      <td>28005</td>\n      <td>20217</td>\n      <td>14884</td>\n      <td>11401</td>\n      <td>9723</td>\n    </tr>\n    <tr>\n      <th>UPPER EAST</th>\n      <td>141509</td>\n      <td>147082</td>\n      <td>127312</td>\n      <td>105704</td>\n      <td>73417</td>\n      <td>60105</td>\n      <td>57425</td>\n      <td>54065</td>\n      <td>47786</td>\n      <td>42952</td>\n      <td>38466</td>\n      <td>29011</td>\n      <td>29137</td>\n      <td>23022</td>\n      <td>19161</td>\n      <td>13891</td>\n      <td>10341</td>\n    </tr>\n  </tbody>\n</table>\n</div>"
     },
     "execution_count": 126,
     "metadata": {},
     "output_type": "execute_result"
    }
   ],
   "source": [
    "# read data and get adm1 level demographic data\n",
    "gha_demographic_raw_data = pd.read_excel(\n",
    "    data_dir + \"GHA/demographic/ghana.xlsx\", \"Sheet2\"\n",
    ")\n",
    "gha_demographic_adm1_raw_data = gha_demographic_raw_data.loc[\n",
    "    gha_demographic_raw_data[\"ADM_LEVEL\"] == 1\n",
    "    ]\n",
    "gha_demographic_adm1_raw_data = gha_demographic_adm1_raw_data.set_index(\n",
    "    keys=\"ADM1_NAME\"\n",
    ")\n",
    "# select the most recent 2020 data\n",
    "gha_demographic_adm1_raw_data_2020 = gha_demographic_adm1_raw_data.loc[\n",
    "                                     :, \"B0004_2020\":\"B80PL_2020\"\n",
    "                                     ]\n",
    "\n",
    "gha_demographic_adm1_raw_data_2020"
   ]
  },
  {
   "cell_type": "markdown",
   "metadata": {},
   "source": [
    "### Median Age for adm1 district\n",
    "\n",
    "1. Calculate total population\n",
    "2. Calculate median population number\n",
    "3. `.expanding` columns with `.cumsum` to get the according column\n",
    "4. subtract group label using `.bfill`, `.iloc` & `.idmax`\n",
    "5. get median age with `df.apply` with `lambda` function"
   ]
  },
  {
   "cell_type": "code",
   "execution_count": 127,
   "metadata": {
    "collapsed": false,
    "jupyter": {
     "outputs_hidden": false
    },
    "pycharm": {
     "name": "#%%\n"
    }
   },
   "outputs": [
    {
     "name": "stderr",
     "output_type": "stream",
     "text": [
      "/var/folders/jw/1fjpkkvx6wz8tmmfqfklf4b80000gn/T/ipykernel_6890/2140136491.py:27: FutureWarning: In a future version of pandas all arguments of DataFrame.bfill will be keyword-only.\n",
      "  gha_demographic_adm1_2020_median_ratio.bfill(1).iloc[:, 0] * 4\n"
     ]
    },
    {
     "data": {
      "text/plain": "<AxesSubplot:xlabel='adm1'>"
     },
     "execution_count": 127,
     "metadata": {},
     "output_type": "execute_result"
    },
    {
     "data": {
      "text/plain": "<Figure size 432x288 with 1 Axes>",
      "image/png": "[encoded data removed]"
     },
     "metadata": {},
     "output_type": "display_data"
    }
   ],
   "source": [
    "gha_demographic_adm1_2020_population_total = gha_demographic_adm1_raw_data_2020.sum(\n",
    "    axis=1\n",
    ")\n",
    "gha_demographic_adm1_2020_population_median = (\n",
    "        gha_demographic_adm1_2020_population_total / 2\n",
    ")\n",
    "# expand columns, each column = to cumsum the previous columns\n",
    "gha_demographic_adm1_2020_population_expanding = (\n",
    "    gha_demographic_adm1_raw_data_2020.expanding(axis=1).sum()\n",
    ")\n",
    "# expanded columns - median, the first non negative column is where median\n",
    "gha_demographic_adm1_2020_raw_subtract_median = (\n",
    "    gha_demographic_adm1_2020_population_expanding.subtract(\n",
    "        gha_demographic_adm1_2020_population_median, axis=0\n",
    "    )\n",
    ")\n",
    "# get ratio in groups\n",
    "# check the answer here\n",
    "# https://stackoverflow.com/questions/38467749/find-first-non-zero-value-in-each-row-of-pandas-dataframe/38468180\n",
    "gha_demographic_adm1_2020_median_ratio = (\n",
    "        gha_demographic_adm1_2020_raw_subtract_median.where(\n",
    "            gha_demographic_adm1_2020_raw_subtract_median > 0\n",
    "        )\n",
    "        / gha_demographic_adm1_raw_data_2020\n",
    ")\n",
    "gha_demographic_adm1_2020_median_ratio = (\n",
    "        gha_demographic_adm1_2020_median_ratio.bfill(1).iloc[:, 0] * 4\n",
    ")\n",
    "# get group labels\n",
    "gha_demographic_adm1_2020_median_group_value = (\n",
    "        gha_demographic_adm1_raw_data_2020 - gha_demographic_adm1_2020_population_expanding\n",
    ")\n",
    "gha_demographic_adm1_median_group_labels = (\n",
    "        gha_demographic_adm1_2020_raw_subtract_median > 0\n",
    ").idxmax(axis=1)\n",
    "# get first two string as the start of age group\n",
    "gha_demographic_adm1_median_group_labels = (\n",
    "    gha_demographic_adm1_median_group_labels.apply(lambda _: float(_[1:3]))\n",
    ")\n",
    "# add age group with ratio\n",
    "gha_demographic_adm1_2020_median = (\n",
    "        gha_demographic_adm1_median_group_labels + gha_demographic_adm1_2020_median_ratio\n",
    ")\n",
    "\n",
    "# gha_demographic_adm1_2020_median\n",
    "\n",
    "# gha_demographic_adm1_2020_mean\n",
    "gha['total_population'] = gha_demographic_adm1_2020_phc['both_sex'].to_numpy()\n",
    "# plotting\n",
    "gha_demographic_adm1_2020_mean.plot.bar()"
   ]
  },
  {
   "cell_type": "markdown",
   "metadata": {},
   "source": [
    "### Adm2 level population\n",
    "Data source: GHA/incid from WHO/GMP"
   ]
  },
  {
   "cell_type": "code",
   "execution_count": 128,
   "metadata": {
    "collapsed": false,
    "jupyter": {
     "outputs_hidden": false
    },
    "pycharm": {
     "name": "#%%\n"
    }
   },
   "outputs": [
    {
     "data": {
      "text/plain": "            adm1                     adm2  population\n756      ASHANTI              OBUASI EAST     94678.0\n343   UPPER_EAST     BOLGATANGA MUNICIPAL    127378.0\n410         BONO              DORMAA WEST     58626.0\n193      CENTRAL              ASSIN NORTH    123641.0\n598      ASHANTI      KUMASI METROPOLITAN   2057084.0\n717    BONO_EAST           NKORANZA NORTH     80955.0\n146      ASHANTI                 AKROFUOM     42145.0\n975   UPPER_WEST                  WA EAST     85233.0\n208        AHAFO            ASUTIFI SOUTH     64219.0\n748      WESTERN               NZEMA EAST     78671.0\n871   UPPER_WEST             SISSALA WEST     58741.0\n548        VOLTA           KETA MUNICIPAL     83807.0\n678   UPPER_EAST                   NABDAM     39789.0\n1025  NORTH_EAST            YUNYOO-NASUAN     48763.0\n513      WESTERN                   JOMORO    190436.0\n370     SAVANNAH            CENTRAL GONJA    104691.0\n504   UPPER_WEST                   JIRAPA    102767.0\n247      CENTRAL         AWUTU SENYA WEST    101631.0\n355      ASHANTI                 BOSOMTWE    113664.0\n732          OTI  NKWANTA SOUTH MUNICIPAL    142658.0\n637      EASTERN     KWAHU WEST MUNICIPAL    114409.0\n734        VOLTA               NORTH DAYI     48382.0\n488         BONO    JAMAN SOUTH MUNICIPAL    111677.0\n55         VOLTA           AFADZATO SOUTH    114643.0\n869      WESTERN                    SHAMA    102811.0",
      "text/html": "<div>\n<style scoped>\n    .dataframe tbody tr th:only-of-type {\n        vertical-align: middle;\n    }\n\n    .dataframe tbody tr th {\n        vertical-align: top;\n    }\n\n    .dataframe thead th {\n        text-align: right;\n    }\n</style>\n<table border=\"1\" class=\"dataframe\">\n  <thead>\n    <tr style=\"text-align: right;\">\n      <th></th>\n      <th>adm1</th>\n      <th>adm2</th>\n      <th>population</th>\n    </tr>\n  </thead>\n  <tbody>\n    <tr>\n      <th>756</th>\n      <td>ASHANTI</td>\n      <td>OBUASI EAST</td>\n      <td>94678.0</td>\n    </tr>\n    <tr>\n      <th>343</th>\n      <td>UPPER_EAST</td>\n      <td>BOLGATANGA MUNICIPAL</td>\n      <td>127378.0</td>\n    </tr>\n    <tr>\n      <th>410</th>\n      <td>BONO</td>\n      <td>DORMAA WEST</td>\n      <td>58626.0</td>\n    </tr>\n    <tr>\n      <th>193</th>\n      <td>CENTRAL</td>\n      <td>ASSIN NORTH</td>\n      <td>123641.0</td>\n    </tr>\n    <tr>\n      <th>598</th>\n      <td>ASHANTI</td>\n      <td>KUMASI METROPOLITAN</td>\n      <td>2057084.0</td>\n    </tr>\n    <tr>\n      <th>717</th>\n      <td>BONO_EAST</td>\n      <td>NKORANZA NORTH</td>\n      <td>80955.0</td>\n    </tr>\n    <tr>\n      <th>146</th>\n      <td>ASHANTI</td>\n      <td>AKROFUOM</td>\n      <td>42145.0</td>\n    </tr>\n    <tr>\n      <th>975</th>\n      <td>UPPER_WEST</td>\n      <td>WA EAST</td>\n      <td>85233.0</td>\n    </tr>\n    <tr>\n      <th>208</th>\n      <td>AHAFO</td>\n      <td>ASUTIFI SOUTH</td>\n      <td>64219.0</td>\n    </tr>\n    <tr>\n      <th>748</th>\n      <td>WESTERN</td>\n      <td>NZEMA EAST</td>\n      <td>78671.0</td>\n    </tr>\n    <tr>\n      <th>871</th>\n      <td>UPPER_WEST</td>\n      <td>SISSALA WEST</td>\n      <td>58741.0</td>\n    </tr>\n    <tr>\n      <th>548</th>\n      <td>VOLTA</td>\n      <td>KETA MUNICIPAL</td>\n      <td>83807.0</td>\n    </tr>\n    <tr>\n      <th>678</th>\n      <td>UPPER_EAST</td>\n      <td>NABDAM</td>\n      <td>39789.0</td>\n    </tr>\n    <tr>\n      <th>1025</th>\n      <td>NORTH_EAST</td>\n      <td>YUNYOO-NASUAN</td>\n      <td>48763.0</td>\n    </tr>\n    <tr>\n      <th>513</th>\n      <td>WESTERN</td>\n      <td>JOMORO</td>\n      <td>190436.0</td>\n    </tr>\n    <tr>\n      <th>370</th>\n      <td>SAVANNAH</td>\n      <td>CENTRAL GONJA</td>\n      <td>104691.0</td>\n    </tr>\n    <tr>\n      <th>504</th>\n      <td>UPPER_WEST</td>\n      <td>JIRAPA</td>\n      <td>102767.0</td>\n    </tr>\n    <tr>\n      <th>247</th>\n      <td>CENTRAL</td>\n      <td>AWUTU SENYA WEST</td>\n      <td>101631.0</td>\n    </tr>\n    <tr>\n      <th>355</th>\n      <td>ASHANTI</td>\n      <td>BOSOMTWE</td>\n      <td>113664.0</td>\n    </tr>\n    <tr>\n      <th>732</th>\n      <td>OTI</td>\n      <td>NKWANTA SOUTH MUNICIPAL</td>\n      <td>142658.0</td>\n    </tr>\n    <tr>\n      <th>637</th>\n      <td>EASTERN</td>\n      <td>KWAHU WEST MUNICIPAL</td>\n      <td>114409.0</td>\n    </tr>\n    <tr>\n      <th>734</th>\n      <td>VOLTA</td>\n      <td>NORTH DAYI</td>\n      <td>48382.0</td>\n    </tr>\n    <tr>\n      <th>488</th>\n      <td>BONO</td>\n      <td>JAMAN SOUTH MUNICIPAL</td>\n      <td>111677.0</td>\n    </tr>\n    <tr>\n      <th>55</th>\n      <td>VOLTA</td>\n      <td>AFADZATO SOUTH</td>\n      <td>114643.0</td>\n    </tr>\n    <tr>\n      <th>869</th>\n      <td>WESTERN</td>\n      <td>SHAMA</td>\n      <td>102811.0</td>\n    </tr>\n  </tbody>\n</table>\n</div>"
     },
     "execution_count": 128,
     "metadata": {},
     "output_type": "execute_result"
    }
   ],
   "source": [
    "incid = pd.read_csv(data_dir + \"GHA/Routine_data/District-level/incid.csv\")\n",
    "incid = incid[incid[\"year\"] == 2018]\n",
    "incid = demographic.reformat.adm1_name(\n",
    "    df=incid, original_column_name=\"adm1\", set_index=False\n",
    ")\n",
    "incid.sample(5)\n",
    "gha_adm2_population = incid[[\"adm1\", \"adm2\", \"pop\"]]\n",
    "gha_adm2_population = gha_adm2_population.rename(columns={\"pop\": \"population\"})\n",
    "gha_adm2_population.sample(25)"
   ]
  },
  {
   "cell_type": "markdown",
   "metadata": {},
   "source": [
    "### Exponential Population Distribution - ETA\n",
    "\n",
    "In the malaria models, exponential distribution was used to simulation the age structure.\n",
    "\n",
    "Estimation of the **ETA** parameter: death rates for exponential population distribution,\n",
    "\n",
    "$$ ETA = \\frac{1}{MeanAge} $$\n",
    "\n",
    "Default ETA = 0.0001305"
   ]
  },
  {
   "cell_type": "code",
   "execution_count": 129,
   "metadata": {
    "collapsed": false,
    "jupyter": {
     "outputs_hidden": false
    },
    "pycharm": {
     "name": "#%%\n"
    }
   },
   "outputs": [
    {
     "data": {
      "text/plain": "adm1\nWESTERN          0.000110\nCENTRAL          0.000107\nGREATER_ACCRA    0.000102\nVOLTA            0.000100\nEASTERN          0.000102\nASHANTI          0.000109\nWESTERN_NORTH    0.000112\nAHAFO            0.000110\nBONO             0.000107\nBONO_EAST        0.000116\nOTI              0.000115\nNORTHERN         0.000152\nSAVANNAH         0.000126\nNORTH_EAST       0.000129\nUPPER_EAST       0.000109\nUPPER_WEST       0.000112\nName: eta, dtype: float64"
     },
     "execution_count": 129,
     "metadata": {},
     "output_type": "execute_result"
    }
   ],
   "source": [
    "gha[\"eta\"] = 1 / (gha_demographic_adm1_2020_mean * 365)\n",
    "gha[\"eta\"]"
   ]
  },
  {
   "cell_type": "markdown",
   "metadata": {},
   "source": [
    "### Max age\n",
    "@param max_age Maximum age in days. Default = 100*365"
   ]
  },
  {
   "cell_type": "code",
   "execution_count": 130,
   "metadata": {
    "collapsed": false,
    "jupyter": {
     "outputs_hidden": false
    },
    "pycharm": {
     "name": "#%%\n"
    }
   },
   "outputs": [],
   "source": [
    "gha[\"max_age\"] = 100 * 365"
   ]
  },
  {
   "cell_type": "code",
   "execution_count": 131,
   "metadata": {
    "collapsed": false,
    "jupyter": {
     "outputs_hidden": false
    },
    "pycharm": {
     "name": "#%%\n"
    }
   },
   "outputs": [],
   "source": [
    "# pd.merge(\n",
    "#    gha,\n",
    "#\n",
    "# )\n",
    "# xml_demography = etree.Element(\"demography\")\n",
    "# xml_demography.set(\"maximumAgeYrs\", 90)\n",
    "# xml_demography.set(\"name\", )\n",
    "# xml_demography.append(etree.Element())"
   ]
  },
  {
   "cell_type": "markdown",
   "metadata": {},
   "source": [
    "## State transition related parameters\n",
    "\n",
    "@param rA Rate of leaving asymptomatic infection. Default = 0.00512821\n",
    "\n",
    "@param rT Rate of leaving treatment. Default = 0.2\n",
    "\n",
    "@param rD Rate of leaving clinical disease. Default = 0.2\n",
    "\n",
    "@param rU Rate of recovering from subpatent infection. Default = 0.00906627\n",
    "\n",
    "@param rP Rate of leaving prophylaxis. Default = 0.06666667\n",
    "\n",
    "@param dE Latent period of human infection. Default = 12\n",
    "\n",
    "@param delayGam Lag from parasites to infectious gametocytes. Default = 12.5\n",
    "\n",
    "@param cD Untreated disease contribution to infectiousness. Default = 0.0676909\n",
    "\n",
    "@param cT Treated disease contribution to infectiousness. Default =   0.322 * cD\n",
    "\n",
    "@param cU Subpatent disease contribution to infectiousness. Default = 0.006203\n",
    "\n",
    "@param gamma1 Parameter for infectiousness of state A. Default = 1.82425"
   ]
  },
  {
   "cell_type": "code",
   "execution_count": 132,
   "metadata": {
    "collapsed": false,
    "jupyter": {
     "outputs_hidden": false
    },
    "pycharm": {
     "name": "#%%\n"
    }
   },
   "outputs": [],
   "source": [
    "gha[\"rA\"] = 0.00512821\n",
    "gha[\"rT\"] = 0.2\n",
    "gha[\"rD\"] = 0.2\n",
    "gha[\"rU\"] = 0.00906627\n",
    "gha[\"rP\"] = 0.06666667\n",
    "# TODO check if this data is available from the data folder\n",
    "gha[\"dE\"] = 12\n",
    "gha[\"delayGam\"] = 12.5\n",
    "gha[\"cD\"] = 0.0676909\n",
    "gha[\"cT\"] = 0.322 * gha[\"cD\"]\n",
    "gha[\"cU\"] = 0.006203\n",
    "gha[\"gamma1\"] = 1.82425"
   ]
  },
  {
   "cell_type": "markdown",
   "metadata": {},
   "source": [
    "## Immunity parameters\n",
    "@param d1 Minimum probability due to maximum immunity. Default = 0.160527\n",
    "\n",
    "@param dID Inverse of decay rate. Default = 3650\n",
    "\n",
    "@param ID0 Scale parameter. Default = 1.577533\n",
    "\n",
    "@param kD Shape parameter. Default = 0.476614\n",
    "\n",
    "@param uD Duration in which immunity is not boosted. Default = 9.44512\n",
    "\n",
    "@param aD Scale parameter relating age to immunity. Default = 8001.99\n",
    "\n",
    "@param fD0 Time-scale at which immunity changes with age. Default = 0.007055\n",
    "\n",
    "@param gammaD Shape parameter relating age to immunity. Default = 4.8183\n",
    "\n",
    "@param alphaA PCR detection probability parameters state A. Default = 0.757\n",
    "\n",
    "@param alphaU PCR detection probability parameters state U. Default = 0.186\n",
    "\n",
    "@param b0 Maximum probability due to no immunity. Default = 0.590076\n",
    "\n",
    "@param b1 Maximum relative reduction due to immunity. Default = 0.5\n",
    "\n",
    "@param dB Inverse of decay rate. Default = 3650\n",
    "\n",
    "@param IB0 Scale parameter. Default = 43.8787\n",
    "\n",
    "@param kB Shape parameter. Default = 2.15506\n",
    "\n",
    "@param uB Duration in which immunity is not boosted. Default = 7.19919\n",
    "\n",
    "@param phi0 Maximum probability due to no immunity. Default = 0.791666\n",
    "\n",
    "@param phi1 Maximum relative reduction due to immunity. Default = 0.000737\n",
    "\n",
    "@param dCA Inverse of decay rate. Default = 10950\n",
    "\n",
    "@param IC0 Scale parameter. Default = 18.02366\n",
    "\n",
    "@param kC Shape parameter. Default = 2.36949\n",
    "\n",
    "@param uCA Duration in which immunity is not boosted. Default = 6.06349\n",
    "\n",
    "@param PM New-born immunity relative to mother’s. Default = 0.774368\n",
    "\n",
    "@param dCM Inverse of decay rate of maternal immunity. Default = 67.6952"
   ]
  },
  {
   "cell_type": "code",
   "execution_count": 133,
   "metadata": {
    "collapsed": false,
    "jupyter": {
     "outputs_hidden": false
    },
    "pycharm": {
     "name": "#%%\n"
    }
   },
   "outputs": [],
   "source": [
    "gha[\"d1\"] = 0.160527\n",
    "gha[\"dID\"] = 3650\n",
    "gha[\"ID0\"] = 1.577533\n",
    "gha[\"kD\"] = 0.476614\n",
    "gha[\"uD\"] = 9.44512\n",
    "gha[\"aD\"] = 8001.99\n",
    "gha[\"fD0\"] = 0.007055\n",
    "gha[\"gammaD\"] = 4.8183\n",
    "gha[\"alphaA\"] = 0.757\n",
    "gha[\"alphaU\"] = 0.186\n",
    "gha[\"b0\"] = 0.590076\n",
    "# Maximum relative reduction due to immunity\n",
    "gha[\"b1\"] = 0.5\n",
    "# Immunity Inverse of decay rate\n",
    "gha[\"dB\"] = 3650\n",
    "gha[\"IB0\"] = 43.8787\n",
    "gha[\"kB\"] = 2.15506\n",
    "gha[\"uB\"] = 7.19919\n",
    "gha[\"phi0\"] = 0.791666\n",
    "gha[\"phi1\"] = 0.000737\n",
    "gha[\"dCA\"] = 10950\n",
    "gha[\"IC0\"] = 18.02366\n",
    "gha[\"kC\"] = 2.36949\n",
    "gha[\"uCA\"] = 6.06349\n",
    "gha[\"PM\"] = 0.774368\n",
    "gha[\"dCM\"] = 67.695"
   ]
  },
  {
   "cell_type": "markdown",
   "metadata": {},
   "source": [
    "## Vector\n",
    "### Extrinsic incubation period\n",
    "@param delayMos Extrinsic incubation period. Default = 10"
   ]
  },
  {
   "cell_type": "code",
   "execution_count": 134,
   "metadata": {
    "collapsed": false,
    "jupyter": {
     "outputs_hidden": false
    },
    "pycharm": {
     "name": "#%%\n"
    }
   },
   "outputs": [],
   "source": [
    "# TODO check this parameter, extrinsic incubation period\n",
    "gha[\"delayMos\"] = 10"
   ]
  },
  {
   "cell_type": "markdown",
   "metadata": {},
   "source": [
    "### Biting parameters\n",
    "#### Host seeking\n",
    "@param tau1 Duration of host seeking, assumed to be constant between species. Default = 0.69\n",
    "\n",
    "#### Duration of resting after feed\n",
    "@param tau2 Duration of mosquito resting after feed. Default = 2.31\n",
    "\n",
    "#### Daily mortality rate\n",
    "@param mu0 Daily mortality of adult mosquitos. Default = 0.132\n",
    "\n",
    "> TODO use data from Ellie's paper and WHO/GMP data to estimation provincial level *anthrophagy* and *endophily*\n",
    "\n",
    "#### Anthrophagy\n",
    "@param Q0 Anthrophagy probability. Default = 0.92\n",
    "\n",
    "#### Endophily\n",
    "@param chi Endophily probability. Default = 0.86\n",
    "\n",
    "#### Bites percentage both indoors and in bed\n",
    "@param bites_Bed Percentage of bites indoors and in bed. Default = 0.89\n",
    "\n",
    "#### Bites percentage indoors\n",
    "@param bites_Indoors Percentage of bites indoors . Default = 0.97"
   ]
  },
  {
   "cell_type": "code",
   "execution_count": 135,
   "metadata": {
    "collapsed": false,
    "jupyter": {
     "outputs_hidden": false
    },
    "pycharm": {
     "name": "#%%\n"
    }
   },
   "outputs": [],
   "source": [
    "# duration of host seeking, assumed to be constant between species\n",
    "gha[\"tau1\"] = 0.69\n",
    "# duration of mosquito resting after feed\n",
    "gha[\"tau2\"] = 2.31\n",
    "# daily mortality of adult mosquitos\n",
    "# TODO\n",
    "gha[\"mu0\"] = 0.13\n",
    "# Anthrophagy probability\n",
    "# TODO\n",
    "gha[\"Q0\"] = 0.92\n",
    "# TODO\n",
    "# Endophily probability\n",
    "gha[\"mu0\"] = 0.86\n",
    "# TODO\n",
    "# Percentage of bites indoors and in bed\n",
    "gha[\"bites_Bed\"] = 0.89\n",
    "# Percentage of bites indoors\n",
    "gha[\"bites_Indoors\"] = 0.97"
   ]
  },
  {
   "cell_type": "markdown",
   "metadata": {},
   "source": [
    "#### Biting rates\n",
    "@param rho Age-dependent biting parameter. Default = 0.85\n",
    "\n",
    "@param a0 Age-dependent biting parameter. Default = 2920\n",
    "\n",
    "@param sigma2 Variance of the log heterogeneity in biting rates. Default = 1.67"
   ]
  },
  {
   "cell_type": "code",
   "execution_count": 136,
   "metadata": {
    "collapsed": false,
    "jupyter": {
     "outputs_hidden": false
    },
    "pycharm": {
     "name": "#%%\n"
    }
   },
   "outputs": [],
   "source": [
    "gha[\"rho\"] = 0.85\n",
    "gha[\"a0\"] = 2920\n",
    "gha[\"sigma2\"] = 1.67"
   ]
  },
  {
   "cell_type": "markdown",
   "metadata": {},
   "source": [
    "### Larvae and Pupae\n",
    "@param muEL Per capita daily mortality rate of early stage larvae (low density). Default = 0.0338\n",
    "\n",
    "@param muLL Per capita daily mortality rate of late stage larvae (low density). Default = 0.0348\n",
    "\n",
    "@param muPL Per capita daily mortality rate of pupae. Default = 0.249\n",
    "\n",
    "@param dEL Development time of early stage larvae. Default = 6.64\n",
    "\n",
    "@param dLL Development time of late stage larvae. Default = 3.72\n",
    "\n",
    "@param dPL Development time of pupae. Default = 0.643\n",
    "\n",
    "@param gammaL Relative effect of density dependence on late instars relative to early instars. Default = 13.25"
   ]
  },
  {
   "cell_type": "code",
   "execution_count": 137,
   "metadata": {
    "collapsed": false,
    "jupyter": {
     "outputs_hidden": false
    },
    "pycharm": {
     "name": "#%%\n"
    }
   },
   "outputs": [],
   "source": [
    "# Per capita daily mortality rate of early stage larvae(low density)\n",
    "gha[\"muEL\"] = 0.0338\n",
    "# Per capita daily mortality rate of late stage larvae(low density)\n",
    "gha[\"muLL\"] = 0.0348\n",
    "# Per capita daily mortality rate of pupae\n",
    "gha[\"muPL\"] = 0.249\n",
    "# Development time of early stage larvae\n",
    "gha[\"dEL\"] = 6.64\n",
    "# Development time of late stage larvae\n",
    "gha[\"dLL\"] = 3.72\n",
    "# Development time of pupae\n",
    "gha[\"dPL\"] = 0.643\n",
    "# Relative effect of density dependence on late instars relative to early instars\n",
    "gha[\"gammaL\"] = 13.25"
   ]
  },
  {
   "cell_type": "markdown",
   "metadata": {},
   "source": [
    "## Seasonal parameters\n",
    "@param km Seasonal carrying capacity. Default = 11\n",
    "\n",
    "@param cm Seasonal birth rate. Default = 0.05\n",
    "\n",
    "@param betaL Number of eggs laid per day per mosquito. Default = 21.2\n",
    "\n",
    "### Imperial Model Implementation\n",
    "\n",
    "Fourier's transformation, all the seasonal parameters have been precalculated and provided in their gitHub [repository](https://github.com/mrc-ide/deterministic-malaria-model/blob/master/data-raw/admin_units_seasonal.csv)\n",
    "\n",
    "By providing the country name and adm1 level district name, the programme will search for the seasonal parameters.\n",
    "\n",
    "But one problem for Ghana is that they use **216 district**.\n",
    "\n",
    "The problem was solved by using 216 to 260 district mapping."
   ]
  },
  {
   "cell_type": "code",
   "execution_count": 138,
   "metadata": {
    "collapsed": false,
    "jupyter": {
     "outputs_hidden": false
    },
    "pycharm": {
     "name": "#%%\n"
    }
   },
   "outputs": [],
   "source": [
    "# Seasonal carrying capacity\n",
    "gha[\"km\"] = 11\n",
    "# Seasonal birth rate\n",
    "gha[\"cm\"] = 0.05\n",
    "# N of eggs laid per day per mosquito\n",
    "gha[\"betaL\"] = 21.2"
   ]
  },
  {
   "cell_type": "markdown",
   "metadata": {},
   "source": [
    "## Interventions\n",
    "### Usage\n",
    "@param num_int Number of intervention parameters.  Default = 4\n",
    "\n",
    "@param itn_cov The proportion of people that use an ITN. Default = 0\n",
    "\n",
    "@param irs_cov The proportion of people living in houses that have been sprayed. Default = 0\n",
    "\n",
    "@param ITN_IRS_on Time of ITN and IRS to be activated. Default = -1, i.e. never.\n",
    "\n",
    "@param DY Duration of year (days). Default = 365\n",
    "\n",
    "Data source - GHA_new_district_summaries - WHO/GMP\n",
    "\n",
    "aggregation over\n",
    "\n",
    "$$ITN_{adm1} =\\frac{\\sum{(P_{adm2}*ITN_{adm2})}}{P_{adm1}}$$\n",
    "\n",
    "$$IRS_{adm1} =\\frac{\\sum{(P_{adm2}*IRS_{adm2})}}{P_{adm1}}$$"
   ]
  },
  {
   "cell_type": "code",
   "execution_count": 139,
   "metadata": {
    "collapsed": false,
    "jupyter": {
     "outputs_hidden": false
    },
    "pycharm": {
     "name": "#%%\n"
    }
   },
   "outputs": [],
   "source": [
    "# N of intervention parameters\n",
    "gha[\"num_int\"] = 2"
   ]
  },
  {
   "cell_type": "code",
   "execution_count": 140,
   "metadata": {
    "collapsed": false,
    "jupyter": {
     "outputs_hidden": false
    },
    "pycharm": {
     "name": "#%%\n"
    }
   },
   "outputs": [],
   "source": [
    "# Time of ITN and IRS to be activated.\n",
    "gha[\"ITN_IRS_on\"] = 200\n",
    "# Duration of years\n",
    "gha[\"DY\"] = 365"
   ]
  },
  {
   "cell_type": "code",
   "execution_count": 141,
   "metadata": {
    "collapsed": false,
    "jupyter": {
     "outputs_hidden": false
    },
    "pycharm": {
     "name": "#%%\n"
    }
   },
   "outputs": [
    {
     "name": "stderr",
     "output_type": "stream",
     "text": [
      "/Users/sepmein/.pyenv/versions/3.9.7/envs/sci2/lib/python3.9/site-packages/seaborn/_decorators.py:36: FutureWarning: Pass the following variable as a keyword arg: x. From version 0.12, the only valid positional argument will be `data`, and passing other arguments without an explicit keyword will result in an error or misinterpretation.\n",
      "  warnings.warn(\n",
      "/Users/sepmein/.pyenv/versions/3.9.7/envs/sci2/lib/python3.9/site-packages/seaborn/_decorators.py:36: FutureWarning: Pass the following variable as a keyword arg: x. From version 0.12, the only valid positional argument will be `data`, and passing other arguments without an explicit keyword will result in an error or misinterpretation.\n",
      "  warnings.warn(\n"
     ]
    },
    {
     "data": {
      "text/plain": "<AxesSubplot:xlabel='itn_cov'>"
     },
     "execution_count": 141,
     "metadata": {},
     "output_type": "execute_result"
    },
    {
     "data": {
      "text/plain": "<Figure size 432x288 with 1 Axes>",
      "image/png": "[encoded data removed]"
     },
     "metadata": {},
     "output_type": "display_data"
    }
   ],
   "source": [
    "# gha_intervention = pd.read_stata('../Data/GHA/interventions/interventions.dta')\n",
    "intervention = pd.read_excel(\n",
    "    io=\"/Users/sepmein/Dropbox/benchmarking/Data/GHA/MAP_District_Estimates/Maps_by_MAP_260districts/GHA_summaries/GHA_new_district_summaries.xlsx\",\n",
    "    sheet_name=\"district_summaries\",\n",
    ")\n",
    "intervention = demographic.reformat.adm1_name(\n",
    "    df=intervention, original_column_name=\"REGION\", set_index=False\n",
    ")\n",
    "\n",
    "intervention = intervention.rename(columns={\"DISTRICT\": \"adm2\"})\n",
    "itn_coverage = intervention[[\"adm1\", \"adm2\", \"ITN_2018\"]]\n",
    "itn_coverage = pd.merge(\n",
    "    left=gha_adm2_population, right=itn_coverage, left_on=\"adm2\", right_on=\"adm2\"\n",
    ")\n",
    "\n",
    "itn_coverage = itn_coverage.drop(columns=[\"adm1_x\"], axis=1)\n",
    "itn_coverage = itn_coverage.rename(columns={\"adm1_y\": \"adm1\"})\n",
    "itn_coverage[\"population_itn\"] = itn_coverage[\"population\"] * itn_coverage[\"ITN_2018\"]\n",
    "itn_coverage_groupby_sum = itn_coverage.groupby(by=\"adm1\").sum()\n",
    "itn_coverage_groupby_sum[\"itn_coverage\"] = (\n",
    "        itn_coverage_groupby_sum[\"population_itn\"] / itn_coverage_groupby_sum[\"population\"]\n",
    ")\n",
    "gha[\"itn_cov\"] = itn_coverage_groupby_sum[\"itn_coverage\"]\n",
    "gha[\"pbo_cov\"] = gha['itn_cov'] * 2.17 / 3.09\n",
    "sns.stripplot(gha[\"itn_cov\"], size=7, color=\".26\")\n",
    "sns.boxplot(gha[\"itn_cov\"], showfliers=False)"
   ]
  },
  {
   "cell_type": "code",
   "execution_count": 142,
   "metadata": {
    "collapsed": false,
    "jupyter": {
     "outputs_hidden": false
    },
    "pycharm": {
     "name": "#%%\n"
    }
   },
   "outputs": [
    {
     "name": "stderr",
     "output_type": "stream",
     "text": [
      "/Users/sepmein/.pyenv/versions/3.9.7/envs/sci2/lib/python3.9/site-packages/seaborn/_decorators.py:36: FutureWarning: Pass the following variable as a keyword arg: x. From version 0.12, the only valid positional argument will be `data`, and passing other arguments without an explicit keyword will result in an error or misinterpretation.\n",
      "  warnings.warn(\n",
      "/Users/sepmein/.pyenv/versions/3.9.7/envs/sci2/lib/python3.9/site-packages/seaborn/_decorators.py:36: FutureWarning: Pass the following variable as a keyword arg: x. From version 0.12, the only valid positional argument will be `data`, and passing other arguments without an explicit keyword will result in an error or misinterpretation.\n",
      "  warnings.warn(\n"
     ]
    },
    {
     "data": {
      "text/plain": "adm1\nWESTERN          0.000000\nCENTRAL          0.000000\nGREATER_ACCRA    0.000000\nVOLTA            0.000000\nEASTERN          0.000000\nASHANTI          0.000000\nWESTERN_NORTH    0.000000\nAHAFO            0.000000\nBONO             0.000000\nBONO_EAST        0.000000\nOTI              0.000000\nNORTHERN         0.046994\nSAVANNAH         0.000033\nNORTH_EAST       0.272361\nUPPER_EAST       0.027759\nUPPER_WEST       0.227559\nName: irs_cov, dtype: float64"
     },
     "execution_count": 142,
     "metadata": {},
     "output_type": "execute_result"
    },
    {
     "data": {
      "text/plain": "<Figure size 432x288 with 1 Axes>",
      "image/png": "[encoded data removed]"
     },
     "metadata": {},
     "output_type": "display_data"
    }
   ],
   "source": [
    "irs_coverage = intervention[[\"adm1\", \"adm2\", \"IRS_2018\"]]\n",
    "irs_coverage = pd.merge(\n",
    "    left=gha_adm2_population, right=irs_coverage, left_on=\"adm2\", right_on=\"adm2\"\n",
    ")\n",
    "\n",
    "irs_coverage = irs_coverage.drop(columns=[\"adm1_x\"], axis=1)\n",
    "irs_coverage = irs_coverage.rename(columns={\"adm1_y\": \"adm1\"})\n",
    "irs_coverage[\"population_irs\"] = irs_coverage[\"population\"] * irs_coverage[\"IRS_2018\"]\n",
    "irs_coverage_groupby_sum = irs_coverage.groupby(by=\"adm1\").sum()\n",
    "irs_coverage_groupby_sum[\"irs_coverage\"] = (\n",
    "        irs_coverage_groupby_sum[\"population_irs\"] / irs_coverage_groupby_sum[\"population\"]\n",
    ")\n",
    "gha[\"irs_cov\"] = irs_coverage_groupby_sum[\"irs_coverage\"]\n",
    "sns.stripplot(gha[\"irs_cov\"], size=7, color=\".26\")\n",
    "sns.boxplot(gha[\"irs_cov\"], showfliers=False)\n",
    "gha[\"irs_cov\"]"
   ]
  },
  {
   "cell_type": "code",
   "execution_count": 143,
   "outputs": [
    {
     "data": {
      "text/plain": "adm1\nWESTERN          1272959.0\nCENTRAL          1529422.0\nGREATER_ACCRA    2276290.0\nVOLTA            1016829.0\nEASTERN          1660200.0\nASHANTI          2718415.0\nWESTERN_NORTH     691062.0\nAHAFO             345427.0\nBONO              638279.0\nBONO_EAST         609677.0\nOTI               430064.0\nNORTHERN         1055158.0\nSAVANNAH          344933.0\nNORTH_EAST         47105.0\nUPPER_EAST        653181.0\nUPPER_WEST             0.0\nName: llins_distributed, dtype: float64"
     },
     "execution_count": 143,
     "metadata": {},
     "output_type": "execute_result"
    }
   ],
   "source": [
    "# ITN distributed\n",
    "gha_intervention_data_excel = pd.read_excel(\n",
    "    \"../../Data/GHA/Interventions/GHA_Intervention_data.xlsx\",\n",
    "    sheet_name=\"Data template \"\n",
    ")\n",
    "gha_intervention_data_excel_2018 = gha_intervention_data_excel[gha_intervention_data_excel['year'] == 2018]\n",
    "gha_intervention_data_excel_2018 = gha_intervention_data_excel_2018.dropna(subset=['adm1'])\n",
    "gha_intervention_data_excel_2018 = gha_intervention_data_excel_2018.replace('Northern East', 'north east')\n",
    "llins_distributed = gha_intervention_data_excel_2018.groupby('adm1').sum()['llins_num']\n",
    "llins_distributed = demographic.reformat.adm1_name(df=llins_distributed,\n",
    "                                                   original_column_name='adm1',\n",
    "                                                   )\n",
    "\n",
    "gha['llins_distributed'] = llins_distributed\n",
    "gha['llins_distributed']"
   ],
   "metadata": {
    "collapsed": false,
    "pycharm": {
     "name": "#%%\n"
    }
   }
  },
  {
   "cell_type": "markdown",
   "metadata": {},
   "source": [
    "### Efficacy\n",
    "@param d_ITN0 Probability of dying with an encounter with ITN (max). Default = 0.41\n",
    "\n",
    "@param r_ITN0 Probability of repeating behaviour with ITN (max). Default = 0.56\n",
    "\n",
    "@param r_ITN1 Probability of repeating behaviour with ITN (min). Default = 0.24\n",
    "\n",
    "@param r_IRS0 Probability of repeating behaviour with IRS (min). Default = 0.6\n",
    "\n",
    "@param d_IRS0 Probability of dying with an encounter with IRS (max). Default = 1"
   ]
  },
  {
   "cell_type": "code",
   "execution_count": 144,
   "metadata": {
    "collapsed": false,
    "jupyter": {
     "outputs_hidden": false
    },
    "pycharm": {
     "name": "#%%\n"
    }
   },
   "outputs": [
    {
     "name": "stdout",
     "output_type": "stream",
     "text": [
      "regular, repeating:        0.68\n",
      "regular, repeating, with decay:       0.24\n",
      "regular, dying:        0.23\n",
      "regular, feeding:        0.09\n",
      "PBO, repeating:        0.57\n",
      "PBO, repeating, with decay:       0.24\n",
      "PBO, dying:        0.38\n",
      "PBO, feeding:        0.05\n",
      "regular, repeating:        0.65\n",
      "regular, repeating, with decay:       0.24\n",
      "regular, dying:        0.27\n",
      "regular, feeding:        0.08\n",
      "PBO, repeating:        0.51\n",
      "PBO, repeating, with decay:       0.24\n",
      "PBO, dying:        0.46\n",
      "PBO, feeding:        0.03\n",
      "regular, repeating:        0.62\n",
      "regular, repeating, with decay:       0.24\n",
      "regular, dying:        0.31\n",
      "regular, feeding:        0.07\n",
      "PBO, repeating:        0.54\n",
      "PBO, repeating, with decay:       0.24\n",
      "PBO, dying:        0.45\n",
      "PBO, feeding:        0.01\n",
      "regular, repeating:        0.59\n",
      "regular, repeating, with decay:       0.24\n",
      "regular, dying:        0.35\n",
      "regular, feeding:        0.06\n",
      "PBO, repeating:        0.64\n",
      "PBO, repeating, with decay:       0.24\n",
      "PBO, dying:        0.35\n",
      "PBO, feeding:        0.01\n",
      "regular, repeating:        0.56\n",
      "regular, repeating, with decay:       0.24\n",
      "regular, dying:        0.39\n",
      "regular, feeding:        0.05\n",
      "PBO, repeating:        0.74\n",
      "PBO, repeating, with decay:       0.24\n",
      "PBO, dying:        0.26\n",
      "PBO, feeding:        0.00\n",
      "regular, repeating:        0.54\n",
      "regular, repeating, with decay:       0.24\n",
      "regular, dying:        0.42\n",
      "regular, feeding:        0.04\n",
      "PBO, repeating:        0.80\n",
      "PBO, repeating, with decay:       0.24\n",
      "PBO, dying:        0.20\n",
      "PBO, feeding:        0.00\n",
      "regular, repeating:        0.52\n",
      "regular, repeating, with decay:       0.24\n",
      "regular, dying:        0.45\n",
      "regular, feeding:        0.03\n",
      "PBO, repeating:        0.84\n",
      "PBO, repeating, with decay:       0.24\n",
      "PBO, dying:        0.16\n",
      "PBO, feeding:        0.00\n",
      "regular, repeating:        0.51\n",
      "regular, repeating, with decay:       0.24\n",
      "regular, dying:        0.47\n",
      "regular, feeding:        0.02\n",
      "PBO, repeating:        0.86\n",
      "PBO, repeating, with decay:       0.24\n",
      "PBO, dying:        0.14\n",
      "PBO, feeding:        0.00\n",
      "regular, repeating:        0.51\n",
      "regular, repeating, with decay:       0.24\n",
      "regular, dying:        0.47\n",
      "regular, feeding:        0.02\n",
      "PBO, repeating:        0.88\n",
      "PBO, repeating, with decay:       0.24\n",
      "PBO, dying:        0.12\n",
      "PBO, feeding:        0.00\n",
      "regular, repeating:        0.52\n",
      "regular, repeating, with decay:       0.24\n",
      "regular, dying:        0.46\n",
      "regular, feeding:        0.01\n",
      "PBO, repeating:        0.88\n",
      "PBO, repeating, with decay:       0.24\n",
      "PBO, dying:        0.11\n",
      "PBO, feeding:        0.00\n",
      "regular, repeating:        0.54\n",
      "regular, repeating, with decay:       0.24\n",
      "regular, dying:        0.44\n",
      "regular, feeding:        0.01\n",
      "PBO, repeating:        0.89\n",
      "PBO, repeating, with decay:       0.24\n",
      "PBO, dying:        0.11\n",
      "PBO, feeding:        0.00\n",
      "regular, repeating:        0.58\n",
      "regular, repeating, with decay:       0.24\n",
      "regular, dying:        0.42\n",
      "regular, feeding:        0.01\n",
      "PBO, repeating:        0.89\n",
      "PBO, repeating, with decay:       0.24\n",
      "PBO, dying:        0.10\n",
      "PBO, feeding:        0.00\n",
      "regular, repeating:        0.62\n",
      "regular, repeating, with decay:       0.24\n",
      "regular, dying:        0.38\n",
      "regular, feeding:        0.01\n",
      "PBO, repeating:        0.90\n",
      "PBO, repeating, with decay:       0.24\n",
      "PBO, dying:        0.10\n",
      "PBO, feeding:        0.00\n",
      "regular, repeating:        0.66\n",
      "regular, repeating, with decay:       0.24\n",
      "regular, dying:        0.34\n",
      "regular, feeding:        0.00\n",
      "PBO, repeating:        0.90\n",
      "PBO, repeating, with decay:       0.24\n",
      "PBO, dying:        0.10\n",
      "PBO, feeding:        0.00\n",
      "regular, repeating:        0.71\n",
      "regular, repeating, with decay:       0.24\n",
      "regular, dying:        0.29\n",
      "regular, feeding:        0.00\n",
      "PBO, repeating:        0.90\n",
      "PBO, repeating, with decay:       0.24\n",
      "PBO, dying:        0.10\n",
      "PBO, feeding:        0.00\n",
      "regular, repeating:        0.75\n",
      "regular, repeating, with decay:       0.24\n",
      "regular, dying:        0.25\n",
      "regular, feeding:        0.00\n",
      "PBO, repeating:        0.90\n",
      "PBO, repeating, with decay:       0.24\n",
      "PBO, dying:        0.10\n",
      "PBO, feeding:        0.00\n",
      "regular, repeating:        0.80\n",
      "regular, repeating, with decay:       0.24\n",
      "regular, dying:        0.20\n",
      "regular, feeding:        0.00\n",
      "PBO, repeating:        0.90\n",
      "PBO, repeating, with decay:       0.24\n",
      "PBO, dying:        0.10\n",
      "PBO, feeding:        0.00\n",
      "regular, repeating:        0.84\n",
      "regular, repeating, with decay:       0.24\n",
      "regular, dying:        0.16\n",
      "regular, feeding:        0.00\n",
      "PBO, repeating:        0.90\n",
      "PBO, repeating, with decay:       0.24\n",
      "PBO, dying:        0.10\n",
      "PBO, feeding:        0.00\n",
      "regular, repeating:        0.87\n",
      "regular, repeating, with decay:       0.24\n",
      "regular, dying:        0.12\n",
      "regular, feeding:        0.00\n",
      "PBO, repeating:        0.90\n",
      "PBO, repeating, with decay:       0.24\n",
      "PBO, dying:        0.10\n",
      "PBO, feeding:        0.00\n",
      "regular, repeating:        0.91\n",
      "regular, repeating, with decay:       0.24\n",
      "regular, dying:        0.09\n",
      "regular, feeding:        0.00\n",
      "PBO, repeating:        0.90\n",
      "PBO, repeating, with decay:       0.24\n",
      "PBO, dying:        0.09\n",
      "PBO, feeding:        0.00\n"
     ]
    }
   ],
   "source": [
    "converter = efficacy.Converter()\n",
    "for x in np.nditer(np.linspace(0, 1, 20)):\n",
    "    y = converter.bioassay_to_rds(x)\n",
    "    print(\"regular, repeating: \", \"{:10.2f}\".format(y[0][0]))\n",
    "    print(\"regular, repeating, with decay:\", \"{:10.2f}\".format(y[0][1]))\n",
    "    print(\"regular, dying: \", \"{:10.2f}\".format(y[0][2]))\n",
    "    print(\"regular, feeding: \", \"{:10.2f}\".format(y[0][3]))\n",
    "    print(\"PBO, repeating: \", \"{:10.2f}\".format(y[1][0]))\n",
    "    print(\"PBO, repeating, with decay:\", \"{:10.2f}\".format(y[1][1]))\n",
    "    print(\"PBO, dying: \", \"{:10.2f}\".format(y[1][2]))\n",
    "    print(\"PBO, feeding: \", \"{:10.2f}\".format(y[1][3]))"
   ]
  },
  {
   "cell_type": "code",
   "execution_count": 145,
   "metadata": {
    "collapsed": false,
    "jupyter": {
     "outputs_hidden": false
    },
    "pycharm": {
     "name": "#%%\n"
    }
   },
   "outputs": [],
   "source": [
    "# Probability of dying with an encounter with ITN(max)\n",
    "gha[\"d_ITN0\"] = 0.41\n",
    "\n",
    "# load mortality settings vs LLINs & PBO nets\n",
    "mortality_llins_vs_pbo = pd.read_csv(\n",
    "    data_dir + \"LLINs vs PBO/mortality rate llins vs pbo.csv\"\n",
    ")\n",
    "# load resistance settings in each adm1\n",
    "gha_adm1_vector_resistance = pd.read_excel(\n",
    "    data_dir\n",
    "    + \"GHA/WHO_IR_data/MTM_DISCRIMINATING_CONCENTRATION_BIOASSAY_20211130.xlsx\",\n",
    "    sheet_name=\"Data\",\n",
    ")\n",
    "# rename Brong Ahafo to Brong-Ahafo\n",
    "gha_adm1_vector_resistance = gha_adm1_vector_resistance.replace(\n",
    "    \"Brong Ahafo\", \"Brong-Ahafo\"\n",
    ")\n",
    "\n",
    "# subgroup\n",
    "gha_adm1_vector_resistance = gha_adm1_vector_resistance.groupby(\"ADMIN1\").mean()\n",
    "\n",
    "gha_adm1_vector_resistance = gha_adm1_vector_resistance[\"MORTALITY_ADJUSTED\"]\n",
    "gha = gha.merge(\n",
    "    right=gha_adm1_vector_resistance,\n",
    "    how=\"left\",\n",
    "    left_on=\"old_district_name\",\n",
    "    right_index=True,\n",
    ")"
   ]
  },
  {
   "cell_type": "code",
   "execution_count": 146,
   "outputs": [
    {
     "data": {
      "text/plain": "(0.626, 0.27, 0.525, 0.419, 1.616, 1.311)"
     },
     "execution_count": 146,
     "metadata": {},
     "output_type": "execute_result"
    }
   ],
   "source": [
    "ellie_2022_llins_pbo = pd.read_excel(\n",
    "    \"/Users/sepmein/Dropbox/benchmarking/Data/LLINs vs PBO/ellie-2022-llins-vs-pbo.xlsx\", sheet_name=\"Sheet1\")\n",
    "\n",
    "\n",
    "def test_convert(mortality):\n",
    "    resistance = 1 - mortality\n",
    "    if resistance < .1:\n",
    "        resistance_level = .0\n",
    "    elif resistance < .30:\n",
    "        resistance_level = .2\n",
    "    elif resistance < .50:\n",
    "        resistance_level = .4\n",
    "    elif resistance < .70:\n",
    "        resistance_level = .6\n",
    "    elif resistance < .90:\n",
    "        resistance_level = .8\n",
    "    else:\n",
    "        resistance_level = 1\n",
    "\n",
    "    result = ellie_2022_llins_pbo[ellie_2022_llins_pbo['resistance'] == resistance_level]\n",
    "\n",
    "    r10 = result['r10'].values[0]\n",
    "    d10 = result['d10'].values[0]\n",
    "    r20 = result['r20'].values[0]\n",
    "    d20 = result['d20'].values[0]\n",
    "    h1 = result['h1'].values[0]\n",
    "    h2 = result['h2'].values[0]\n",
    "\n",
    "    return r10, d10, r20, d20, h1, h2\n",
    "\n",
    "\n",
    "test_convert(.3)"
   ],
   "metadata": {
    "collapsed": false,
    "pycharm": {
     "name": "#%%\n"
    }
   }
  },
  {
   "cell_type": "code",
   "execution_count": 147,
   "outputs": [],
   "source": [
    "gha[\"r_ITN_0\"] = gha[\"MORTALITY_ADJUSTED\"].map(\n",
    "    lambda _: test_convert(_ / 100)[0]\n",
    ")\n",
    "gha[\"r_PBO_0\"] = gha[\"MORTALITY_ADJUSTED\"].map(\n",
    "    lambda _: test_convert(_ / 100)[2]\n",
    ")\n",
    "# gha[\"r_ITN_1\"] = gha[\"MORTALITY_ADJUSTED\"].map(\n",
    "#     lambda _: test_convert(_ / 100)[0][1]\n",
    "# )\n",
    "# gha[\"r_PBO_1\"] = gha[\"MORTALITY_ADJUSTED\"].map(\n",
    "#     lambda _: converter.bioassay_to_rds(_ / 100)[1][1]\n",
    "# )\n",
    "gha[\"d_ITN_0\"] = gha[\"MORTALITY_ADJUSTED\"].map(\n",
    "    lambda _: test_convert(_ / 100)[1]\n",
    ")\n",
    "gha[\"d_PBO_0\"] = gha[\"MORTALITY_ADJUSTED\"].map(\n",
    "    lambda _: test_convert(_ / 100)[3]\n",
    ")\n",
    "gha[\"h_ITN\"] = gha[\"MORTALITY_ADJUSTED\"].map(\n",
    "    lambda _: test_convert(_ / 100)[4]\n",
    ")\n",
    "gha[\"h_PBO\"] = gha[\"MORTALITY_ADJUSTED\"].map(\n",
    "    lambda _: test_convert(_ / 100)[5]\n",
    ")\n",
    "# categorize resistance into h/m/l groups\n",
    "# gha_adm1_vector_resistance_groups = pd.cut(\n",
    "#     x=gha_adm1_vector_resistance,\n",
    "#     bins=[0.0, 30, 60, 100],\n",
    "#     labels=['high', 'moderate', 'low']\n",
    "# )\n",
    "# as the data from WHO/GMP/Malaria Threats Map still use 216 system\n",
    "# I need to transform to the 260 system first\n",
    "# gha['']\n",
    "\n",
    "# Probability of repeating behaviour with ITN(max)\n",
    "# gha[\"r_ITN0\"] = 0.56\n",
    "# Probability of repeating behaviour with ITN(min)\n",
    "# gha[\"r_ITN1\"] = 0.24\n",
    "# Probability of repeating behaviour with IRS(min)\n",
    "gha[\"r_IRS0\"] = 0.6\n",
    "# Probability of dying with an encounter with IRS(max)\n",
    "gha[\"d_IRS0\"] = 1"
   ],
   "metadata": {
    "collapsed": false,
    "pycharm": {
     "name": "#%%\n"
    }
   }
  },
  {
   "cell_type": "code",
   "execution_count": 148,
   "metadata": {
    "collapsed": false,
    "jupyter": {
     "outputs_hidden": false
    },
    "pycharm": {
     "name": "#%%\n"
    }
   },
   "outputs": [],
   "source": [
    "# gha = gha.merge(right=gha_adm1_vector_resistance_groups,\n",
    "#                 how=\"left\",\n",
    "#                 left_on=\"old_district_name\",\n",
    "#                 right_index=True\n",
    "#                 )\n",
    "# gha.loc[gha['MORTALITY_ADJUSTED'] == 'low', 'd_ITN0_LLINs'] = .527\n",
    "# gha.loc[gha['MORTALITY_ADJUSTED'] == 'low', 'd_ITN0_PBO'] = .659\n",
    "# gha.loc[gha['MORTALITY_ADJUSTED'] == 'moderate', 'd_ITN0_LLINs'] = .18\n",
    "# gha.loc[gha['MORTALITY_ADJUSTED'] == 'moderate', 'd_ITN0_PBO'] = .303\n",
    "# gha.loc[gha['MORTALITY_ADJUSTED'] == 'high', 'd_ITN0_LLINs'] = .238\n",
    "# gha.loc[gha['MORTALITY_ADJUSTED'] == 'high', 'd_ITN0_PBO'] = .438"
   ]
  },
  {
   "cell_type": "markdown",
   "metadata": {},
   "source": [
    "### Decay\n",
    "@param irs_half_life IRS half life. Default =   0.5 * DY\n",
    "\n",
    "@param itn_half_life ITN half life. Default =   2.64 * DY"
   ]
  },
  {
   "cell_type": "code",
   "execution_count": 149,
   "metadata": {
    "collapsed": false,
    "jupyter": {
     "outputs_hidden": false
    },
    "pycharm": {
     "name": "#%%\n"
    }
   },
   "outputs": [],
   "source": [
    "# IRS half life\n",
    "gha[\"irs_half_life\"] = 0.5 * 365\n",
    "# ITN half life\n",
    "gha[\"itn_half_life\"] = 2.64 * 365"
   ]
  },
  {
   "cell_type": "markdown",
   "metadata": {},
   "source": [
    "### Implementation\n",
    "@param IRS_interval How long before IRS is repeated, i.e. when IRS decay = 1. Default =   1 * DY\n",
    "\n",
    "@param ITN_interval How long before ITN is repeated, i.e. when IRS decay = 1.  Default =   3 * DY"
   ]
  },
  {
   "cell_type": "code",
   "execution_count": 150,
   "metadata": {
    "collapsed": false,
    "jupyter": {
     "outputs_hidden": false
    },
    "pycharm": {
     "name": "#%%\n"
    }
   },
   "outputs": [],
   "source": [
    "# How long before IRS is repeated\n",
    "gha[\"IRS_interval\"] = 1 * 365\n",
    "# how long before ITN is repeated\n",
    "gha[\"ITN_interval\"] = 3 * 365"
   ]
  },
  {
   "cell_type": "code",
   "execution_count": 151,
   "metadata": {
    "collapsed": false,
    "jupyter": {
     "outputs_hidden": false
    },
    "pycharm": {
     "name": "#%%\n"
    }
   },
   "outputs": [
    {
     "data": {
      "text/plain": "              adm1              adm2  year  month   smc_yn  llins_yn  irs_yn   \\\n0              NaN               NaN  2008     NaN       0         0        0   \n1         Northern           Gushegu  2008     NaN       0         0        0   \n2         Northern            Karaga  2008     NaN       0         0        0   \n3         Northern          Savelugu  2008     NaN       0         0        0   \n4         Northern             Tolon  2008     NaN       0         0        0   \n..             ...               ...   ...     ...     ...       ...      ...   \n746  Western North              Bodi  2018     NaN       0         1        0   \n747  Western North           Juaboso  2018     NaN       0         1        0   \n748  Western North  Sefwi Akontombra  2018     NaN       0         1        0   \n749  Western North      Sefwi-Wiawso  2018     NaN       0         1        0   \n750  Western North            Suaman  2018     NaN       0         1        0   \n\n     pbo_yn   smc1_num  smc2_num  smc3_num  smc4_num   llins_num  irs_cov  \\\n0          0       NaN       NaN       NaN        NaN        NaN      NaN   \n1          0       NaN       NaN       NaN        NaN        NaN      NaN   \n2          0       NaN       NaN       NaN        NaN        NaN      NaN   \n3          0       NaN       NaN       NaN        NaN        NaN      NaN   \n4          0       NaN       NaN       NaN        NaN        NaN      NaN   \n..       ...       ...       ...       ...        ...        ...      ...   \n746        0       NaN       NaN       NaN        NaN    54740.0      NaN   \n747        0       NaN       NaN       NaN        NaN    96144.0      NaN   \n748        0       NaN       NaN       NaN        NaN    61735.0      NaN   \n749        0       NaN       NaN       NaN        NaN    96608.0      NaN   \n750        0       NaN       NaN       NaN        NaN    26936.0      NaN   \n\n    irs_popprot  irs_struct_target irs_struct_spr  \n0           NaN                NaN            NaN  \n1         89994                NaN          38874  \n2         75290                NaN          29114  \n3        116579                NaN          44610  \n4        160043                NaN          68182  \n..          ...                ...            ...  \n746         NaN                NaN            NaN  \n747         NaN                NaN            NaN  \n748         NaN                NaN            NaN  \n749         NaN                NaN            NaN  \n750         NaN                NaN            NaN  \n\n[751 rows x 17 columns]",
      "text/html": "<div>\n<style scoped>\n    .dataframe tbody tr th:only-of-type {\n        vertical-align: middle;\n    }\n\n    .dataframe tbody tr th {\n        vertical-align: top;\n    }\n\n    .dataframe thead th {\n        text-align: right;\n    }\n</style>\n<table border=\"1\" class=\"dataframe\">\n  <thead>\n    <tr style=\"text-align: right;\">\n      <th></th>\n      <th>adm1</th>\n      <th>adm2</th>\n      <th>year</th>\n      <th>month</th>\n      <th>smc_yn</th>\n      <th>llins_yn</th>\n      <th>irs_yn</th>\n      <th>pbo_yn</th>\n      <th>smc1_num</th>\n      <th>smc2_num</th>\n      <th>smc3_num</th>\n      <th>smc4_num</th>\n      <th>llins_num</th>\n      <th>irs_cov</th>\n      <th>irs_popprot</th>\n      <th>irs_struct_target</th>\n      <th>irs_struct_spr</th>\n    </tr>\n  </thead>\n  <tbody>\n    <tr>\n      <th>0</th>\n      <td>NaN</td>\n      <td>NaN</td>\n      <td>2008</td>\n      <td>NaN</td>\n      <td>0</td>\n      <td>0</td>\n      <td>0</td>\n      <td>0</td>\n      <td>NaN</td>\n      <td>NaN</td>\n      <td>NaN</td>\n      <td>NaN</td>\n      <td>NaN</td>\n      <td>NaN</td>\n      <td>NaN</td>\n      <td>NaN</td>\n      <td>NaN</td>\n    </tr>\n    <tr>\n      <th>1</th>\n      <td>Northern</td>\n      <td>Gushegu</td>\n      <td>2008</td>\n      <td>NaN</td>\n      <td>0</td>\n      <td>0</td>\n      <td>0</td>\n      <td>0</td>\n      <td>NaN</td>\n      <td>NaN</td>\n      <td>NaN</td>\n      <td>NaN</td>\n      <td>NaN</td>\n      <td>NaN</td>\n      <td>89994</td>\n      <td>NaN</td>\n      <td>38874</td>\n    </tr>\n    <tr>\n      <th>2</th>\n      <td>Northern</td>\n      <td>Karaga</td>\n      <td>2008</td>\n      <td>NaN</td>\n      <td>0</td>\n      <td>0</td>\n      <td>0</td>\n      <td>0</td>\n      <td>NaN</td>\n      <td>NaN</td>\n      <td>NaN</td>\n      <td>NaN</td>\n      <td>NaN</td>\n      <td>NaN</td>\n      <td>75290</td>\n      <td>NaN</td>\n      <td>29114</td>\n    </tr>\n    <tr>\n      <th>3</th>\n      <td>Northern</td>\n      <td>Savelugu</td>\n      <td>2008</td>\n      <td>NaN</td>\n      <td>0</td>\n      <td>0</td>\n      <td>0</td>\n      <td>0</td>\n      <td>NaN</td>\n      <td>NaN</td>\n      <td>NaN</td>\n      <td>NaN</td>\n      <td>NaN</td>\n      <td>NaN</td>\n      <td>116579</td>\n      <td>NaN</td>\n      <td>44610</td>\n    </tr>\n    <tr>\n      <th>4</th>\n      <td>Northern</td>\n      <td>Tolon</td>\n      <td>2008</td>\n      <td>NaN</td>\n      <td>0</td>\n      <td>0</td>\n      <td>0</td>\n      <td>0</td>\n      <td>NaN</td>\n      <td>NaN</td>\n      <td>NaN</td>\n      <td>NaN</td>\n      <td>NaN</td>\n      <td>NaN</td>\n      <td>160043</td>\n      <td>NaN</td>\n      <td>68182</td>\n    </tr>\n    <tr>\n      <th>...</th>\n      <td>...</td>\n      <td>...</td>\n      <td>...</td>\n      <td>...</td>\n      <td>...</td>\n      <td>...</td>\n      <td>...</td>\n      <td>...</td>\n      <td>...</td>\n      <td>...</td>\n      <td>...</td>\n      <td>...</td>\n      <td>...</td>\n      <td>...</td>\n      <td>...</td>\n      <td>...</td>\n      <td>...</td>\n    </tr>\n    <tr>\n      <th>746</th>\n      <td>Western North</td>\n      <td>Bodi</td>\n      <td>2018</td>\n      <td>NaN</td>\n      <td>0</td>\n      <td>1</td>\n      <td>0</td>\n      <td>0</td>\n      <td>NaN</td>\n      <td>NaN</td>\n      <td>NaN</td>\n      <td>NaN</td>\n      <td>54740.0</td>\n      <td>NaN</td>\n      <td>NaN</td>\n      <td>NaN</td>\n      <td>NaN</td>\n    </tr>\n    <tr>\n      <th>747</th>\n      <td>Western North</td>\n      <td>Juaboso</td>\n      <td>2018</td>\n      <td>NaN</td>\n      <td>0</td>\n      <td>1</td>\n      <td>0</td>\n      <td>0</td>\n      <td>NaN</td>\n      <td>NaN</td>\n      <td>NaN</td>\n      <td>NaN</td>\n      <td>96144.0</td>\n      <td>NaN</td>\n      <td>NaN</td>\n      <td>NaN</td>\n      <td>NaN</td>\n    </tr>\n    <tr>\n      <th>748</th>\n      <td>Western North</td>\n      <td>Sefwi Akontombra</td>\n      <td>2018</td>\n      <td>NaN</td>\n      <td>0</td>\n      <td>1</td>\n      <td>0</td>\n      <td>0</td>\n      <td>NaN</td>\n      <td>NaN</td>\n      <td>NaN</td>\n      <td>NaN</td>\n      <td>61735.0</td>\n      <td>NaN</td>\n      <td>NaN</td>\n      <td>NaN</td>\n      <td>NaN</td>\n    </tr>\n    <tr>\n      <th>749</th>\n      <td>Western North</td>\n      <td>Sefwi-Wiawso</td>\n      <td>2018</td>\n      <td>NaN</td>\n      <td>0</td>\n      <td>1</td>\n      <td>0</td>\n      <td>0</td>\n      <td>NaN</td>\n      <td>NaN</td>\n      <td>NaN</td>\n      <td>NaN</td>\n      <td>96608.0</td>\n      <td>NaN</td>\n      <td>NaN</td>\n      <td>NaN</td>\n      <td>NaN</td>\n    </tr>\n    <tr>\n      <th>750</th>\n      <td>Western North</td>\n      <td>Suaman</td>\n      <td>2018</td>\n      <td>NaN</td>\n      <td>0</td>\n      <td>1</td>\n      <td>0</td>\n      <td>0</td>\n      <td>NaN</td>\n      <td>NaN</td>\n      <td>NaN</td>\n      <td>NaN</td>\n      <td>26936.0</td>\n      <td>NaN</td>\n      <td>NaN</td>\n      <td>NaN</td>\n      <td>NaN</td>\n    </tr>\n  </tbody>\n</table>\n<p>751 rows × 17 columns</p>\n</div>"
     },
     "execution_count": 151,
     "metadata": {},
     "output_type": "execute_result"
    }
   ],
   "source": [
    "GHA_Intervention_data = pd.read_excel(\n",
    "    data_dir + \"GHA/Interventions/GHA_Intervention_data.xlsx\", \"Data template \"\n",
    ")\n",
    "GHA_Intervention_data"
   ]
  },
  {
   "cell_type": "code",
   "execution_count": 152,
   "metadata": {
    "collapsed": false,
    "jupyter": {
     "outputs_hidden": false
    },
    "pycharm": {
     "name": "#%%\n"
    }
   },
   "outputs": [
    {
     "data": {
      "text/plain": "Empty DataFrame\nColumns: [adm1, code, adm2, year, month , smc_yn, llins_yn, irs_yn , pbo_yn , smc1_num, smc2_num, smc3_num, smc4_num , llins_num, irs_cov, irs_popprot, irs_struct_target, irs_struct_spr]\nIndex: []",
      "text/html": "<div>\n<style scoped>\n    .dataframe tbody tr th:only-of-type {\n        vertical-align: middle;\n    }\n\n    .dataframe tbody tr th {\n        vertical-align: top;\n    }\n\n    .dataframe thead th {\n        text-align: right;\n    }\n</style>\n<table border=\"1\" class=\"dataframe\">\n  <thead>\n    <tr style=\"text-align: right;\">\n      <th></th>\n      <th>adm1</th>\n      <th>code</th>\n      <th>adm2</th>\n      <th>year</th>\n      <th>month</th>\n      <th>smc_yn</th>\n      <th>llins_yn</th>\n      <th>irs_yn</th>\n      <th>pbo_yn</th>\n      <th>smc1_num</th>\n      <th>smc2_num</th>\n      <th>smc3_num</th>\n      <th>smc4_num</th>\n      <th>llins_num</th>\n      <th>irs_cov</th>\n      <th>irs_popprot</th>\n      <th>irs_struct_target</th>\n      <th>irs_struct_spr</th>\n    </tr>\n  </thead>\n  <tbody>\n  </tbody>\n</table>\n</div>"
     },
     "execution_count": 152,
     "metadata": {},
     "output_type": "execute_result"
    }
   ],
   "source": [
    "pd.merge(\n",
    "    gha_admin1,\n",
    "    GHA_Intervention_data,\n",
    "    left_on=\"adm1\",\n",
    "    right_on=\"adm1\",\n",
    ")"
   ]
  },
  {
   "cell_type": "markdown",
   "metadata": {},
   "source": [
    "## EIR estimation\n",
    "\n",
    "Data source: literature search\n",
    "\n",
    "- Searched with the keyword 'eir', 'entomology inoculation rate', 'Ghana'\n",
    "- Created a database on EIR for about 800 records"
   ]
  },
  {
   "cell_type": "code",
   "execution_count": 153,
   "metadata": {
    "collapsed": false,
    "jupyter": {
     "outputs_hidden": false
    },
    "pycharm": {
     "name": "#%%\n"
    }
   },
   "outputs": [],
   "source": [
    "eir = pd.read_csv(data_dir + \"eir.csv\")\n",
    "ghana_eir = eir[eir[\"Country\"] == \"Ghana\"]"
   ]
  },
  {
   "cell_type": "code",
   "execution_count": 154,
   "metadata": {
    "collapsed": false,
    "jupyter": {
     "outputs_hidden": false
    },
    "pycharm": {
     "name": "#%%\n"
    }
   },
   "outputs": [
    {
     "data": {
      "text/plain": "<AxesSubplot:xlabel='setting', ylabel='eir'>"
     },
     "execution_count": 154,
     "metadata": {},
     "output_type": "execute_result"
    },
    {
     "data": {
      "text/plain": "<Figure size 432x288 with 1 Axes>",
      "image/png": "[encoded data removed]"
     },
     "metadata": {},
     "output_type": "display_data"
    }
   ],
   "source": [
    "sns.boxplot(data=eir, y=\"eir\", x=\"setting\", showfliers=False)"
   ]
  },
  {
   "cell_type": "code",
   "execution_count": 155,
   "metadata": {
    "collapsed": false,
    "jupyter": {
     "outputs_hidden": false
    },
    "pycharm": {
     "name": "#%%\n"
    }
   },
   "outputs": [
    {
     "data": {
      "text/plain": "<AxesSubplot:xlabel='Year_Categorical', ylabel='eir'>"
     },
     "execution_count": 155,
     "metadata": {},
     "output_type": "execute_result"
    },
    {
     "data": {
      "text/plain": "<Figure size 432x288 with 1 Axes>",
      "image/png": "[encoded data removed]"
     },
     "metadata": {},
     "output_type": "display_data"
    }
   ],
   "source": [
    "eir[\"Year_Categorical\"] = eir[\"Year\"] // 10 * 10\n",
    "sns.boxenplot(data=eir, y=\"eir\", x=\"Year_Categorical\", showfliers=False)"
   ]
  },
  {
   "cell_type": "code",
   "execution_count": 156,
   "metadata": {
    "collapsed": false,
    "jupyter": {
     "outputs_hidden": false
    },
    "pycharm": {
     "name": "#%%\n"
    }
   },
   "outputs": [
    {
     "data": {
      "text/plain": "(array([0, 1, 2, 3, 4]),\n [Text(0, 0, 'ashanti'),\n  Text(1, 0, 'Bono'),\n  Text(2, 0, 'Bono east'),\n  Text(3, 0, 'Greater Accra'),\n  Text(4, 0, 'Upper east')])"
     },
     "execution_count": 156,
     "metadata": {},
     "output_type": "execute_result"
    },
    {
     "data": {
      "text/plain": "<Figure size 432x288 with 1 Axes>",
      "image/png": "[encoded data removed]"
     },
     "metadata": {},
     "output_type": "display_data"
    }
   ],
   "source": [
    "# plot ghana eir data\n",
    "# TODO: To include 95%CI low and high data.\n",
    "g = sns.swarmplot(data=ghana_eir, y=\"eir\", x=\"adm1\")\n",
    "plt.xticks(rotation=45)"
   ]
  },
  {
   "cell_type": "markdown",
   "metadata": {},
   "source": [
    "### Ghana EIR calculation and missing provinces data estimation\n",
    "\n",
    "1. search through papers to find eir dataset\n",
    "2. generate existing dataset\n",
    "3. check availability for adm1\n",
    "4. calculate eir for available adm1 region\n",
    "5. estimate eir for unavailable adm1 region"
   ]
  },
  {
   "cell_type": "code",
   "execution_count": 157,
   "metadata": {
    "collapsed": false,
    "jupyter": {
     "outputs_hidden": false
    },
    "pycharm": {
     "name": "#%%\n"
    }
   },
   "outputs": [
    {
     "data": {
      "text/plain": "<AxesSubplot:xlabel='adm1'>"
     },
     "execution_count": 157,
     "metadata": {},
     "output_type": "execute_result"
    },
    {
     "data": {
      "text/plain": "<Figure size 432x288 with 1 Axes>",
      "image/png": "[encoded data removed]"
     },
     "metadata": {},
     "output_type": "display_data"
    }
   ],
   "source": [
    "gha_eir = ghana_eir.groupby(by=\"adm1\").mean()\n",
    "gha_eir = gha_eir[\"eir\"]\n",
    "gha_eir = demographic.reformat.adm1_name(gha_eir)\n",
    "# gha_eir\n",
    "gha[\"eir\"] = gha_eir\n",
    "gha = util.missing_data_interpolate(\n",
    "    df=gha, neighbour=gha_adjacent_provinces, column=\"eir\", round_n=100\n",
    ")\n",
    "gha[\"eir\"].plot.bar()"
   ]
  },
  {
   "cell_type": "markdown",
   "metadata": {},
   "source": [
    "## Treatment seeking\n",
    "\n",
    "Data source - WHO/GMP\n",
    "Latest data - 2016\n",
    "\n",
    "- **any_treat** - percentage of treatment from public sector **and** private sector\n",
    "- **pub_treat** - data from **only** public sector"
   ]
  },
  {
   "cell_type": "code",
   "execution_count": 158,
   "metadata": {
    "collapsed": false,
    "jupyter": {
     "outputs_hidden": false
    },
    "pycharm": {
     "name": "#%%\n"
    }
   },
   "outputs": [
    {
     "data": {
      "text/plain": "            adm1  any_treat  pub_treat\n0        Western   0.582970   0.356210\n1        Central   0.702795   0.294569\n2  Greater Accra   0.757498   0.258062\n3          Volta   0.789922   0.405711\n4        Eastern   0.827497   0.417564\n5        Ashanti   0.606210   0.193321\n6    Brong Ahafo   0.757674   0.487024\n7       Northern   0.849404   0.521830\n8     Upper East   0.852665   0.581014\n9     Upper West   0.639017   0.472995",
      "text/html": "<div>\n<style scoped>\n    .dataframe tbody tr th:only-of-type {\n        vertical-align: middle;\n    }\n\n    .dataframe tbody tr th {\n        vertical-align: top;\n    }\n\n    .dataframe thead th {\n        text-align: right;\n    }\n</style>\n<table border=\"1\" class=\"dataframe\">\n  <thead>\n    <tr style=\"text-align: right;\">\n      <th></th>\n      <th>adm1</th>\n      <th>any_treat</th>\n      <th>pub_treat</th>\n    </tr>\n  </thead>\n  <tbody>\n    <tr>\n      <th>0</th>\n      <td>Western</td>\n      <td>0.582970</td>\n      <td>0.356210</td>\n    </tr>\n    <tr>\n      <th>1</th>\n      <td>Central</td>\n      <td>0.702795</td>\n      <td>0.294569</td>\n    </tr>\n    <tr>\n      <th>2</th>\n      <td>Greater Accra</td>\n      <td>0.757498</td>\n      <td>0.258062</td>\n    </tr>\n    <tr>\n      <th>3</th>\n      <td>Volta</td>\n      <td>0.789922</td>\n      <td>0.405711</td>\n    </tr>\n    <tr>\n      <th>4</th>\n      <td>Eastern</td>\n      <td>0.827497</td>\n      <td>0.417564</td>\n    </tr>\n    <tr>\n      <th>5</th>\n      <td>Ashanti</td>\n      <td>0.606210</td>\n      <td>0.193321</td>\n    </tr>\n    <tr>\n      <th>6</th>\n      <td>Brong Ahafo</td>\n      <td>0.757674</td>\n      <td>0.487024</td>\n    </tr>\n    <tr>\n      <th>7</th>\n      <td>Northern</td>\n      <td>0.849404</td>\n      <td>0.521830</td>\n    </tr>\n    <tr>\n      <th>8</th>\n      <td>Upper East</td>\n      <td>0.852665</td>\n      <td>0.581014</td>\n    </tr>\n    <tr>\n      <th>9</th>\n      <td>Upper West</td>\n      <td>0.639017</td>\n      <td>0.472995</td>\n    </tr>\n  </tbody>\n</table>\n</div>"
     },
     "execution_count": 158,
     "metadata": {},
     "output_type": "execute_result"
    },
    {
     "data": {
      "text/plain": "<Figure size 432x288 with 1 Axes>",
      "image/png": "[encoded data removed]"
     },
     "metadata": {},
     "output_type": "display_data"
    }
   ],
   "source": [
    "# 216 region\n",
    "treatment_seeking_216 = pd.read_csv(\n",
    "    data_dir\n",
    "    + \"GHA/MAP_District_Estimates/Maps_byMAP_216districts/GHA_regional_DHS_treatment_seeking/GHA_TreatmentSeeking.csv\"\n",
    ")\n",
    "treatment_seeking_216 = treatment_seeking_216.rename(columns={\"REGNAME\": \"adm1\"})\n",
    "treatment_seeking_216 = treatment_seeking_216[[\"adm1\", \"any_treat\", \"pub_treat\"]]\n",
    "\n",
    "ax = treatment_seeking_216.plot(kind=\"bar\")\n",
    "##ax.set_xticks(treatment_seeking_216[['adm1']])\n",
    "ax.set_xticklabels(treatment_seeking_216[\"adm1\"])\n",
    "\n",
    "##treatment_seeking_216[['adm1']]\n",
    "treatment_seeking_216"
   ]
  },
  {
   "cell_type": "code",
   "execution_count": 159,
   "metadata": {
    "collapsed": false,
    "jupyter": {
     "outputs_hidden": false
    },
    "pycharm": {
     "name": "#%%\n"
    }
   },
   "outputs": [
    {
     "data": {
      "text/plain": "<Figure size 432x288 with 1 Axes>",
      "image/png": "[encoded data removed]"
     },
     "metadata": {},
     "output_type": "display_data"
    }
   ],
   "source": [
    "# 260 region\n",
    "\n",
    "treatment_seeking_260 = pd.read_excel(\n",
    "    data_dir + \"GHA/MIS-DHS_data/GHA_treatment_seeking_tprs_adm1_16regions.xlsx\",\n",
    "    \"Sheet\",\n",
    ")\n",
    "treatment_seeking_260 = treatment_seeking_260[[\"adm1\", \"pub_treat\"]]\n",
    "treatment_seeking_260 = treatment_seeking_260.rename(\n",
    "    columns={\"pub_treat\": \"treatment_seeking\"}\n",
    ")\n",
    "\n",
    "treatment_seeking_260 = demographic.reformat.adm1_name(\n",
    "    df=treatment_seeking_260, original_column_name=\"adm1\"\n",
    ")\n",
    "# treatment_seeking_260\n",
    "\n",
    "ax = treatment_seeking_260.plot(kind=\"bar\")\n",
    "##ax.set_xticks(treatment_seeking_216[['adm1']])"
   ]
  },
  {
   "cell_type": "code",
   "execution_count": 160,
   "metadata": {
    "collapsed": false,
    "jupyter": {
     "outputs_hidden": false
    },
    "pycharm": {
     "name": "#%%\n"
    }
   },
   "outputs": [
    {
     "data": {
      "text/plain": "adm1\nWESTERN          0.582970\nCENTRAL          0.702795\nGREATER_ACCRA    0.757498\nVOLTA            0.789922\nEASTERN          0.827497\nASHANTI          0.606210\nWESTERN_NORTH    0.582970\nAHAFO            0.757674\nBONO             0.757674\nBONO_EAST        0.757674\nOTI              0.789922\nNORTHERN         0.849404\nSAVANNAH         0.849404\nNORTH_EAST       0.849404\nUPPER_EAST       0.852665\nUPPER_WEST       0.639017\nName: treatment_seeking, dtype: float64"
     },
     "execution_count": 160,
     "metadata": {},
     "output_type": "execute_result"
    }
   ],
   "source": [
    "gha = pd.merge(\n",
    "    left=gha, right=treatment_seeking_260, how=\"left\", left_index=True, right_index=True\n",
    ")\n",
    "gha[\"treatment_seeking\"]"
   ]
  },
  {
   "cell_type": "markdown",
   "metadata": {},
   "source": [
    "# Map ploting with Shapefile in PYTHON"
   ]
  },
  {
   "cell_type": "code",
   "execution_count": 161,
   "metadata": {
    "collapsed": false,
    "jupyter": {
     "outputs_hidden": false
    },
    "pycharm": {
     "name": "#%%\n"
    }
   },
   "outputs": [],
   "source": [
    "# shapefile\n",
    "gha_shape = shapefile.Reader(\n",
    "    data_dir\n",
    "    + \"GHA/WHO_Health_District_Shapefiles/Ghana _Shape_260 Districts_Boundary. 26.06.2019/260_Districts_of_Ghana\"\n",
    ")\n",
    "shapes = gha_shape.shapes()"
   ]
  },
  {
   "cell_type": "code",
   "execution_count": 162,
   "metadata": {
    "collapsed": false,
    "jupyter": {
     "outputs_hidden": false
    },
    "pycharm": {
     "name": "#%%\n"
    }
   },
   "outputs": [],
   "source": [
    "# for shape in shapes:\n",
    "#     for point in shape.points:\n",
    "#         x,y = point\n",
    "#         plt.plot(x,y)\n",
    "# plt.show()"
   ]
  },
  {
   "cell_type": "code",
   "execution_count": 163,
   "metadata": {
    "collapsed": false,
    "jupyter": {
     "outputs_hidden": false
    },
    "pycharm": {
     "name": "#%%\n"
    }
   },
   "outputs": [
    {
     "data": {
      "text/plain": "      REGION                  DISTRICT DIST_CODE          AREA     PERIMETER  \\\n46     AHAFO      TANO NORTH MUNICIPAL      0707  9.013978e+09  618418.26210   \n60   CENTRAL         TWIFO ATTI-MORKWA      0215  1.028382e+10  619626.52276   \n175  ASHANTI           AHAFO ANO NORTH      0617  6.390109e+09  565591.92070   \n115  EASTERN  KWAHU AFRAM PLAINS NORTH      0521  2.520139e+10  843074.17120   \n82     VOLTA             AGOTIME ZIOPE      0407  3.397653e+09  396621.50540   \n\n       AREA_KM  CreationDa                  Creator    EditDate  \\\n46    837.4256  2016-02-18  jAdjei@USAID_Ghana_HPNO  2016-02-18   \n60    955.3981  2016-02-18  jAdjei@USAID_Ghana_HPNO  2016-02-18   \n175   593.6603  2016-02-18  jAdjei@USAID_Ghana_HPNO  2016-02-18   \n115  2341.2847  2016-02-18  jAdjei@USAID_Ghana_HPNO  2016-02-18   \n82    315.6521  2016-02-18  jAdjei@USAID_Ghana_HPNO  2016-02-18   \n\n                                                coords  \n46   [(-229867.63626196183, 817029.0572050265), (-2...  \n60   [(-178716.45346751588, 652376.1646446584), (-1...  \n175  [(-237697.0291236697, 784350.6609255057), (-23...  \n115  [(-15845.803485393972, 803098.9980061789), (-1...  \n82   [(83403.22743918838, 719329.2263381509), (8332...  ",
      "text/html": "<div>\n<style scoped>\n    .dataframe tbody tr th:only-of-type {\n        vertical-align: middle;\n    }\n\n    .dataframe tbody tr th {\n        vertical-align: top;\n    }\n\n    .dataframe thead th {\n        text-align: right;\n    }\n</style>\n<table border=\"1\" class=\"dataframe\">\n  <thead>\n    <tr style=\"text-align: right;\">\n      <th></th>\n      <th>REGION</th>\n      <th>DISTRICT</th>\n      <th>DIST_CODE</th>\n      <th>AREA</th>\n      <th>PERIMETER</th>\n      <th>AREA_KM</th>\n      <th>CreationDa</th>\n      <th>Creator</th>\n      <th>EditDate</th>\n      <th>coords</th>\n    </tr>\n  </thead>\n  <tbody>\n    <tr>\n      <th>46</th>\n      <td>AHAFO</td>\n      <td>TANO NORTH MUNICIPAL</td>\n      <td>0707</td>\n      <td>9.013978e+09</td>\n      <td>618418.26210</td>\n      <td>837.4256</td>\n      <td>2016-02-18</td>\n      <td>jAdjei@USAID_Ghana_HPNO</td>\n      <td>2016-02-18</td>\n      <td>[(-229867.63626196183, 817029.0572050265), (-2...</td>\n    </tr>\n    <tr>\n      <th>60</th>\n      <td>CENTRAL</td>\n      <td>TWIFO ATTI-MORKWA</td>\n      <td>0215</td>\n      <td>1.028382e+10</td>\n      <td>619626.52276</td>\n      <td>955.3981</td>\n      <td>2016-02-18</td>\n      <td>jAdjei@USAID_Ghana_HPNO</td>\n      <td>2016-02-18</td>\n      <td>[(-178716.45346751588, 652376.1646446584), (-1...</td>\n    </tr>\n    <tr>\n      <th>175</th>\n      <td>ASHANTI</td>\n      <td>AHAFO ANO NORTH</td>\n      <td>0617</td>\n      <td>6.390109e+09</td>\n      <td>565591.92070</td>\n      <td>593.6603</td>\n      <td>2016-02-18</td>\n      <td>jAdjei@USAID_Ghana_HPNO</td>\n      <td>2016-02-18</td>\n      <td>[(-237697.0291236697, 784350.6609255057), (-23...</td>\n    </tr>\n    <tr>\n      <th>115</th>\n      <td>EASTERN</td>\n      <td>KWAHU AFRAM PLAINS NORTH</td>\n      <td>0521</td>\n      <td>2.520139e+10</td>\n      <td>843074.17120</td>\n      <td>2341.2847</td>\n      <td>2016-02-18</td>\n      <td>jAdjei@USAID_Ghana_HPNO</td>\n      <td>2016-02-18</td>\n      <td>[(-15845.803485393972, 803098.9980061789), (-1...</td>\n    </tr>\n    <tr>\n      <th>82</th>\n      <td>VOLTA</td>\n      <td>AGOTIME ZIOPE</td>\n      <td>0407</td>\n      <td>3.397653e+09</td>\n      <td>396621.50540</td>\n      <td>315.6521</td>\n      <td>2016-02-18</td>\n      <td>jAdjei@USAID_Ghana_HPNO</td>\n      <td>2016-02-18</td>\n      <td>[(83403.22743918838, 719329.2263381509), (8332...</td>\n    </tr>\n  </tbody>\n</table>\n</div>"
     },
     "execution_count": 163,
     "metadata": {},
     "output_type": "execute_result"
    }
   ],
   "source": [
    "gha_shape.records()\n",
    "\n",
    "\n",
    "def read_shapefile(sf):\n",
    "    \"\"\"\n",
    "    Read a shapefile into a Pandas dataframe with a 'coords'\n",
    "    column holding the geometry information. This uses the pyshp\n",
    "    package\n",
    "    \"\"\"\n",
    "    fields = [_[0] for _ in sf.fields][1:]\n",
    "    records = sf.records()\n",
    "    shps = [s.points for s in sf.shapes()]\n",
    "    df = pd.DataFrame(columns=fields, data=records)\n",
    "    df = df.assign(coords=shps)\n",
    "    return df\n",
    "\n",
    "\n",
    "gha_shape_df = read_shapefile(gha_shape)\n",
    "# gha_shape_df.shape\n",
    "gha_shape_df.sample(5)"
   ]
  },
  {
   "cell_type": "code",
   "execution_count": 164,
   "metadata": {
    "collapsed": false,
    "jupyter": {
     "outputs_hidden": false
    },
    "pycharm": {
     "name": "#%%\n"
    }
   },
   "outputs": [
    {
     "data": {
      "text/plain": "<Figure size 720x864 with 1 Axes>",
      "image/png": "[encoded data removed]"
     },
     "metadata": {},
     "output_type": "display_data"
    }
   ],
   "source": [
    "def plot_shape(_id, s=None, sf=None):\n",
    "    \"\"\"PLOTS A SINGLE SHAPE\"\"\"\n",
    "    plt.figure()\n",
    "    _ax = plt.axes()\n",
    "    _ax.set_aspect(\"equal\")\n",
    "    shape_ex = sf.shape(_id)\n",
    "    x_lon = np.zeros((len(shape_ex.points), 1))\n",
    "    y_lat = np.zeros((len(shape_ex.points), 1))\n",
    "    for ip in range(len(shape_ex.points)):\n",
    "        x_lon[ip] = shape_ex.points[ip][0]\n",
    "        y_lat[ip] = shape_ex.points[ip][1]\n",
    "    plt.plot(x_lon, y_lat)\n",
    "    x0 = np.mean(x_lon)\n",
    "    y0 = np.mean(y_lat)\n",
    "    plt.text(x0, y0, s, fontsize=10)\n",
    "    # use bbox (bounding box) to set plot limits\n",
    "    plt.xlim(shape_ex.bbox[0], shape_ex.bbox[2])\n",
    "    return x0, y0\n",
    "\n",
    "\n",
    "def plot_map(sf, x_lim=None, y_lim=None, figsize=(11, 9)):\n",
    "    \"\"\"\n",
    "    Plot map with lim coordinates\n",
    "    \"\"\"\n",
    "    plt.figure(figsize=figsize)\n",
    "    # id = 0\n",
    "    for shape in sf.shapeRecords():\n",
    "        _x = [i[0] for i in shape.shape.points[:]]\n",
    "        _y = [i[1] for i in shape.shape.points[:]]\n",
    "        plt.plot(_x, _y, \"k\")\n",
    "\n",
    "        # if (x_lim == None) & (y_lim == None):\n",
    "        #    x0 = np.mean(x)\n",
    "        #    y0 = np.mean(y)\n",
    "        #    plt.text(x0, y0, id, fontsize=10)\n",
    "        # id = id+1\n",
    "\n",
    "    if (x_lim is not None) & (y_lim is not None):\n",
    "        plt.xlim(x_lim)\n",
    "        plt.ylim(y_lim)\n",
    "\n",
    "\n",
    "plot_map(gha_shape, figsize=(10, 12))"
   ]
  },
  {
   "cell_type": "markdown",
   "metadata": {
    "collapsed": false,
    "jupyter": {
     "outputs_hidden": false
    },
    "pycharm": {
     "name": "#%% md\n"
    }
   },
   "source": [
    "### Export to Imperial models"
   ]
  },
  {
   "cell_type": "code",
   "execution_count": 165,
   "metadata": {
    "collapsed": false,
    "jupyter": {
     "outputs_hidden": false
    },
    "pycharm": {
     "name": "#%%\n"
    }
   },
   "outputs": [],
   "source": [
    "gha.to_csv(data_dir + \"GHA/gha.csv\")"
   ]
  },
  {
   "cell_type": "markdown",
   "source": [
    "### Openmalaria\n",
    "1. load default vec model from openmalaria github example configuration\n",
    "2. modify the according configuration based on each district\n",
    "3. export to xml configures for each 260 district\n",
    "4. run openmalaria model"
   ],
   "metadata": {
    "collapsed": false,
    "pycharm": {
     "name": "#%% md\n"
    }
   }
  },
  {
   "cell_type": "code",
   "execution_count": 166,
   "metadata": {
    "collapsed": false,
    "jupyter": {
     "outputs_hidden": false
    },
    "pycharm": {
     "name": "#%%\n"
    }
   },
   "outputs": [],
   "source": [
    "# load vec model xml configuration\n",
    "om_xml_root = load_xml_config(openmalaria_xml_config_path)\n",
    "# create tuple for holding all the district xml configuration data\n",
    "# map through gha index\n",
    "ghana_xml = gha.index.map(\n",
    "    lambda district: {\n",
    "        load_xml_config(openmalaria_xml_config_path)\n",
    "    }\n",
    ")"
   ]
  },
  {
   "cell_type": "code",
   "execution_count": 167,
   "metadata": {},
   "outputs": [],
   "source": [
    "# skip demographic configuration for now, as it was recommended in openmalaria wiki doc"
   ]
  },
  {
   "cell_type": "markdown",
   "source": [
    "#### Monitoring"
   ],
   "metadata": {
    "collapsed": false,
    "pycharm": {
     "name": "#%% md\n"
    }
   }
  },
  {
   "cell_type": "code",
   "execution_count": 175,
   "outputs": [],
   "source": [
    "from lxml import etree\n",
    "from typing import Dict\n",
    "\n",
    "\n",
    "class OmXml:\n",
    "    def __init__(self, df, xml_framework):\n",
    "        self.list = df.index.map(\n",
    "            lambda district: load_xml_config(xml_framework)\n",
    "        )\n",
    "        self.df = df\n",
    "\n",
    "    def remove_attr(self, tag: str, attrib: str):\n",
    "        def _rm(xml):\n",
    "            for node in xml.findall(tag):\n",
    "                del node.findall(tag).attrib[attrib]\n",
    "\n",
    "        self.list.map(_rm)\n",
    "\n",
    "    def set_attr(self,\n",
    "                 tag: str,\n",
    "                 attrib: str,\n",
    "                 new_value=None,\n",
    "                 df_column: str = None,\n",
    "                 fn: Callable = lambda i: i,\n",
    "                 use_df_index: bool = False,\n",
    "                 ):\n",
    "\n",
    "        def _set_attr(xml, value):\n",
    "            # some value is float, translate it into string\n",
    "            if isinstance(value, float) or isinstance(value, int):\n",
    "                value = str(value)\n",
    "            for node in xml.findall(tag):\n",
    "                node.attrib[attrib] = value\n",
    "\n",
    "        # use self index as value\n",
    "        if use_df_index:\n",
    "            map(\n",
    "                lambda xml, index: _set_attr(xml, fn(index)),\n",
    "                self.list,\n",
    "                self.df.index\n",
    "            )\n",
    "        elif df_column:\n",
    "            map(\n",
    "                lambda xml, column: _set_attr(xml, fn(column)),\n",
    "                self.list,\n",
    "                self.df[df_column]\n",
    "            )\n",
    "        else:\n",
    "            self.list.map(\n",
    "                lambda xml: _set_attr(xml, new_value))\n",
    "\n",
    "    def add_tag(self,\n",
    "                to,\n",
    "                tag,\n",
    "                attrib: Dict = None,\n",
    "                content: str = None):\n",
    "        def _add_tag(xml):\n",
    "            for node in xml.iter(to):\n",
    "                to_insert = etree.Element(tag)\n",
    "                if content:\n",
    "                    to_insert.text = content\n",
    "                if attrib:\n",
    "                    for key, value in attrib.items():\n",
    "                        to_insert.attrib[key] = value\n",
    "                node.append(to_insert)\n",
    "\n",
    "        map(\n",
    "            lambda xml: _add_tag(xml),\n",
    "            self.list\n",
    "        )\n",
    "\n",
    "    def add_child_from_xml_string(self, parent,\n",
    "                                  df_xml_string_column_name\n",
    "                                  ):\n",
    "        # print(parent)\n",
    "        # for _ in self.list[0].iter(parent):\n",
    "        #     print('test')\n",
    "        def _add_child_from_xml_string(_xml,\n",
    "                                       child_xml_string: str):\n",
    "            for _ in _xml.iter(parent):\n",
    "                to_insert = etree.fromstring(child_xml_string)\n",
    "                _.insert(0, to_insert)\n",
    "\n",
    "        for xml, district_xml_string in zip(self.list, self.df[df_xml_string_column_name]):\n",
    "            _add_child_from_xml_string(\n",
    "                xml, child_xml_string=district_xml_string\n",
    "            )\n",
    "        # self.list = _list(map(\n",
    "        #     lambda xml, string: _add_child_from_xml_string(xml, string),\n",
    "        #     self.list,\n",
    "        #     self.df[df_xml_string_column_name]\n",
    "        # ))\n",
    "\n",
    "    def remove_tag(self, tag):\n",
    "        def _remove_tag(xml, _tag):\n",
    "            for node in xml.findall(_tag):\n",
    "                parent = node.getparent()\n",
    "                parent.remove(node)\n",
    "\n",
    "        map(\n",
    "            lambda xml: _remove_tag(xml, tag)\n",
    "            , self.list)\n",
    "\n",
    "    def remove_child(self, tag):\n",
    "        \"\"\"\n",
    "         remove child of a tag\n",
    "         :param tag: xpath string for a path\n",
    "        \"\"\"\n",
    "\n",
    "        def _remove_child(xml):\n",
    "            for found in xml.findall(tag):\n",
    "                for child in found:\n",
    "                    found.remove(child)\n",
    "\n",
    "            map(\n",
    "                lambda xml: _remove_child(xml),\n",
    "                self.list\n",
    "            )\n",
    "\n",
    "    def print_tag(self, tag):\n",
    "        def _print(xml):\n",
    "            for node in xml:\n",
    "                print(etree.dump(node))\n",
    "\n",
    "        list(\n",
    "            map(\n",
    "                lambda xml: _print(xml.findall(tag)),\n",
    "                self.list\n",
    "            )\n",
    "        )\n",
    "\n",
    "    def head(self, tag: str, n: int = 1\n",
    "             ):\n",
    "        \"\"\"\n",
    "        print out first few tags in for the selected tag\n",
    "        :param tag: xpath string to print\n",
    "        :param n: first n configuration to be printed out\n",
    "        \"\"\"\n",
    "        for i in range(n):\n",
    "            print(etree.dump(\n",
    "                self.list[i].findall(tag)\n",
    "            ))\n",
    "\n",
    "    def set_monitoring(self):\n",
    "        # remove date attribute\n",
    "        self.set_attr(tag='monitoring',\n",
    "                      attrib='name',\n",
    "                      use_df_index=True\n",
    "                      )\n",
    "        # self.remove_tag('monitoring/continuous')\n",
    "        # self.remove_tag('monitoring/SurveyOptions')\n",
    "        # self.insert(parent='monitoring',\n",
    "        #             tag='SurveyOptions',\n",
    "        #             )\n",
    "        # self.insert(parent='monitoring/SurveyOptions',\n",
    "        #             tag='options',\n",
    "        #             attrib={\n",
    "        #                 'name': 'nInfect'\n",
    "        #             }\n",
    "        #             )\n",
    "\n",
    "    def set_intervention(self):\n",
    "        # self set\n",
    "        pass"
   ],
   "metadata": {
    "collapsed": false,
    "pycharm": {
     "name": "#%%\n"
    }
   }
  },
  {
   "cell_type": "code",
   "execution_count": 176,
   "outputs": [],
   "source": [
    "gha_xml_om = OmXml(df=gha,\n",
    "                   xml_framework=openmalaria_xml_config_path)\n",
    "gha_xml_om.set_monitoring()\n",
    "# gha_xml_om.head('monitoring')\n",
    "gha_xml_om.set_intervention()\n",
    "# gha_xml_om.head('interventions')\n",
    "\n",
    "gha_xml_om.set_attr(tag=\"interventions/human/deployment/timed/deploy\",\n",
    "              attrib='coverage',\n",
    "              df_column='itn_cov'\n",
    "              )\n",
    "# remove deployment/timed/deploy configuration\n",
    "gha_xml_om.remove_child(tag='intervention/human/deployment/timed')\n",
    "gha_xml_om.set_attr(tag=\"entomology\",\n",
    "                    attrib=\"scaledAnnualEIR\",\n",
    "                    df_column=\"eir\"\n",
    "                    )\n",
    "# set annual EIR"
   ],
   "metadata": {
    "collapsed": false,
    "pycharm": {
     "name": "#%%\n"
    }
   }
  },
  {
   "cell_type": "code",
   "execution_count": 177,
   "outputs": [],
   "source": [
    "# seasonality\n",
    "subnational_monthly_data = pd.read_csv(data_dir + \"GHA/Routine_data/District-level/subnational_monthly_data.csv\")\n",
    "# get only 2018 data (latest)\n",
    "# subnational_monthly_data = subnational_monthly_data[subnational_monthly_data['year'] == 2018]\n",
    "# replace month name with number\n",
    "subnational_monthly_data = subnational_monthly_data.replace('January', 1)\n",
    "subnational_monthly_data = subnational_monthly_data.replace('February', 2)\n",
    "subnational_monthly_data = subnational_monthly_data.replace('March', 3)\n",
    "subnational_monthly_data = subnational_monthly_data.replace('April', 4)\n",
    "subnational_monthly_data = subnational_monthly_data.replace('April', 4)\n",
    "subnational_monthly_data = subnational_monthly_data.replace('April', 4)\n",
    "subnational_monthly_data = subnational_monthly_data.replace('May', 5)\n",
    "subnational_monthly_data = subnational_monthly_data.replace('June', 6)\n",
    "subnational_monthly_data = subnational_monthly_data.replace('July', 7)\n",
    "subnational_monthly_data = subnational_monthly_data.replace('August', 8)\n",
    "subnational_monthly_data = subnational_monthly_data.replace('September', 9)\n",
    "subnational_monthly_data = subnational_monthly_data.replace('October', 10)\n",
    "subnational_monthly_data = subnational_monthly_data.replace('November', 11)\n",
    "subnational_monthly_data = subnational_monthly_data.replace('December', 12)\n",
    "subnational_monthly_data = subnational_monthly_data.groupby(['adm1', 'mon']).sum()\n",
    "# groupby month and adm1\n",
    "subnational_monthly_data = subnational_monthly_data['allout']\n",
    "# to csv:\n",
    "subnational_monthly_data.to_csv(data_dir + 'GHA/subnational_cases_monthly.csv')"
   ],
   "metadata": {
    "collapsed": false,
    "pycharm": {
     "name": "#%%\n"
    }
   }
  },
  {
   "cell_type": "code",
   "execution_count": 178,
   "outputs": [],
   "source": [
    "gha_fourier = pd.read_csv(data_dir + \"GHA/gha_adm1_fourier_transformation_xml.csv\")\n",
    "gha_fourier = demographic.reformat.adm1_name(df=gha_fourier)\n",
    "gha['fourier'] = gha_fourier['fourier_xml']"
   ],
   "metadata": {
    "collapsed": false,
    "pycharm": {
     "name": "#%%\n"
    }
   }
  },
  {
   "cell_type": "code",
   "execution_count": 179,
   "outputs": [
    {
     "data": {
      "text/plain": "<Element fourierSeries at 0x139d20b80>"
     },
     "execution_count": 179,
     "metadata": {},
     "output_type": "execute_result"
    }
   ],
   "source": [
    "etree.fromstring(gha['fourier'][1])"
   ],
   "metadata": {
    "collapsed": false,
    "pycharm": {
     "name": "#%%\n"
    }
   }
  },
  {
   "cell_type": "code",
   "execution_count": 180,
   "outputs": [
    {
     "name": "stdout",
     "output_type": "stream",
     "text": [
      "<seasonality xmlns:xsi=\"http://www.w3.org/2001/XMLSchema-instance\" xmlns:om=\"http://openmalaria.org/schema/scenario_43\" annualEIR=\"5\" input=\"EIR\">\n",
      "\t\t\t\t\t</seasonality>\n",
      "\t\t\t\t\n",
      "None\n",
      "<seasonality xmlns:xsi=\"http://www.w3.org/2001/XMLSchema-instance\" xmlns:om=\"http://openmalaria.org/schema/scenario_43\" annualEIR=\"0.055843\" input=\"EIR\">\n",
      "\t\t\t\t\t</seasonality>\n",
      "\t\t\t\t\n",
      "None\n",
      "<seasonality xmlns:xsi=\"http://www.w3.org/2001/XMLSchema-instance\" xmlns:om=\"http://openmalaria.org/schema/scenario_43\" annualEIR=\"5\" input=\"EIR\">\n",
      "\t\t\t\t\t</seasonality>\n",
      "\t\t\t\t\n",
      "None\n",
      "<seasonality xmlns:xsi=\"http://www.w3.org/2001/XMLSchema-instance\" xmlns:om=\"http://openmalaria.org/schema/scenario_43\" annualEIR=\"0.003785\" input=\"EIR\">\n",
      "\t\t\t\t\t</seasonality>\n",
      "\t\t\t\t\n",
      "None\n",
      "<seasonality xmlns:xsi=\"http://www.w3.org/2001/XMLSchema-instance\" xmlns:om=\"http://openmalaria.org/schema/scenario_43\" annualEIR=\"5\" input=\"EIR\">\n",
      "\t\t\t\t\t</seasonality>\n",
      "\t\t\t\t\n",
      "None\n",
      "<seasonality xmlns:xsi=\"http://www.w3.org/2001/XMLSchema-instance\" xmlns:om=\"http://openmalaria.org/schema/scenario_43\" annualEIR=\"0.055843\" input=\"EIR\">\n",
      "\t\t\t\t\t</seasonality>\n",
      "\t\t\t\t\n",
      "None\n",
      "<seasonality xmlns:xsi=\"http://www.w3.org/2001/XMLSchema-instance\" xmlns:om=\"http://openmalaria.org/schema/scenario_43\" annualEIR=\"5\" input=\"EIR\">\n",
      "\t\t\t\t\t</seasonality>\n",
      "\t\t\t\t\n",
      "None\n",
      "<seasonality xmlns:xsi=\"http://www.w3.org/2001/XMLSchema-instance\" xmlns:om=\"http://openmalaria.org/schema/scenario_43\" annualEIR=\"0.003785\" input=\"EIR\">\n",
      "\t\t\t\t\t</seasonality>\n",
      "\t\t\t\t\n",
      "None\n",
      "<seasonality xmlns:xsi=\"http://www.w3.org/2001/XMLSchema-instance\" xmlns:om=\"http://openmalaria.org/schema/scenario_43\" annualEIR=\"5\" input=\"EIR\">\n",
      "\t\t\t\t\t</seasonality>\n",
      "\t\t\t\t\n",
      "None\n",
      "<seasonality xmlns:xsi=\"http://www.w3.org/2001/XMLSchema-instance\" xmlns:om=\"http://openmalaria.org/schema/scenario_43\" annualEIR=\"0.055843\" input=\"EIR\">\n",
      "\t\t\t\t\t</seasonality>\n",
      "\t\t\t\t\n",
      "None\n",
      "<seasonality xmlns:xsi=\"http://www.w3.org/2001/XMLSchema-instance\" xmlns:om=\"http://openmalaria.org/schema/scenario_43\" annualEIR=\"5\" input=\"EIR\">\n",
      "\t\t\t\t\t</seasonality>\n",
      "\t\t\t\t\n",
      "None\n",
      "<seasonality xmlns:xsi=\"http://www.w3.org/2001/XMLSchema-instance\" xmlns:om=\"http://openmalaria.org/schema/scenario_43\" annualEIR=\"0.003785\" input=\"EIR\">\n",
      "\t\t\t\t\t</seasonality>\n",
      "\t\t\t\t\n",
      "None\n",
      "<seasonality xmlns:xsi=\"http://www.w3.org/2001/XMLSchema-instance\" xmlns:om=\"http://openmalaria.org/schema/scenario_43\" annualEIR=\"5\" input=\"EIR\">\n",
      "\t\t\t\t\t</seasonality>\n",
      "\t\t\t\t\n",
      "None\n",
      "<seasonality xmlns:xsi=\"http://www.w3.org/2001/XMLSchema-instance\" xmlns:om=\"http://openmalaria.org/schema/scenario_43\" annualEIR=\"0.055843\" input=\"EIR\">\n",
      "\t\t\t\t\t</seasonality>\n",
      "\t\t\t\t\n",
      "None\n",
      "<seasonality xmlns:xsi=\"http://www.w3.org/2001/XMLSchema-instance\" xmlns:om=\"http://openmalaria.org/schema/scenario_43\" annualEIR=\"5\" input=\"EIR\">\n",
      "\t\t\t\t\t</seasonality>\n",
      "\t\t\t\t\n",
      "None\n",
      "<seasonality xmlns:xsi=\"http://www.w3.org/2001/XMLSchema-instance\" xmlns:om=\"http://openmalaria.org/schema/scenario_43\" annualEIR=\"0.003785\" input=\"EIR\">\n",
      "\t\t\t\t\t</seasonality>\n",
      "\t\t\t\t\n",
      "None\n",
      "<seasonality xmlns:xsi=\"http://www.w3.org/2001/XMLSchema-instance\" xmlns:om=\"http://openmalaria.org/schema/scenario_43\" annualEIR=\"5\" input=\"EIR\">\n",
      "\t\t\t\t\t</seasonality>\n",
      "\t\t\t\t\n",
      "None\n",
      "<seasonality xmlns:xsi=\"http://www.w3.org/2001/XMLSchema-instance\" xmlns:om=\"http://openmalaria.org/schema/scenario_43\" annualEIR=\"0.055843\" input=\"EIR\">\n",
      "\t\t\t\t\t</seasonality>\n",
      "\t\t\t\t\n",
      "None\n",
      "<seasonality xmlns:xsi=\"http://www.w3.org/2001/XMLSchema-instance\" xmlns:om=\"http://openmalaria.org/schema/scenario_43\" annualEIR=\"5\" input=\"EIR\">\n",
      "\t\t\t\t\t</seasonality>\n",
      "\t\t\t\t\n",
      "None\n",
      "<seasonality xmlns:xsi=\"http://www.w3.org/2001/XMLSchema-instance\" xmlns:om=\"http://openmalaria.org/schema/scenario_43\" annualEIR=\"0.003785\" input=\"EIR\">\n",
      "\t\t\t\t\t</seasonality>\n",
      "\t\t\t\t\n",
      "None\n",
      "<seasonality xmlns:xsi=\"http://www.w3.org/2001/XMLSchema-instance\" xmlns:om=\"http://openmalaria.org/schema/scenario_43\" annualEIR=\"5\" input=\"EIR\">\n",
      "\t\t\t\t\t</seasonality>\n",
      "\t\t\t\t\n",
      "None\n",
      "<seasonality xmlns:xsi=\"http://www.w3.org/2001/XMLSchema-instance\" xmlns:om=\"http://openmalaria.org/schema/scenario_43\" annualEIR=\"0.055843\" input=\"EIR\">\n",
      "\t\t\t\t\t</seasonality>\n",
      "\t\t\t\t\n",
      "None\n",
      "<seasonality xmlns:xsi=\"http://www.w3.org/2001/XMLSchema-instance\" xmlns:om=\"http://openmalaria.org/schema/scenario_43\" annualEIR=\"5\" input=\"EIR\">\n",
      "\t\t\t\t\t</seasonality>\n",
      "\t\t\t\t\n",
      "None\n",
      "<seasonality xmlns:xsi=\"http://www.w3.org/2001/XMLSchema-instance\" xmlns:om=\"http://openmalaria.org/schema/scenario_43\" annualEIR=\"0.003785\" input=\"EIR\">\n",
      "\t\t\t\t\t</seasonality>\n",
      "\t\t\t\t\n",
      "None\n",
      "<seasonality xmlns:xsi=\"http://www.w3.org/2001/XMLSchema-instance\" xmlns:om=\"http://openmalaria.org/schema/scenario_43\" annualEIR=\"5\" input=\"EIR\">\n",
      "\t\t\t\t\t</seasonality>\n",
      "\t\t\t\t\n",
      "None\n",
      "<seasonality xmlns:xsi=\"http://www.w3.org/2001/XMLSchema-instance\" xmlns:om=\"http://openmalaria.org/schema/scenario_43\" annualEIR=\"0.055843\" input=\"EIR\">\n",
      "\t\t\t\t\t</seasonality>\n",
      "\t\t\t\t\n",
      "None\n",
      "<seasonality xmlns:xsi=\"http://www.w3.org/2001/XMLSchema-instance\" xmlns:om=\"http://openmalaria.org/schema/scenario_43\" annualEIR=\"5\" input=\"EIR\">\n",
      "\t\t\t\t\t</seasonality>\n",
      "\t\t\t\t\n",
      "None\n",
      "<seasonality xmlns:xsi=\"http://www.w3.org/2001/XMLSchema-instance\" xmlns:om=\"http://openmalaria.org/schema/scenario_43\" annualEIR=\"0.003785\" input=\"EIR\">\n",
      "\t\t\t\t\t</seasonality>\n",
      "\t\t\t\t\n",
      "None\n",
      "<seasonality xmlns:xsi=\"http://www.w3.org/2001/XMLSchema-instance\" xmlns:om=\"http://openmalaria.org/schema/scenario_43\" annualEIR=\"5\" input=\"EIR\">\n",
      "\t\t\t\t\t</seasonality>\n",
      "\t\t\t\t\n",
      "None\n",
      "<seasonality xmlns:xsi=\"http://www.w3.org/2001/XMLSchema-instance\" xmlns:om=\"http://openmalaria.org/schema/scenario_43\" annualEIR=\"0.055843\" input=\"EIR\">\n",
      "\t\t\t\t\t</seasonality>\n",
      "\t\t\t\t\n",
      "None\n",
      "<seasonality xmlns:xsi=\"http://www.w3.org/2001/XMLSchema-instance\" xmlns:om=\"http://openmalaria.org/schema/scenario_43\" annualEIR=\"5\" input=\"EIR\">\n",
      "\t\t\t\t\t</seasonality>\n",
      "\t\t\t\t\n",
      "None\n",
      "<seasonality xmlns:xsi=\"http://www.w3.org/2001/XMLSchema-instance\" xmlns:om=\"http://openmalaria.org/schema/scenario_43\" annualEIR=\"0.003785\" input=\"EIR\">\n",
      "\t\t\t\t\t</seasonality>\n",
      "\t\t\t\t\n",
      "None\n",
      "<seasonality xmlns:xsi=\"http://www.w3.org/2001/XMLSchema-instance\" xmlns:om=\"http://openmalaria.org/schema/scenario_43\" annualEIR=\"5\" input=\"EIR\">\n",
      "\t\t\t\t\t</seasonality>\n",
      "\t\t\t\t\n",
      "None\n",
      "<seasonality xmlns:xsi=\"http://www.w3.org/2001/XMLSchema-instance\" xmlns:om=\"http://openmalaria.org/schema/scenario_43\" annualEIR=\"0.055843\" input=\"EIR\">\n",
      "\t\t\t\t\t</seasonality>\n",
      "\t\t\t\t\n",
      "None\n",
      "<seasonality xmlns:xsi=\"http://www.w3.org/2001/XMLSchema-instance\" xmlns:om=\"http://openmalaria.org/schema/scenario_43\" annualEIR=\"5\" input=\"EIR\">\n",
      "\t\t\t\t\t</seasonality>\n",
      "\t\t\t\t\n",
      "None\n",
      "<seasonality xmlns:xsi=\"http://www.w3.org/2001/XMLSchema-instance\" xmlns:om=\"http://openmalaria.org/schema/scenario_43\" annualEIR=\"0.003785\" input=\"EIR\">\n",
      "\t\t\t\t\t</seasonality>\n",
      "\t\t\t\t\n",
      "None\n",
      "<seasonality xmlns:xsi=\"http://www.w3.org/2001/XMLSchema-instance\" xmlns:om=\"http://openmalaria.org/schema/scenario_43\" annualEIR=\"5\" input=\"EIR\">\n",
      "\t\t\t\t\t</seasonality>\n",
      "\t\t\t\t\n",
      "None\n",
      "<seasonality xmlns:xsi=\"http://www.w3.org/2001/XMLSchema-instance\" xmlns:om=\"http://openmalaria.org/schema/scenario_43\" annualEIR=\"0.055843\" input=\"EIR\">\n",
      "\t\t\t\t\t</seasonality>\n",
      "\t\t\t\t\n",
      "None\n",
      "<seasonality xmlns:xsi=\"http://www.w3.org/2001/XMLSchema-instance\" xmlns:om=\"http://openmalaria.org/schema/scenario_43\" annualEIR=\"5\" input=\"EIR\">\n",
      "\t\t\t\t\t</seasonality>\n",
      "\t\t\t\t\n",
      "None\n",
      "<seasonality xmlns:xsi=\"http://www.w3.org/2001/XMLSchema-instance\" xmlns:om=\"http://openmalaria.org/schema/scenario_43\" annualEIR=\"0.003785\" input=\"EIR\">\n",
      "\t\t\t\t\t</seasonality>\n",
      "\t\t\t\t\n",
      "None\n",
      "<seasonality xmlns:xsi=\"http://www.w3.org/2001/XMLSchema-instance\" xmlns:om=\"http://openmalaria.org/schema/scenario_43\" annualEIR=\"5\" input=\"EIR\">\n",
      "\t\t\t\t\t</seasonality>\n",
      "\t\t\t\t\n",
      "None\n",
      "<seasonality xmlns:xsi=\"http://www.w3.org/2001/XMLSchema-instance\" xmlns:om=\"http://openmalaria.org/schema/scenario_43\" annualEIR=\"0.055843\" input=\"EIR\">\n",
      "\t\t\t\t\t</seasonality>\n",
      "\t\t\t\t\n",
      "None\n",
      "<seasonality xmlns:xsi=\"http://www.w3.org/2001/XMLSchema-instance\" xmlns:om=\"http://openmalaria.org/schema/scenario_43\" annualEIR=\"5\" input=\"EIR\">\n",
      "\t\t\t\t\t</seasonality>\n",
      "\t\t\t\t\n",
      "None\n",
      "<seasonality xmlns:xsi=\"http://www.w3.org/2001/XMLSchema-instance\" xmlns:om=\"http://openmalaria.org/schema/scenario_43\" annualEIR=\"0.003785\" input=\"EIR\">\n",
      "\t\t\t\t\t</seasonality>\n",
      "\t\t\t\t\n",
      "None\n",
      "<seasonality xmlns:xsi=\"http://www.w3.org/2001/XMLSchema-instance\" xmlns:om=\"http://openmalaria.org/schema/scenario_43\" annualEIR=\"5\" input=\"EIR\">\n",
      "\t\t\t\t\t</seasonality>\n",
      "\t\t\t\t\n",
      "None\n",
      "<seasonality xmlns:xsi=\"http://www.w3.org/2001/XMLSchema-instance\" xmlns:om=\"http://openmalaria.org/schema/scenario_43\" annualEIR=\"0.055843\" input=\"EIR\">\n",
      "\t\t\t\t\t</seasonality>\n",
      "\t\t\t\t\n",
      "None\n",
      "<seasonality xmlns:xsi=\"http://www.w3.org/2001/XMLSchema-instance\" xmlns:om=\"http://openmalaria.org/schema/scenario_43\" annualEIR=\"5\" input=\"EIR\">\n",
      "\t\t\t\t\t</seasonality>\n",
      "\t\t\t\t\n",
      "None\n",
      "<seasonality xmlns:xsi=\"http://www.w3.org/2001/XMLSchema-instance\" xmlns:om=\"http://openmalaria.org/schema/scenario_43\" annualEIR=\"0.003785\" input=\"EIR\">\n",
      "\t\t\t\t\t</seasonality>\n",
      "\t\t\t\t\n",
      "None\n",
      "<seasonality xmlns:xsi=\"http://www.w3.org/2001/XMLSchema-instance\" xmlns:om=\"http://openmalaria.org/schema/scenario_43\" annualEIR=\"5\" input=\"EIR\">\n",
      "\t\t\t\t\t</seasonality>\n",
      "\t\t\t\t\n",
      "None\n",
      "<seasonality xmlns:xsi=\"http://www.w3.org/2001/XMLSchema-instance\" xmlns:om=\"http://openmalaria.org/schema/scenario_43\" annualEIR=\"0.055843\" input=\"EIR\">\n",
      "\t\t\t\t\t</seasonality>\n",
      "\t\t\t\t\n",
      "None\n",
      "<seasonality xmlns:xsi=\"http://www.w3.org/2001/XMLSchema-instance\" xmlns:om=\"http://openmalaria.org/schema/scenario_43\" annualEIR=\"5\" input=\"EIR\">\n",
      "\t\t\t\t\t</seasonality>\n",
      "\t\t\t\t\n",
      "None\n",
      "<seasonality xmlns:xsi=\"http://www.w3.org/2001/XMLSchema-instance\" xmlns:om=\"http://openmalaria.org/schema/scenario_43\" annualEIR=\"0.003785\" input=\"EIR\">\n",
      "\t\t\t\t\t</seasonality>\n",
      "\t\t\t\t\n",
      "None\n",
      "<seasonality xmlns:xsi=\"http://www.w3.org/2001/XMLSchema-instance\" xmlns:om=\"http://openmalaria.org/schema/scenario_43\" annualEIR=\"5\" input=\"EIR\">\n",
      "\t\t\t\t\t</seasonality>\n",
      "\t\t\t\t\n",
      "None\n",
      "<seasonality xmlns:xsi=\"http://www.w3.org/2001/XMLSchema-instance\" xmlns:om=\"http://openmalaria.org/schema/scenario_43\" annualEIR=\"0.055843\" input=\"EIR\">\n",
      "\t\t\t\t\t</seasonality>\n",
      "\t\t\t\t\n",
      "None\n",
      "<seasonality xmlns:xsi=\"http://www.w3.org/2001/XMLSchema-instance\" xmlns:om=\"http://openmalaria.org/schema/scenario_43\" annualEIR=\"5\" input=\"EIR\">\n",
      "\t\t\t\t\t</seasonality>\n",
      "\t\t\t\t\n",
      "None\n",
      "<seasonality xmlns:xsi=\"http://www.w3.org/2001/XMLSchema-instance\" xmlns:om=\"http://openmalaria.org/schema/scenario_43\" annualEIR=\"0.003785\" input=\"EIR\">\n",
      "\t\t\t\t\t</seasonality>\n",
      "\t\t\t\t\n",
      "None\n",
      "<seasonality xmlns:xsi=\"http://www.w3.org/2001/XMLSchema-instance\" xmlns:om=\"http://openmalaria.org/schema/scenario_43\" annualEIR=\"5\" input=\"EIR\">\n",
      "\t\t\t\t\t</seasonality>\n",
      "\t\t\t\t\n",
      "None\n",
      "<seasonality xmlns:xsi=\"http://www.w3.org/2001/XMLSchema-instance\" xmlns:om=\"http://openmalaria.org/schema/scenario_43\" annualEIR=\"0.055843\" input=\"EIR\">\n",
      "\t\t\t\t\t</seasonality>\n",
      "\t\t\t\t\n",
      "None\n",
      "<seasonality xmlns:xsi=\"http://www.w3.org/2001/XMLSchema-instance\" xmlns:om=\"http://openmalaria.org/schema/scenario_43\" annualEIR=\"5\" input=\"EIR\">\n",
      "\t\t\t\t\t</seasonality>\n",
      "\t\t\t\t\n",
      "None\n",
      "<seasonality xmlns:xsi=\"http://www.w3.org/2001/XMLSchema-instance\" xmlns:om=\"http://openmalaria.org/schema/scenario_43\" annualEIR=\"0.003785\" input=\"EIR\">\n",
      "\t\t\t\t\t</seasonality>\n",
      "\t\t\t\t\n",
      "None\n",
      "<seasonality xmlns:xsi=\"http://www.w3.org/2001/XMLSchema-instance\" xmlns:om=\"http://openmalaria.org/schema/scenario_43\" annualEIR=\"5\" input=\"EIR\">\n",
      "\t\t\t\t\t</seasonality>\n",
      "\t\t\t\t\n",
      "None\n",
      "<seasonality xmlns:xsi=\"http://www.w3.org/2001/XMLSchema-instance\" xmlns:om=\"http://openmalaria.org/schema/scenario_43\" annualEIR=\"0.055843\" input=\"EIR\">\n",
      "\t\t\t\t\t</seasonality>\n",
      "\t\t\t\t\n",
      "None\n",
      "<seasonality xmlns:xsi=\"http://www.w3.org/2001/XMLSchema-instance\" xmlns:om=\"http://openmalaria.org/schema/scenario_43\" annualEIR=\"5\" input=\"EIR\">\n",
      "\t\t\t\t\t</seasonality>\n",
      "\t\t\t\t\n",
      "None\n",
      "<seasonality xmlns:xsi=\"http://www.w3.org/2001/XMLSchema-instance\" xmlns:om=\"http://openmalaria.org/schema/scenario_43\" annualEIR=\"0.003785\" input=\"EIR\">\n",
      "\t\t\t\t\t</seasonality>\n",
      "\t\t\t\t\n",
      "None\n",
      "<seasonality xmlns:xsi=\"http://www.w3.org/2001/XMLSchema-instance\" xmlns:om=\"http://openmalaria.org/schema/scenario_43\" annualEIR=\"5\" input=\"EIR\">\n",
      "\t\t\t\t\t<fourierSeries EIRRotateAngle=\"0\">\n",
      "<coeffic a=\"-0.01922293504079183\" b=\"0.0192413367331028\"/>\n",
      "<coeffic a=\"0.007727702458699544\" b=\"-0.06052997708320618\"/>\n",
      "</fourierSeries></seasonality>\n",
      "\t\t\t\t\n",
      "None\n",
      "<seasonality xmlns:xsi=\"http://www.w3.org/2001/XMLSchema-instance\" xmlns:om=\"http://openmalaria.org/schema/scenario_43\" annualEIR=\"0.055843\" input=\"EIR\">\n",
      "\t\t\t\t\t<fourierSeries EIRRotateAngle=\"0\">\n",
      "<coeffic a=\"-0.01922293504079183\" b=\"0.0192413367331028\"/>\n",
      "<coeffic a=\"0.007727702458699544\" b=\"-0.06052997708320618\"/>\n",
      "</fourierSeries></seasonality>\n",
      "\t\t\t\t\n",
      "None\n",
      "<seasonality xmlns:xsi=\"http://www.w3.org/2001/XMLSchema-instance\" xmlns:om=\"http://openmalaria.org/schema/scenario_43\" annualEIR=\"5\" input=\"EIR\">\n",
      "\t\t\t\t\t<fourierSeries EIRRotateAngle=\"0\">\n",
      "<coeffic a=\"-0.01922293504079183\" b=\"0.0192413367331028\"/>\n",
      "<coeffic a=\"0.007727702458699544\" b=\"-0.06052997708320618\"/>\n",
      "</fourierSeries></seasonality>\n",
      "\t\t\t\t\n",
      "None\n",
      "<seasonality xmlns:xsi=\"http://www.w3.org/2001/XMLSchema-instance\" xmlns:om=\"http://openmalaria.org/schema/scenario_43\" annualEIR=\"0.003785\" input=\"EIR\">\n",
      "\t\t\t\t\t<fourierSeries EIRRotateAngle=\"0\">\n",
      "<coeffic a=\"-0.01922293504079183\" b=\"0.0192413367331028\"/>\n",
      "<coeffic a=\"0.007727702458699544\" b=\"-0.06052997708320618\"/>\n",
      "</fourierSeries></seasonality>\n",
      "\t\t\t\t\n",
      "None\n",
      "<seasonality xmlns:xsi=\"http://www.w3.org/2001/XMLSchema-instance\" xmlns:om=\"http://openmalaria.org/schema/scenario_43\" annualEIR=\"5\" input=\"EIR\">\n",
      "\t\t\t\t\t<fourierSeries EIRRotateAngle=\"0\">\n",
      "<coeffic a=\"-0.16188323497772217\" b=\"-0.2796497146288554\"/>\n",
      "<coeffic a=\"-0.16330941518147787\" b=\"0.25246548652648926\"/>\n",
      "</fourierSeries></seasonality>\n",
      "\t\t\t\t\n",
      "None\n",
      "<seasonality xmlns:xsi=\"http://www.w3.org/2001/XMLSchema-instance\" xmlns:om=\"http://openmalaria.org/schema/scenario_43\" annualEIR=\"0.055843\" input=\"EIR\">\n",
      "\t\t\t\t\t<fourierSeries EIRRotateAngle=\"0\">\n",
      "<coeffic a=\"-0.16188323497772217\" b=\"-0.2796497146288554\"/>\n",
      "<coeffic a=\"-0.16330941518147787\" b=\"0.25246548652648926\"/>\n",
      "</fourierSeries></seasonality>\n",
      "\t\t\t\t\n",
      "None\n",
      "<seasonality xmlns:xsi=\"http://www.w3.org/2001/XMLSchema-instance\" xmlns:om=\"http://openmalaria.org/schema/scenario_43\" annualEIR=\"5\" input=\"EIR\">\n",
      "\t\t\t\t\t<fourierSeries EIRRotateAngle=\"0\">\n",
      "<coeffic a=\"-0.16188323497772217\" b=\"-0.2796497146288554\"/>\n",
      "<coeffic a=\"-0.16330941518147787\" b=\"0.25246548652648926\"/>\n",
      "</fourierSeries></seasonality>\n",
      "\t\t\t\t\n",
      "None\n",
      "<seasonality xmlns:xsi=\"http://www.w3.org/2001/XMLSchema-instance\" xmlns:om=\"http://openmalaria.org/schema/scenario_43\" annualEIR=\"0.003785\" input=\"EIR\">\n",
      "\t\t\t\t\t<fourierSeries EIRRotateAngle=\"0\">\n",
      "<coeffic a=\"-0.16188323497772217\" b=\"-0.2796497146288554\"/>\n",
      "<coeffic a=\"-0.16330941518147787\" b=\"0.25246548652648926\"/>\n",
      "</fourierSeries></seasonality>\n",
      "\t\t\t\t\n",
      "None\n",
      "<seasonality xmlns:xsi=\"http://www.w3.org/2001/XMLSchema-instance\" xmlns:om=\"http://openmalaria.org/schema/scenario_43\" annualEIR=\"5\" input=\"EIR\">\n",
      "\t\t\t\t\t<fourierSeries EIRRotateAngle=\"0\">\n",
      "<coeffic a=\"0.015977870672941208\" b=\"0.061353390415509544\"/>\n",
      "<coeffic a=\"0.007498423258463542\" b=\"-0.0047943852841854095\"/>\n",
      "</fourierSeries></seasonality>\n",
      "\t\t\t\t\n",
      "None\n",
      "<seasonality xmlns:xsi=\"http://www.w3.org/2001/XMLSchema-instance\" xmlns:om=\"http://openmalaria.org/schema/scenario_43\" annualEIR=\"0.055843\" input=\"EIR\">\n",
      "\t\t\t\t\t<fourierSeries EIRRotateAngle=\"0\">\n",
      "<coeffic a=\"0.015977870672941208\" b=\"0.061353390415509544\"/>\n",
      "<coeffic a=\"0.007498423258463542\" b=\"-0.0047943852841854095\"/>\n",
      "</fourierSeries></seasonality>\n",
      "\t\t\t\t\n",
      "None\n",
      "<seasonality xmlns:xsi=\"http://www.w3.org/2001/XMLSchema-instance\" xmlns:om=\"http://openmalaria.org/schema/scenario_43\" annualEIR=\"5\" input=\"EIR\">\n",
      "\t\t\t\t\t<fourierSeries EIRRotateAngle=\"0\">\n",
      "<coeffic a=\"0.015977870672941208\" b=\"0.061353390415509544\"/>\n",
      "<coeffic a=\"0.007498423258463542\" b=\"-0.0047943852841854095\"/>\n",
      "</fourierSeries></seasonality>\n",
      "\t\t\t\t\n",
      "None\n",
      "<seasonality xmlns:xsi=\"http://www.w3.org/2001/XMLSchema-instance\" xmlns:om=\"http://openmalaria.org/schema/scenario_43\" annualEIR=\"0.003785\" input=\"EIR\">\n",
      "\t\t\t\t\t<fourierSeries EIRRotateAngle=\"0\">\n",
      "<coeffic a=\"0.015977870672941208\" b=\"0.061353390415509544\"/>\n",
      "<coeffic a=\"0.007498423258463542\" b=\"-0.0047943852841854095\"/>\n",
      "</fourierSeries></seasonality>\n",
      "\t\t\t\t\n",
      "None\n",
      "<seasonality xmlns:xsi=\"http://www.w3.org/2001/XMLSchema-instance\" xmlns:om=\"http://openmalaria.org/schema/scenario_43\" annualEIR=\"5\" input=\"EIR\">\n",
      "\t\t\t\t\t<fourierSeries EIRRotateAngle=\"0\">\n",
      "<coeffic a=\"-0.010303902129332224\" b=\"0.015982989221811295\"/>\n",
      "<coeffic a=\"-0.024854262669881184\" b=\"-0.012711384644110998\"/>\n",
      "</fourierSeries></seasonality>\n",
      "\t\t\t\t\n",
      "None\n",
      "<seasonality xmlns:xsi=\"http://www.w3.org/2001/XMLSchema-instance\" xmlns:om=\"http://openmalaria.org/schema/scenario_43\" annualEIR=\"0.055843\" input=\"EIR\">\n",
      "\t\t\t\t\t<fourierSeries EIRRotateAngle=\"0\">\n",
      "<coeffic a=\"-0.010303902129332224\" b=\"0.015982989221811295\"/>\n",
      "<coeffic a=\"-0.024854262669881184\" b=\"-0.012711384644110998\"/>\n",
      "</fourierSeries></seasonality>\n",
      "\t\t\t\t\n",
      "None\n",
      "<seasonality xmlns:xsi=\"http://www.w3.org/2001/XMLSchema-instance\" xmlns:om=\"http://openmalaria.org/schema/scenario_43\" annualEIR=\"5\" input=\"EIR\">\n",
      "\t\t\t\t\t<fourierSeries EIRRotateAngle=\"0\">\n",
      "<coeffic a=\"-0.010303902129332224\" b=\"0.015982989221811295\"/>\n",
      "<coeffic a=\"-0.024854262669881184\" b=\"-0.012711384644110998\"/>\n",
      "</fourierSeries></seasonality>\n",
      "\t\t\t\t\n",
      "None\n",
      "<seasonality xmlns:xsi=\"http://www.w3.org/2001/XMLSchema-instance\" xmlns:om=\"http://openmalaria.org/schema/scenario_43\" annualEIR=\"0.003785\" input=\"EIR\">\n",
      "\t\t\t\t\t<fourierSeries EIRRotateAngle=\"0\">\n",
      "<coeffic a=\"-0.010303902129332224\" b=\"0.015982989221811295\"/>\n",
      "<coeffic a=\"-0.024854262669881184\" b=\"-0.012711384644110998\"/>\n",
      "</fourierSeries></seasonality>\n",
      "\t\t\t\t\n",
      "None\n",
      "<seasonality xmlns:xsi=\"http://www.w3.org/2001/XMLSchema-instance\" xmlns:om=\"http://openmalaria.org/schema/scenario_43\" annualEIR=\"5\" input=\"EIR\">\n",
      "\t\t\t\t\t<fourierSeries EIRRotateAngle=\"0\">\n",
      "<coeffic a=\"-0.09449157118797302\" b=\"-0.03881906966368357\"/>\n",
      "<coeffic a=\"-0.04492656389872233\" b=\"0.010964317868153254\"/>\n",
      "</fourierSeries></seasonality>\n",
      "\t\t\t\t\n",
      "None\n",
      "<seasonality xmlns:xsi=\"http://www.w3.org/2001/XMLSchema-instance\" xmlns:om=\"http://openmalaria.org/schema/scenario_43\" annualEIR=\"0.055843\" input=\"EIR\">\n",
      "\t\t\t\t\t<fourierSeries EIRRotateAngle=\"0\">\n",
      "<coeffic a=\"-0.09449157118797302\" b=\"-0.03881906966368357\"/>\n",
      "<coeffic a=\"-0.04492656389872233\" b=\"0.010964317868153254\"/>\n",
      "</fourierSeries></seasonality>\n",
      "\t\t\t\t\n",
      "None\n",
      "<seasonality xmlns:xsi=\"http://www.w3.org/2001/XMLSchema-instance\" xmlns:om=\"http://openmalaria.org/schema/scenario_43\" annualEIR=\"5\" input=\"EIR\">\n",
      "\t\t\t\t\t<fourierSeries EIRRotateAngle=\"0\">\n",
      "<coeffic a=\"-0.09449157118797302\" b=\"-0.03881906966368357\"/>\n",
      "<coeffic a=\"-0.04492656389872233\" b=\"0.010964317868153254\"/>\n",
      "</fourierSeries></seasonality>\n",
      "\t\t\t\t\n",
      "None\n",
      "<seasonality xmlns:xsi=\"http://www.w3.org/2001/XMLSchema-instance\" xmlns:om=\"http://openmalaria.org/schema/scenario_43\" annualEIR=\"0.003785\" input=\"EIR\">\n",
      "\t\t\t\t\t<fourierSeries EIRRotateAngle=\"0\">\n",
      "<coeffic a=\"-0.09449157118797302\" b=\"-0.03881906966368357\"/>\n",
      "<coeffic a=\"-0.04492656389872233\" b=\"0.010964317868153254\"/>\n",
      "</fourierSeries></seasonality>\n",
      "\t\t\t\t\n",
      "None\n",
      "<seasonality xmlns:xsi=\"http://www.w3.org/2001/XMLSchema-instance\" xmlns:om=\"http://openmalaria.org/schema/scenario_43\" annualEIR=\"5\" input=\"EIR\">\n",
      "\t\t\t\t\t<fourierSeries EIRRotateAngle=\"0\">\n",
      "<coeffic a=\"-0.036333670218785606\" b=\"0.00751391239464283\"/>\n",
      "<coeffic a=\"-0.023871103922526043\" b=\"-0.07657857239246368\"/>\n",
      "</fourierSeries></seasonality>\n",
      "\t\t\t\t\n",
      "None\n",
      "<seasonality xmlns:xsi=\"http://www.w3.org/2001/XMLSchema-instance\" xmlns:om=\"http://openmalaria.org/schema/scenario_43\" annualEIR=\"0.055843\" input=\"EIR\">\n",
      "\t\t\t\t\t<fourierSeries EIRRotateAngle=\"0\">\n",
      "<coeffic a=\"-0.036333670218785606\" b=\"0.00751391239464283\"/>\n",
      "<coeffic a=\"-0.023871103922526043\" b=\"-0.07657857239246368\"/>\n",
      "</fourierSeries></seasonality>\n",
      "\t\t\t\t\n",
      "None\n",
      "<seasonality xmlns:xsi=\"http://www.w3.org/2001/XMLSchema-instance\" xmlns:om=\"http://openmalaria.org/schema/scenario_43\" annualEIR=\"5\" input=\"EIR\">\n",
      "\t\t\t\t\t<fourierSeries EIRRotateAngle=\"0\">\n",
      "<coeffic a=\"-0.036333670218785606\" b=\"0.00751391239464283\"/>\n",
      "<coeffic a=\"-0.023871103922526043\" b=\"-0.07657857239246368\"/>\n",
      "</fourierSeries></seasonality>\n",
      "\t\t\t\t\n",
      "None\n",
      "<seasonality xmlns:xsi=\"http://www.w3.org/2001/XMLSchema-instance\" xmlns:om=\"http://openmalaria.org/schema/scenario_43\" annualEIR=\"0.003785\" input=\"EIR\">\n",
      "\t\t\t\t\t<fourierSeries EIRRotateAngle=\"0\">\n",
      "<coeffic a=\"-0.036333670218785606\" b=\"0.00751391239464283\"/>\n",
      "<coeffic a=\"-0.023871103922526043\" b=\"-0.07657857239246368\"/>\n",
      "</fourierSeries></seasonality>\n",
      "\t\t\t\t\n",
      "None\n",
      "<seasonality xmlns:xsi=\"http://www.w3.org/2001/XMLSchema-instance\" xmlns:om=\"http://openmalaria.org/schema/scenario_43\" annualEIR=\"5\" input=\"EIR\">\n",
      "\t\t\t\t\t<fourierSeries EIRRotateAngle=\"0\">\n",
      "<coeffic a=\"0.013480893025795618\" b=\"-0.04024463643630346\"/>\n",
      "<coeffic a=\"0.006926695505777995\" b=\"-0.10072641571362813\"/>\n",
      "</fourierSeries></seasonality>\n",
      "\t\t\t\t\n",
      "None\n",
      "<seasonality xmlns:xsi=\"http://www.w3.org/2001/XMLSchema-instance\" xmlns:om=\"http://openmalaria.org/schema/scenario_43\" annualEIR=\"0.055843\" input=\"EIR\">\n",
      "\t\t\t\t\t<fourierSeries EIRRotateAngle=\"0\">\n",
      "<coeffic a=\"0.013480893025795618\" b=\"-0.04024463643630346\"/>\n",
      "<coeffic a=\"0.006926695505777995\" b=\"-0.10072641571362813\"/>\n",
      "</fourierSeries></seasonality>\n",
      "\t\t\t\t\n",
      "None\n",
      "<seasonality xmlns:xsi=\"http://www.w3.org/2001/XMLSchema-instance\" xmlns:om=\"http://openmalaria.org/schema/scenario_43\" annualEIR=\"5\" input=\"EIR\">\n",
      "\t\t\t\t\t<fourierSeries EIRRotateAngle=\"0\">\n",
      "<coeffic a=\"0.013480893025795618\" b=\"-0.04024463643630346\"/>\n",
      "<coeffic a=\"0.006926695505777995\" b=\"-0.10072641571362813\"/>\n",
      "</fourierSeries></seasonality>\n",
      "\t\t\t\t\n",
      "None\n",
      "<seasonality xmlns:xsi=\"http://www.w3.org/2001/XMLSchema-instance\" xmlns:om=\"http://openmalaria.org/schema/scenario_43\" annualEIR=\"0.003785\" input=\"EIR\">\n",
      "\t\t\t\t\t<fourierSeries EIRRotateAngle=\"0\">\n",
      "<coeffic a=\"0.013480893025795618\" b=\"-0.04024463643630346\"/>\n",
      "<coeffic a=\"0.006926695505777995\" b=\"-0.10072641571362813\"/>\n",
      "</fourierSeries></seasonality>\n",
      "\t\t\t\t\n",
      "None\n",
      "<seasonality xmlns:xsi=\"http://www.w3.org/2001/XMLSchema-instance\" xmlns:om=\"http://openmalaria.org/schema/scenario_43\" annualEIR=\"5\" input=\"EIR\">\n",
      "\t\t\t\t\t<fourierSeries EIRRotateAngle=\"0\">\n",
      "<coeffic a=\"-0.044251948595047\" b=\"-0.01590665429830551\"/>\n",
      "<coeffic a=\"-0.035553296407063804\" b=\"-0.0685207595427831\"/>\n",
      "</fourierSeries></seasonality>\n",
      "\t\t\t\t\n",
      "None\n",
      "<seasonality xmlns:xsi=\"http://www.w3.org/2001/XMLSchema-instance\" xmlns:om=\"http://openmalaria.org/schema/scenario_43\" annualEIR=\"0.055843\" input=\"EIR\">\n",
      "\t\t\t\t\t<fourierSeries EIRRotateAngle=\"0\">\n",
      "<coeffic a=\"-0.044251948595047\" b=\"-0.01590665429830551\"/>\n",
      "<coeffic a=\"-0.035553296407063804\" b=\"-0.0685207595427831\"/>\n",
      "</fourierSeries></seasonality>\n",
      "\t\t\t\t\n",
      "None\n",
      "<seasonality xmlns:xsi=\"http://www.w3.org/2001/XMLSchema-instance\" xmlns:om=\"http://openmalaria.org/schema/scenario_43\" annualEIR=\"5\" input=\"EIR\">\n",
      "\t\t\t\t\t<fourierSeries EIRRotateAngle=\"0\">\n",
      "<coeffic a=\"-0.044251948595047\" b=\"-0.01590665429830551\"/>\n",
      "<coeffic a=\"-0.035553296407063804\" b=\"-0.0685207595427831\"/>\n",
      "</fourierSeries></seasonality>\n",
      "\t\t\t\t\n",
      "None\n",
      "<seasonality xmlns:xsi=\"http://www.w3.org/2001/XMLSchema-instance\" xmlns:om=\"http://openmalaria.org/schema/scenario_43\" annualEIR=\"0.003785\" input=\"EIR\">\n",
      "\t\t\t\t\t<fourierSeries EIRRotateAngle=\"0\">\n",
      "<coeffic a=\"-0.044251948595047\" b=\"-0.01590665429830551\"/>\n",
      "<coeffic a=\"-0.035553296407063804\" b=\"-0.0685207595427831\"/>\n",
      "</fourierSeries></seasonality>\n",
      "\t\t\t\t\n",
      "None\n",
      "<seasonality xmlns:xsi=\"http://www.w3.org/2001/XMLSchema-instance\" xmlns:om=\"http://openmalaria.org/schema/scenario_43\" annualEIR=\"5\" input=\"EIR\">\n",
      "\t\t\t\t\t<fourierSeries EIRRotateAngle=\"0\">\n",
      "<coeffic a=\"-0.0490452895561854\" b=\"-0.03897929936647415\"/>\n",
      "<coeffic a=\"-0.0019652843475341797\" b=\"-0.04697520534197489\"/>\n",
      "</fourierSeries></seasonality>\n",
      "\t\t\t\t\n",
      "None\n",
      "<seasonality xmlns:xsi=\"http://www.w3.org/2001/XMLSchema-instance\" xmlns:om=\"http://openmalaria.org/schema/scenario_43\" annualEIR=\"0.055843\" input=\"EIR\">\n",
      "\t\t\t\t\t<fourierSeries EIRRotateAngle=\"0\">\n",
      "<coeffic a=\"-0.0490452895561854\" b=\"-0.03897929936647415\"/>\n",
      "<coeffic a=\"-0.0019652843475341797\" b=\"-0.04697520534197489\"/>\n",
      "</fourierSeries></seasonality>\n",
      "\t\t\t\t\n",
      "None\n",
      "<seasonality xmlns:xsi=\"http://www.w3.org/2001/XMLSchema-instance\" xmlns:om=\"http://openmalaria.org/schema/scenario_43\" annualEIR=\"5\" input=\"EIR\">\n",
      "\t\t\t\t\t<fourierSeries EIRRotateAngle=\"0\">\n",
      "<coeffic a=\"-0.0490452895561854\" b=\"-0.03897929936647415\"/>\n",
      "<coeffic a=\"-0.0019652843475341797\" b=\"-0.04697520534197489\"/>\n",
      "</fourierSeries></seasonality>\n",
      "\t\t\t\t\n",
      "None\n",
      "<seasonality xmlns:xsi=\"http://www.w3.org/2001/XMLSchema-instance\" xmlns:om=\"http://openmalaria.org/schema/scenario_43\" annualEIR=\"0.003785\" input=\"EIR\">\n",
      "\t\t\t\t\t<fourierSeries EIRRotateAngle=\"0\">\n",
      "<coeffic a=\"-0.0490452895561854\" b=\"-0.03897929936647415\"/>\n",
      "<coeffic a=\"-0.0019652843475341797\" b=\"-0.04697520534197489\"/>\n",
      "</fourierSeries></seasonality>\n",
      "\t\t\t\t\n",
      "None\n",
      "<seasonality xmlns:xsi=\"http://www.w3.org/2001/XMLSchema-instance\" xmlns:om=\"http://openmalaria.org/schema/scenario_43\" annualEIR=\"5\" input=\"EIR\">\n",
      "\t\t\t\t\t<fourierSeries EIRRotateAngle=\"0\">\n",
      "<coeffic a=\"-0.0578810969988505\" b=\"-0.09316734472910564\"/>\n",
      "<coeffic a=\"-0.016608238220214844\" b=\"-0.019727595150470734\"/>\n",
      "</fourierSeries></seasonality>\n",
      "\t\t\t\t\n",
      "None\n",
      "<seasonality xmlns:xsi=\"http://www.w3.org/2001/XMLSchema-instance\" xmlns:om=\"http://openmalaria.org/schema/scenario_43\" annualEIR=\"0.055843\" input=\"EIR\">\n",
      "\t\t\t\t\t<fourierSeries EIRRotateAngle=\"0\">\n",
      "<coeffic a=\"-0.0578810969988505\" b=\"-0.09316734472910564\"/>\n",
      "<coeffic a=\"-0.016608238220214844\" b=\"-0.019727595150470734\"/>\n",
      "</fourierSeries></seasonality>\n",
      "\t\t\t\t\n",
      "None\n",
      "<seasonality xmlns:xsi=\"http://www.w3.org/2001/XMLSchema-instance\" xmlns:om=\"http://openmalaria.org/schema/scenario_43\" annualEIR=\"5\" input=\"EIR\">\n",
      "\t\t\t\t\t<fourierSeries EIRRotateAngle=\"0\">\n",
      "<coeffic a=\"-0.0578810969988505\" b=\"-0.09316734472910564\"/>\n",
      "<coeffic a=\"-0.016608238220214844\" b=\"-0.019727595150470734\"/>\n",
      "</fourierSeries></seasonality>\n",
      "\t\t\t\t\n",
      "None\n",
      "<seasonality xmlns:xsi=\"http://www.w3.org/2001/XMLSchema-instance\" xmlns:om=\"http://openmalaria.org/schema/scenario_43\" annualEIR=\"0.003785\" input=\"EIR\">\n",
      "\t\t\t\t\t<fourierSeries EIRRotateAngle=\"0\">\n",
      "<coeffic a=\"-0.0578810969988505\" b=\"-0.09316734472910564\"/>\n",
      "<coeffic a=\"-0.016608238220214844\" b=\"-0.019727595150470734\"/>\n",
      "</fourierSeries></seasonality>\n",
      "\t\t\t\t\n",
      "None\n",
      "<seasonality xmlns:xsi=\"http://www.w3.org/2001/XMLSchema-instance\" xmlns:om=\"http://openmalaria.org/schema/scenario_43\" annualEIR=\"5\" input=\"EIR\">\n",
      "\t\t\t\t\t<fourierSeries EIRRotateAngle=\"0\">\n",
      "<coeffic a=\"-0.021718742946783703\" b=\"-0.0827568918466568\"/>\n",
      "<coeffic a=\"-0.007484753926595052\" b=\"0.021250841518243153\"/>\n",
      "</fourierSeries></seasonality>\n",
      "\t\t\t\t\n",
      "None\n",
      "<seasonality xmlns:xsi=\"http://www.w3.org/2001/XMLSchema-instance\" xmlns:om=\"http://openmalaria.org/schema/scenario_43\" annualEIR=\"0.055843\" input=\"EIR\">\n",
      "\t\t\t\t\t<fourierSeries EIRRotateAngle=\"0\">\n",
      "<coeffic a=\"-0.021718742946783703\" b=\"-0.0827568918466568\"/>\n",
      "<coeffic a=\"-0.007484753926595052\" b=\"0.021250841518243153\"/>\n",
      "</fourierSeries></seasonality>\n",
      "\t\t\t\t\n",
      "None\n",
      "<seasonality xmlns:xsi=\"http://www.w3.org/2001/XMLSchema-instance\" xmlns:om=\"http://openmalaria.org/schema/scenario_43\" annualEIR=\"5\" input=\"EIR\">\n",
      "\t\t\t\t\t<fourierSeries EIRRotateAngle=\"0\">\n",
      "<coeffic a=\"-0.021718742946783703\" b=\"-0.0827568918466568\"/>\n",
      "<coeffic a=\"-0.007484753926595052\" b=\"0.021250841518243153\"/>\n",
      "</fourierSeries></seasonality>\n",
      "\t\t\t\t\n",
      "None\n",
      "<seasonality xmlns:xsi=\"http://www.w3.org/2001/XMLSchema-instance\" xmlns:om=\"http://openmalaria.org/schema/scenario_43\" annualEIR=\"0.003785\" input=\"EIR\">\n",
      "\t\t\t\t\t<fourierSeries EIRRotateAngle=\"0\">\n",
      "<coeffic a=\"-0.021718742946783703\" b=\"-0.0827568918466568\"/>\n",
      "<coeffic a=\"-0.007484753926595052\" b=\"0.021250841518243153\"/>\n",
      "</fourierSeries></seasonality>\n",
      "\t\t\t\t\n",
      "None\n",
      "<seasonality xmlns:xsi=\"http://www.w3.org/2001/XMLSchema-instance\" xmlns:om=\"http://openmalaria.org/schema/scenario_43\" annualEIR=\"5\" input=\"EIR\">\n",
      "\t\t\t\t\t<fourierSeries EIRRotateAngle=\"0\">\n",
      "<coeffic a=\"-0.11544456084569295\" b=\"-0.23846944173177084\"/>\n",
      "<coeffic a=\"0.016904433568318684\" b=\"0.0773443231980006\"/>\n",
      "</fourierSeries></seasonality>\n",
      "\t\t\t\t\n",
      "None\n",
      "<seasonality xmlns:xsi=\"http://www.w3.org/2001/XMLSchema-instance\" xmlns:om=\"http://openmalaria.org/schema/scenario_43\" annualEIR=\"0.055843\" input=\"EIR\">\n",
      "\t\t\t\t\t<fourierSeries EIRRotateAngle=\"0\">\n",
      "<coeffic a=\"-0.11544456084569295\" b=\"-0.23846944173177084\"/>\n",
      "<coeffic a=\"0.016904433568318684\" b=\"0.0773443231980006\"/>\n",
      "</fourierSeries></seasonality>\n",
      "\t\t\t\t\n",
      "None\n",
      "<seasonality xmlns:xsi=\"http://www.w3.org/2001/XMLSchema-instance\" xmlns:om=\"http://openmalaria.org/schema/scenario_43\" annualEIR=\"5\" input=\"EIR\">\n",
      "\t\t\t\t\t<fourierSeries EIRRotateAngle=\"0\">\n",
      "<coeffic a=\"-0.11544456084569295\" b=\"-0.23846944173177084\"/>\n",
      "<coeffic a=\"0.016904433568318684\" b=\"0.0773443231980006\"/>\n",
      "</fourierSeries></seasonality>\n",
      "\t\t\t\t\n",
      "None\n",
      "<seasonality xmlns:xsi=\"http://www.w3.org/2001/XMLSchema-instance\" xmlns:om=\"http://openmalaria.org/schema/scenario_43\" annualEIR=\"0.003785\" input=\"EIR\">\n",
      "\t\t\t\t\t<fourierSeries EIRRotateAngle=\"0\">\n",
      "<coeffic a=\"-0.11544456084569295\" b=\"-0.23846944173177084\"/>\n",
      "<coeffic a=\"0.016904433568318684\" b=\"0.0773443231980006\"/>\n",
      "</fourierSeries></seasonality>\n",
      "\t\t\t\t\n",
      "None\n",
      "<seasonality xmlns:xsi=\"http://www.w3.org/2001/XMLSchema-instance\" xmlns:om=\"http://openmalaria.org/schema/scenario_43\" annualEIR=\"5\" input=\"EIR\">\n",
      "\t\t\t\t\t<fourierSeries EIRRotateAngle=\"0\">\n",
      "<coeffic a=\"-0.13901769121487936\" b=\"-0.15662129720052084\"/>\n",
      "<coeffic a=\"0.055249691009521484\" b=\"0.0023893478016058602\"/>\n",
      "</fourierSeries></seasonality>\n",
      "\t\t\t\t\n",
      "None\n",
      "<seasonality xmlns:xsi=\"http://www.w3.org/2001/XMLSchema-instance\" xmlns:om=\"http://openmalaria.org/schema/scenario_43\" annualEIR=\"0.055843\" input=\"EIR\">\n",
      "\t\t\t\t\t<fourierSeries EIRRotateAngle=\"0\">\n",
      "<coeffic a=\"-0.13901769121487936\" b=\"-0.15662129720052084\"/>\n",
      "<coeffic a=\"0.055249691009521484\" b=\"0.0023893478016058602\"/>\n",
      "</fourierSeries></seasonality>\n",
      "\t\t\t\t\n",
      "None\n",
      "<seasonality xmlns:xsi=\"http://www.w3.org/2001/XMLSchema-instance\" xmlns:om=\"http://openmalaria.org/schema/scenario_43\" annualEIR=\"5\" input=\"EIR\">\n",
      "\t\t\t\t\t<fourierSeries EIRRotateAngle=\"0\">\n",
      "<coeffic a=\"-0.13901769121487936\" b=\"-0.15662129720052084\"/>\n",
      "<coeffic a=\"0.055249691009521484\" b=\"0.0023893478016058602\"/>\n",
      "</fourierSeries></seasonality>\n",
      "\t\t\t\t\n",
      "None\n",
      "<seasonality xmlns:xsi=\"http://www.w3.org/2001/XMLSchema-instance\" xmlns:om=\"http://openmalaria.org/schema/scenario_43\" annualEIR=\"0.003785\" input=\"EIR\">\n",
      "\t\t\t\t\t<fourierSeries EIRRotateAngle=\"0\">\n",
      "<coeffic a=\"-0.13901769121487936\" b=\"-0.15662129720052084\"/>\n",
      "<coeffic a=\"0.055249691009521484\" b=\"0.0023893478016058602\"/>\n",
      "</fourierSeries></seasonality>\n",
      "\t\t\t\t\n",
      "None\n",
      "<seasonality xmlns:xsi=\"http://www.w3.org/2001/XMLSchema-instance\" xmlns:om=\"http://openmalaria.org/schema/scenario_43\" annualEIR=\"5\" input=\"EIR\">\n",
      "\t\t\t\t\t<fourierSeries EIRRotateAngle=\"0\">\n",
      "<coeffic a=\"-0.11657699942588806\" b=\"-0.19028697411219278\"/>\n",
      "<coeffic a=\"-0.06673208872477214\" b=\"0.11822791894276936\"/>\n",
      "</fourierSeries></seasonality>\n",
      "\t\t\t\t\n",
      "None\n",
      "<seasonality xmlns:xsi=\"http://www.w3.org/2001/XMLSchema-instance\" xmlns:om=\"http://openmalaria.org/schema/scenario_43\" annualEIR=\"0.055843\" input=\"EIR\">\n",
      "\t\t\t\t\t<fourierSeries EIRRotateAngle=\"0\">\n",
      "<coeffic a=\"-0.11657699942588806\" b=\"-0.19028697411219278\"/>\n",
      "<coeffic a=\"-0.06673208872477214\" b=\"0.11822791894276936\"/>\n",
      "</fourierSeries></seasonality>\n",
      "\t\t\t\t\n",
      "None\n",
      "<seasonality xmlns:xsi=\"http://www.w3.org/2001/XMLSchema-instance\" xmlns:om=\"http://openmalaria.org/schema/scenario_43\" annualEIR=\"5\" input=\"EIR\">\n",
      "\t\t\t\t\t<fourierSeries EIRRotateAngle=\"0\">\n",
      "<coeffic a=\"-0.11657699942588806\" b=\"-0.19028697411219278\"/>\n",
      "<coeffic a=\"-0.06673208872477214\" b=\"0.11822791894276936\"/>\n",
      "</fourierSeries></seasonality>\n",
      "\t\t\t\t\n",
      "None\n",
      "<seasonality xmlns:xsi=\"http://www.w3.org/2001/XMLSchema-instance\" xmlns:om=\"http://openmalaria.org/schema/scenario_43\" annualEIR=\"0.003785\" input=\"EIR\">\n",
      "\t\t\t\t\t<fourierSeries EIRRotateAngle=\"0\">\n",
      "<coeffic a=\"-0.11657699942588806\" b=\"-0.19028697411219278\"/>\n",
      "<coeffic a=\"-0.06673208872477214\" b=\"0.11822791894276936\"/>\n",
      "</fourierSeries></seasonality>\n",
      "\t\t\t\t\n",
      "None\n",
      "<seasonality xmlns:xsi=\"http://www.w3.org/2001/XMLSchema-instance\" xmlns:om=\"http://openmalaria.org/schema/scenario_43\" annualEIR=\"5\" input=\"EIR\">\n",
      "\t\t\t\t\t<fourierSeries EIRRotateAngle=\"0\">\n",
      "<coeffic a=\"-0.025561923782030743\" b=\"-0.2557120720545451\"/>\n",
      "<coeffic a=\"-0.07087850570678711\" b=\"0.10790354013442993\"/>\n",
      "</fourierSeries></seasonality>\n",
      "\t\t\t\t\n",
      "None\n",
      "<seasonality xmlns:xsi=\"http://www.w3.org/2001/XMLSchema-instance\" xmlns:om=\"http://openmalaria.org/schema/scenario_43\" annualEIR=\"0.055843\" input=\"EIR\">\n",
      "\t\t\t\t\t<fourierSeries EIRRotateAngle=\"0\">\n",
      "<coeffic a=\"-0.025561923782030743\" b=\"-0.2557120720545451\"/>\n",
      "<coeffic a=\"-0.07087850570678711\" b=\"0.10790354013442993\"/>\n",
      "</fourierSeries></seasonality>\n",
      "\t\t\t\t\n",
      "None\n",
      "<seasonality xmlns:xsi=\"http://www.w3.org/2001/XMLSchema-instance\" xmlns:om=\"http://openmalaria.org/schema/scenario_43\" annualEIR=\"5\" input=\"EIR\">\n",
      "\t\t\t\t\t<fourierSeries EIRRotateAngle=\"0\">\n",
      "<coeffic a=\"-0.025561923782030743\" b=\"-0.2557120720545451\"/>\n",
      "<coeffic a=\"-0.07087850570678711\" b=\"0.10790354013442993\"/>\n",
      "</fourierSeries></seasonality>\n",
      "\t\t\t\t\n",
      "None\n",
      "<seasonality xmlns:xsi=\"http://www.w3.org/2001/XMLSchema-instance\" xmlns:om=\"http://openmalaria.org/schema/scenario_43\" annualEIR=\"0.003785\" input=\"EIR\">\n",
      "\t\t\t\t\t<fourierSeries EIRRotateAngle=\"0\">\n",
      "<coeffic a=\"-0.025561923782030743\" b=\"-0.2557120720545451\"/>\n",
      "<coeffic a=\"-0.07087850570678711\" b=\"0.10790354013442993\"/>\n",
      "</fourierSeries></seasonality>\n",
      "\t\t\t\t\n",
      "None\n",
      "<seasonality xmlns:xsi=\"http://www.w3.org/2001/XMLSchema-instance\" xmlns:om=\"http://openmalaria.org/schema/scenario_43\" annualEIR=\"5\" input=\"EIR\">\n",
      "\t\t\t\t\t<fourierSeries EIRRotateAngle=\"0\">\n",
      "<coeffic a=\"0.0016976088906327884\" b=\"-0.17433452606201172\"/>\n",
      "<coeffic a=\"-0.056661367416381836\" b=\"0.07222205400466919\"/>\n",
      "</fourierSeries></seasonality>\n",
      "\t\t\t\t\n",
      "None\n",
      "<seasonality xmlns:xsi=\"http://www.w3.org/2001/XMLSchema-instance\" xmlns:om=\"http://openmalaria.org/schema/scenario_43\" annualEIR=\"0.055843\" input=\"EIR\">\n",
      "\t\t\t\t\t<fourierSeries EIRRotateAngle=\"0\">\n",
      "<coeffic a=\"0.0016976088906327884\" b=\"-0.17433452606201172\"/>\n",
      "<coeffic a=\"-0.056661367416381836\" b=\"0.07222205400466919\"/>\n",
      "</fourierSeries></seasonality>\n",
      "\t\t\t\t\n",
      "None\n",
      "<seasonality xmlns:xsi=\"http://www.w3.org/2001/XMLSchema-instance\" xmlns:om=\"http://openmalaria.org/schema/scenario_43\" annualEIR=\"5\" input=\"EIR\">\n",
      "\t\t\t\t\t<fourierSeries EIRRotateAngle=\"0\">\n",
      "<coeffic a=\"0.0016976088906327884\" b=\"-0.17433452606201172\"/>\n",
      "<coeffic a=\"-0.056661367416381836\" b=\"0.07222205400466919\"/>\n",
      "</fourierSeries></seasonality>\n",
      "\t\t\t\t\n",
      "None\n",
      "<seasonality xmlns:xsi=\"http://www.w3.org/2001/XMLSchema-instance\" xmlns:om=\"http://openmalaria.org/schema/scenario_43\" annualEIR=\"0.003785\" input=\"EIR\">\n",
      "\t\t\t\t\t<fourierSeries EIRRotateAngle=\"0\">\n",
      "<coeffic a=\"0.0016976088906327884\" b=\"-0.17433452606201172\"/>\n",
      "<coeffic a=\"-0.056661367416381836\" b=\"0.07222205400466919\"/>\n",
      "</fourierSeries></seasonality>\n",
      "\t\t\t\t\n",
      "None\n"
     ]
    }
   ],
   "source": [
    "gha_xml_om.remove_tag(\"entomology/vector/anopheles/seasonality/monthlyValues\")\n",
    "gha_xml_om.add_child_from_xml_string(\n",
    "    parent='seasonality',\n",
    "    df_xml_string_column_name='fourier'\n",
    ")\n",
    "\n"
   ],
   "metadata": {
    "collapsed": false,
    "pycharm": {
     "name": "#%%\n"
    }
   }
  }
 ],
 "metadata": {
  "interpreter": {
   "hash": "9813974100264a9df9f1edeb4dd15208397b81eed2e9d6ee17f7d0680e568262"
  },
  "kernelspec": {
   "display_name": "Python 3 (ipykernel)",
   "language": "python",
   "name": "python3"
  },
  "language_info": {
   "codemirror_mode": {
    "name": "ipython",
    "version": 3
   },
   "file_extension": ".py",
   "mimetype": "text/x-python",
   "name": "python",
   "nbconvert_exporter": "python",
   "pygments_lexer": "ipython3",
   "version": "3.9.7"
  },
  "toc-autonumbering": true,
  "toc-showcode": false,
  "toc-showmarkdowntxt": false,
  "toc-showtags": false,
  "widgets": {
   "application/vnd.jupyter.widget-state+json": {
    "state": {},
    "version_major": 2,
    "version_minor": 0
   }
  }
 },
 "nbformat": 4,
 "nbformat_minor": 4
}